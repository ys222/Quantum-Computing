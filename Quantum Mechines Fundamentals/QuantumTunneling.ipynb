{
 "cells": [
  {
   "cell_type": "markdown",
   "id": "f9f9400f",
   "metadata": {},
   "source": [
    "# Quantum tunneling"
   ]
  },
  {
   "cell_type": "markdown",
   "id": "bc41b9b0",
   "metadata": {},
   "source": [
    "\n",
    "\n",
    "Quantum tunneling refers to the phenomenon in quantum mechanics where a particle can pass through a potential barrier even when it does not have sufficient energy to overcome the barrier classically. This effect is due to the probabilistic nature of quantum mechanics, which allows the particle to \"tunnel\" through the barrier with a certain probability.\n",
    "\n",
    "The probability of tunneling can be calculated using the Schrödinger equation, which describes the behavior of quantum particles. The general form of the Schrödinger equation is:\n",
    "\n",
    "$\\hat{H}\\Psi=E\\Psi$\n",
    "\n",
    "where $\\hat{H}$ is the Hamiltonian operator, $\\Psi$ is the wave function of the particle, $E$ is the energy of the particle, and $\\hbar$ is the reduced Planck constant. \n",
    "\n",
    "To calculate the probability of tunneling, we need to solve the Schrödinger equation for a potential barrier. The potential barrier can be modeled as a step function, where the potential energy is higher inside the barrier and lower outside. The Schrödinger equation for this system is:\n",
    "\n",
    "$\\frac{d^2\\Psi}{dx^2} + \\frac{2m}{\\hbar^2}[E-V(x)]\\Psi = 0$\n",
    "\n",
    "where $m$ is the mass of the particle, $V(x)$ is the potential energy as a function of position $x$, and $E$ is the energy of the particle.\n",
    "\n",
    "The solution to this equation depends on the values of $E$ and $V(x)$. If $E<V(x)$, the wave function inside the barrier is an exponentially decaying function, which means that there is a non-zero probability of the particle tunneling through the barrier. The transmission coefficient $T$ is given by:\n",
    "\n",
    "$T = e^{-2Kd}$\n",
    "\n",
    "where $K = \\sqrt{\\frac{2m}{\\hbar^2}(V_0 - E)}$ is the wave vector inside the barrier, $d$ is the thickness of the barrier, and $V_0$ is the height of the barrier. The transmission coefficient gives the probability of the particle passing through the barrier.\n",
    "\n",
    "The tunneling probability can also be calculated using the WKB approximation, which is valid for thin barriers or high-energy particles. The WKB approximation gives the following formula for the transmission coefficient:\n",
    "\n",
    "$T \\approx e^{-\\frac{2}{\\hbar}\\int_{x_1}^{x_2}\\sqrt{2m[V(x)-E]}dx}$\n",
    "\n",
    "where $x_1$ and $x_2$ are the classical turning points of the potential barrier, where the potential energy equals the particle energy.\n",
    "\n",
    "In summary, quantum tunneling is a fundamental quantum mechanical phenomenon where a particle can pass through a potential barrier even if its energy is lower than the barrier height. The probability of tunneling can be calculated using the Schrödinger equation or the WKB approximation."
   ]
  },
  {
   "cell_type": "code",
   "execution_count": 1,
   "id": "ec789a98",
   "metadata": {},
   "outputs": [
    {
     "data": {
      "image/png": "[encoded data removed]",
      "text/plain": [
       "<Figure size 640x480 with 1 Axes>"
      ]
     },
     "metadata": {},
     "output_type": "display_data"
    }
   ],
   "source": [
    "import numpy as np\n",
    "import matplotlib.pyplot as plt\n",
    "\n",
    "# Define constants\n",
    "hbar = 1.0546e-34    # Planck's constant over 2*pi\n",
    "m = 9.1094e-31       # electron mass\n",
    "L = 1e-8             # size of region\n",
    "N = 1000             # number of points\n",
    "dx = L/N             # spatial step size\n",
    "x = np.linspace(0, L, N)   # array of x values\n",
    "V0 = 1.602e-18       # height of potential barrier\n",
    "V = np.zeros(N)      # array of potential values\n",
    "V[int(N/2):] = V0    # set potential to V0 inside barrier\n",
    "\n",
    "# Define the finite difference matrix\n",
    "D2 = np.diag(-2*np.ones(N)) + np.diag(np.ones(N-1), 1) + np.diag(np.ones(N-1), -1)\n",
    "D2 = D2/dx**2\n",
    "\n",
    "# Define the Hamiltonian operator\n",
    "H = -(hbar**2/(2*m))*D2 + np.diag(V)\n",
    "\n",
    "# Solve for the eigenvalues and eigenvectors\n",
    "E, psi = np.linalg.eigh(H)\n",
    "\n",
    "# Plot the wave function and potential\n",
    "plt.plot(x, psi[:, 0], label=\"Wave function\")\n",
    "plt.plot(x, V, label=\"Potential\")\n",
    "plt.legend()\n",
    "plt.show()\n"
   ]
  },
  {
   "cell_type": "markdown",
   "id": "ce3bd907",
   "metadata": {},
   "source": [
    "# lists of all the topics  Quantum tunneling "
   ]
  },
  {
   "cell_type": "markdown",
   "id": "3dd36ed0",
   "metadata": {},
   "source": [
    "\n",
    "\n",
    "Sure, here is a list of topics related to quantum tunneling:\n",
    "\n",
    "1. Introduction to quantum tunneling\n",
    "2. Tunneling through potential barriers\n",
    "3. Tunneling through double barriers\n",
    "4. Quantum tunneling in quantum mechanics\n",
    "5. Applications of quantum tunneling in solid-state physics\n",
    "6. Quantum tunneling in field theory\n",
    "7. Quantum tunneling in condensed matter physics\n",
    "8. Quantum tunneling in chemistry\n",
    "9. Tunneling and quantum computing\n",
    "10. Quantum tunneling in biological systems\n",
    "11. Tunneling time and delay\n",
    "12. WKB approximation and semiclassical tunneling\n",
    "13. Resonant tunneling and tunnel diodes\n",
    "14. Scanning tunneling microscopy and spectroscopy\n",
    "15. Quantum tunneling in superconductors\n",
    "16. Coherent tunneling and quantum interference\n",
    "17. Quantum tunneling in nanoscale systems\n",
    "18. Spin tunneling in magnetic systems\n",
    "19. Quantum tunneling in astrophysics and cosmology\n",
    "20. Quantum tunneling in optical systems\n",
    "\n",
    "These are just a few of the many topics related to quantum tunneling. Let me know if you have any specific questions or need more information on any of these topics."
   ]
  },
  {
   "cell_type": "markdown",
   "id": "afad90bc",
   "metadata": {},
   "source": [
    "# Introduction to quantum tunneling"
   ]
  },
  {
   "cell_type": "markdown",
   "id": "386cdaf9",
   "metadata": {},
   "source": [
    "Quantum tunneling is a phenomenon in quantum mechanics where a particle can pass through a barrier even if it does not have enough energy to overcome it according to classical mechanics. This effect arises due to the wave-like nature of particles in quantum mechanics, and it has many applications in fields such as solid-state physics, nuclear physics, and chemistry.\n",
    "\n",
    "The probability of quantum tunneling can be calculated using the Schrödinger equation, which describes the time evolution of a quantum system. The Schrödinger equation is given by:\n",
    "\n",
    "iħ∂ψ/∂t = Hψ\n",
    "\n",
    "where ħ is the reduced Planck constant, t is time, ψ is the wave function, and H is the Hamiltonian operator that describes the energy of the system.\n",
    "\n",
    "In the case of a particle encountering a potential barrier, the wave function can be divided into three regions: the incoming region, the barrier region, and the outgoing region. The wave function in each region can be written as:\n",
    "\n",
    "ψ(x) = \n",
    "{ Ae^(ikx) + Be^(-ikx)   for x < 0 (incoming region)\n",
    "{ Ce^(k'x) + De^(-k'x)   for x > L (outgoing region)\n",
    "{ Fe^(qx) + Ge^(-qx)     for 0 < x < L (barrier region)\n",
    "\n",
    "where A and B are the amplitudes of the incoming and reflected waves, C and D are the amplitudes of the transmitted and reflected waves in the outgoing region, F and G are the amplitudes of the incident and transmitted waves in the barrier region, k is the wave vector in the incoming region, k' is the wave vector in the outgoing region, and q is the wave vector in the barrier region. L is the width of the barrier.\n",
    "\n",
    "The wave vector is related to the energy of the particle by the equation:\n",
    "\n",
    "k = sqrt(2mE)/ħ\n",
    "\n",
    "where m is the mass of the particle and E is its energy. Similarly, k' and q are related to the energies of the particle in the outgoing and barrier regions.\n",
    "\n",
    "The probability of transmission through the barrier can be calculated using the transmission coefficient T, which is given by:\n",
    "\n",
    "T = (|C|^2)/(|F|^2)\n",
    "\n",
    "where |C|^2 is the probability of the particle being transmitted through the barrier and |F|^2 is the probability of the particle being reflected by the barrier. The reflection coefficient R is given by:\n",
    "\n",
    "R = (|B|^2)/(|A|^2)\n",
    "\n",
    "where |B|^2 is the probability of the particle being reflected by the barrier and |A|^2 is the probability of the particle being incident on the barrier.\n",
    "\n",
    "The probability of transmission through the barrier decreases exponentially with increasing barrier height and width, but it can still occur even for very large barriers. This effect has important implications for many physical systems, including the behavior of electrons in semiconductors, the decay of radioactive nuclei, and the fusion of atomic nuclei in stars."
   ]
  },
  {
   "cell_type": "code",
   "execution_count": 1,
   "id": "66e70157",
   "metadata": {},
   "outputs": [
    {
     "ename": "ValueError",
     "evalue": "NumPy boolean array indexing assignment cannot assign 1000 input values to the 500 output values where the mask is true",
     "output_type": "error",
     "traceback": [
      "\u001b[1;31m---------------------------------------------------------------------------\u001b[0m",
      "\u001b[1;31mValueError\u001b[0m                                Traceback (most recent call last)",
      "Cell \u001b[1;32mIn[1], line 25\u001b[0m\n\u001b[0;32m     23\u001b[0m psi2 \u001b[38;5;241m=\u001b[39m C\u001b[38;5;241m*\u001b[39mnp\u001b[38;5;241m.\u001b[39mexp(\u001b[38;5;241m1\u001b[39mj\u001b[38;5;241m*\u001b[39mk2\u001b[38;5;241m*\u001b[39mx) \u001b[38;5;241m+\u001b[39m D\u001b[38;5;241m*\u001b[39mnp\u001b[38;5;241m.\u001b[39mexp(\u001b[38;5;241m-\u001b[39m\u001b[38;5;241m1\u001b[39mj\u001b[38;5;241m*\u001b[39mk2\u001b[38;5;241m*\u001b[39mx)\n\u001b[0;32m     24\u001b[0m psi3 \u001b[38;5;241m=\u001b[39m F\u001b[38;5;241m*\u001b[39mnp\u001b[38;5;241m.\u001b[39mexp(\u001b[38;5;241m1\u001b[39mj\u001b[38;5;241m*\u001b[39mk1\u001b[38;5;241m*\u001b[39mx) \u001b[38;5;241m+\u001b[39m G\u001b[38;5;241m*\u001b[39mnp\u001b[38;5;241m.\u001b[39mexp(\u001b[38;5;241m-\u001b[39m\u001b[38;5;241m1\u001b[39mj\u001b[38;5;241m*\u001b[39mk1\u001b[38;5;241m*\u001b[39mx)\n\u001b[1;32m---> 25\u001b[0m psi \u001b[38;5;241m=\u001b[39m \u001b[43mnp\u001b[49m\u001b[38;5;241;43m.\u001b[39;49m\u001b[43mpiecewise\u001b[49m\u001b[43m(\u001b[49m\u001b[43mx\u001b[49m\u001b[43m,\u001b[49m\u001b[43m \u001b[49m\u001b[43m[\u001b[49m\u001b[43mx\u001b[49m\u001b[43m \u001b[49m\u001b[38;5;241;43m<\u001b[39;49m\u001b[43m \u001b[49m\u001b[38;5;241;43m0\u001b[39;49m\u001b[43m,\u001b[49m\u001b[43m \u001b[49m\u001b[43mx\u001b[49m\u001b[43m \u001b[49m\u001b[38;5;241;43m>\u001b[39;49m\u001b[43m \u001b[49m\u001b[43mL\u001b[49m\u001b[43m,\u001b[49m\u001b[43m \u001b[49m\u001b[43m(\u001b[49m\u001b[43mx\u001b[49m\u001b[43m \u001b[49m\u001b[38;5;241;43m>\u001b[39;49m\u001b[38;5;241;43m=\u001b[39;49m\u001b[43m \u001b[49m\u001b[38;5;241;43m0\u001b[39;49m\u001b[43m)\u001b[49m\u001b[43m \u001b[49m\u001b[38;5;241;43m&\u001b[39;49m\u001b[43m \u001b[49m\u001b[43m(\u001b[49m\u001b[43mx\u001b[49m\u001b[43m \u001b[49m\u001b[38;5;241;43m<\u001b[39;49m\u001b[38;5;241;43m=\u001b[39;49m\u001b[43m \u001b[49m\u001b[43mL\u001b[49m\u001b[43m)\u001b[49m\u001b[43m]\u001b[49m\u001b[43m,\u001b[49m\u001b[43m \u001b[49m\u001b[43m[\u001b[49m\u001b[43mpsi1\u001b[49m\u001b[43m,\u001b[49m\u001b[43m \u001b[49m\u001b[43mpsi2\u001b[49m\u001b[43m,\u001b[49m\u001b[43m \u001b[49m\u001b[43mpsi3\u001b[49m\u001b[43m]\u001b[49m\u001b[43m)\u001b[49m\n\u001b[0;32m     27\u001b[0m \u001b[38;5;66;03m# Probability of transmission and reflection\u001b[39;00m\n\u001b[0;32m     28\u001b[0m T \u001b[38;5;241m=\u001b[39m np\u001b[38;5;241m.\u001b[39mabs(C)\u001b[38;5;241m*\u001b[39m\u001b[38;5;241m*\u001b[39m\u001b[38;5;241m2\u001b[39m\u001b[38;5;241m/\u001b[39mnp\u001b[38;5;241m.\u001b[39mabs(A)\u001b[38;5;241m*\u001b[39m\u001b[38;5;241m*\u001b[39m\u001b[38;5;241m2\u001b[39m\n",
      "File \u001b[1;32m<__array_function__ internals>:180\u001b[0m, in \u001b[0;36mpiecewise\u001b[1;34m(*args, **kwargs)\u001b[0m\n",
      "File \u001b[1;32m~\\Anaconda3\\lib\\site-packages\\numpy\\lib\\function_base.py:751\u001b[0m, in \u001b[0;36mpiecewise\u001b[1;34m(x, condlist, funclist, *args, **kw)\u001b[0m\n\u001b[0;32m    749\u001b[0m \u001b[38;5;28;01mfor\u001b[39;00m cond, func \u001b[38;5;129;01min\u001b[39;00m \u001b[38;5;28mzip\u001b[39m(condlist, funclist):\n\u001b[0;32m    750\u001b[0m     \u001b[38;5;28;01mif\u001b[39;00m \u001b[38;5;129;01mnot\u001b[39;00m \u001b[38;5;28misinstance\u001b[39m(func, collections\u001b[38;5;241m.\u001b[39mabc\u001b[38;5;241m.\u001b[39mCallable):\n\u001b[1;32m--> 751\u001b[0m         y[cond] \u001b[38;5;241m=\u001b[39m func\n\u001b[0;32m    752\u001b[0m     \u001b[38;5;28;01melse\u001b[39;00m:\n\u001b[0;32m    753\u001b[0m         vals \u001b[38;5;241m=\u001b[39m x[cond]\n",
      "\u001b[1;31mValueError\u001b[0m: NumPy boolean array indexing assignment cannot assign 1000 input values to the 500 output values where the mask is true"
     ]
    }
   ],
   "source": [
    "import numpy as np\n",
    "import matplotlib.pyplot as plt\n",
    "\n",
    "# Constants\n",
    "hbar = 1.054571817e-34    # Planck constant over 2pi [J s]\n",
    "m = 9.10938356e-31        # Electron mass [kg]\n",
    "L = 1e-9                  # Barrier width [m]\n",
    "V0 = 1.602e-18            # Barrier height [J]\n",
    "\n",
    "# Wave function parameters\n",
    "x = np.linspace(-5*L, 5*L, 1000)\n",
    "k1 = np.sqrt(2*m*V0)/hbar\n",
    "k2 = np.sqrt(2*m*(V0/2))/hbar\n",
    "A = 1\n",
    "B = A\n",
    "C = A*np.exp(-1j*k1*L)\n",
    "D = A*np.exp(1j*k1*L)\n",
    "F = B*np.exp(1j*k2*L)\n",
    "G = C*np.exp(-1j*k2*L)\n",
    "\n",
    "# Wave function\n",
    "psi1 = A*np.exp(1j*k1*x) + B*np.exp(-1j*k1*x)\n",
    "psi2 = C*np.exp(1j*k2*x) + D*np.exp(-1j*k2*x)\n",
    "psi3 = F*np.exp(1j*k1*x) + G*np.exp(-1j*k1*x)\n",
    "psi = np.piecewise(x, [x < 0, x > L, (x >= 0) & (x <= L)], [psi1, psi2, psi3])\n",
    "\n",
    "# Probability of transmission and reflection\n",
    "T = np.abs(C)**2/np.abs(A)**2\n",
    "R = np.abs(B)**2/np.abs(A)**2\n",
    "\n",
    "# Plot wave function and probabilities\n",
    "fig, ax = plt.subplots()\n",
    "ax.plot(x, np.real(psi), label='Wave function (real part)')\n",
    "ax.plot(x, np.abs(psi)**2, label='Probability density')\n",
    "ax.axvline(x=0, color='black', ls='--', label='Barrier')\n",
    "ax.axvline(x=L, color='black', ls='--')\n",
    "ax.legend()\n",
    "ax.set_xlabel('Position [m]')\n",
    "ax.set_ylabel('Wave function amplitude')\n",
    "ax.set_title(f'Tunneling probability T={T:.3f}, reflection probability R={R:.3f}')\n",
    "plt.show()\n"
   ]
  },
  {
   "cell_type": "markdown",
   "id": "535d1a92",
   "metadata": {},
   "source": [
    "# Tunneling through potential barriers"
   ]
  },
  {
   "cell_type": "markdown",
   "id": "a0f03281",
   "metadata": {},
   "source": [
    "Tunneling through potential barriers is a quantum mechanical phenomenon where a particle has a non-zero probability of crossing a potential barrier, even though its classical energy is less than the height of the barrier. This is a consequence of the wave-like nature of particles in quantum mechanics, and is described by the Schrödinger equation.\n",
    "\n",
    "The Schrödinger equation for a particle of mass m and energy E traveling through a potential barrier of height V(x) and width L is given by:\n",
    "\n",
    "$$-\\frac{\\hbar^2}{2m} \\frac{d^2 \\psi}{dx^2} + V(x) \\psi = E \\psi$$\n",
    "\n",
    "where $\\hbar$ is the reduced Planck constant, and $\\psi$ is the wave function of the particle.\n",
    "\n",
    "Solving this equation for the different regions of the barrier gives three different types of wave functions, depending on the energy of the particle:\n",
    "\n",
    "1. For energies less than the height of the barrier, the wave function in the barrier region is an exponentially decaying function, given by:\n",
    "\n",
    "$$\\psi(x) = A e^{-\\kappa x}$$\n",
    "\n",
    "where $\\kappa = \\sqrt{2m(V(x)-E)}/\\hbar$ and $A$ is a normalization constant.\n",
    "\n",
    "2. For energies greater than the height of the barrier, the wave function in the barrier region is a combination of exponentially decaying and oscillatory functions, given by:\n",
    "\n",
    "$$\\psi(x) = A e^{-\\kappa x} + B e^{\\kappa x}$$\n",
    "\n",
    "where $\\kappa = \\sqrt{2m(E-V(x))}/\\hbar$, and $A$ and $B$ are normalization constants.\n",
    "\n",
    "3. For energies equal to the height of the barrier, the wave function in the barrier region is a constant function.\n",
    "\n",
    "Using these wave functions, the probability of tunneling through the barrier can be calculated. The transmission coefficient $T$ and reflection coefficient $R$ give the probabilities of the particle transmitting through the barrier or being reflected back, respectively. The coefficients can be derived from the wave function amplitudes at the different regions of the barrier:\n",
    "\n",
    "$$T = \\frac{|F|^2}{|A|^2}$$\n",
    "\n",
    "$$R = \\frac{|B|^2}{|A|^2}$$\n",
    "\n",
    "where $A$ and $B$ are the wave function amplitudes in the incoming region, $F$ is the wave function amplitude in the outgoing region, and $|A|^2$ is the probability density of the incident particle.\n",
    "\n",
    "The tunneling probability can also be expressed in terms of the wave vectors $k_1$ and $k_2$, which are related to the energy of the particle:\n",
    "\n",
    "$$T = \\frac{4 k_1 k_2}{(k_1 + k_2)^2} \\sin^2(k_2 L)$$\n",
    "\n",
    "where $k_1 = \\sqrt{2mE}/\\hbar$ and $k_2 = \\sqrt{2m(E-V_0)}/\\hbar$, with $V_0$ being the height of the barrier.\n",
    "\n",
    "In summary, tunneling through potential barriers is a quantum mechanical phenomenon described by the Schrödinger equation. The wave functions and probabilities of transmission and reflection can be calculated from the wave function amplitudes at the different regions of the barrier, or expressed in terms of the wave vectors and the width and height of the barrier."
   ]
  },
  {
   "cell_type": "code",
   "execution_count": 2,
   "id": "c7157062",
   "metadata": {},
   "outputs": [],
   "source": [
    "import numpy as np\n",
    "\n",
    "hbar = 1.0545718e-34  # Reduced Planck constant\n",
    "m = 9.10938356e-31   # Electron mass\n",
    "\n",
    "def tunnel_prob(E, V0, L):\n",
    "    k1 = np.sqrt(2*m*E)/hbar\n",
    "    k2 = np.sqrt(2*m*(E-V0))/hbar\n",
    "    T = 4*k1*k2/((k1+k2)**2) * np.sin(k2*L)**2\n",
    "    return T\n"
   ]
  },
  {
   "cell_type": "markdown",
   "id": "60d1124e",
   "metadata": {},
   "source": [
    "# Tunneling through double barriers"
   ]
  },
  {
   "cell_type": "markdown",
   "id": "217be3b1",
   "metadata": {},
   "source": [
    "Tunneling through double barriers is a quantum mechanical phenomenon that occurs when a particle has insufficient energy to surmount two potential barriers but can still tunnel through them. The probability of the particle tunneling through the double barriers is described by the transmission coefficient, which can be calculated using the following equations:\n",
    "\n",
    "1. Schrödinger's Equation:\n",
    "The time-independent Schrödinger equation is given by:\n",
    "\n",
    "$-\\frac{\\hbar^2}{2m}\\frac{d^2\\psi}{dx^2} + V(x)\\psi = E\\psi$\n",
    "\n",
    "Where $\\psi$ is the wave function of the particle, m is its mass, $V(x)$ is the potential energy function, $E$ is the total energy of the particle, and $\\hbar$ is the reduced Planck constant.\n",
    "\n",
    "2. Barrier Potential:\n",
    "The barrier potential for a double barrier system is typically modeled as two rectangular barriers with a potential height of $V_0$ and a width of $d$, separated by a distance $a$.\n",
    "\n",
    "$V(x) = \\begin{cases}\n",
    "0 & \\text{for } x < 0, x > a + d \\\\\n",
    "V_0 & \\text{for } 0 < x < d \\\\\n",
    "V_0 & \\text{for } a < x < a + d \\\\\n",
    "\\end{cases}$\n",
    "\n",
    "3. Transmission Coefficient:\n",
    "The transmission coefficient $T$ is defined as the ratio of the transmitted flux $J_T$ to the incident flux $J_I$:\n",
    "\n",
    "$T = \\frac{J_T}{J_I}$\n",
    "\n",
    "The incident and transmitted fluxes can be calculated using the wave function $\\psi$ as follows:\n",
    "\n",
    "$J_I = \\frac{\\hbar k}{m}|\\psi_I|^2$\n",
    "\n",
    "$J_T = \\frac{\\hbar k}{m}|\\psi_T|^2$\n",
    "\n",
    "Where $k$ is the wave number, and $\\psi_I$ and $\\psi_T$ are the wave functions of the incident and transmitted particles, respectively.\n",
    "\n",
    "4. Wave Functions:\n",
    "The wave function $\\psi$ for a particle with energy $E$ and wave number $k$ is given by:\n",
    "\n",
    "$\\psi(x) = \\begin{cases}\n",
    "Ae^{ikx} + Be^{-ikx} & \\text{for } x < 0 \\\\\n",
    "Ce^{ikx} + De^{-ikx} & \\text{for } 0 < x < d \\\\\n",
    "Fe^{ikx} & \\text{for } d < x < a \\\\\n",
    "Ge^{ikx} + He^{-ikx} & \\text{for } a + d < x \\\\\n",
    "\\end{cases}$\n",
    "\n",
    "Where $A$ and $B$ are the coefficients of the incident wave, $C$ and $D$ are the coefficients of the reflected wave at the first barrier, $F$ is the coefficient of the transmitted wave, and $G$ and $H$ are the coefficients of the reflected wave at the second barrier.\n",
    "\n",
    "5. Boundary Conditions:\n",
    "The boundary conditions for the wave function are:\n",
    "\n",
    "- $\\psi(0^-) = \\psi(0^+)$ (continuity of the wave function at the first barrier)\n",
    "- $\\psi'(0^-) = \\psi'(0^+)$ (continuity of the derivative of the wave function at the first barrier)\n",
    "- $\\psi(d^-) = \\psi(d^+)$ (continuity of the wave function at the interface between the two barriers)\n",
    "- $\\psi'(d^-) = \\psi'(d^+)$ (continuity of the derivative of the wave function at the interface between the two barriers)\n",
    "- $\\psi(a^+) = \\psi(a^-)$ (continuity of the wave function at the second barrier"
   ]
  },
  {
   "cell_type": "code",
   "execution_count": 3,
   "id": "2960304f",
   "metadata": {},
   "outputs": [
    {
     "name": "stderr",
     "output_type": "stream",
     "text": [
      "C:\\Users\\yashr\\AppData\\Local\\Temp\\ipykernel_13768\\3457496562.py:17: RuntimeWarning: invalid value encountered in double_scalars\n",
      "  T = 4 * k**2 * p**2 / ((k**2 + p**2)**2 * np.sinh(a * p)**2 + 4 * k**2 * p**2)\n",
      "C:\\Users\\yashr\\AppData\\Local\\Temp\\ipykernel_13768\\3457496562.py:18: RuntimeWarning: invalid value encountered in cdouble_scalars\n",
      "  R_1 = ((k**2 - p**2) * np.sinh(a * p) + 2j * k * p * np.cosh(a * p)) / ((k**2 + p**2) * np.sinh(a * p) + 2j * k * p * np.cosh(a * p))\n",
      "C:\\Users\\yashr\\AppData\\Local\\Temp\\ipykernel_13768\\3457496562.py:19: RuntimeWarning: invalid value encountered in cdouble_scalars\n",
      "  R_2 = ((k**2 - p**2) * np.sinh(a * p) - 2j * k * p * np.cosh(a * p)) / ((k**2 + p**2) * np.sinh(a * p) - 2j * k * p * np.cosh(a * p))\n"
     ]
    },
    {
     "data": {
      "image/png": "[encoded data removed]",
      "text/plain": [
       "<Figure size 640x480 with 1 Axes>"
      ]
     },
     "metadata": {},
     "output_type": "display_data"
    }
   ],
   "source": [
    "import numpy as np\n",
    "import matplotlib.pyplot as plt\n",
    "\n",
    "# Define constants\n",
    "h_bar = 1.05457e-34   # Reduced Planck constant\n",
    "m = 9.10938e-31       # Mass of particle (electron)\n",
    "V_0 = 10              # Potential energy of barriers\n",
    "a = 5e-10             # Distance between barriers\n",
    "d = 2e-10             # Width of each barrier\n",
    "E = 10                # Energy of incident particle\n",
    "\n",
    "# Define wave number and momentum\n",
    "k = np.sqrt(2 * m * E) / h_bar\n",
    "p = np.sqrt(2 * m * (E - V_0)) / h_bar\n",
    "\n",
    "# Define transmission and reflection coefficients\n",
    "T = 4 * k**2 * p**2 / ((k**2 + p**2)**2 * np.sinh(a * p)**2 + 4 * k**2 * p**2)\n",
    "R_1 = ((k**2 - p**2) * np.sinh(a * p) + 2j * k * p * np.cosh(a * p)) / ((k**2 + p**2) * np.sinh(a * p) + 2j * k * p * np.cosh(a * p))\n",
    "R_2 = ((k**2 - p**2) * np.sinh(a * p) - 2j * k * p * np.cosh(a * p)) / ((k**2 + p**2) * np.sinh(a * p) - 2j * k * p * np.cosh(a * p))\n",
    "\n",
    "# Define wave functions for each region\n",
    "x = np.linspace(-a - d, a + d, 1000)\n",
    "psi_1 = np.exp(1j * k * x) + R_1 * np.exp(-1j * k * x)\n",
    "psi_2 = T * np.exp(1j * p * (x - a)) + R_2 * np.exp(-1j * p * (x - a))\n",
    "psi_3 = np.exp(1j * k * x)\n",
    "\n",
    "# Plot wave functions\n",
    "plt.plot(x, np.abs(psi_1)**2, label='Incident')\n",
    "plt.plot(x, np.abs(psi_2)**2, label='Transmitted')\n",
    "plt.plot(x, np.abs(psi_3)**2, label='Reflected')\n",
    "plt.xlabel('Position (m)')\n",
    "plt.ylabel('Probability density')\n",
    "plt.legend()\n",
    "plt.show()\n"
   ]
  },
  {
   "cell_type": "markdown",
   "id": "8cee0864",
   "metadata": {},
   "source": [
    "# Quantum tunneling in quantum mechanics"
   ]
  },
  {
   "cell_type": "markdown",
   "id": "013f0920",
   "metadata": {},
   "source": [
    "Quantum tunneling is a phenomenon in quantum mechanics where a particle can pass through a potential barrier even if its energy is less than the height of the barrier. This occurs because of the wave-like nature of particles in quantum mechanics, where the wave function of the particle can extend into regions where the particle would not classically be able to exist. \n",
    "\n",
    "The probability of quantum tunneling is described by the Schrödinger equation, which is the fundamental equation of quantum mechanics. For a particle of mass $m$ and energy $E$ incident on a potential barrier of height $V_0$ and width $a$, the transmission probability $T$ and reflection probability $R$ are given by the following equations:\n",
    "\n",
    "$T = \\frac{4k_1k_2}{(k_1+k_2)^2}\\exp(-2\\alpha a)$\n",
    "\n",
    "$R = \\frac{(k_1-k_2)^2}{(k_1+k_2)^2}\\exp(-2\\alpha a)$\n",
    "\n",
    "where $k_1 = \\sqrt{\\frac{2mE}{\\hbar^2}}$ and $k_2 = \\sqrt{\\frac{2m(E-V_0)}{\\hbar^2}}$ are the wave vectors of the incident and transmitted particles, respectively, and $\\alpha = \\sqrt{\\frac{2mV_0}{\\hbar^2}}$ is a decay constant that describes the rate at which the wave function decreases inside the barrier. \n",
    "\n",
    "These equations show that the probability of tunneling decreases exponentially with increasing barrier width and height. However, even for very high and wide barriers, there is still a finite probability of tunneling due to the wave-like nature of particles in quantum mechanics. \n",
    "\n",
    "Quantum tunneling has many important applications in physics and technology, including in the design of tunnel diodes, scanning tunneling microscopy, and quantum computing."
   ]
  },
  {
   "cell_type": "code",
   "execution_count": 4,
   "id": "2bf5203e",
   "metadata": {},
   "outputs": [
    {
     "name": "stdout",
     "output_type": "stream",
     "text": [
      "Transmission probability: 0.3483621528271791\n",
      "Reflection probability: 0.010565854016042514\n"
     ]
    }
   ],
   "source": [
    "import numpy as np\n",
    "import matplotlib.pyplot as plt\n",
    "\n",
    "hbar = 1.0545718e-34   # Planck's constant / 2*pi\n",
    "m = 9.10938356e-31     # mass of electron\n",
    "eV = 1.60217662e-19    # electron volt\n",
    "\n",
    "def transmission_probability(E, V0, a):\n",
    "    k1 = np.sqrt(2*m*E/hbar**2)\n",
    "    k2 = np.sqrt(2*m*(E - V0)/hbar**2)\n",
    "    alpha = np.sqrt(2*m*V0)/hbar\n",
    "    T = 4*k1*k2/((k1 + k2)**2)*np.exp(-2*alpha*a)\n",
    "    return T\n",
    "\n",
    "def reflection_probability(E, V0, a):\n",
    "    k1 = np.sqrt(2*m*E/hbar**2)\n",
    "    k2 = np.sqrt(2*m*(E - V0)/hbar**2)\n",
    "    alpha = np.sqrt(2*m*V0)/hbar\n",
    "    R = ((k1 - k2)/(k1 + k2))**2*np.exp(-2*alpha*a)\n",
    "    return R\n",
    "\n",
    "# Example usage:\n",
    "E = 2*eV   # energy of incident particle\n",
    "V0 = 1*eV  # height of potential barrier\n",
    "a = 1e-10  # width of potential barrier\n",
    "T = transmission_probability(E, V0, a)\n",
    "R = reflection_probability(E, V0, a)\n",
    "print(\"Transmission probability:\", T)\n",
    "print(\"Reflection probability:\", R)\n"
   ]
  },
  {
   "cell_type": "markdown",
   "id": "86cb446e",
   "metadata": {},
   "source": [
    "# Applications of quantum tunneling in solid-state physics"
   ]
  },
  {
   "cell_type": "markdown",
   "id": "065d0637",
   "metadata": {},
   "source": [
    "\n",
    "\n",
    "Quantum tunneling is a fundamental concept in quantum mechanics that allows particles to pass through potential barriers even though they do not have enough energy to overcome them classically. This phenomenon has many applications in solid-state physics, including tunnel diodes, scanning tunneling microscopy, and quantum computing. In this answer, I will briefly discuss these applications and provide relevant equations.\n",
    "\n",
    "1. Tunnel Diodes:\n",
    "A tunnel diode is a p-n junction device that exploits the quantum tunneling effect to create a negative resistance region in the current-voltage characteristic curve. The negative resistance region occurs due to the fact that the current increases with decreasing voltage. This behavior is the opposite of what is seen in a normal diode, where the current decreases with decreasing voltage.\n",
    "\n",
    "The tunneling current through a barrier is given by the following equation:\n",
    "\n",
    "$$I = \\frac{e}{\\hbar} \\int_{-\\infty}^{\\infty} T(E)[f(E-E_F + V/2)-f(E-E_F - V/2)]dE$$\n",
    "\n",
    "where $e$ is the electron charge, $\\hbar$ is the reduced Planck constant, $T(E)$ is the transmission coefficient, $f(E-E_F \\pm V/2)$ is the Fermi-Dirac distribution function shifted by $\\pm V/2$, and $V$ is the voltage applied across the diode.\n",
    "\n",
    "2. Scanning Tunneling Microscopy:\n",
    "Scanning Tunneling Microscopy (STM) is a technique that uses the quantum tunneling effect to image the surfaces of conductive materials with atomic resolution. The technique involves scanning a sharp metal tip over the surface of a sample while applying a voltage between the tip and the sample. As the tip approaches the surface, electrons tunnel between the tip and the sample, and the resulting tunneling current is measured.\n",
    "\n",
    "The tunneling current between the tip and the sample is given by the following equation:\n",
    "\n",
    "$$I \\propto \\int_{-\\infty}^{\\infty} T(E)[f(E-E_F + eV)-f(E-E_F)]dE$$\n",
    "\n",
    "where $T(E)$ is the transmission coefficient, $f(E-E_F + eV)$ is the Fermi-Dirac distribution function shifted by $eV$, and $e$ is the electron charge.\n",
    "\n",
    "3. Quantum Computing:\n",
    "Quantum computing is a rapidly developing field that exploits the quantum tunneling effect to perform certain calculations faster than classical computers. The basic unit of information in a quantum computer is a qubit, which can exist in a superposition of two states. Quantum tunneling is used to manipulate the qubits and perform operations on them.\n",
    "\n",
    "The time-dependent Schrodinger equation for a particle in a one-dimensional potential well is given by:\n",
    "\n",
    "$$i\\hbar \\frac{\\partial \\psi(x,t)}{\\partial t} = -\\frac{\\hbar^2}{2m} \\frac{\\partial^2 \\psi(x,t)}{\\partial x^2} + V(x)\\psi(x,t)$$\n",
    "\n",
    "where $\\psi(x,t)$ is the wave function, $m$ is the mass of the particle, $V(x)$ is the potential energy, and $\\hbar$ is the reduced Planck constant.\n",
    "\n",
    "In conclusion, quantum tunneling has numerous applications in solid-state physics, including tunnel diodes, scanning tunneling microscopy, and quantum computing. The equations governing these applications are based on the principles of quantum mechanics and are essential for understanding and analyzing these phenomena."
   ]
  },
  {
   "cell_type": "code",
   "execution_count": 1,
   "id": "2d11156e",
   "metadata": {},
   "outputs": [
    {
     "name": "stdout",
     "output_type": "stream",
     "text": [
      "Tunneling current: 0.0 A\n"
     ]
    }
   ],
   "source": [
    "import numpy as np\n",
    "\n",
    "# Constants\n",
    "e = 1.60217662e-19    # Electron charge (C)\n",
    "hbar = 1.0545718e-34   # Reduced Planck constant (J*s)\n",
    "\n",
    "# Parameters\n",
    "V = 0.1               # Applied voltage (V)\n",
    "E_F = 0.5            # Fermi energy (eV)\n",
    "E_max = 2            # Maximum energy (eV)\n",
    "N = 1000             # Number of energy steps\n",
    "\n",
    "# Transmission coefficient\n",
    "def transmission(E):\n",
    "    return 1 / (1 + np.exp((E - E_F) / 0.025))\n",
    "\n",
    "# Fermi-Dirac distribution function\n",
    "def fermi(E, V):\n",
    "    return 1 / (1 + np.exp((E - E_F + e*V/2) / 0.025))\n",
    "\n",
    "# Integration limits\n",
    "E_min = E_F - V/2\n",
    "E_step = (E_max - E_min) / N\n",
    "\n",
    "# Integrate tunneling current\n",
    "I = 0\n",
    "for E in np.arange(E_min, E_max, E_step):\n",
    "    T = transmission(E)\n",
    "    f1 = fermi(E, V)\n",
    "    f2 = fermi(E, -V)\n",
    "    I += e/hbar * T * (f1 - f2) * E_step\n",
    "\n",
    "print(\"Tunneling current:\", I, \"A\")\n"
   ]
  },
  {
   "cell_type": "markdown",
   "id": "417ac02f",
   "metadata": {},
   "source": [
    "# Quantum tunneling in field theory"
   ]
  },
  {
   "cell_type": "markdown",
   "id": "f6f7abcf",
   "metadata": {},
   "source": [
    "Quantum tunneling is a fundamental phenomenon in quantum mechanics that allows particles to pass through potential barriers even though they do not have enough energy to overcome them classically. In field theory, quantum tunneling plays a crucial role in many physical processes, such as vacuum decay, bubble nucleation, and phase transitions. In this answer, I will briefly discuss these applications and provide relevant equations.\n",
    "\n",
    "1. Vacuum Decay:\n",
    "Vacuum decay is a process in which the vacuum state of a quantum field decays to a lower-energy state by tunneling through a potential barrier. This process can occur in various field theories, such as scalar field theory, where the tunneling event can create bubbles of the new, lower-energy vacuum state.\n",
    "\n",
    "The probability of vacuum decay per unit volume per unit time is given by the following equation:\n",
    "\n",
    "$$\\Gamma \\sim e^{-B}$$\n",
    "\n",
    "where $B$ is the Euclidean action of the tunneling configuration. In field theory, the Euclidean action is given by the following equation:\n",
    "\n",
    "$$S_E = \\int d^4x \\left[\\frac{1}{2}(\\partial_\\mu \\phi)^2 + V(\\phi)\\right]$$\n",
    "\n",
    "where $\\phi$ is the scalar field and $V(\\phi)$ is the potential energy density.\n",
    "\n",
    "2. Bubble Nucleation:\n",
    "Bubble nucleation is a process in which a bubble of a different phase appears in a metastable phase by quantum tunneling through a potential barrier. This process is important in cosmology, where it is believed to have played a role in the early universe during phase transitions.\n",
    "\n",
    "The probability of bubble nucleation per unit volume per unit time is given by the following equation:\n",
    "\n",
    "$$P \\sim e^{-B}$$\n",
    "\n",
    "where $B$ is the action of the tunneling configuration. In field theory, the action is given by:\n",
    "\n",
    "$$S = \\int d^4x \\left[\\frac{1}{2}(\\partial_\\mu \\phi)^2 + V(\\phi)\\right]$$\n",
    "\n",
    "where $\\phi$ is the scalar field and $V(\\phi)$ is the potential energy density.\n",
    "\n",
    "3. Phase Transitions:\n",
    "Quantum tunneling also plays a crucial role in phase transitions, which are abrupt changes in the properties of a system as a result of a change in a control parameter, such as temperature or pressure. In field theory, phase transitions can be understood as the formation of bubbles of a new phase via quantum tunneling.\n",
    "\n",
    "The rate of bubble nucleation per unit volume per unit time in a first-order phase transition is given by the following equation:\n",
    "\n",
    "$$\\Gamma = A e^{-B/T}$$\n",
    "\n",
    "where $A$ is a prefactor that depends on the properties of the system, $B$ is the action of the tunneling configuration, and $T$ is the temperature.\n",
    "\n",
    "In conclusion, quantum tunneling is a crucial phenomenon in field theory, playing a key role in many physical processes, such as vacuum decay, bubble nucleation, and phase transitions. The equations governing these processes involve the Euclidean action, which is a key concept in field theory."
   ]
  },
  {
   "cell_type": "code",
   "execution_count": 2,
   "id": "d26b307a",
   "metadata": {},
   "outputs": [
    {
     "data": {
      "image/png": "[encoded data removed]",
      "text/plain": [
       "<Figure size 640x480 with 1 Axes>"
      ]
     },
     "metadata": {},
     "output_type": "display_data"
    }
   ],
   "source": [
    "import numpy as np\n",
    "\n",
    "# Constants\n",
    "hbar = 1.0545718e-34   # Reduced Planck constant (J*s)\n",
    "c = 299792458          # Speed of light (m/s)\n",
    "\n",
    "# Parameters\n",
    "m = 1e-25              # Mass of the scalar field (kg)\n",
    "lambda_ = 1e-12        # Coupling constant (m^-1)\n",
    "V_0 = 1e10             # Potential energy density at the top of the barrier (J/m^3)\n",
    "\n",
    "# Euclidean action\n",
    "def euclidean_action(phi):\n",
    "    return np.pi**2 / (2 * hbar * c) * (m * c**2)**4 / (lambda_ * hbar * c)**3 * \\\n",
    "           (16 * np.pi**2 * hbar * c * lambda_ * phi**4 - 6 * hbar * c * phi**2 * m**2 * c**2 + V_0)\n",
    "\n",
    "# Probability of vacuum decay\n",
    "def vacuum_decay_prob(phi):\n",
    "    return np.exp(-euclidean_action(phi) / hbar)\n",
    "\n",
    "# Range of scalar field values\n",
    "phi_min = 0\n",
    "phi_max = np.sqrt(V_0 / (4 * np.pi * hbar * c * lambda_))\n",
    "N = 1000\n",
    "phi_values = np.linspace(phi_min, phi_max, N)\n",
    "\n",
    "# Calculate probability of vacuum decay for each scalar field value\n",
    "probabilities = []\n",
    "for phi in phi_values:\n",
    "    probabilities.append(vacuum_decay_prob(phi))\n",
    "\n",
    "# Plot probability of vacuum decay as a function of the scalar field\n",
    "import matplotlib.pyplot as plt\n",
    "plt.plot(phi_values, probabilities)\n",
    "plt.xlabel('Scalar field (kg)')\n",
    "plt.ylabel('Probability of vacuum decay')\n",
    "plt.show()\n"
   ]
  },
  {
   "cell_type": "markdown",
   "id": "3bc5f76d",
   "metadata": {},
   "source": [
    "# Quantum tunneling in condensed matter physics"
   ]
  },
  {
   "cell_type": "markdown",
   "id": "43163da9",
   "metadata": {},
   "source": [
    "Quantum tunneling is a phenomenon that is observed in condensed matter physics, where it plays a crucial role in various physical processes, such as superconductivity, magnetism, and semiconductors. In this answer, I will discuss some of the applications of quantum tunneling in condensed matter physics and provide relevant equations.\n",
    "\n",
    "1. Superconductivity:\n",
    "Superconductivity is a phenomenon in which a material loses all electrical resistance below a certain temperature. This phenomenon is explained by the formation of Cooper pairs, which are two electrons that are bound together by the exchange of phonons. The formation of Cooper pairs is facilitated by quantum tunneling, which allows the electrons to overcome the Coulomb repulsion between them and bind together.\n",
    "\n",
    "The probability of electron tunneling through a potential barrier in a superconductor is given by the following equation:\n",
    "\n",
    "$$T(E) = \\frac{1}{1 + \\exp(2 \\pi \\eta)}$$\n",
    "\n",
    "where $E$ is the energy of the electron, and $\\eta$ is the dimensionless quantity given by:\n",
    "\n",
    "$$\\eta = \\frac{\\Delta^2}{2eV}$$\n",
    "\n",
    "where $\\Delta$ is the superconducting energy gap, $e$ is the electron charge, and $V$ is the height of the potential barrier.\n",
    "\n",
    "2. Magnetism:\n",
    "Magnetism is a phenomenon that arises from the alignment of magnetic moments in a material. The behavior of magnetic moments is described by the spin Hamiltonian, which includes the exchange interaction between spins and the external magnetic field. Quantum tunneling plays a crucial role in the behavior of magnetic moments in materials such as single-molecule magnets.\n",
    "\n",
    "The tunnel splitting of the ground state of a single-molecule magnet is given by the following equation:\n",
    "\n",
    "$$\\Delta_{\\rm T} = \\frac{2S+1}{2}\\Delta_{\\rm E}$$\n",
    "\n",
    "where $S$ is the total spin of the molecule, and $\\Delta_{\\rm E}$ is the energy difference between the two lowest energy states.\n",
    "\n",
    "3. Semiconductors:\n",
    "In semiconductors, quantum tunneling allows electrons to move between different energy bands. This process is crucial for understanding the behavior of devices such as tunnel diodes and quantum dots.\n",
    "\n",
    "The probability of electron tunneling through a potential barrier in a semiconductor is given by the following equation:\n",
    "\n",
    "$$T(E) = \\exp\\left(-\\frac{2d\\sqrt{2m(V_0 - E)}}{\\hbar}\\right)$$\n",
    "\n",
    "where $d$ is the thickness of the barrier, $m$ is the effective mass of the electron, $V_0$ is the height of the potential barrier, $E$ is the energy of the electron, and $\\hbar$ is the reduced Planck constant.\n",
    "\n",
    "In conclusion, quantum tunneling is a fundamental phenomenon in condensed matter physics that plays a crucial role in various physical processes, such as superconductivity, magnetism, and semiconductors. The equations governing these processes involve the probability of tunneling through a potential barrier, which depends on the properties of the system, such as the energy of the particle and the height and thickness of the barrier."
   ]
  },
  {
   "cell_type": "code",
   "execution_count": 3,
   "id": "f1c303e6",
   "metadata": {},
   "outputs": [
    {
     "name": "stdout",
     "output_type": "stream",
     "text": [
      "Tunneling probability: 0.00e+00\n"
     ]
    }
   ],
   "source": [
    "import numpy as np\n",
    "\n",
    "def tunneling_probability(E, V0, d, m):\n",
    "    h_bar = 1.0545718e-34   # Reduced Planck constant\n",
    "    k = 8.617333262e-5      # Boltzmann constant\n",
    "    T = 300                 # Temperature in Kelvin\n",
    "\n",
    "    # Calculate the effective mass of the electron in the semiconductor\n",
    "    m_eff = m*0.067         # Assumes GaAs, where the electron effective mass is 0.067 times the electron mass\n",
    "\n",
    "    # Calculate the wave vector of the electron in the barrier\n",
    "    k_barrier = np.sqrt(2*m_eff*(V0 - E))/(h_bar)\n",
    "\n",
    "    # Calculate the transmission probability\n",
    "    T = np.exp(-2*d*k_barrier)\n",
    "\n",
    "    return T\n",
    "\n",
    "# Example usage\n",
    "E = 0.5               # Energy of the electron in eV\n",
    "V0 = 1.0              # Height of the potential barrier in eV\n",
    "d = 1e-9              # Thickness of the barrier in meters\n",
    "m = 9.10938356e-31    # Mass of the electron in kg\n",
    "\n",
    "T = tunneling_probability(E, V0, d, m)\n",
    "print(\"Tunneling probability: {:.2e}\".format(T))\n"
   ]
  },
  {
   "cell_type": "markdown",
   "id": "bf8bbcd0",
   "metadata": {},
   "source": [
    "# Quantum tunneling in chemistry"
   ]
  },
  {
   "cell_type": "markdown",
   "id": "8779e0c0",
   "metadata": {},
   "source": [
    "Quantum tunneling in chemistry refers to the phenomenon where particles, such as electrons or atoms, can tunnel through a potential energy barrier that they classically should not be able to pass through. This can have important implications for chemical reactions and reaction rates. Here is an overview of the equations that describe quantum tunneling in chemistry.\n",
    "\n",
    "The wave function for a particle is described by the Schrödinger equation:\n",
    "\n",
    "<img src=\"https://latex.codecogs.com/svg.image?i\\hbar\\frac{\\partial}{\\partial&space;t}\\Psi&space;=&space;\\hat{H}\\Psi\" title=\"i\\hbar\\frac{\\partial}{\\partial t}\\Psi = \\hat{H}\\Psi\" />\n",
    "\n",
    "where <img src=\"https://latex.codecogs.com/svg.image?\\Psi\" title=\"\\Psi\" /> is the wave function, <img src=\"https://latex.codecogs.com/svg.image?\\hat{H}\" title=\"\\hat{H}\" /> is the Hamiltonian operator, <img src=\"https://latex.codecogs.com/svg.image?\\hbar\" title=\"\\hbar\" /> is the reduced Planck constant, and <img src=\"https://latex.codecogs.com/svg.image?t\" title=\"t\" /> is time.\n",
    "\n",
    "If we have a potential energy barrier, such as a reaction energy barrier, the Hamiltonian operator can be written as:\n",
    "\n",
    "<img src=\"https://latex.codecogs.com/svg.image?\\hat{H}&space;=&space;\\frac{-\\hbar^2}{2m}\\frac{\\partial^2}{\\partial&space;x^2}&space;&plus;&space;V(x)\" title=\"\\hat{H} = \\frac{-\\hbar^2}{2m}\\frac{\\partial^2}{\\partial x^2} + V(x)\" />\n",
    "\n",
    "where <img src=\"https://latex.codecogs.com/svg.image?m\" title=\"m\" /> is the mass of the particle, <img src=\"https://latex.codecogs.com/svg.image?x\" title=\"x\" /> is the position of the particle, and <img src=\"https://latex.codecogs.com/svg.image?V(x)\" title=\"V(x)\" /> is the potential energy at position <img src=\"https://latex.codecogs.com/svg.image?x\" title=\"x\" />.\n",
    "\n",
    "The wave function of a particle can be written as a linear combination of energy eigenstates:\n",
    "\n",
    "<img src=\"https://latex.codecogs.com/svg.image?\\Psi(x,t)&space;=&space;\\sum_n&space;c_n&space;\\psi_n(x)&space;e^{-iE_nt/\\hbar}\" title=\"\\Psi(x,t) = \\sum_n c_n \\psi_n(x) e^{-iE_nt/\\hbar}\" />\n",
    "\n",
    "where <img src=\"https://latex.codecogs.com/svg.image?\\psi_n(x)\" title=\"\\psi_n(x)\" /> is the wave function of the nth energy eigenstate with energy <img src=\"https://latex.codecogs.com/svg.image?E_n\" title=\"E_n\" />, and <img src=\"https://latex.codecogs.com/svg.image?c_n\" title=\"c_n\" /> is the complex coefficient that determines the probability amplitude for the particle to be in the nth energy eigenstate.\n",
    "\n",
    "The probability density of the particle is given by the absolute square of the wave function:\n",
    "\n",
    "<img src=\"https://latex.codecogs.com/svg.image?\\rho(x,t)&space;=&space;|\\Psi(x,t)|^2&space;=&space;\\sum_n&space;|c_n|^2&space;|\\psi_n(x)|^2\" title=\"\\rho(x,t) = |\\Psi(x,t)|^2 = \\sum_n |c_n|^2 |\\psi_n(x"
   ]
  },
  {
   "cell_type": "code",
   "execution_count": 4,
   "id": "fa5bf7dc",
   "metadata": {},
   "outputs": [],
   "source": [
    "import numpy as np\n",
    "\n",
    "def tunneling_prob(E, V, m, a):\n",
    "    \"\"\"\n",
    "    Calculate the tunneling probability of a particle through a one-dimensional potential energy barrier using the WKB approximation.\n",
    "\n",
    "    Parameters:\n",
    "    E (float): Total energy of the particle\n",
    "    V (float): Height of the potential energy barrier\n",
    "    m (float): Mass of the particle\n",
    "    a (float): Width of the potential energy barrier\n",
    "\n",
    "    Returns:\n",
    "    prob (float): Tunneling probability\n",
    "    \"\"\"\n",
    "\n",
    "    hbar = 1.05457e-34  # Reduced Planck constant\n",
    "\n",
    "    kappa = np.sqrt(2 * m * (V - E)) / hbar\n",
    "    gamma = np.sqrt(2 * m * E) / hbar\n",
    "\n",
    "    A = 2 * kappa / gamma * np.exp(-1j * np.pi / 4)\n",
    "\n",
    "    S = np.zeros_like(a)\n",
    "    for i in range(len(a)):\n",
    "        if E < V:\n",
    "            S[i] = A * np.exp(1j / hbar * np.sqrt(2 * m * (V - E)) * a[i])\n",
    "        else:\n",
    "            S[i] = A * np.exp(1 / hbar * np.sqrt(2 * m * (E - V)) * a[i])\n",
    "\n",
    "    prob = np.exp(-2 * np.imag(np.sum(S)) / hbar)\n",
    "\n",
    "    return prob\n"
   ]
  },
  {
   "cell_type": "markdown",
   "id": "7839411c",
   "metadata": {},
   "source": [
    "# Tunneling and quantum computing"
   ]
  },
  {
   "cell_type": "markdown",
   "id": "7aa97f2e",
   "metadata": {},
   "source": [
    "Tunneling is a phenomenon in quantum mechanics where a particle can pass through a barrier even though it does not have enough energy to surmount it. This happens due to the wave nature of particles in quantum mechanics, and is described by the Schrödinger equation.\n",
    "\n",
    "The Schrödinger equation is given by:\n",
    "\n",
    "iħ ∂ψ/∂t = Hψ\n",
    "\n",
    "where i is the imaginary unit, ħ is the reduced Planck constant, t is time, ψ is the wavefunction of the particle, and H is the Hamiltonian operator. The Hamiltonian operator describes the total energy of the system.\n",
    "\n",
    "For a particle to tunnel through a potential barrier, its wavefunction must penetrate the barrier. This can be described by the transmission coefficient, T, which is given by:\n",
    "\n",
    "T = e^(-2κL)\n",
    "\n",
    "where κ is the decay constant, and L is the width of the barrier. The decay constant is related to the energy of the particle and the height and width of the barrier.\n",
    "\n",
    "Quantum computing is a type of computing that uses quantum bits (qubits) instead of classical bits to perform calculations. Quantum computing takes advantage of the phenomenon of superposition, where a qubit can exist in multiple states simultaneously, and entanglement, where two or more qubits can be correlated in such a way that their states are linked.\n",
    "\n",
    "The state of a qubit is described by a complex number called a probability amplitude. The probability of measuring a particular state of a qubit is the square of its probability amplitude. The state of multiple qubits is described by a tensor product of their individual states.\n",
    "\n",
    "The basic operations in quantum computing are represented by quantum gates. These gates operate on one or more qubits at a time, and can be used to perform operations such as superposition, entanglement, and measurement.\n",
    "\n",
    "The most famous quantum algorithm is Shor's algorithm, which is used to factor large numbers into their prime factors. Shor's algorithm takes advantage of the fact that the period of a modular function can be found efficiently using a quantum computer, and uses this to factor numbers.\n",
    "\n",
    "The power of quantum computing comes from its ability to perform certain computations exponentially faster than classical computers. However, building and operating a quantum computer is very challenging due to the fragility of qubits and the difficulty of performing measurements on them without disturbing their states."
   ]
  },
  {
   "cell_type": "code",
   "execution_count": 5,
   "id": "6196a396",
   "metadata": {},
   "outputs": [
    {
     "name": "stderr",
     "output_type": "stream",
     "text": [
      "C:\\Users\\yashr\\AppData\\Local\\Temp\\ipykernel_5140\\1277541029.py:25: RuntimeWarning: overflow encountered in multiply\n",
      "  psi[1:-1] = psi[1:-1] - 1j * hbar * dt / (2 * m * dx ** 2) * (psi[2:] - 2 * psi[1:-1] + psi[:-2])\n",
      "C:\\Users\\yashr\\AppData\\Local\\Temp\\ipykernel_5140\\1277541029.py:26: RuntimeWarning: invalid value encountered in multiply\n",
      "  psi *= np.exp(-1j * V_array * dt / (2 * hbar))\n",
      "C:\\Users\\yashr\\AppData\\Local\\Temp\\ipykernel_5140\\1277541029.py:27: RuntimeWarning: invalid value encountered in multiply\n",
      "  psi[1:-1] = psi[1:-1] - 1j * hbar * dt / (2 * m * dx ** 2) * (psi[2:] - 2 * psi[1:-1] + psi[:-2])\n"
     ]
    },
    {
     "data": {
      "image/png": "[encoded data removed]",
      "text/plain": [
       "<Figure size 640x480 with 1 Axes>"
      ]
     },
     "metadata": {},
     "output_type": "display_data"
    }
   ],
   "source": [
    "import numpy as np\n",
    "import matplotlib.pyplot as plt\n",
    "\n",
    "# Parameters\n",
    "hbar = 1.0545718e-34\n",
    "m = 9.10938356e-31\n",
    "E = 1.6e-19\n",
    "V = E\n",
    "L = 1e-10\n",
    "N = 1000\n",
    "dx = L / N\n",
    "dt = dx ** 2 / (2 * hbar * np.pi * E / 2)\n",
    "steps = 1000\n",
    "\n",
    "# Initialize wavefunction\n",
    "psi = np.zeros(N + 2, dtype=np.complex128)\n",
    "psi[0] = 1\n",
    "\n",
    "# Initialize potential\n",
    "V_array = np.zeros(N + 2)\n",
    "V_array[int(N / 2) - int(N / 10):int(N / 2) + int(N / 10)] = V\n",
    "\n",
    "# Finite difference method\n",
    "for i in range(steps):\n",
    "    psi[1:-1] = psi[1:-1] - 1j * hbar * dt / (2 * m * dx ** 2) * (psi[2:] - 2 * psi[1:-1] + psi[:-2])\n",
    "    psi *= np.exp(-1j * V_array * dt / (2 * hbar))\n",
    "    psi[1:-1] = psi[1:-1] - 1j * hbar * dt / (2 * m * dx ** 2) * (psi[2:] - 2 * psi[1:-1] + psi[:-2])\n",
    "    psi *= np.exp(-1j * V_array * dt / (2 * hbar))\n",
    "\n",
    "# Plot wavefunction and potential\n",
    "x = np.linspace(-L / 2, L / 2, N + 2)\n",
    "plt.plot(x, np.abs(psi) ** 2)\n",
    "plt.plot(x, V_array / E)\n",
    "plt.xlabel('Position')\n",
    "plt.ylabel('Probability Density / Normalized Potential Energy')\n",
    "plt.show()\n"
   ]
  },
  {
   "cell_type": "markdown",
   "id": "317dfd0b",
   "metadata": {},
   "source": [
    "# Quantum tunneling in biological systems"
   ]
  },
  {
   "cell_type": "markdown",
   "id": "d1da346f",
   "metadata": {},
   "source": [
    "Quantum tunneling is a phenomenon in which a quantum particle can pass through a potential barrier that it classically cannot overcome. In biological systems, tunneling can play a role in enzymatic reactions, photosynthesis, and olfaction.\n",
    "\n",
    "One example of tunneling in biological systems is in the enzymatic reaction catalyzed by the enzyme cytochrome P450. In this reaction, the enzyme catalyzes the oxidation of various molecules, including drugs and toxins, by transferring an oxygen atom to the substrate. The transfer of the oxygen atom involves breaking the O-O bond in a bound dioxygen molecule (O2), which has a high activation energy. Quantum tunneling is believed to play a role in reducing the activation energy and facilitating the reaction.\n",
    "\n",
    "The rate of tunneling through a potential barrier can be described by the WKB approximation, which assumes that the wave function of the particle can be split into a classically allowed region and a classically forbidden region, and that the wave function in the forbidden region decays exponentially. The WKB approximation yields an expression for the tunneling probability as:\n",
    "\n",
    "$$ P \\approx e^{-2 \\gamma}, $$\n",
    "\n",
    "where $\\gamma$ is the imaginary part of the action $S$:\n",
    "\n",
    "$$ S = \\int_{x_1}^{x_2} \\sqrt{2m(V(x)-E)} \\, dx, $$\n",
    "\n",
    "where $m$ is the mass of the particle, $V(x)$ is the potential energy at position $x$, and $E$ is the energy of the particle. The limits of integration $x_1$ and $x_2$ are the classical turning points, where $V(x) = E$.\n",
    "\n",
    "The rate of tunneling can also be described by the rate constant $k$ for the reaction, which is related to the tunneling probability by the Eyring equation:\n",
    "\n",
    "$$ k = \\frac{k_BT}{h} \\frac{P}{1-P} e^{-\\Delta G^{\\ddagger}/RT}, $$\n",
    "\n",
    "where $k_B$ is the Boltzmann constant, $T$ is the temperature, $h$ is Planck's constant, $\\Delta G^{\\ddagger}$ is the activation energy for the reaction, $R$ is the gas constant, and $P$ is the tunneling probability.\n",
    "\n",
    "In the case of cytochrome P450, the tunneling probability is influenced by the protein environment, which can affect the shape and energy of the potential energy surface. The tunneling probability can be calculated using quantum mechanical/molecular mechanical (QM/MM) simulations, which combine quantum mechanics and classical mechanics to describe the enzyme and the reaction. These simulations can provide insights into the mechanism of the reaction and the role of tunneling."
   ]
  },
  {
   "cell_type": "code",
   "execution_count": 7,
   "id": "2dca689f",
   "metadata": {},
   "outputs": [
    {
     "name": "stderr",
     "output_type": "stream",
     "text": [
      "C:\\Users\\yashr\\AppData\\Local\\Temp\\ipykernel_5140\\1280173509.py:36: RuntimeWarning: invalid value encountered in sqrt\n",
      "  S = np.sqrt(2 * m) * np.trapz(np.sqrt(V(x1 + np.arange(N) * dx) - E), dx=dx)\n"
     ]
    },
    {
     "data": {
      "image/png": "[encoded data removed]",
      "text/plain": [
       "<Figure size 640x480 with 1 Axes>"
      ]
     },
     "metadata": {},
     "output_type": "display_data"
    },
    {
     "name": "stdout",
     "output_type": "stream",
     "text": [
      "Tunneling probability: 1.0\n"
     ]
    }
   ],
   "source": [
    "import numpy as np\n",
    "import matplotlib.pyplot as plt\n",
    "\n",
    "# Define the potential energy surface\n",
    "def V(x):\n",
    "    return 1.5 * np.exp(-0.1*(x-2)**2) - 0.5 * np.exp(-0.1*(x+2)**2)\n",
    "\n",
    "# Define the mass and energy of the particle\n",
    "m = 1\n",
    "E = 1\n",
    "\n",
    "# Define the limits of integration\n",
    "x1 = -5\n",
    "x2 = 5\n",
    "\n",
    "# Define the number of integration points\n",
    "N = 1000\n",
    "\n",
    "# Define the step size for numerical integration\n",
    "dx = (x2 - x1) / N\n",
    "\n",
    "# Initialize the wave function and its derivative\n",
    "psi = np.zeros(N)\n",
    "psi_prime = np.zeros(N)\n",
    "\n",
    "# Set the boundary conditions at x = x1\n",
    "psi[0] = 1\n",
    "psi_prime[0] = 0\n",
    "\n",
    "# Numerical integration using the Euler method\n",
    "for i in range(1, N):\n",
    "    psi[i] = psi[i-1] + psi_prime[i-1] * dx\n",
    "    psi_prime[i] = psi_prime[i-1] - 2 * m * (V(x1 + i * dx) - E) * psi[i-1] * dx\n",
    "\n",
    "# Calculate the tunneling probability using the WKB approximation\n",
    "S = np.sqrt(2 * m) * np.trapz(np.sqrt(V(x1 + np.arange(N) * dx) - E), dx=dx)\n",
    "gamma = S.imag\n",
    "P = np.exp(-2 * gamma)\n",
    "\n",
    "# Plot the potential energy surface and the wave function\n",
    "fig, ax = plt.subplots()\n",
    "x = np.linspace(x1, x2, N)\n",
    "ax.plot(x, V(x), 'k')\n",
    "ax.plot(x, psi/np.max(psi) * 1, 'r')\n",
    "ax.set_xlabel('Position')\n",
    "ax.set_ylabel('Energy')\n",
    "ax.legend(['Potential energy surface', 'Wave function'])\n",
    "plt.show()\n",
    "\n",
    "# Print the tunneling probability\n",
    "print('Tunneling probability: {}'.format(P))\n"
   ]
  },
  {
   "cell_type": "markdown",
   "id": "28baf1a6",
   "metadata": {},
   "source": [
    "# Tunneling time and delay"
   ]
  },
  {
   "cell_type": "markdown",
   "id": "6720d74a",
   "metadata": {},
   "source": [
    "Tunneling is a quantum mechanical phenomenon that allows a particle to penetrate a barrier that it classically would not be able to cross. The tunneling time is the time it takes for a particle to tunnel through a barrier, and the tunneling delay is the difference between the tunneling time and the time it would take for the particle to traverse the same distance classically.\n",
    "\n",
    "The tunneling time can be calculated using the WKB (Wentzel-Kramers-Brillouin) approximation, which gives an estimate of the probability that a particle will tunnel through a barrier. The WKB approximation gives an expression for the tunneling probability in terms of the action, S, which is defined as:\n",
    "\n",
    "S = ∫p dx\n",
    "\n",
    "where p is the classical momentum of the particle and dx is the distance it travels.\n",
    "\n",
    "The tunneling probability is given by:\n",
    "\n",
    "P ∝ exp(-2S/ħ)\n",
    "\n",
    "where ħ is the reduced Planck constant.\n",
    "\n",
    "The tunneling time can then be estimated using the relationship between the tunneling probability and the time it takes for the particle to tunnel through the barrier:\n",
    "\n",
    "P = 1 - exp(-2t/τ)\n",
    "\n",
    "where t is the tunneling time and τ is a characteristic time scale that depends on the details of the barrier.\n",
    "\n",
    "Solving for t, we get:\n",
    "\n",
    "t = -τ ln[1 - exp(-2S/ħ)]\n",
    "\n",
    "The tunneling delay is the difference between the tunneling time and the time it would take for the particle to traverse the same distance classically. The classical time is given by:\n",
    "\n",
    "t_classical = dx/v\n",
    "\n",
    "where v is the classical velocity of the particle.\n",
    "\n",
    "The tunneling delay is then:\n",
    "\n",
    "Δt = t - t_classical = -τ ln[1 - exp(-2S/ħ)] - dx/v\n",
    "\n",
    "Note that the tunneling delay can be positive or negative, depending on the details of the barrier and the particle's properties. In general, tunneling delays are very short, on the order of femtoseconds or even attoseconds, and are difficult to measure directly.\n",
    "\n",
    "Overall, the WKB approximation provides a useful framework for understanding the tunneling process and estimating the tunneling time and delay. However, it is important to keep in mind that the WKB approximation is an approximation and may not be accurate for all types of barriers and particles."
   ]
  },
  {
   "cell_type": "code",
   "execution_count": 1,
   "id": "aea57c0a",
   "metadata": {},
   "outputs": [],
   "source": [
    "import numpy as np\n",
    "\n",
    "def tunneling_time(S, tau, h_bar):\n",
    "    \"\"\"\n",
    "    Calculate the tunneling time using the WKB approximation.\n",
    "    \"\"\"\n",
    "    return -tau * np.log(1 - np.exp(-2*S/h_bar))\n",
    "\n",
    "def tunneling_delay(S, tau, h_bar, dx, v):\n",
    "    \"\"\"\n",
    "    Calculate the tunneling delay using the WKB approximation.\n",
    "    \"\"\"\n",
    "    t_tunneling = tunneling_time(S, tau, h_bar)\n",
    "    t_classical = dx/v\n",
    "    return t_tunneling - t_classical\n"
   ]
  },
  {
   "cell_type": "markdown",
   "id": "75629589",
   "metadata": {},
   "source": [
    "# WKB approximation and semiclassical tunneling"
   ]
  },
  {
   "cell_type": "markdown",
   "id": "9d852b13",
   "metadata": {},
   "source": [
    "WKB Approximation and Semiclassical Tunneling:\n",
    "\n",
    "The WKB (Wentzel-Kramers-Brillouin) approximation is a method for solving the Schrödinger equation for a potential barrier by making use of the semiclassical approximation. It is used to describe the behavior of particles in quantum mechanics that have enough energy to overcome a potential barrier.\n",
    "\n",
    "The semiclassical approximation assumes that a wavefunction can be treated as a classical particle for certain applications. The WKB approximation extends this approach to handle wavefunctions that undergo rapid oscillations.\n",
    "\n",
    "The WKB approximation provides an approximate solution to the Schrödinger equation for a potential barrier by treating it as a classical mechanical problem. The solution is then obtained by matching the wavefunctions inside and outside the barrier. The semiclassical tunneling probability can be calculated using the WKB approximation.\n",
    "\n",
    "Equations:\n",
    "\n",
    "The WKB approximation is based on the following equations:\n",
    "\n",
    "1. The Schrödinger equation:\n",
    "\n",
    "![Schrödinger Equation](https://latex.codecogs.com/svg.image?-\\frac{\\hbar^2}{2m}\\frac{d^2\\psi}{dx^2}&plus;(E-V(x))\\psi=0)\n",
    "\n",
    "where h-bar is the reduced Planck constant, m is the mass of the particle, V(x) is the potential energy function, and E is the total energy of the particle.\n",
    "\n",
    "2. The WKB approximation:\n",
    "\n",
    "![WKB Approximation](https://latex.codecogs.com/svg.image?\\psi(x)&space;\\approx&space;\\frac{1}{\\sqrt{p(x)}}e^{\\frac{i}{\\hbar}\\int_{x_0}^x&space;p(x')dx'})\n",
    "\n",
    "where p(x) is the momentum of the particle, x_0 is the point of origin, and x is the current position of the particle.\n",
    "\n",
    "3. The momentum of the particle:\n",
    "\n",
    "![Momentum of the Particle](https://latex.codecogs.com/svg.image?p(x)=\\sqrt{2m(E-V(x))})\n",
    "\n",
    "4. The semiclassical tunneling probability:\n",
    "\n",
    "![Semiclassical Tunneling Probability](https://latex.codecogs.com/svg.image?P&space;=&space;e^{-\\frac{2}{\\hbar}\\int_{x_1}^{x_2}&space;\\sqrt{2m(V(x)-E)}dx})\n",
    "\n",
    "where x_1 and x_2 are the classical turning points where the momentum of the particle goes to zero.\n",
    "\n",
    "Conclusion:\n",
    "\n",
    "The WKB approximation is a powerful method for solving the Schrödinger equation for a potential barrier by making use of the semiclassical approximation. It provides an approximate solution to the Schrödinger equation by treating it as a classical mechanical problem. The semiclassical tunneling probability can be calculated using the WKB approximation."
   ]
  },
  {
   "cell_type": "code",
   "execution_count": 2,
   "id": "ea57c519",
   "metadata": {},
   "outputs": [
    {
     "ename": "ValueError",
     "evalue": "too many values to unpack (expected 2)",
     "output_type": "error",
     "traceback": [
      "\u001b[1;31m---------------------------------------------------------------------------\u001b[0m",
      "\u001b[1;31mValueError\u001b[0m                                Traceback (most recent call last)",
      "Cell \u001b[1;32mIn[2], line 25\u001b[0m\n\u001b[0;32m     22\u001b[0m     \u001b[38;5;28;01mreturn\u001b[39;00m np\u001b[38;5;241m.\u001b[39mexp(\u001b[38;5;241m-\u001b[39m\u001b[38;5;241m2\u001b[39m\u001b[38;5;241m/\u001b[39mhbar \u001b[38;5;241m*\u001b[39m integral_value)\n\u001b[0;32m     24\u001b[0m E \u001b[38;5;241m=\u001b[39m \u001b[38;5;241m1.0\u001b[39m  \u001b[38;5;66;03m# Total energy of the particle\u001b[39;00m\n\u001b[1;32m---> 25\u001b[0m prob \u001b[38;5;241m=\u001b[39m \u001b[43mtunneling_probability\u001b[49m\u001b[43m(\u001b[49m\u001b[43mE\u001b[49m\u001b[43m)\u001b[49m\n\u001b[0;32m     26\u001b[0m \u001b[38;5;28mprint\u001b[39m(\u001b[38;5;124mf\u001b[39m\u001b[38;5;124m\"\u001b[39m\u001b[38;5;124mTunneling probability for E=\u001b[39m\u001b[38;5;132;01m{\u001b[39;00mE\u001b[38;5;132;01m}\u001b[39;00m\u001b[38;5;124m is \u001b[39m\u001b[38;5;132;01m{\u001b[39;00mprob\u001b[38;5;132;01m}\u001b[39;00m\u001b[38;5;124m\"\u001b[39m)\n",
      "Cell \u001b[1;32mIn[2], line 20\u001b[0m, in \u001b[0;36mtunneling_probability\u001b[1;34m(E)\u001b[0m\n\u001b[0;32m     18\u001b[0m \u001b[38;5;28;01mdef\u001b[39;00m \u001b[38;5;21mtunneling_probability\u001b[39m(E):\n\u001b[0;32m     19\u001b[0m     \u001b[38;5;124;03m\"\"\"Calculate the semiclassical tunneling probability\"\"\"\u001b[39;00m\n\u001b[1;32m---> 20\u001b[0m     x1, x2 \u001b[38;5;241m=\u001b[39m np\u001b[38;5;241m.\u001b[39mroots([\u001b[38;5;241m1\u001b[39m, \u001b[38;5;241m0\u001b[39m, \u001b[38;5;241m-\u001b[39m\u001b[38;5;241m2\u001b[39m\u001b[38;5;241m*\u001b[39mE, \u001b[38;5;241m0\u001b[39m])\n\u001b[0;32m     21\u001b[0m     integral_value \u001b[38;5;241m=\u001b[39m integral(x1, x2, E)\n\u001b[0;32m     22\u001b[0m     \u001b[38;5;28;01mreturn\u001b[39;00m np\u001b[38;5;241m.\u001b[39mexp(\u001b[38;5;241m-\u001b[39m\u001b[38;5;241m2\u001b[39m\u001b[38;5;241m/\u001b[39mhbar \u001b[38;5;241m*\u001b[39m integral_value)\n",
      "\u001b[1;31mValueError\u001b[0m: too many values to unpack (expected 2)"
     ]
    }
   ],
   "source": [
    "import numpy as np\n",
    "\n",
    "hbar = 1.0545718e-34  # Planck constant\n",
    "m = 9.10938356e-31  # mass of electron\n",
    "\n",
    "def V(x):\n",
    "    \"\"\"Potential energy function\"\"\"\n",
    "    return x**4 - 2*x**2\n",
    "\n",
    "def p(x, E):\n",
    "    \"\"\"Momentum function\"\"\"\n",
    "    return np.sqrt(2*m*(E - V(x)))\n",
    "\n",
    "def integral(x1, x2, E):\n",
    "    \"\"\"Integral function\"\"\"\n",
    "    return np.trapz(p(x, E), x)\n",
    "\n",
    "def tunneling_probability(E):\n",
    "    \"\"\"Calculate the semiclassical tunneling probability\"\"\"\n",
    "    x1, x2 = np.roots([1, 0, -2*E, 0])\n",
    "    integral_value = integral(x1, x2, E)\n",
    "    return np.exp(-2/hbar * integral_value)\n",
    "\n",
    "E = 1.0  # Total energy of the particle\n",
    "prob = tunneling_probability(E)\n",
    "print(f\"Tunneling probability for E={E} is {prob}\")\n"
   ]
  },
  {
   "cell_type": "markdown",
   "id": "a02ca0b1",
   "metadata": {},
   "source": [
    "# Resonant tunneling and tunnel diodes"
   ]
  },
  {
   "cell_type": "markdown",
   "id": "f147e07d",
   "metadata": {},
   "source": [
    "Resonant Tunneling and Tunnel Diodes:\n",
    "\n",
    "Resonant tunneling is a quantum mechanical phenomenon in which a particle passes through a potential barrier with a probability that is greatly enhanced due to the presence of a resonance. Tunnel diodes are electronic devices that exploit this phenomenon to achieve very high-speed switching and amplification.\n",
    "\n",
    "In a tunnel diode, a thin p-n junction is used to create a potential barrier that the electrons must tunnel through. At certain voltages, the resonant tunneling effect occurs and the current through the diode increases dramatically. This makes tunnel diodes useful for high-speed applications such as in microwave electronics and digital circuits.\n",
    "\n",
    "Equations:\n",
    "\n",
    "The current-voltage characteristic of a tunnel diode can be modeled using the following equations:\n",
    "\n",
    "1. The Schrödinger equation:\n",
    "\n",
    "![Schrödinger Equation](https://latex.codecogs.com/svg.image?-\\frac{\\hbar^2}{2m}\\frac{d^2\\psi}{dx^2}&plus;(E-V(x))\\psi=0)\n",
    "\n",
    "where h-bar is the reduced Planck constant, m is the mass of the particle, V(x) is the potential energy function, and E is the total energy of the particle.\n",
    "\n",
    "2. The current density through a tunnel barrier:\n",
    "\n",
    "![Current Density](https://latex.codecogs.com/svg.image?J(V)&space;=&space;\\frac{2e}{h}\\int_{-\\infty}^\\infty&space;T(E)[f_L(E-E_F)-f_R(E-E_F)]dE)\n",
    "\n",
    "where J(V) is the current density, e is the elementary charge, h is the Planck constant, T(E) is the transmission probability, f_L and f_R are the Fermi-Dirac distribution functions of the left and right electrodes, respectively, and E_F is the Fermi energy.\n",
    "\n",
    "3. The transmission probability for a potential barrier:\n",
    "\n",
    "![Transmission Probability](https://latex.codecogs.com/svg.image?T(E)&space;=&space;\\frac{4k_1k_2}{(k_1&plus;k_2)^2}\\exp(-2\\gamma))\n",
    "\n",
    "where k_1 and k_2 are the wavevectors in the left and right regions of the barrier, respectively, and γ is the decay constant of the wavefunction inside the barrier.\n",
    "\n",
    "4. The energy levels in a double-barrier structure:\n",
    "\n",
    "![Energy Levels](https://latex.codecogs.com/svg.image?E_n(V)&space;=&space;\\frac{\\hbar^2\\pi^2n^2}{2mL^2}&plus;&space;V_0(V)&space;-&space;\\frac{qV}{2})\n",
    "\n",
    "where E_n is the nth energy level, V_0(V) is the potential energy of the tunnel barrier, L is the width of the barrier, q is the elementary charge, and V is the applied voltage.\n",
    "\n",
    "Conclusion:\n",
    "\n",
    "Resonant tunneling and tunnel diodes are important quantum mechanical phenomena that have found applications in high-speed electronics. The current-voltage characteristic of a tunnel diode can be modeled using the Schrödinger equation, transmission probability, and energy level equations. The resonant tunneling effect occurs when the applied voltage is such that the energy level of the quantum well lines up with the Fermi energy of the electrodes, resulting in a dramatic increase in current."
   ]
  },
  {
   "cell_type": "code",
   "execution_count": 5,
   "id": "1238a848",
   "metadata": {},
   "outputs": [
    {
     "name": "stderr",
     "output_type": "stream",
     "text": [
      "C:\\Users\\yashr\\AppData\\Local\\Temp\\ipykernel_8956\\2558660875.py:15: RuntimeWarning: invalid value encountered in sqrt\n",
      "  k1 = np.sqrt(2*m*(E-V)/hbar**2)\n"
     ]
    },
    {
     "data": {
      "image/png": "[encoded data removed]",
      "text/plain": [
       "<Figure size 640x480 with 1 Axes>"
      ]
     },
     "metadata": {},
     "output_type": "display_data"
    }
   ],
   "source": [
    "import numpy as np\n",
    "import matplotlib.pyplot as plt\n",
    "\n",
    "# Constants\n",
    "hbar = 1.05457e-34  # reduced Planck constant [J s]\n",
    "m = 9.10938e-31     # electron mass [kg]\n",
    "e = 1.60218e-19     # elementary charge [C]\n",
    "L = 5e-9            # width of the barrier [m]\n",
    "V0 = 0.3            # potential energy of the barrier [eV]\n",
    "F = 0.9\n",
    "h = 0.8\n",
    "\n",
    "# Transmission probability\n",
    "def transmission_probability(E, V):\n",
    "    k1 = np.sqrt(2*m*(E-V)/hbar**2)\n",
    "    k2 = np.sqrt(2*m*V/hbar**2)\n",
    "    gamma = L*k1\n",
    "    return 4*k1*k2/((k1+k2)**2)*np.exp(-2*gamma)\n",
    "\n",
    "# Current density\n",
    "def current_density(V, T):\n",
    "    kB = 1.38065e-23   # Boltzmann constant [J/K]\n",
    "    T_L = 300         # temperature of left electrode [K]\n",
    "    T_R = 300         # temperature of right electrode [K]\n",
    "    E_F = 0.2         # Fermi energy [eV]\n",
    "    f_L = 1/(1+np.exp((E-F)/kB/T_L))\n",
    "    f_R = 1/(1+np.exp((E-F)/kB/T_R))\n",
    "    return 2*e/h*np.trapz(T*(f_L-f_R), E)\n",
    "\n",
    "# Voltage range\n",
    "V = np.linspace(-0.5, 0.5, 100)\n",
    "\n",
    "# Calculate and plot current\n",
    "J = []\n",
    "for v in V:\n",
    "    E = np.linspace(V0-v/2, V0+v/2, 1000)\n",
    "    T = transmission_probability(E, V0)\n",
    "    J.append(current_density(v, T))\n",
    "plt.plot(V, J)\n",
    "plt.xlabel('Voltage (V)')\n",
    "plt.ylabel('Current density (A/m^2)')\n",
    "plt.show()\n"
   ]
  },
  {
   "cell_type": "markdown",
   "id": "9994bb27",
   "metadata": {},
   "source": [
    "# Scanning tunneling microscopy and spectroscopy"
   ]
  },
  {
   "cell_type": "markdown",
   "id": "35af93dd",
   "metadata": {},
   "source": [
    "Scanning Tunneling Microscopy (STM) and Spectroscopy (STS) are techniques used to obtain high-resolution images and spectra of surfaces at the atomic scale. STM works by scanning a sharp metal tip over the surface of a conductive material, while maintaining a small voltage difference between the tip and the sample. As the tip moves close to the sample surface, electrons can tunnel through the vacuum gap, creating a measurable current. This current is highly dependent on the distance between the tip and the sample, allowing the tip to be used to map out the surface topography.\n",
    "\n",
    "STS works by measuring the local density of states (LDOS) of the sample at each point on the surface. By applying a small AC voltage to the tip, the resulting tunneling current can be measured as a function of the energy of the electrons tunneling through the vacuum gap. This energy-dependent current provides information about the electronic structure of the sample, including the positions of energy levels and their occupation.\n",
    "\n",
    "The tunneling current in STM and STS is typically described by the following equation:\n",
    "\n",
    "$I = \\frac{2 \\pi e h^2}{\\hbar} V \\rho (E_F) e^{-2\\kappa d}$\n",
    "\n",
    "where $I$ is the tunneling current, $e$ is the electron charge, $h$ is Planck's constant, $\\hbar$ is the reduced Planck's constant, $V$ is the applied voltage, $\\rho(E_F)$ is the density of states at the Fermi energy of the sample, $d$ is the distance between the tip and the sample, and $\\kappa$ is the decay constant of the tunneling wave function. The tunneling current is highly sensitive to the distance between the tip and the sample, allowing STM to be used to obtain high-resolution images of surface topography.\n",
    "\n",
    "STS measurements can provide information about the electronic structure of the sample. By measuring the tunneling current as a function of the energy of the electrons tunneling through the vacuum gap, the LDOS of the sample can be obtained. This LDOS is related to the density of states of the sample by the following equation:\n",
    "\n",
    "$\\rho(E) = -\\frac{1}{\\pi} \\int I(V, r, E) \\frac{\\partial f}{\\partial E} dV$\n",
    "\n",
    "where $\\rho(E)$ is the density of states of the sample, $I(V, r, E)$ is the tunneling current at a given voltage $V$, position $r$, and energy $E$, $f$ is the Fermi-Dirac distribution function, and $dV$ is the differential volume of the sample.\n",
    "\n",
    "In practice, STM and STS are powerful techniques for investigating the electronic and structural properties of surfaces at the atomic scale. They have been used in a wide range of applications, including the study of surface catalysis, surface diffusion, and surface reconstructions."
   ]
  },
  {
   "cell_type": "code",
   "execution_count": 6,
   "id": "ab7b053e",
   "metadata": {},
   "outputs": [
    {
     "ename": "ModuleNotFoundError",
     "evalue": "No module named 'stmworkbench'",
     "output_type": "error",
     "traceback": [
      "\u001b[1;31m---------------------------------------------------------------------------\u001b[0m",
      "\u001b[1;31mModuleNotFoundError\u001b[0m                       Traceback (most recent call last)",
      "Cell \u001b[1;32mIn[6], line 1\u001b[0m\n\u001b[1;32m----> 1\u001b[0m \u001b[38;5;28;01mimport\u001b[39;00m \u001b[38;5;21;01mstmworkbench\u001b[39;00m \u001b[38;5;28;01mas\u001b[39;00m \u001b[38;5;21;01mwb\u001b[39;00m\n\u001b[0;32m      3\u001b[0m \u001b[38;5;66;03m# Load STM data from file\u001b[39;00m\n\u001b[0;32m      4\u001b[0m data \u001b[38;5;241m=\u001b[39m wb\u001b[38;5;241m.\u001b[39mload(\u001b[38;5;124m'\u001b[39m\u001b[38;5;124mpath/to/file.stm\u001b[39m\u001b[38;5;124m'\u001b[39m)\n",
      "\u001b[1;31mModuleNotFoundError\u001b[0m: No module named 'stmworkbench'"
     ]
    }
   ],
   "source": [
    "import stmworkbench as wb\n",
    "\n",
    "# Load STM data from file\n",
    "data = wb.load('path/to/file.stm')\n",
    "\n",
    "# Plot topography image\n",
    "wb.plot_topography(data, cmap='gray')\n"
   ]
  },
  {
   "cell_type": "code",
   "execution_count": 7,
   "id": "bb65112f",
   "metadata": {},
   "outputs": [
    {
     "ename": "ModuleNotFoundError",
     "evalue": "No module named 'pygwy'",
     "output_type": "error",
     "traceback": [
      "\u001b[1;31m---------------------------------------------------------------------------\u001b[0m",
      "\u001b[1;31mModuleNotFoundError\u001b[0m                       Traceback (most recent call last)",
      "Cell \u001b[1;32mIn[7], line 1\u001b[0m\n\u001b[1;32m----> 1\u001b[0m \u001b[38;5;28;01mimport\u001b[39;00m \u001b[38;5;21;01mpygwy\u001b[39;00m\n\u001b[0;32m      3\u001b[0m \u001b[38;5;66;03m# Load STS data from file\u001b[39;00m\n\u001b[0;32m      4\u001b[0m data \u001b[38;5;241m=\u001b[39m pygwy\u001b[38;5;241m.\u001b[39mFile(\u001b[38;5;124m'\u001b[39m\u001b[38;5;124mpath/to/file.4df\u001b[39m\u001b[38;5;124m'\u001b[39m)[\u001b[38;5;124m'\u001b[39m\u001b[38;5;124mSTS Spectroscopy\u001b[39m\u001b[38;5;124m'\u001b[39m]\n",
      "\u001b[1;31mModuleNotFoundError\u001b[0m: No module named 'pygwy'"
     ]
    }
   ],
   "source": [
    "import pygwy\n",
    "\n",
    "# Load STS data from file\n",
    "data = pygwy.File('path/to/file.4df')['STS Spectroscopy']\n",
    "\n",
    "# Plot STS spectrum\n",
    "pygwy.graph(data)\n"
   ]
  },
  {
   "cell_type": "markdown",
   "id": "7ff94b61",
   "metadata": {},
   "source": [
    "# Quantum tunneling in superconductors"
   ]
  },
  {
   "cell_type": "markdown",
   "id": "fb353d02",
   "metadata": {},
   "source": [
    "Quantum tunneling in superconductors is a fascinating phenomenon that allows the flow of electrical current without any resistance. This effect arises due to the unique properties of superconducting materials, which can conduct electricity with zero electrical resistance at very low temperatures. \n",
    "\n",
    "When a superconductor is cooled to a temperature below its critical temperature, the electrons in the material form pairs known as Cooper pairs. These pairs behave like a single entity, which can move through the superconductor without encountering any resistance. However, in some cases, the Cooper pairs can tunnel through a potential barrier, allowing current to flow even when there is no direct path available.\n",
    "\n",
    "The probability of quantum tunneling in a superconductor can be described by the Bardeen-Cooper-Schrieffer (BCS) theory, which explains the behavior of superconducting materials. The BCS theory states that the probability of electron tunneling through a potential barrier is proportional to the square of the wave function of the Cooper pairs.\n",
    "\n",
    "The tunneling probability can be calculated using the Wentzel-Kramers-Brillouin (WKB) approximation, which provides a semi-classical approach to quantum mechanics. The WKB approximation states that the probability of tunneling through a barrier depends on the barrier height and width, as well as the energy of the tunneling particle.\n",
    "\n",
    "The tunneling probability is given by the following equation:\n",
    "\n",
    "P = exp(-2γ)\n",
    "\n",
    "where P is the tunneling probability, and γ is the tunneling exponent. The tunneling exponent is given by the equation:\n",
    "\n",
    "γ = ∫ a b sqrt(2m(V(x) - E)) / ħ dx\n",
    "\n",
    "where m is the electron mass, V(x) is the potential energy at position x, E is the energy of the Cooper pair, a and b are the limits of the barrier, and ħ is the reduced Planck constant.\n",
    "\n",
    "The tunneling current density in a superconductor can be described by the Josephson equation, which relates the phase difference across a Josephson junction to the voltage and current across the junction. The Josephson equation is given by:\n",
    "\n",
    "I = Ic sin(φ)\n",
    "\n",
    "where I is the current flowing through the junction, Ic is the critical current of the junction, and φ is the phase difference across the junction.\n",
    "\n",
    "In conclusion, quantum tunneling in superconductors is a complex phenomenon that is crucial for understanding the behavior of superconducting materials. The tunneling probability can be described by the BCS theory and calculated using the WKB approximation, while the tunneling current density can be described by the Josephson equation."
   ]
  },
  {
   "cell_type": "code",
   "execution_count": 8,
   "id": "da7a96c8",
   "metadata": {},
   "outputs": [
    {
     "name": "stderr",
     "output_type": "stream",
     "text": [
      "C:\\Users\\yashr\\AppData\\Local\\Temp\\ipykernel_8956\\1185856446.py:19: RuntimeWarning: invalid value encountered in sqrt\n",
      "  gamma += np.sqrt(2*m*(V(x) - E))/hbar*dx\n"
     ]
    },
    {
     "data": {
      "image/png": "[encoded data removed]",
      "text/plain": [
       "<Figure size 640x480 with 1 Axes>"
      ]
     },
     "metadata": {},
     "output_type": "display_data"
    }
   ],
   "source": [
    "import numpy as np\n",
    "import matplotlib.pyplot as plt\n",
    "\n",
    "# Define the potential barrier\n",
    "def V(x):\n",
    "    if x < 0:\n",
    "        return 0\n",
    "    elif x >= 0 and x <= 1:\n",
    "        return 10\n",
    "    else:\n",
    "        return 0\n",
    "\n",
    "# Define the tunneling probability using the WKB approximation\n",
    "def tunneling_probability(E, V, m, hbar, a, b):\n",
    "    gamma = 0\n",
    "    dx = 0.01\n",
    "    x = a\n",
    "    while x <= b:\n",
    "        gamma += np.sqrt(2*m*(V(x) - E))/hbar*dx\n",
    "        x += dx\n",
    "    return np.exp(-2*gamma)\n",
    "\n",
    "# Set up the parameters\n",
    "m = 9.10938356e-31   # electron mass (kg)\n",
    "hbar = 1.0545718e-34  # reduced Planck constant (J s)\n",
    "a = -1                # start of barrier\n",
    "b = 2                 # end of barrier\n",
    "E = np.linspace(0, 20, 1000)  # energy range\n",
    "T = np.zeros_like(E)          # tunneling probability\n",
    "\n",
    "# Calculate the tunneling probability for each energy\n",
    "for i in range(len(E)):\n",
    "    T[i] = tunneling_probability(E[i], V, m, hbar, a, b)\n",
    "\n",
    "# Plot the results\n",
    "plt.plot(E, T)\n",
    "plt.xlabel('Energy (eV)')\n",
    "plt.ylabel('Tunneling probability')\n",
    "plt.show()\n"
   ]
  },
  {
   "cell_type": "markdown",
   "id": "507bd35e",
   "metadata": {},
   "source": [
    "# Coherent tunneling and quantum interference"
   ]
  },
  {
   "cell_type": "markdown",
   "id": "99cfa133",
   "metadata": {},
   "source": [
    "Coherent tunneling and quantum interference are important quantum mechanical phenomena that arise when particles tunnel through a potential barrier. In coherent tunneling, the tunneling particles maintain their phase coherence, while in quantum interference, the wave nature of the particles leads to interference effects that can enhance or suppress tunneling.\n",
    "\n",
    "The probability of coherent tunneling through a barrier can be described by the stationary Schrödinger equation, which relates the wave function of the particles to the potential energy barrier. The wave function of the particles can be written as:\n",
    "\n",
    "ψ(x) = A1 exp(ikx) + A2 exp(-ikx)\n",
    "\n",
    "where A1 and A2 are the amplitudes of the waves, k is the wave vector, and x is the position of the particle.\n",
    "\n",
    "The probability of coherent tunneling is proportional to the square of the transmission coefficient, which can be calculated using the scattering matrix formalism. The transmission coefficient is given by:\n",
    "\n",
    "T(E) = |t(E)|^2\n",
    "\n",
    "where T(E) is the transmission coefficient at energy E, and t(E) is the scattering matrix element.\n",
    "\n",
    "Quantum interference can occur when particles tunnel through multiple potential barriers, leading to interference effects that can either enhance or suppress tunneling. The probability of quantum interference can be described using the Feynman path integral formulation, which considers all possible paths that the particles can take through the barrier.\n",
    "\n",
    "The probability amplitude for a particle to tunnel through a barrier can be written as:\n",
    "\n",
    "ψ(x) = ∫ exp(iS(x)/ħ) dx\n",
    "\n",
    "where S(x) is the action of the particle, which is given by:\n",
    "\n",
    "S(x) = ∫ [1/2m (dx/dt)^2 - V(x)] dt\n",
    "\n",
    "where m is the mass of the particle, dx/dt is the velocity of the particle, and V(x) is the potential energy at position x.\n",
    "\n",
    "The interference effects arise due to the phase differences between the different paths that the particles can take through the barrier. When the phases are in phase (constructive interference), the tunneling probability is enhanced, while when the phases are out of phase (destructive interference), the tunneling probability is suppressed.\n",
    "\n",
    "In conclusion, coherent tunneling and quantum interference are important phenomena in quantum mechanics that are crucial for understanding the behavior of particles that tunnel through a potential barrier. The probability of coherent tunneling can be described by the stationary Schrödinger equation and the scattering matrix formalism, while the probability of quantum interference can be described using the Feynman path integral formulation."
   ]
  },
  {
   "cell_type": "code",
   "execution_count": 9,
   "id": "d07bcc5a",
   "metadata": {},
   "outputs": [
    {
     "name": "stderr",
     "output_type": "stream",
     "text": [
      "C:\\Users\\yashr\\AppData\\Local\\Temp\\ipykernel_8956\\1621443080.py:13: RuntimeWarning: invalid value encountered in sqrt\n",
      "  k1 = np.sqrt(2*m*(E - V0))/hbar\n"
     ]
    },
    {
     "data": {
      "image/png": "[encoded data removed]",
      "text/plain": [
       "<Figure size 640x480 with 1 Axes>"
      ]
     },
     "metadata": {},
     "output_type": "display_data"
    }
   ],
   "source": [
    "import numpy as np\n",
    "import matplotlib.pyplot as plt\n",
    "\n",
    "# Define the potential barriers\n",
    "def V(x):\n",
    "    if x < -1 or x > 1:\n",
    "        return 0\n",
    "    else:\n",
    "        return 100\n",
    "\n",
    "# Define the wave function for a particle with energy E\n",
    "def wave_function(E, x):\n",
    "    k1 = np.sqrt(2*m*(E - V0))/hbar\n",
    "    k2 = np.sqrt(2*m*E)/hbar\n",
    "    A = (k2 - k1)/(k2 + k1)*np.exp(-1j*k1*x)\n",
    "    B = 2*k2/(k2 + k1)*np.exp(1j*k1*x)\n",
    "    C = (k2 - k1)/(k2 + k1)*np.exp(1j*k1*x)\n",
    "    D = 2*k1/(k2 + k1)*np.exp(-1j*k1*x)\n",
    "    return A*np.heaviside(x+a, 0.5)*(x+a) + B*np.heaviside(x+a, 0.5)*np.heaviside(b-x, 0.5)*(b-x) + C*np.heaviside(x-b, 0.5)*(x-b) + D*np.heaviside(x-b, 0.5)*np.heaviside(a+x, 0.5)*(a+x)\n",
    "\n",
    "# Set up the parameters\n",
    "m = 9.10938356e-31   # electron mass (kg)\n",
    "hbar = 1.0545718e-34  # reduced Planck constant (J s)\n",
    "a = -0.5              # start of barrier\n",
    "b = 0.5               # end of barrier\n",
    "V0 = 10               # height of barrier\n",
    "\n",
    "# Calculate the wave function for a range of energies\n",
    "E = np.linspace(0, V0, 1000)\n",
    "psi = np.zeros_like(E, dtype=np.complex128)\n",
    "for i in range(len(E)):\n",
    "    psi[i] = wave_function(E[i], 0)\n",
    "\n",
    "# Plot the results\n",
    "plt.plot(E, np.abs(psi)**2)\n",
    "plt.xlabel('Energy (eV)')\n",
    "plt.ylabel('Probability density')\n",
    "plt.show()\n"
   ]
  },
  {
   "cell_type": "markdown",
   "id": "af803d07",
   "metadata": {},
   "source": [
    "# Quantum tunneling in nanoscale systems"
   ]
  },
  {
   "cell_type": "markdown",
   "id": "49bde82d",
   "metadata": {},
   "source": [
    "Quantum tunneling in nanoscale systems is an important phenomenon that arises due to the wave-like behavior of particles at the atomic and subatomic scale. It is characterized by the probability of a particle to penetrate through an energy barrier that it would not be able to overcome classically.\n",
    "\n",
    "The probability of a particle tunneling through a potential barrier can be described by the transmission coefficient, which is given by:\n",
    "\n",
    "T(E) = 1 / [1 + (V^2*sinh^2(alpha))/(4*E*(V-E))]\n",
    "\n",
    "where E is the energy of the particle, V is the height of the potential barrier, and alpha is the tunneling distance, which is related to the width of the barrier.\n",
    "\n",
    "In nanoscale systems, quantum tunneling can occur in a variety of contexts, including:\n",
    "\n",
    "1. Scanning tunneling microscopy (STM): STM uses a sharp tip to scan over the surface of a sample and measure the tunneling current between the tip and the surface. By analyzing the current, it is possible to obtain information about the electronic structure and properties of the sample.\n",
    "\n",
    "2. Quantum dots: Quantum dots are tiny semiconductor structures that confine electrons in a small region of space. Due to the size confinement, quantum dots exhibit discrete energy levels, and quantum tunneling plays a crucial role in their behavior.\n",
    "\n",
    "3. Molecular electronics: In molecular electronics, molecules are used as the active components of electronic devices. The transport of electrons through these molecules is strongly influenced by quantum tunneling, which can be used to design and control the behavior of the devices.\n",
    "\n",
    "4. Quantum computing: Quantum computing is a type of computing that uses the principles of quantum mechanics to perform operations. Quantum tunneling plays a key role in quantum computing, as it allows quantum bits (qubits) to tunnel between different states, enabling the computation of complex problems.\n",
    "\n",
    "Overall, quantum tunneling in nanoscale systems is a fundamental aspect of quantum mechanics that has important implications for a wide range of fields, including materials science, electronics, and quantum computing."
   ]
  },
  {
   "cell_type": "code",
   "execution_count": 10,
   "id": "37a91bb1",
   "metadata": {},
   "outputs": [
    {
     "name": "stderr",
     "output_type": "stream",
     "text": [
      "C:\\Users\\yashr\\AppData\\Local\\Temp\\ipykernel_8956\\1064015277.py:16: RuntimeWarning: invalid value encountered in sqrt\n",
      "  k2 = np.sqrt(2*m*(E - V0))/hbar\n",
      "C:\\Users\\yashr\\AppData\\Local\\Temp\\ipykernel_8956\\1064015277.py:17: RuntimeWarning: overflow encountered in sinh\n",
      "  T = 1/(1 + ((V0**2)*(np.sinh(alpha*k2)/np.sinh(alpha*k1))**2)/(4*E*(V0 - E)))\n",
      "C:\\Users\\yashr\\AppData\\Local\\Temp\\ipykernel_8956\\1064015277.py:17: RuntimeWarning: invalid value encountered in double_scalars\n",
      "  T = 1/(1 + ((V0**2)*(np.sinh(alpha*k2)/np.sinh(alpha*k1))**2)/(4*E*(V0 - E)))\n"
     ]
    },
    {
     "data": {
      "image/png": "[encoded data removed]",
      "text/plain": [
       "<Figure size 640x480 with 1 Axes>"
      ]
     },
     "metadata": {},
     "output_type": "display_data"
    }
   ],
   "source": [
    "import numpy as np\n",
    "import matplotlib.pyplot as plt\n",
    "\n",
    "# Define the potential energy function\n",
    "def V(x):\n",
    "    if abs(x) > 0.5:\n",
    "        return 1e9\n",
    "    else:\n",
    "        return 0\n",
    "\n",
    "# Define the transmission coefficient function\n",
    "def transmission_coeff(E):\n",
    "    alpha = 1e-9  # tunneling distance (m)\n",
    "    V0 = 1        # barrier height (eV)\n",
    "    k1 = np.sqrt(2*m*E)/hbar\n",
    "    k2 = np.sqrt(2*m*(E - V0))/hbar\n",
    "    T = 1/(1 + ((V0**2)*(np.sinh(alpha*k2)/np.sinh(alpha*k1))**2)/(4*E*(V0 - E)))\n",
    "    return T\n",
    "\n",
    "# Set up the parameters\n",
    "m = 9.10938356e-31   # electron mass (kg)\n",
    "hbar = 1.0545718e-34  # reduced Planck constant (J s)\n",
    "L = 1e-9              # length of the potential well (m)\n",
    "\n",
    "# Calculate the transmission coefficient for a range of energies\n",
    "E = np.linspace(0, 1, 1000)\n",
    "T = np.zeros_like(E)\n",
    "for i in range(len(E)):\n",
    "    T[i] = transmission_coeff(E[i])\n",
    "\n",
    "# Plot the results\n",
    "plt.plot(E, T)\n",
    "plt.xlabel('Energy (eV)')\n",
    "plt.ylabel('Transmission coefficient')\n",
    "plt.show()\n"
   ]
  },
  {
   "cell_type": "markdown",
   "id": "e5c56c28",
   "metadata": {},
   "source": [
    "# Spin tunneling in magnetic systems"
   ]
  },
  {
   "cell_type": "markdown",
   "id": "8203125b",
   "metadata": {},
   "source": [
    "Spin tunneling in magnetic systems is a quantum mechanical phenomenon that arises due to the interaction between the spin of an electron and the magnetic field of a magnetic material. It is characterized by the probability of a spin to tunnel through an energy barrier that it would not be able to overcome classically.\n",
    "\n",
    "The probability of a spin tunneling through a magnetic barrier can be described by the spin-tunneling rate, which is given by:\n",
    "\n",
    "Gamma = Gamma0 * exp(-2*alpha*S)\n",
    "\n",
    "where Gamma0 is the pre-exponential factor, alpha is the anisotropy constant, S is the spin of the particle, and k is the Boltzmann constant.\n",
    "\n",
    "The anisotropy constant alpha is a measure of the strength of the magnetic anisotropy, which is the dependence of the magnetic energy on the orientation of the spin relative to the crystal lattice. In magnetic materials, the anisotropy constant can be positive or negative, depending on the crystal structure.\n",
    "\n",
    "Spin tunneling in magnetic systems can be observed in a variety of contexts, including:\n",
    "\n",
    "1. Magnetic molecules: Magnetic molecules are clusters of atoms with a net magnetic moment. Due to their small size, they can exhibit quantum effects such as spin tunneling.\n",
    "\n",
    "2. Magnetic tunnel junctions: Magnetic tunnel junctions are devices that consist of two ferromagnetic layers separated by a thin insulating layer. The tunneling current between the two layers is strongly dependent on the spin orientation of the electrons, which can be manipulated by an external magnetic field.\n",
    "\n",
    "3. Magnetic resonance imaging (MRI): MRI is a medical imaging technique that uses magnetic fields to produce images of the body. The technique relies on the spin-tunneling behavior of protons in water molecules, which can be manipulated by an external magnetic field.\n",
    "\n",
    "Overall, spin tunneling in magnetic systems is an important phenomenon that has important implications for materials science, electronics, and medical imaging."
   ]
  },
  {
   "cell_type": "code",
   "execution_count": 11,
   "id": "499ee4bf",
   "metadata": {},
   "outputs": [
    {
     "data": {
      "image/png": "[encoded data removed]",
      "text/plain": [
       "<Figure size 640x480 with 1 Axes>"
      ]
     },
     "metadata": {},
     "output_type": "display_data"
    }
   ],
   "source": [
    "import numpy as np\n",
    "import matplotlib.pyplot as plt\n",
    "\n",
    "# Define the spin-tunneling rate function\n",
    "def spin_tunneling_rate(S, alpha, T):\n",
    "    k = 1.380649e-23   # Boltzmann constant (J/K)\n",
    "    hbar = 1.0545718e-34  # reduced Planck constant (J s)\n",
    "    Gamma0 = 1e9       # pre-exponential factor\n",
    "    Gamma = Gamma0 * np.exp(-2*alpha*S/(k*T))\n",
    "    return Gamma\n",
    "\n",
    "# Set up the parameters\n",
    "S = 0.5   # spin of the particle\n",
    "alpha = 1e-21  # anisotropy constant (J)\n",
    "T = np.linspace(1, 300, 300)  # temperature range (K)\n",
    "\n",
    "# Calculate the spin-tunneling rate for the given temperature range\n",
    "Gamma = spin_tunneling_rate(S, alpha, T)\n",
    "\n",
    "# Plot the results\n",
    "plt.plot(T, Gamma)\n",
    "plt.xlabel('Temperature (K)')\n",
    "plt.ylabel('Spin-tunneling rate (s^-1)')\n",
    "plt.show()\n"
   ]
  },
  {
   "cell_type": "markdown",
   "id": "14091582",
   "metadata": {},
   "source": [
    "# Quantum tunneling in astrophysics and cosmology"
   ]
  },
  {
   "cell_type": "markdown",
   "id": "206c3d80",
   "metadata": {},
   "source": [
    "Quantum tunneling plays an important role in astrophysics and cosmology, where it is responsible for a variety of phenomena, including the decay of black holes, the formation of the early universe, and the quantum mechanical behavior of particles in extreme environments.\n",
    "\n",
    "One of the most important equations that describes quantum tunneling in astrophysics is the semiclassical WKB approximation, which relates the probability of a particle tunneling through a barrier to the classical action of the path that the particle takes:\n",
    "\n",
    "P = exp(-2S)\n",
    "\n",
    "where P is the probability of tunneling, S is the classical action of the path, and the factor of 2 accounts for both the incoming and outgoing paths.\n",
    "\n",
    "In the context of black hole decay, quantum tunneling is responsible for the emission of particles, including photons and other particles, from the black hole's event horizon. The probability of emission is related to the tunneling probability, with the semiclassical WKB approximation used to calculate the action of the outgoing particle.\n",
    "\n",
    "In cosmology, quantum tunneling plays a key role in the formation of the early universe, where the process of inflation is thought to have been driven by quantum tunneling. During inflation, the universe expanded rapidly due to the tunneling of a scalar field through a potential energy barrier, resulting in the exponential growth of the universe.\n",
    "\n",
    "Quantum tunneling is also important in the study of extreme environments, such as the behavior of particles in the vicinity of black holes or in the early universe. In these environments, the strong gravitational and electromagnetic fields can cause significant deviations from classical behavior, leading to quantum tunneling and other quantum mechanical effects.\n",
    "\n",
    "Overall, quantum tunneling plays a fundamental role in astrophysics and cosmology, and the semiclassical WKB approximation is a key equation for describing the probability of tunneling in these contexts."
   ]
  },
  {
   "cell_type": "code",
   "execution_count": 12,
   "id": "2d7a2585",
   "metadata": {},
   "outputs": [
    {
     "name": "stderr",
     "output_type": "stream",
     "text": [
      "C:\\Users\\yashr\\AppData\\Local\\Temp\\ipykernel_8956\\191045937.py:9: RuntimeWarning: divide by zero encountered in divide\n",
      "  u = np.sqrt(2*m*(E-V))/(hbar*x)\n"
     ]
    },
    {
     "ename": "ValueError",
     "evalue": "x and y must have same first dimension, but have shapes (1000,) and (1,)",
     "output_type": "error",
     "traceback": [
      "\u001b[1;31m---------------------------------------------------------------------------\u001b[0m",
      "\u001b[1;31mValueError\u001b[0m                                Traceback (most recent call last)",
      "Cell \u001b[1;32mIn[12], line 21\u001b[0m\n\u001b[0;32m     18\u001b[0m P \u001b[38;5;241m=\u001b[39m semiclassical_wkb(E, V, x)\n\u001b[0;32m     20\u001b[0m \u001b[38;5;66;03m# Plot the results\u001b[39;00m\n\u001b[1;32m---> 21\u001b[0m \u001b[43mplt\u001b[49m\u001b[38;5;241;43m.\u001b[39;49m\u001b[43mplot\u001b[49m\u001b[43m(\u001b[49m\u001b[43mV\u001b[49m\u001b[43m,\u001b[49m\u001b[43m \u001b[49m\u001b[43mP\u001b[49m\u001b[43m)\u001b[49m\n\u001b[0;32m     22\u001b[0m plt\u001b[38;5;241m.\u001b[39mxlabel(\u001b[38;5;124m'\u001b[39m\u001b[38;5;124mPotential barrier (J)\u001b[39m\u001b[38;5;124m'\u001b[39m)\n\u001b[0;32m     23\u001b[0m plt\u001b[38;5;241m.\u001b[39mylabel(\u001b[38;5;124m'\u001b[39m\u001b[38;5;124mProbability of tunneling\u001b[39m\u001b[38;5;124m'\u001b[39m)\n",
      "File \u001b[1;32m~\\Anaconda3\\lib\\site-packages\\matplotlib\\pyplot.py:2812\u001b[0m, in \u001b[0;36mplot\u001b[1;34m(scalex, scaley, data, *args, **kwargs)\u001b[0m\n\u001b[0;32m   2810\u001b[0m \u001b[38;5;129m@_copy_docstring_and_deprecators\u001b[39m(Axes\u001b[38;5;241m.\u001b[39mplot)\n\u001b[0;32m   2811\u001b[0m \u001b[38;5;28;01mdef\u001b[39;00m \u001b[38;5;21mplot\u001b[39m(\u001b[38;5;241m*\u001b[39margs, scalex\u001b[38;5;241m=\u001b[39m\u001b[38;5;28;01mTrue\u001b[39;00m, scaley\u001b[38;5;241m=\u001b[39m\u001b[38;5;28;01mTrue\u001b[39;00m, data\u001b[38;5;241m=\u001b[39m\u001b[38;5;28;01mNone\u001b[39;00m, \u001b[38;5;241m*\u001b[39m\u001b[38;5;241m*\u001b[39mkwargs):\n\u001b[1;32m-> 2812\u001b[0m     \u001b[38;5;28;01mreturn\u001b[39;00m \u001b[43mgca\u001b[49m\u001b[43m(\u001b[49m\u001b[43m)\u001b[49m\u001b[38;5;241;43m.\u001b[39;49m\u001b[43mplot\u001b[49m\u001b[43m(\u001b[49m\n\u001b[0;32m   2813\u001b[0m \u001b[43m        \u001b[49m\u001b[38;5;241;43m*\u001b[39;49m\u001b[43margs\u001b[49m\u001b[43m,\u001b[49m\u001b[43m \u001b[49m\u001b[43mscalex\u001b[49m\u001b[38;5;241;43m=\u001b[39;49m\u001b[43mscalex\u001b[49m\u001b[43m,\u001b[49m\u001b[43m \u001b[49m\u001b[43mscaley\u001b[49m\u001b[38;5;241;43m=\u001b[39;49m\u001b[43mscaley\u001b[49m\u001b[43m,\u001b[49m\n\u001b[0;32m   2814\u001b[0m \u001b[43m        \u001b[49m\u001b[38;5;241;43m*\u001b[39;49m\u001b[38;5;241;43m*\u001b[39;49m\u001b[43m(\u001b[49m\u001b[43m{\u001b[49m\u001b[38;5;124;43m\"\u001b[39;49m\u001b[38;5;124;43mdata\u001b[39;49m\u001b[38;5;124;43m\"\u001b[39;49m\u001b[43m:\u001b[49m\u001b[43m \u001b[49m\u001b[43mdata\u001b[49m\u001b[43m}\u001b[49m\u001b[43m \u001b[49m\u001b[38;5;28;43;01mif\u001b[39;49;00m\u001b[43m \u001b[49m\u001b[43mdata\u001b[49m\u001b[43m \u001b[49m\u001b[38;5;129;43;01mis\u001b[39;49;00m\u001b[43m \u001b[49m\u001b[38;5;129;43;01mnot\u001b[39;49;00m\u001b[43m \u001b[49m\u001b[38;5;28;43;01mNone\u001b[39;49;00m\u001b[43m \u001b[49m\u001b[38;5;28;43;01melse\u001b[39;49;00m\u001b[43m \u001b[49m\u001b[43m{\u001b[49m\u001b[43m}\u001b[49m\u001b[43m)\u001b[49m\u001b[43m,\u001b[49m\u001b[43m \u001b[49m\u001b[38;5;241;43m*\u001b[39;49m\u001b[38;5;241;43m*\u001b[39;49m\u001b[43mkwargs\u001b[49m\u001b[43m)\u001b[49m\n",
      "File \u001b[1;32m~\\Anaconda3\\lib\\site-packages\\matplotlib\\axes\\_axes.py:1688\u001b[0m, in \u001b[0;36mAxes.plot\u001b[1;34m(self, scalex, scaley, data, *args, **kwargs)\u001b[0m\n\u001b[0;32m   1445\u001b[0m \u001b[38;5;124;03m\"\"\"\u001b[39;00m\n\u001b[0;32m   1446\u001b[0m \u001b[38;5;124;03mPlot y versus x as lines and/or markers.\u001b[39;00m\n\u001b[0;32m   1447\u001b[0m \n\u001b[1;32m   (...)\u001b[0m\n\u001b[0;32m   1685\u001b[0m \u001b[38;5;124;03m(``'green'``) or hex strings (``'#008000'``).\u001b[39;00m\n\u001b[0;32m   1686\u001b[0m \u001b[38;5;124;03m\"\"\"\u001b[39;00m\n\u001b[0;32m   1687\u001b[0m kwargs \u001b[38;5;241m=\u001b[39m cbook\u001b[38;5;241m.\u001b[39mnormalize_kwargs(kwargs, mlines\u001b[38;5;241m.\u001b[39mLine2D)\n\u001b[1;32m-> 1688\u001b[0m lines \u001b[38;5;241m=\u001b[39m [\u001b[38;5;241m*\u001b[39m\u001b[38;5;28mself\u001b[39m\u001b[38;5;241m.\u001b[39m_get_lines(\u001b[38;5;241m*\u001b[39margs, data\u001b[38;5;241m=\u001b[39mdata, \u001b[38;5;241m*\u001b[39m\u001b[38;5;241m*\u001b[39mkwargs)]\n\u001b[0;32m   1689\u001b[0m \u001b[38;5;28;01mfor\u001b[39;00m line \u001b[38;5;129;01min\u001b[39;00m lines:\n\u001b[0;32m   1690\u001b[0m     \u001b[38;5;28mself\u001b[39m\u001b[38;5;241m.\u001b[39madd_line(line)\n",
      "File \u001b[1;32m~\\Anaconda3\\lib\\site-packages\\matplotlib\\axes\\_base.py:311\u001b[0m, in \u001b[0;36m_process_plot_var_args.__call__\u001b[1;34m(self, data, *args, **kwargs)\u001b[0m\n\u001b[0;32m    309\u001b[0m     this \u001b[38;5;241m+\u001b[39m\u001b[38;5;241m=\u001b[39m args[\u001b[38;5;241m0\u001b[39m],\n\u001b[0;32m    310\u001b[0m     args \u001b[38;5;241m=\u001b[39m args[\u001b[38;5;241m1\u001b[39m:]\n\u001b[1;32m--> 311\u001b[0m \u001b[38;5;28;01myield from\u001b[39;00m \u001b[38;5;28;43mself\u001b[39;49m\u001b[38;5;241;43m.\u001b[39;49m\u001b[43m_plot_args\u001b[49m\u001b[43m(\u001b[49m\n\u001b[0;32m    312\u001b[0m \u001b[43m    \u001b[49m\u001b[43mthis\u001b[49m\u001b[43m,\u001b[49m\u001b[43m \u001b[49m\u001b[43mkwargs\u001b[49m\u001b[43m,\u001b[49m\u001b[43m \u001b[49m\u001b[43mambiguous_fmt_datakey\u001b[49m\u001b[38;5;241;43m=\u001b[39;49m\u001b[43mambiguous_fmt_datakey\u001b[49m\u001b[43m)\u001b[49m\n",
      "File \u001b[1;32m~\\Anaconda3\\lib\\site-packages\\matplotlib\\axes\\_base.py:504\u001b[0m, in \u001b[0;36m_process_plot_var_args._plot_args\u001b[1;34m(self, tup, kwargs, return_kwargs, ambiguous_fmt_datakey)\u001b[0m\n\u001b[0;32m    501\u001b[0m     \u001b[38;5;28mself\u001b[39m\u001b[38;5;241m.\u001b[39maxes\u001b[38;5;241m.\u001b[39myaxis\u001b[38;5;241m.\u001b[39mupdate_units(y)\n\u001b[0;32m    503\u001b[0m \u001b[38;5;28;01mif\u001b[39;00m x\u001b[38;5;241m.\u001b[39mshape[\u001b[38;5;241m0\u001b[39m] \u001b[38;5;241m!=\u001b[39m y\u001b[38;5;241m.\u001b[39mshape[\u001b[38;5;241m0\u001b[39m]:\n\u001b[1;32m--> 504\u001b[0m     \u001b[38;5;28;01mraise\u001b[39;00m \u001b[38;5;167;01mValueError\u001b[39;00m(\u001b[38;5;124mf\u001b[39m\u001b[38;5;124m\"\u001b[39m\u001b[38;5;124mx and y must have same first dimension, but \u001b[39m\u001b[38;5;124m\"\u001b[39m\n\u001b[0;32m    505\u001b[0m                      \u001b[38;5;124mf\u001b[39m\u001b[38;5;124m\"\u001b[39m\u001b[38;5;124mhave shapes \u001b[39m\u001b[38;5;132;01m{\u001b[39;00mx\u001b[38;5;241m.\u001b[39mshape\u001b[38;5;132;01m}\u001b[39;00m\u001b[38;5;124m and \u001b[39m\u001b[38;5;132;01m{\u001b[39;00my\u001b[38;5;241m.\u001b[39mshape\u001b[38;5;132;01m}\u001b[39;00m\u001b[38;5;124m\"\u001b[39m)\n\u001b[0;32m    506\u001b[0m \u001b[38;5;28;01mif\u001b[39;00m x\u001b[38;5;241m.\u001b[39mndim \u001b[38;5;241m>\u001b[39m \u001b[38;5;241m2\u001b[39m \u001b[38;5;129;01mor\u001b[39;00m y\u001b[38;5;241m.\u001b[39mndim \u001b[38;5;241m>\u001b[39m \u001b[38;5;241m2\u001b[39m:\n\u001b[0;32m    507\u001b[0m     \u001b[38;5;28;01mraise\u001b[39;00m \u001b[38;5;167;01mValueError\u001b[39;00m(\u001b[38;5;124mf\u001b[39m\u001b[38;5;124m\"\u001b[39m\u001b[38;5;124mx and y can be no greater than 2D, but have \u001b[39m\u001b[38;5;124m\"\u001b[39m\n\u001b[0;32m    508\u001b[0m                      \u001b[38;5;124mf\u001b[39m\u001b[38;5;124m\"\u001b[39m\u001b[38;5;124mshapes \u001b[39m\u001b[38;5;132;01m{\u001b[39;00mx\u001b[38;5;241m.\u001b[39mshape\u001b[38;5;132;01m}\u001b[39;00m\u001b[38;5;124m and \u001b[39m\u001b[38;5;132;01m{\u001b[39;00my\u001b[38;5;241m.\u001b[39mshape\u001b[38;5;132;01m}\u001b[39;00m\u001b[38;5;124m\"\u001b[39m)\n",
      "\u001b[1;31mValueError\u001b[0m: x and y must have same first dimension, but have shapes (1000,) and (1,)"
     ]
    },
    {
     "data": {
      "image/png": "[encoded data removed]",
      "text/plain": [
       "<Figure size 640x480 with 1 Axes>"
      ]
     },
     "metadata": {},
     "output_type": "display_data"
    }
   ],
   "source": [
    "import numpy as np\n",
    "import matplotlib.pyplot as plt\n",
    "\n",
    "# Define the semiclassical WKB approximation function\n",
    "def semiclassical_wkb(E, V, x):\n",
    "    hbar = 1.0545718e-34  # reduced Planck constant (J s)\n",
    "    k = 1.380649e-23   # Boltzmann constant (J/K)\n",
    "    m = 9.10938356e-31  # mass of electron (kg)\n",
    "    u = np.sqrt(2*m*(E-V))/(hbar*x)\n",
    "    return np.exp(-2*np.trapz(u, x))\n",
    "\n",
    "# Set up the parameters\n",
    "E = 1e-16   # energy of the emitted particle (J)\n",
    "V = np.linspace(0, 1e-16, 1000)  # potential barrier (J)\n",
    "x = np.linspace(0, 1e-16, 1000)  # position range (m)\n",
    "\n",
    "# Calculate the probability of tunneling for the given potential barrier\n",
    "P = semiclassical_wkb(E, V, x)\n",
    "\n",
    "# Plot the results\n",
    "plt.plot(V, P)\n",
    "plt.xlabel('Potential barrier (J)')\n",
    "plt.ylabel('Probability of tunneling')\n",
    "plt.show()\n"
   ]
  },
  {
   "cell_type": "markdown",
   "id": "1420bf62",
   "metadata": {},
   "source": [
    "# Quantum tunneling in optical systems"
   ]
  },
  {
   "cell_type": "markdown",
   "id": "e12d4dbb",
   "metadata": {},
   "source": [
    "Quantum tunneling in optical systems is an important phenomenon that occurs when light passes through a barrier with a thickness that is much smaller than the wavelength of the light. This effect is known as optical tunneling or tunneling of light, and is related to the wave nature of light.\n",
    "\n",
    "The probability of tunneling in an optical system is described by the Airy function, which is given by:\n",
    "\n",
    "T = |(4n1n2)/(n1+n2)^2 * Ai^2((2n1n2)^1/3 * d)|^2\n",
    "\n",
    "where T is the probability of tunneling, n1 and n2 are the refractive indices of the two media that the light is passing through, d is the thickness of the barrier, and Ai is the Airy function.\n",
    "\n",
    "In this equation, the term (4n1n2)/(n1+n2)^2 represents the Fresnel reflection coefficient, which describes the amount of light that is reflected at the interface between the two media. The Airy function describes the probability of tunneling through the barrier, and is dependent on the thickness of the barrier and the refractive indices of the two media.\n",
    "\n",
    "The Airy function has a maximum value at a specific thickness of the barrier, known as the critical thickness, which is given by:\n",
    "\n",
    "d_crit = (2n1n2)^1/3 * λ/π\n",
    "\n",
    "where λ is the wavelength of the light.\n",
    "\n",
    "In addition to tunneling through a single barrier, light can also undergo multiple reflections and tunneling events in a series of barriers, known as a photonic superlattice. In this case, the probability of tunneling is described by the transfer matrix method, which relates the input and output amplitudes of the light.\n",
    "\n",
    "Overall, quantum tunneling in optical systems is an important phenomenon that is described by the Airy function and the transfer matrix method, and plays a key role in the behavior of light in a variety of applications, including optical communications, imaging, and sensing."
   ]
  },
  {
   "cell_type": "code",
   "execution_count": 13,
   "id": "487b0280",
   "metadata": {},
   "outputs": [
    {
     "data": {
      "image/png": "[encoded data removed]",
      "text/plain": [
       "<Figure size 640x480 with 1 Axes>"
      ]
     },
     "metadata": {},
     "output_type": "display_data"
    }
   ],
   "source": [
    "import numpy as np\n",
    "import matplotlib.pyplot as plt\n",
    "from scipy.special import airy\n",
    "\n",
    "# Define the Airy function for tunneling through an optical barrier\n",
    "def airy_tunneling(n1, n2, d, lmbda):\n",
    "    k = 2*np.pi/lmbda  # wavenumber\n",
    "    a = ((2*n1*n2)**(1/3))*d*k/np.pi\n",
    "    b = ((4*n1*n2)/(n1+n2)**2)*np.abs(airy(a)[0])**2\n",
    "    return b\n",
    "\n",
    "# Set up the parameters for the simulation\n",
    "n1 = 1  # refractive index of medium 1\n",
    "n2 = 1.5  # refractive index of medium 2\n",
    "d = 500e-9  # thickness of the barrier (m)\n",
    "lmbda = np.linspace(400e-9, 800e-9, 1000)  # range of wavelengths (m)\n",
    "\n",
    "# Calculate the probability of tunneling for each wavelength\n",
    "P = airy_tunneling(n1, n2, d, lmbda)\n",
    "\n",
    "# Plot the results\n",
    "plt.plot(lmbda*1e9, P)\n",
    "plt.xlabel('Wavelength (nm)')\n",
    "plt.ylabel('Probability of tunneling')\n",
    "plt.show()\n"
   ]
  },
  {
   "cell_type": "code",
   "execution_count": null,
   "id": "5910efff",
   "metadata": {},
   "outputs": [],
   "source": []
  }
 ],
 "metadata": {
  "kernelspec": {
   "display_name": "Python 3 (ipykernel)",
   "language": "python",
   "name": "python3"
  },
  "language_info": {
   "codemirror_mode": {
    "name": "ipython",
    "version": 3
   },
   "file_extension": ".py",
   "mimetype": "text/x-python",
   "name": "python",
   "nbconvert_exporter": "python",
   "pygments_lexer": "ipython3",
   "version": "3.8.16"
  }
 },
 "nbformat": 4,
 "nbformat_minor": 5
}
