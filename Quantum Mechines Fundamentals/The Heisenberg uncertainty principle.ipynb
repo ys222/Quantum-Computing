{
 "cells": [
  {
   "cell_type": "markdown",
   "id": "42c71a35",
   "metadata": {},
   "source": [
    "# The Heisenberg uncertainty principle"
   ]
  },
  {
   "cell_type": "markdown",
   "id": "8598e607",
   "metadata": {},
   "source": [
    "The Heisenberg uncertainty principle is a fundamental principle in quantum mechanics, discovered by Werner Heisenberg in 1927. It states that there is a fundamental limit to the precision with which certain pairs of physical properties of a particle can be simultaneously known.\n",
    "\n",
    "Mathematically, the Heisenberg uncertainty principle is expressed in terms of the uncertainties or standard deviations of two observables, typically position (x) and momentum (p), or energy (E) and time (t). The uncertainty principle is commonly written as:\n",
    "\n",
    "Δx * Δp ≥ ħ/2\n",
    "\n",
    "ΔE * Δt ≥ ħ/2\n",
    "\n",
    "Where:\n",
    "- Δx represents the uncertainty in the measurement of position.\n",
    "- Δp represents the uncertainty in the measurement of momentum.\n",
    "- ΔE represents the uncertainty in the measurement of energy.\n",
    "- Δt represents the uncertainty in the measurement of time.\n",
    "- ħ is the reduced Planck's constant, approximately equal to 1.05457 × 10^(-34) J·s.\n",
    "\n",
    "The product of the uncertainties of two complementary variables, such as position and momentum, or energy and time, must be greater than or equal to half of the reduced Planck's constant. This implies that the more precisely one observable is measured, the less precisely the conjugate observable can be known.\n",
    "\n",
    "It is important to note that the uncertainty principle does not imply that the measurements are inaccurate or that the particles have definite values that are simply unknown. Instead, it indicates a fundamental limit to the simultaneous knowledge of certain pairs of observables.\n",
    "\n",
    "The Heisenberg uncertainty principle has profound implications for the nature of quantum mechanics and is a fundamental aspect of the wave-particle duality. It implies that at the quantum level, particles do not possess well-defined positions and momenta simultaneously, but rather exist in a superposition of states until observed or measured. The uncertainty principle also places limits on the precision with which certain experiments can be performed and has implications for fields such as quantum computing and quantum information theory.\n",
    "\n",
    "It is worth noting that the uncertainty principle is not restricted to position and momentum or energy and time. It applies to any pair of observables that do not commute in quantum mechanics. However, position and momentum, as well as energy and time, are the most commonly discussed pairs when referring to the Heisenberg uncertainty principle."
   ]
  },
  {
   "cell_type": "code",
   "execution_count": 1,
   "id": "1a689b85",
   "metadata": {},
   "outputs": [
    {
     "name": "stdout",
     "output_type": "stream",
     "text": [
      "For delta_x = 0.01, delta_p = 1e-25:\n",
      "Uncertainty relation holds: True\n",
      "\n",
      "For delta_x = 0.05, delta_p = 1e-24:\n",
      "Uncertainty relation holds: True\n",
      "\n",
      "For delta_x = 0.1, delta_p = 1e-23:\n",
      "Uncertainty relation holds: True\n",
      "\n"
     ]
    }
   ],
   "source": [
    "import numpy as np\n",
    "\n",
    "def heisenberg_uncertainty(delta_x, delta_p):\n",
    "    h_bar = 1.05457e-34  # Planck's constant divided by 2*pi\n",
    "    \n",
    "    delta_x = np.asarray(delta_x)\n",
    "    delta_p = np.asarray(delta_p)\n",
    "    \n",
    "    uncertainty_relation = h_bar / 2.0\n",
    "    \n",
    "    uncertainty_product = np.multiply(delta_x, delta_p)\n",
    "    \n",
    "    return uncertainty_product >= uncertainty_relation\n",
    "\n",
    "# Example usage\n",
    "delta_x = [0.01, 0.05, 0.1]  # Uncertainty in position (delta_x)\n",
    "delta_p = [1e-25, 1e-24, 1e-23]  # Uncertainty in momentum (delta_p)\n",
    "\n",
    "uncertainty_result = heisenberg_uncertainty(delta_x, delta_p)\n",
    "\n",
    "for i, result in enumerate(uncertainty_result):\n",
    "    print(f\"For delta_x = {delta_x[i]}, delta_p = {delta_p[i]}:\")\n",
    "    print(f\"Uncertainty relation holds: {result}\")\n",
    "    print()\n"
   ]
  },
  {
   "cell_type": "markdown",
   "id": "35067bdc",
   "metadata": {},
   "source": [
    "# Lists of all the topics in The Heisenberg uncertainty principle"
   ]
  },
  {
   "cell_type": "markdown",
   "id": "90dcd916",
   "metadata": {},
   "source": [
    "The Heisenberg uncertainty principle is a broad and complex topic within the field of quantum mechanics. Here is a list of some key topics related to the Heisenberg uncertainty principle:\n",
    "\n",
    "1. Introduction to the Heisenberg uncertainty principle\n",
    "2. Historical background and development of the uncertainty principle\n",
    "3. Mathematical formulation of the uncertainty principle\n",
    "4. Position and momentum uncertainty relation\n",
    "5. Energy and time uncertainty relation\n",
    "6. Derivation of the uncertainty principle using commutation relations\n",
    "7. Heisenberg's thought experiment: Gamma-ray microscope\n",
    "8. Wave-particle duality and its relation to the uncertainty principle\n",
    "9. Interpretations and implications of the uncertainty principle\n",
    "10. Uncertainty principle and quantum measurements\n",
    "11. Applications of the uncertainty principle in quantum mechanics\n",
    "12. Experimental verifications of the uncertainty principle\n",
    "13. Uncertainty principle and quantum computing\n",
    "14. Heisenberg's microscope and the limits of observation\n",
    "15. Generalizations and extensions of the uncertainty principle\n",
    "16. Mathematical formalism and operators in quantum mechanics\n",
    "17. Quantum states and superposition in relation to the uncertainty principle\n",
    "18. Uncertainty principle and its impact on the understanding of physical reality\n",
    "19. The role of the uncertainty principle in quantum field theory\n",
    "20. Uncertainty principle in other branches of physics and related fields\n",
    "\n",
    "Please note that this list is not exhaustive, and each topic within the uncertainty principle can be further explored in detail, leading to more specialized subtopics and areas of research."
   ]
  },
  {
   "cell_type": "markdown",
   "id": "bb35934c",
   "metadata": {},
   "source": [
    "# Introduction to the Heisenberg uncertainty principle"
   ]
  },
  {
   "cell_type": "markdown",
   "id": "994e2f8d",
   "metadata": {},
   "source": [
    "The Heisenberg uncertainty principle is one of the fundamental principles in quantum mechanics, named after the German physicist Werner Heisenberg. It states that there is a limit to the precision with which certain pairs of physical properties of a particle, such as position and momentum, can be known simultaneously. In other words, it is impossible to measure both the position and momentum of a particle with absolute certainty at the same time.\n",
    "\n",
    "The uncertainty principle arises from the wave-particle duality of quantum mechanics. According to this principle, particles such as electrons and photons exhibit both wave-like and particle-like behavior. The position of a particle is described by a wave function, which represents the probability of finding the particle at different locations. The momentum of the particle is related to the wavelength of the wave associated with it.\n",
    "\n",
    "Mathematically, the Heisenberg uncertainty principle is expressed as an inequality:\n",
    "\n",
    "Δx * Δp ≥ h/4π\n",
    "\n",
    "where Δx represents the uncertainty in the measurement of the particle's position, Δp represents the uncertainty in the measurement of its momentum, and h is the Planck constant (a fundamental constant in quantum mechanics).\n",
    "\n",
    "This principle implies that the more precisely we try to measure the position of a particle, the less precisely we can know its momentum, and vice versa. In other words, there is always a trade-off between the precision of position and momentum measurements. The uncertainty principle places a fundamental limit on the accuracy of simultaneous measurements of these complementary properties.\n",
    "\n",
    "The Heisenberg uncertainty principle has profound implications for the behavior of quantum systems. It implies that at the microscopic level, particles do not have well-defined properties until they are measured. The uncertainty principle also underlies the concept of quantum fluctuations, where the inherent uncertainty in a particle's position and momentum gives rise to fluctuations in its energy.\n",
    "\n",
    "It is important to note that the Heisenberg uncertainty principle does not imply that the act of measurement itself disturbs the system being observed. Instead, it reflects an inherent limitation in our ability to simultaneously know certain pairs of properties with arbitrary precision.\n",
    "\n",
    "Overall, the Heisenberg uncertainty principle is a fundamental principle in quantum mechanics that places limits on the precision with which certain properties of particles can be known. It highlights the probabilistic nature of the quantum world and has far-reaching consequences for our understanding of the behavior of matter and energy at the microscopic level."
   ]
  },
  {
   "cell_type": "markdown",
   "id": "fee8c7d7",
   "metadata": {},
   "source": [
    "# Historical background and development of the uncertainty principle"
   ]
  },
  {
   "cell_type": "markdown",
   "id": "5fc1def5",
   "metadata": {},
   "source": [
    "The historical background and development of the uncertainty principle can be traced back to the early 20th century when physicists were grappling with the perplexing behavior of particles at the microscopic level. The key figures in the development of the uncertainty principle are Werner Heisenberg, Max Born, and Niels Bohr.\n",
    "\n",
    "In 1923, French physicist Louis de Broglie proposed that particles, such as electrons, could exhibit both wave-like and particle-like behavior. He suggested that just as light behaves as both particles (photons) and waves, particles could also possess wave properties. This idea, known as wave-particle duality, laid the foundation for the formulation of quantum mechanics.\n",
    "\n",
    "In 1925, Werner Heisenberg, a German physicist, introduced his matrix mechanics, a mathematical framework for describing quantum phenomena. Heisenberg's matrix mechanics was a precursor to the more widely known wave mechanics formulated by Erwin Schrödinger around the same time. Heisenberg's approach focused on the use of matrices and mathematical operations to describe the behavior of particles.\n",
    "\n",
    "Heisenberg's breakthrough came in 1927 when he formulated what is now known as the uncertainty principle. While working on developing a precise mathematical description of atomic spectra, he realized that there was an inherent limit to the precision with which certain pairs of physical properties of particles could be measured simultaneously.\n",
    "\n",
    "Heisenberg's uncertainty principle was first presented in his landmark paper titled \"Über den anschaulichen Inhalt der quantentheoretischen Kinematik und Mechanik\" (On the Perceptual Content of Quantum Theoretical Kinematics and Mechanics) published in 1927. In this paper, he stated that it was impossible to simultaneously measure the position and momentum of a particle with arbitrary precision. He derived a mathematical expression that described the trade-off between the uncertainties in these properties, now known as the Heisenberg uncertainty principle.\n",
    "\n",
    "Around the same time, Max Born, a German physicist, and his student Pascual Jordan independently formulated the uncertainty principle using a different approach. They derived the principle from the mathematical operations involved in calculating observables in quantum mechanics.\n",
    "\n",
    "The uncertainty principle gained further recognition and interpretation through the efforts of Niels Bohr, a Danish physicist and one of the pioneers of quantum mechanics. Bohr, along with other physicists, developed the Copenhagen interpretation of quantum mechanics, which provided a framework for understanding the behavior of particles in terms of wave functions and probabilities.\n",
    "\n",
    "The uncertainty principle became an integral part of quantum mechanics and had a profound impact on the field. It challenged the classical notion of determinism, which assumed that the properties of particles could be precisely known. Instead, it introduced the concept of fundamental uncertainties and probabilistic nature at the microscopic level.\n",
    "\n",
    "Over the years, the uncertainty principle has been extensively studied and confirmed through various experiments and theoretical developments. It is now recognized as a fundamental principle in quantum mechanics, shaping our understanding of the behavior of particles and the limits of measurement precision at the quantum level."
   ]
  },
  {
   "cell_type": "markdown",
   "id": "95dc74d9",
   "metadata": {},
   "source": [
    "# Mathematical formulation of the uncertainty principle"
   ]
  },
  {
   "cell_type": "markdown",
   "id": "b7ce9198",
   "metadata": {},
   "source": [
    "The mathematical formulation of the uncertainty principle involves the use of mathematical operators and their associated uncertainties. The most common form of the uncertainty principle relates the uncertainties in the measurements of position (Δx) and momentum (Δp) of a particle. It can be expressed mathematically as:\n",
    "\n",
    "Δx * Δp ≥ h/4π\n",
    "\n",
    "where Δx represents the uncertainty in the measurement of the particle's position, Δp represents the uncertainty in the measurement of its momentum, and h is the Planck constant.\n",
    "\n",
    "It's important to note that the uncertainties Δx and Δp represent the standard deviations or the root mean square deviations of the position and momentum measurements, respectively. They quantify the spread or range of possible values for these properties.\n",
    "\n",
    "The above formulation of the uncertainty principle can also be written in terms of the uncertainties in energy (ΔE) and time (Δt) as:\n",
    "\n",
    "ΔE * Δt ≥ h/4π\n",
    "\n",
    "This form of the uncertainty principle relates the uncertainties in energy and time measurements.\n",
    "\n",
    "It's worth mentioning that the uncertainty principle is not limited to position and momentum or energy and time. It can be generalized to other pairs of observables as well. For example, the uncertainty principle can be formulated for the uncertainties in the measurements of two different observables, such as angular momentum and angular position.\n",
    "\n",
    "In general, for two observables A and B, the uncertainty principle is given by:\n",
    "\n",
    "ΔA * ΔB ≥ h/4π\n",
    "\n",
    "This form of the uncertainty principle states that the product of the uncertainties in the measurements of two observables is bounded by a minimum value determined by the Planck constant.\n",
    "\n",
    "The mathematical formulation of the uncertainty principle highlights the inherent limitations in simultaneously measuring certain pairs of physical properties of particles. It underscores the probabilistic nature of quantum mechanics and the trade-off between the precision of measurements for different observables."
   ]
  },
  {
   "cell_type": "code",
   "execution_count": 2,
   "id": "317f56a6",
   "metadata": {},
   "outputs": [
    {
     "name": "stdout",
     "output_type": "stream",
     "text": [
      "Uncertainty Principle holds: True\n"
     ]
    }
   ],
   "source": [
    "import math\n",
    "\n",
    "def uncertainty_principle(delta_x, delta_p):\n",
    "    h = 6.62607015e-34  # Planck constant (in J*s)\n",
    "    return delta_x * delta_p >= h / (4 * math.pi)\n",
    "\n",
    "# Example usage\n",
    "delta_x = 1e-9  # Uncertainty in position (in meters)\n",
    "delta_p = 1e-25  # Uncertainty in momentum (in kg*m/s)\n",
    "result = uncertainty_principle(delta_x, delta_p)\n",
    "print(\"Uncertainty Principle holds:\", result)\n"
   ]
  },
  {
   "cell_type": "markdown",
   "id": "073a469a",
   "metadata": {},
   "source": [
    "# Position and momentum uncertainty relation"
   ]
  },
  {
   "cell_type": "markdown",
   "id": "af6714a3",
   "metadata": {},
   "source": [
    "The position and momentum uncertainty relation, which is a specific form of the Heisenberg uncertainty principle, can be mathematically expressed using the standard deviation of position (Δx) and momentum (Δp) as follows:\n",
    "\n",
    "Δx * Δp ≥ ħ/2\n",
    "\n",
    "where Δx represents the standard deviation of position measurements, Δp represents the standard deviation of momentum measurements, and ħ (pronounced \"h-bar\") is the reduced Planck constant, given by ħ = h / (2π), with h being the Planck constant.\n",
    "\n",
    "To provide a more detailed explanation, let's break down the equations involved:\n",
    "\n",
    "1. The uncertainty relation for position and momentum:\n",
    "   Δx * Δp ≥ ħ/2\n",
    "\n",
    "   This equation states that the product of the standard deviations of position (Δx) and momentum (Δp) must be greater than or equal to the reduced Planck constant divided by 2.\n",
    "\n",
    "2. Standard deviation (Δ) in position and momentum:\n",
    "   The standard deviation (Δ) quantifies the spread or uncertainty in a measurement. It is calculated using statistical methods.\n",
    "\n",
    "   - Standard deviation in position (Δx):\n",
    "     Δx = sqrt(<x^2> - <x>^2)\n",
    "\n",
    "     Here, <x^2> represents the expectation value of x squared (x^2) and <x> represents the expectation value of x.\n",
    "\n",
    "   - Standard deviation in momentum (Δp):\n",
    "     Δp = sqrt(<p^2> - <p>^2)\n",
    "\n",
    "     Similarly, <p^2> represents the expectation value of p squared (p^2) and <p> represents the expectation value of p.\n",
    "\n",
    "3. Expectation values:\n",
    "   In quantum mechanics, expectation values represent the average values of observables in a quantum state. They are calculated using the wave function (ψ) of the system.\n",
    "\n",
    "   - Expectation value of position (<x>):\n",
    "     <x> = ∫ ψ* x ψ dx\n",
    "\n",
    "     Here, ψ* represents the complex conjugate of the wave function, x represents the position operator, and the integral is taken over all possible values of x.\n",
    "\n",
    "   - Expectation value of momentum (<p>):\n",
    "     <p> = ∫ ψ* p ψ dx\n",
    "\n",
    "     Similarly, p represents the momentum operator.\n",
    "\n",
    "4. Momentum and position operators:\n",
    "   In quantum mechanics, position and momentum are represented by operators.\n",
    "\n",
    "   - Position operator (x):\n",
    "     In one dimension: x\n",
    "\n",
    "   - Momentum operator (p):\n",
    "     In one dimension: (-iħ) * d/dx\n",
    "\n",
    "     Here, i represents the imaginary unit and d/dx is the derivative with respect to x.\n",
    "\n",
    "By combining these equations and calculations, we can determine the relationship between the uncertainties in position and momentum measurements. The position and momentum uncertainty relation emphasizes that it is impossible to precisely know both the position and momentum of a particle simultaneously beyond a certain limit imposed by quantum mechanics."
   ]
  },
  {
   "cell_type": "code",
   "execution_count": 3,
   "id": "d6195244",
   "metadata": {},
   "outputs": [
    {
     "name": "stdout",
     "output_type": "stream",
     "text": [
      "Position Standard Deviation: 5.308603365864483\n",
      "Momentum Standard Deviation: 3.099213609409421e-32j\n",
      "Uncertainty Relation (ħ/2): 5.2728591e-35\n",
      "Position * Momentum: 1.6452495798443868e-31j\n",
      "Satisfies Uncertainty Relation: False\n"
     ]
    }
   ],
   "source": [
    "import numpy as np\n",
    "\n",
    "def calculate_standard_deviation(x, prob_density):\n",
    "    expectation_x = np.sum(x * prob_density)\n",
    "    expectation_x_squared = np.sum(x**2 * prob_density)\n",
    "    variance_x = expectation_x_squared - expectation_x**2\n",
    "    standard_deviation_x = np.sqrt(variance_x)\n",
    "    return standard_deviation_x\n",
    "\n",
    "def calculate_momentum_operator(psi, dx):\n",
    "    h_bar = 1.05457182e-34  # Reduced Planck constant (in J*s)\n",
    "    psi_conj = np.conjugate(psi)\n",
    "    derivative_psi = np.gradient(psi, dx)\n",
    "    momentum_operator = -1j * h_bar * derivative_psi / dx\n",
    "    expectation_p = np.sum(psi_conj * momentum_operator)\n",
    "    expectation_p_squared = np.sum(psi_conj * momentum_operator**2)\n",
    "    variance_p = expectation_p_squared - expectation_p**2\n",
    "    standard_deviation_p = np.sqrt(variance_p)\n",
    "    return standard_deviation_p\n",
    "\n",
    "# Example usage\n",
    "x = np.linspace(-5, 5, 1000)  # Position range\n",
    "dx = x[1] - x[0]  # Position step size\n",
    "psi = np.exp(-x**2 / 2) / np.sqrt(np.pi)  # Example wave function (Gaussian wave packet)\n",
    "prob_density = np.abs(psi)**2  # Probability density\n",
    "\n",
    "standard_deviation_x = calculate_standard_deviation(x, prob_density)\n",
    "standard_deviation_p = calculate_momentum_operator(psi, dx)\n",
    "\n",
    "print(\"Position Standard Deviation:\", standard_deviation_x)\n",
    "print(\"Momentum Standard Deviation:\", standard_deviation_p)\n",
    "\n",
    "# Check uncertainty relation\n",
    "h_bar = 1.05457182e-34  # Reduced Planck constant (in J*s)\n",
    "uncertainty_relation = standard_deviation_x * standard_deviation_p\n",
    "print(\"Uncertainty Relation (ħ/2):\", h_bar / 2)\n",
    "print(\"Position * Momentum:\", uncertainty_relation)\n",
    "print(\"Satisfies Uncertainty Relation:\", uncertainty_relation >= h_bar / 2)\n"
   ]
  },
  {
   "cell_type": "markdown",
   "id": "76d9a7ee",
   "metadata": {},
   "source": [
    "# Energy and time uncertainty relation"
   ]
  },
  {
   "cell_type": "markdown",
   "id": "f310a873",
   "metadata": {},
   "source": [
    "The energy and time uncertainty relation, another form of the Heisenberg uncertainty principle, can be mathematically expressed using the standard deviation of energy (ΔE) and time (Δt) as follows:\n",
    "\n",
    "ΔE * Δt ≥ ħ/2\n",
    "\n",
    "where ΔE represents the standard deviation of energy measurements, Δt represents the standard deviation of time measurements, and ħ (pronounced \"h-bar\") is the reduced Planck constant, given by ħ = h / (2π), with h being the Planck constant.\n",
    "\n",
    "To delve deeper into the equations involved, let's break it down:\n",
    "\n",
    "1. The uncertainty relation for energy and time:\n",
    "   ΔE * Δt ≥ ħ/2\n",
    "\n",
    "   This equation states that the product of the standard deviations of energy (ΔE) and time (Δt) must be greater than or equal to the reduced Planck constant divided by 2.\n",
    "\n",
    "2. Standard deviation (Δ) in energy and time:\n",
    "   The standard deviation (Δ) represents the spread or uncertainty in a measurement. It is calculated using statistical methods.\n",
    "\n",
    "   - Standard deviation in energy (ΔE):\n",
    "     ΔE = sqrt(<E^2> - <E>^2)\n",
    "\n",
    "     Here, <E^2> represents the expectation value of E squared (E^2) and <E> represents the expectation value of E.\n",
    "\n",
    "   - Standard deviation in time (Δt):\n",
    "     Δt = sqrt(<t^2> - <t>^2)\n",
    "\n",
    "     Similarly, <t^2> represents the expectation value of t squared (t^2) and <t> represents the expectation value of t.\n",
    "\n",
    "3. Expectation values:\n",
    "   In quantum mechanics, expectation values represent the average values of observables in a quantum state. They are calculated using the wave function (ψ) of the system.\n",
    "\n",
    "   - Expectation value of energy (<E>):\n",
    "     <E> = ∫ ψ* E ψ dt\n",
    "\n",
    "     Here, ψ* represents the complex conjugate of the wave function, E represents the energy operator, and the integral is taken over all possible values of t.\n",
    "\n",
    "   - Expectation value of time (<t>):\n",
    "     <t> = ∫ ψ* t ψ dt\n",
    "\n",
    "     Similarly, t represents the time operator.\n",
    "\n",
    "4. Energy and time operators:\n",
    "   In quantum mechanics, energy and time are represented by operators.\n",
    "\n",
    "   - Energy operator (E):\n",
    "     In the time-independent Schrödinger equation, E represents the total energy of the system.\n",
    "\n",
    "   - Time operator (t):\n",
    "     Time is typically treated as a parameter in quantum mechanics, rather than a dynamical observable with its own operator.\n",
    "\n",
    "By combining these equations and calculations, we can determine the relationship between the uncertainties in energy and time measurements. The energy and time uncertainty relation emphasizes that it is impossible to precisely know both the energy and time of a system simultaneously beyond a certain limit imposed by quantum mechanics."
   ]
  },
  {
   "cell_type": "code",
   "execution_count": 4,
   "id": "79937d2a",
   "metadata": {},
   "outputs": [
    {
     "name": "stdout",
     "output_type": "stream",
     "text": [
      "Energy Standard Deviation: nan\n",
      "Time Standard Deviation: (1.6607352113706333e-31+0j)\n",
      "Uncertainty Relation (ħ/2): 5.2728591e-35\n",
      "Energy * Time: (nan+nanj)\n",
      "Satisfies Uncertainty Relation: False\n"
     ]
    },
    {
     "name": "stderr",
     "output_type": "stream",
     "text": [
      "C:\\Users\\yashr\\AppData\\Local\\Temp\\ipykernel_13984\\4258134225.py:7: RuntimeWarning: invalid value encountered in sqrt\n",
      "  standard_deviation_E = np.sqrt(variance_E)\n"
     ]
    }
   ],
   "source": [
    "import numpy as np\n",
    "\n",
    "def calculate_standard_deviation(E, prob_density):\n",
    "    expectation_E = np.sum(E * prob_density)\n",
    "    expectation_E_squared = np.sum(E**2 * prob_density)\n",
    "    variance_E = expectation_E_squared - expectation_E**2\n",
    "    standard_deviation_E = np.sqrt(variance_E)\n",
    "    return standard_deviation_E\n",
    "\n",
    "def calculate_time_operator(psi, dt):\n",
    "    h_bar = 1.05457182e-34  # Reduced Planck constant (in J*s)\n",
    "    psi_conj = np.conjugate(psi)\n",
    "    derivative_psi = np.gradient(psi, dt)\n",
    "    time_operator = -1j * h_bar * derivative_psi / dt\n",
    "    expectation_t = np.sum(psi_conj * time_operator)\n",
    "    expectation_t_squared = np.sum(psi_conj * time_operator**2)\n",
    "    variance_t = expectation_t_squared - expectation_t**2\n",
    "    standard_deviation_t = np.sqrt(variance_t)\n",
    "    return standard_deviation_t\n",
    "\n",
    "# Example usage\n",
    "E = np.linspace(0, 10, 1000)  # Energy range\n",
    "dt = E[1] - E[0]  # Time step size\n",
    "psi = np.exp(-E**2 / 2) / np.sqrt(np.pi)  # Example wave function (Gaussian wave packet)\n",
    "prob_density = np.abs(psi)**2  # Probability density\n",
    "\n",
    "standard_deviation_E = calculate_standard_deviation(E, prob_density)\n",
    "standard_deviation_t = calculate_time_operator(psi, dt)\n",
    "\n",
    "print(\"Energy Standard Deviation:\", standard_deviation_E)\n",
    "print(\"Time Standard Deviation:\", standard_deviation_t)\n",
    "\n",
    "# Check uncertainty relation\n",
    "h_bar = 1.05457182e-34  # Reduced Planck constant (in J*s)\n",
    "uncertainty_relation = standard_deviation_E * standard_deviation_t\n",
    "print(\"Uncertainty Relation (ħ/2):\", h_bar / 2)\n",
    "print(\"Energy * Time:\", uncertainty_relation)\n",
    "print(\"Satisfies Uncertainty Relation:\", uncertainty_relation >= h_bar / 2)\n"
   ]
  },
  {
   "cell_type": "markdown",
   "id": "3fcc8efd",
   "metadata": {},
   "source": [
    "# Derivation of the uncertainty principle using commutation relations"
   ]
  },
  {
   "cell_type": "markdown",
   "id": "276ec188",
   "metadata": {},
   "source": [
    "The uncertainty principle, formulated by Werner Heisenberg, states that there is a fundamental limit to the precision with which certain pairs of physical properties, such as position and momentum, can be simultaneously known. The principle is derived using commutation relations from quantum mechanics. Let's focus on the derivation of the uncertainty principle for position and momentum.\n",
    "\n",
    "In quantum mechanics, the position operator is represented by the operator \\(\\hat{x}\\), and the momentum operator is represented by the operator \\(\\hat{p}\\). The commutation relation between these operators is given by:\n",
    "\n",
    "\\([\\hat{x}, \\hat{p}] = \\hat{x}\\hat{p} - \\hat{p}\\hat{x} = i\\hbar\\)\n",
    "\n",
    "where \\(\\hbar\\) is the reduced Planck's constant (\\(\\hbar = \\frac{h}{2\\pi}\\), where \\(h\\) is Planck's constant).\n",
    "\n",
    "Now, let's consider a particle in a state \\(\\psi\\) that is an eigenstate of the position operator \\(\\hat{x}\\), such that \\(\\hat{x}\\psi = x\\psi\\), where \\(x\\) is the eigenvalue corresponding to the position of the particle.\n",
    "\n",
    "Next, we can apply the momentum operator to this state:\n",
    "\n",
    "\\(\\hat{p}\\psi = \\frac{1}{i\\hbar}[\\hat{x}, \\hat{p}]\\psi = \\frac{1}{i\\hbar}(\\hat{x}\\hat{p}\\psi - \\hat{p}\\hat{x}\\psi)\\)\n",
    "\n",
    "Using the commutation relation, we have:\n",
    "\n",
    "\\(\\hat{p}\\psi = \\frac{1}{i\\hbar}(\\hat{x}\\hat{p}\\psi - \\hat{p}\\hat{x}\\psi) = \\frac{1}{i\\hbar}(\\hat{x}\\hat{p}\\psi - x\\hat{p}\\psi)\\)\n",
    "\n",
    "Expanding this equation, we get:\n",
    "\n",
    "\\(\\hat{p}\\psi = \\frac{1}{i\\hbar}\\hat{x}\\hat{p}\\psi - \\frac{x}{i\\hbar}\\hat{p}\\psi\\)\n",
    "\n",
    "Rearranging the terms, we have:\n",
    "\n",
    "\\((\\hat{p} - \\frac{x}{i\\hbar}\\hat{p})\\psi = \\frac{1}{i\\hbar}\\hat{x}\\hat{p}\\psi\\)\n",
    "\n",
    "Now, let's examine the left-hand side of this equation. We can rewrite it as follows:\n",
    "\n",
    "\\((\\hat{p} - \\frac{x}{i\\hbar}\\hat{p})\\psi = \\left(1 - \\frac{x}{i\\hbar}\\right)\\hat{p}\\psi\\)\n",
    "\n",
    "Now, consider the right-hand side of the equation:\n",
    "\n",
    "\\(\\frac{1}{i\\hbar}\\hat{x}\\hat{p}\\psi = \\frac{1}{i\\hbar}\\hat{x}(\\hat{p}\\psi)\\)\n",
    "\n",
    "The term \\(\\hat{x}(\\hat{p}\\psi)\\) represents the uncertainty in the measurement of position, and we denote it as \\(\\Delta x\\). Similarly, the term \\((\\hat{p} - \\frac{x}{i\\hbar}\\hat{p})\\psi\\) represents the uncertainty in the measurement of momentum, and we denote it as \\(\\Delta p\\). \n",
    "\n",
    "Therefore, we can rewrite the equation as:\n",
    "\n",
    "\\(\\Delta p = \\frac{1}{i\\hbar}\\Delta x\\)\n",
    "\n",
    "This is the general form of the uncertainty principle. It states that the product of the uncertainties in the measurements of position (\\(\\Delta x\\)) and momentum (\\(\\Delta p\\))\n",
    "\n",
    " is always greater than or equal to \\(\\frac{\\hbar}{2}\\):\n",
    "\n",
    "\\(\\Delta x \\cdot \\Delta p \\geq \\frac{\\hbar}{2}\\)\n",
    "\n",
    "This inequality shows that the more precisely we try to measure one observable (position or momentum), the less precisely we can know the other observable. The uncertainty principle is a fundamental principle of quantum mechanics and has far-reaching consequences in our understanding of the microscopic world."
   ]
  },
  {
   "cell_type": "code",
   "execution_count": 1,
   "id": "44edb7b9",
   "metadata": {},
   "outputs": [
    {
     "ename": "IndexError",
     "evalue": "list index out of range",
     "output_type": "error",
     "traceback": [
      "\u001b[1;31m---------------------------------------------------------------------------\u001b[0m",
      "\u001b[1;31mIndexError\u001b[0m                                Traceback (most recent call last)",
      "Cell \u001b[1;32mIn[1], line 10\u001b[0m\n\u001b[0;32m      7\u001b[0m commutation_relation \u001b[38;5;241m=\u001b[39m x \u001b[38;5;241m*\u001b[39m p \u001b[38;5;241m-\u001b[39m p \u001b[38;5;241m*\u001b[39m x \u001b[38;5;241m-\u001b[39m sp\u001b[38;5;241m.\u001b[39mI \u001b[38;5;241m*\u001b[39m hbar\n\u001b[0;32m      9\u001b[0m \u001b[38;5;66;03m# Solve the commutation relation for p in terms of x\u001b[39;00m\n\u001b[1;32m---> 10\u001b[0m p_expr \u001b[38;5;241m=\u001b[39m \u001b[43msp\u001b[49m\u001b[38;5;241;43m.\u001b[39;49m\u001b[43msolve\u001b[49m\u001b[43m(\u001b[49m\u001b[43mcommutation_relation\u001b[49m\u001b[43m,\u001b[49m\u001b[43m \u001b[49m\u001b[43mp\u001b[49m\u001b[43m)\u001b[49m\u001b[43m[\u001b[49m\u001b[38;5;241;43m0\u001b[39;49m\u001b[43m]\u001b[49m\n\u001b[0;32m     12\u001b[0m \u001b[38;5;66;03m# Compute the uncertainty in position\u001b[39;00m\n\u001b[0;32m     13\u001b[0m delta_x \u001b[38;5;241m=\u001b[39m sp\u001b[38;5;241m.\u001b[39msymbols(\u001b[38;5;124m'\u001b[39m\u001b[38;5;124mdelta_x\u001b[39m\u001b[38;5;124m'\u001b[39m, positive\u001b[38;5;241m=\u001b[39m\u001b[38;5;28;01mTrue\u001b[39;00m)\n",
      "\u001b[1;31mIndexError\u001b[0m: list index out of range"
     ]
    }
   ],
   "source": [
    "import sympy as sp\n",
    "\n",
    "# Define the variables\n",
    "x, p, hbar = sp.symbols('x p hbar', real=True)\n",
    "\n",
    "# Define the commutation relation\n",
    "commutation_relation = x * p - p * x - sp.I * hbar\n",
    "\n",
    "# Solve the commutation relation for p in terms of x\n",
    "p_expr = sp.solve(commutation_relation, p)[0]\n",
    "\n",
    "# Compute the uncertainty in position\n",
    "delta_x = sp.symbols('delta_x', positive=True)\n",
    "x_expr = x\n",
    "delta_p_expr = sp.diff(p_expr, x) * delta_x\n",
    "delta_x_expr = delta_x\n",
    "\n",
    "# Compute the uncertainty in momentum\n",
    "delta_p = sp.symbols('delta_p', positive=True)\n",
    "delta_p_expr = delta_p\n",
    "\n",
    "# Solve the uncertainty relation equation\n",
    "uncertainty_relation_eq = delta_x_expr * delta_p_expr - hbar / 2\n",
    "solution = sp.solve(uncertainty_relation_eq, delta_p)\n",
    "\n",
    "# Print the solution\n",
    "print(\"The uncertainty principle: delta_x * delta_p >= hbar / 2\")\n",
    "print(\"Solution:\")\n",
    "for sol in solution:\n",
    "    print(f\"delta_p >= {sol.subs(delta_x, 1)}\")\n"
   ]
  },
  {
   "cell_type": "markdown",
   "id": "ed2ba062",
   "metadata": {},
   "source": [
    "# Heisenberg's thought experiment: Gamma-ray microscope"
   ]
  },
  {
   "cell_type": "markdown",
   "id": "97662a04",
   "metadata": {},
   "source": [
    "Heisenberg's thought experiment involving a gamma-ray microscope is a theoretical scenario used to illustrate the limitations of simultaneous measurements of position and momentum. Let's delve into the details and equations involved in this thought experiment.\n",
    "\n",
    "In Heisenberg's thought experiment, a gamma-ray microscope is used to measure the position and momentum of a particle simultaneously. The microscope uses high-energy gamma rays with a wavelength \\(\\lambda\\) to probe the position of the particle.\n",
    "\n",
    "The uncertainty principle tells us that the product of the uncertainties in position (\\(\\Delta x\\)) and momentum (\\(\\Delta p\\)) of a particle is greater than or equal to \\(\\frac{\\hbar}{2}\\):\n",
    "\n",
    "\\(\\Delta x \\cdot \\Delta p \\geq \\frac{\\hbar}{2}\\)\n",
    "\n",
    "Let's assume the gamma-ray microscope has a resolution limit given by \\(\\Delta x\\) and can measure the position of the particle with an uncertainty \\(\\Delta x\\). The measurement process alters the momentum of the particle due to the recoil effect, causing an uncertainty \\(\\Delta p\\) in the measured momentum.\n",
    "\n",
    "The momentum of the gamma rays, denoted as \\(p_{\\gamma}\\), is given by:\n",
    "\n",
    "\\(p_{\\gamma} = \\frac{h}{\\lambda}\\)\n",
    "\n",
    "Now, when the gamma rays scatter off the particle, the change in momentum (\\(\\Delta p_{\\gamma}\\)) is related to the change in position (\\(\\Delta x\\)) of the particle. This relationship is derived from the conservation of momentum:\n",
    "\n",
    "\\(\\Delta p_{\\gamma} \\cdot \\Delta x \\geq \\frac{\\hbar}{2}\\)\n",
    "\n",
    "Substituting the expression for \\(p_{\\gamma}\\), we have:\n",
    "\n",
    "\\(\\frac{h}{\\lambda} \\cdot \\Delta x \\geq \\frac{\\hbar}{2}\\)\n",
    "\n",
    "Simplifying and rearranging the equation, we get:\n",
    "\n",
    "\\(\\Delta x \\cdot \\Delta p_{\\gamma} \\geq \\frac{\\lambda}{2}\\)\n",
    "\n",
    "So, the uncertainty in the measured momentum \\(\\Delta p_{\\gamma}\\) is related to the uncertainty in the position \\(\\Delta x\\) by the equation above.\n",
    "\n",
    "It is important to note that this thought experiment focuses on the limitations imposed by the measurement process itself. The uncertainty principle states that there is an inherent limit to the precision with which we can simultaneously measure the position and momentum of a particle. In the gamma-ray microscope thought experiment, the use of high-energy gamma rays and their interactions with the particle introduce additional uncertainties in the measurements.\n",
    "\n",
    "The equations presented here provide a qualitative understanding of Heisenberg's thought experiment and the limitations of simultaneous position and momentum measurements. The specific numerical values and calculations would depend on the details and parameters of the experimental setup."
   ]
  },
  {
   "cell_type": "code",
   "execution_count": 2,
   "id": "b9840e7f",
   "metadata": {},
   "outputs": [
    {
     "name": "stdout",
     "output_type": "stream",
     "text": [
      "Uncertainty relation: delta_x * delta_p_gamma >= lambda / 2\n",
      "Solution:\n",
      "delta_p_gamma >= lambda/2\n",
      "\n",
      "Minimum position uncertainty (delta_x_min) = sqrt(2)*sqrt(h)/(2*sqrt(pi)*sqrt(delta_p_gamma))\n"
     ]
    }
   ],
   "source": [
    "import sympy as sp\n",
    "\n",
    "# Define the variables\n",
    "h, c, lambda_val = sp.symbols('h c lambda', real=True, positive=True)\n",
    "delta_x, delta_p_gamma = sp.symbols('delta_x delta_p_gamma', real=True, positive=True)\n",
    "\n",
    "# Calculate the uncertainty relation\n",
    "uncertainty_relation = delta_x * delta_p_gamma - lambda_val / 2\n",
    "\n",
    "# Solve for delta_p_gamma in terms of delta_x\n",
    "solution = sp.solve(uncertainty_relation, delta_p_gamma)\n",
    "\n",
    "# Print the solution\n",
    "print(\"Uncertainty relation: delta_x * delta_p_gamma >= lambda / 2\")\n",
    "print(\"Solution:\")\n",
    "for sol in solution:\n",
    "    print(f\"delta_p_gamma >= {sol.subs(delta_x, 1)}\")\n",
    "\n",
    "# Additional calculation: Calculate the minimum uncertainty\n",
    "delta_x_min = sp.sqrt(h / (2 * sp.pi * delta_p_gamma))\n",
    "print(f\"\\nMinimum position uncertainty (delta_x_min) = {delta_x_min}\")\n"
   ]
  },
  {
   "cell_type": "markdown",
   "id": "e55f2b58",
   "metadata": {},
   "source": [
    "# Wave-particle duality and its relation to the uncertainty principle"
   ]
  },
  {
   "cell_type": "markdown",
   "id": "4cda149d",
   "metadata": {},
   "source": [
    "Wave-particle duality is a fundamental concept in quantum mechanics that states that particles, such as electrons or photons, exhibit both wave-like and particle-like properties. This concept is closely related to the uncertainty principle, which sets limits on the precision with which certain pairs of properties, such as position and momentum, can be simultaneously known. Let's explore wave-particle duality and its relation to the uncertainty principle, including the relevant equations.\n",
    "\n",
    "1. De Broglie's wavelength equation:\n",
    "   According to Louis de Broglie, every particle with momentum \\(p\\) has a corresponding wavelength \\(\\lambda\\) given by the equation:\n",
    "   \n",
    "   \\(\\lambda = \\frac{h}{p}\\)\n",
    "   \n",
    "   Where \\(\\lambda\\) represents the wavelength, \\(h\\) is Planck's constant, and \\(p\\) is the momentum of the particle.\n",
    "\n",
    "2. Relation between wavelength and momentum:\n",
    "   The wavelength of a particle is inversely proportional to its momentum. This implies that particles with large momentum have a shorter wavelength, while particles with small momentum have a longer wavelength. This behavior reflects the wave-like nature of particles.\n",
    "\n",
    "3. Relation between frequency and energy:\n",
    "   In quantum mechanics, particles are associated with wave-like oscillations, and these oscillations have an associated frequency \\(f\\). The energy \\(E\\) of a particle is directly proportional to its frequency, as given by the equation:\n",
    "   \n",
    "   \\(E = h \\cdot f\\)\n",
    "   \n",
    "   This equation shows the particle-like nature of energy, where the energy of a particle is quantized in discrete packets called \"quanta.\"\n",
    "\n",
    "4. The uncertainty principle and position-momentum uncertainty:\n",
    "   The uncertainty principle, formulated by Werner Heisenberg, states that there is a fundamental limit to the precision with which certain pairs of properties, such as position (\\(\\Delta x\\)) and momentum (\\(\\Delta p\\)), can be simultaneously known. Mathematically, the uncertainty principle is expressed as:\n",
    "   \n",
    "   \\(\\Delta x \\cdot \\Delta p \\geq \\frac{\\hbar}{2}\\)\n",
    "   \n",
    "   Where \\(\\hbar\\) is the reduced Planck's constant (\\(\\hbar = \\frac{h}{2\\pi}\\)).\n",
    "   \n",
    "   This equation implies that the more precisely we try to measure the position of a particle, the less precisely we can know its momentum, and vice versa. It reflects the inherent wave-particle duality and the limitations of simultaneously determining the particle-like position and wave-like momentum of a particle.\n",
    "\n",
    "5. Dual nature of light:\n",
    "   The wave-particle duality is often demonstrated through the behavior of light. Light can be described as both a particle (photon) and a wave (electromagnetic wave). This is evident in phenomena such as the photoelectric effect, where light exhibits particle-like behavior by interacting with matter in discrete energy packets (photons), as well as in phenomena such as interference and diffraction, where light exhibits wave-like behavior by exhibiting interference patterns and diffraction patterns.\n",
    "\n",
    "In summary, wave-particle duality is the fundamental concept in quantum mechanics that describes the dual nature of particles, which can exhibit both wave-like and particle-like properties. The uncertainty principle sets limits on the precision with which certain pairs of properties, such as position and momentum, can be simultaneously known, reflecting the inherent trade-off between the particle-like and wave-like aspects of particles."
   ]
  },
  {
   "cell_type": "code",
   "execution_count": 3,
   "id": "0a7e3072",
   "metadata": {},
   "outputs": [
    {
     "name": "stdout",
     "output_type": "stream",
     "text": [
      "De Broglie's equation: wavelength = h / momentum\n",
      "Momentum (p)   Wavelength (lambda)\n",
      "0.10           6.63e-33\n",
      "0.20           3.31e-33\n",
      "0.30           2.21e-33\n",
      "0.40           1.66e-33\n",
      "0.50           1.33e-33\n",
      "0.60           1.10e-33\n",
      "0.70           9.47e-34\n",
      "0.80           8.28e-34\n",
      "0.90           7.36e-34\n",
      "1.00           6.63e-34\n"
     ]
    }
   ],
   "source": [
    "import numpy as np\n",
    "\n",
    "# Define the variables\n",
    "h = 6.62607015e-34  # Planck's constant in J*s\n",
    "p = np.linspace(0.1, 1.0, 10)  # Momentum values\n",
    "\n",
    "# Calculate the corresponding wavelengths\n",
    "wavelength = h / p\n",
    "\n",
    "# Print the results\n",
    "print(\"De Broglie's equation: wavelength = h / momentum\")\n",
    "print(\"Momentum (p)   Wavelength (lambda)\")\n",
    "for momentum, wl in zip(p, wavelength):\n",
    "    print(f\"{momentum:.2f}           {wl:.2e}\")\n"
   ]
  },
  {
   "cell_type": "markdown",
   "id": "a10796f8",
   "metadata": {},
   "source": [
    "# Interpretations and implications of the uncertainty principle"
   ]
  },
  {
   "cell_type": "markdown",
   "id": "49c97388",
   "metadata": {},
   "source": [
    "The uncertainty principle, also known as Heisenberg's uncertainty principle, is a fundamental concept in quantum mechanics that states that certain pairs of physical properties of a particle, such as position and momentum, cannot both be precisely determined simultaneously with arbitrary accuracy. In other words, there is a fundamental limit to the precision with which certain pairs of properties can be known.\n",
    "\n",
    "Interpretations of the Uncertainty Principle:\n",
    "1. Mathematical Interpretation: Mathematically, the uncertainty principle is expressed using the standard deviations of the position and momentum operators. For a particle's position (Δx) and momentum (Δp), the uncertainty principle can be written as:\n",
    "\n",
    "   Δx * Δp ≥ h/4π\n",
    "   \n",
    "   where h is Planck's constant (approximately 6.626 × 10^-34 joule-seconds). This inequality implies that the product of the uncertainties in position and momentum must be greater than or equal to a minimum value, which is determined by Planck's constant.\n",
    "\n",
    "2. Wave-Particle Duality: The uncertainty principle is closely related to the wave-particle duality of quantum mechanics. According to this interpretation, particles can exhibit both wave-like and particle-like behavior. The uncertainty principle arises because the more precisely we try to measure a particle's position, the more uncertain its momentum becomes, and vice versa. This is because particles are described by wavefunctions, which are spread out over space and have characteristic wavelengths. Trying to localize a particle precisely requires a superposition of many different wavelengths, leading to uncertainty in momentum.\n",
    "\n",
    "Implications of the Uncertainty Principle:\n",
    "1. Limitation on Precision: The uncertainty principle sets a fundamental limit on the precision with which certain pairs of properties can be simultaneously known. It implies that it is impossible to measure both the position and momentum of a particle with arbitrary accuracy. The more precisely one property is measured, the less precisely the other property can be known.\n",
    "\n",
    "2. Quantum Mechanics' Probabilistic Nature: The uncertainty principle is closely connected to the probabilistic nature of quantum mechanics. It implies that the outcome of any measurement on a quantum system is inherently probabilistic. Instead of giving definite values, quantum mechanics provides a range of possible outcomes with associated probabilities.\n",
    "\n",
    "3. Observational Effects: The uncertainty principle has observable effects in various physical phenomena. For example, it explains the broadening of spectral lines in atomic and molecular spectra, known as spectral linewidths. It also plays a crucial role in understanding the stability and behavior of atoms, subatomic particles, and the formation of chemical bonds.\n",
    "\n",
    "4. Technology Limitations: The uncertainty principle places limitations on the precision of certain measurements and technologies. For instance, it affects the design of electron microscopes and imposes limits on the accuracy of simultaneous measurements of multiple properties.\n",
    "\n",
    "It is important to note that the uncertainty principle is a fundamental principle of quantum mechanics, and its implications are deeply ingrained in the theory. The mathematical equations mentioned above provide a quantitative way to express the limitations and trade-offs imposed by the uncertainty principle."
   ]
  },
  {
   "cell_type": "code",
   "execution_count": 1,
   "id": "5ef38c89",
   "metadata": {},
   "outputs": [
    {
     "data": {
      "image/png": "[encoded data removed]",
      "text/plain": [
       "<Figure size 800x400 with 1 Axes>"
      ]
     },
     "metadata": {},
     "output_type": "display_data"
    },
    {
     "data": {
      "image/png": "[encoded data removed]",
      "text/plain": [
       "<Figure size 800x400 with 1 Axes>"
      ]
     },
     "metadata": {},
     "output_type": "display_data"
    }
   ],
   "source": [
    "import numpy as np\n",
    "import matplotlib.pyplot as plt\n",
    "\n",
    "# Define constants\n",
    "h_bar = 1  # Planck's constant (for simplicity, set to 1)\n",
    "sigma_x = 1  # Standard deviation of position\n",
    "sigma_p = 1  # Standard deviation of momentum\n",
    "\n",
    "# Define position and momentum wavefunctions\n",
    "def position_wavefunction(x):\n",
    "    return np.exp(-(x ** 2) / (4 * sigma_x ** 2)) / np.sqrt(np.pi * sigma_x ** 2)\n",
    "\n",
    "def momentum_wavefunction(p):\n",
    "    return np.exp(-(p ** 2) / (4 * sigma_p ** 2)) / np.sqrt(np.pi * sigma_p ** 2)\n",
    "\n",
    "# Generate x-axis values for position wavefunction\n",
    "x_values = np.linspace(-5, 5, 500)\n",
    "\n",
    "# Calculate position wavefunction values\n",
    "psi_x = position_wavefunction(x_values)\n",
    "\n",
    "# Generate p-axis values for momentum wavefunction\n",
    "p_values = np.linspace(-5, 5, 500)\n",
    "\n",
    "# Calculate momentum wavefunction values\n",
    "psi_p = momentum_wavefunction(p_values)\n",
    "\n",
    "# Plot position wavefunction\n",
    "plt.figure(figsize=(8, 4))\n",
    "plt.plot(x_values, psi_x)\n",
    "plt.title(\"Position Wavefunction\")\n",
    "plt.xlabel(\"Position (x)\")\n",
    "plt.ylabel(\"Amplitude\")\n",
    "plt.grid(True)\n",
    "plt.show()\n",
    "\n",
    "# Plot momentum wavefunction\n",
    "plt.figure(figsize=(8, 4))\n",
    "plt.plot(p_values, psi_p)\n",
    "plt.title(\"Momentum Wavefunction\")\n",
    "plt.xlabel(\"Momentum (p)\")\n",
    "plt.ylabel(\"Amplitude\")\n",
    "plt.grid(True)\n",
    "plt.show()\n"
   ]
  },
  {
   "cell_type": "markdown",
   "id": "a79a13f1",
   "metadata": {},
   "source": [
    "# Uncertainty principle and quantum measurements"
   ]
  },
  {
   "cell_type": "markdown",
   "id": "c0cbad30",
   "metadata": {},
   "source": [
    "The Uncertainty Principle, also known as Heisenberg's Uncertainty Principle, is a fundamental principle in quantum mechanics that states that certain pairs of physical properties, such as position and momentum, cannot both be precisely determined simultaneously with arbitrary accuracy. The principle was formulated by the German physicist Werner Heisenberg in 1927.\n",
    "\n",
    "Mathematically, the Uncertainty Principle is expressed as follows:\n",
    "\n",
    "Δx * Δp ≥ h / (4π)\n",
    "\n",
    "Where:\n",
    "Δx is the uncertainty in the measurement of the position of a particle,\n",
    "Δp is the uncertainty in the measurement of the momentum of a particle,\n",
    "h is the Planck's constant (h ≈ 6.626 × 10^(-34) J·s),\n",
    "π is the mathematical constant pi (approximately 3.14159).\n",
    "\n",
    "This equation states that the product of the uncertainties in the measurement of position (Δx) and momentum (Δp) must be greater than or equal to a constant, which is determined by Planck's constant divided by 4π.\n",
    "\n",
    "The Uncertainty Principle implies that there are inherent limits to the precision with which certain pairs of physical properties can be known. The more precisely the position of a particle is measured, the less precisely its momentum can be known, and vice versa.\n",
    "\n",
    "It is important to note that the Uncertainty Principle does not arise from limitations in measurement techniques but is a fundamental property of quantum mechanics. It is related to the wave-particle duality of quantum objects, where particles can exhibit both wave-like and particle-like behavior.\n",
    "\n",
    "Quantum Measurements:\n",
    "In quantum mechanics, measurements are represented by operators called observables. An observable corresponds to a physical property that can be measured, such as position, momentum, energy, or spin. When a measurement is performed on a quantum system, it collapses the wavefunction of the system into one of the eigenstates of the observable being measured.\n",
    "\n",
    "The expectation value of an observable A can be calculated using the following equation:\n",
    "\n",
    "⟨A⟩ = ⟨ψ|A|ψ⟩\n",
    "\n",
    "Where:\n",
    "⟨A⟩ is the expectation value of the observable A,\n",
    "|ψ⟩ is the wavefunction of the quantum system,\n",
    "A is the operator corresponding to the observable being measured.\n",
    "\n",
    "The uncertainty in the measurement of an observable can be calculated using the standard deviation of the measurement results. For an observable A, the uncertainty ΔA is given by:\n",
    "\n",
    "ΔA = √(⟨A^2⟩ - ⟨A⟩^2)\n",
    "\n",
    "Where:\n",
    "ΔA is the uncertainty in the measurement of the observable A,\n",
    "⟨A^2⟩ is the expectation value of the squared observable A,\n",
    "⟨A⟩ is the expectation value of the observable A.\n",
    "\n",
    "The Uncertainty Principle can be applied to pairs of observables, such as position and momentum, or energy and time. It states that the product of the uncertainties in the measurement of two non-commuting observables must be greater than or equal to a certain value.\n",
    "\n",
    "In summary, the Uncertainty Principle is a fundamental principle in quantum mechanics that sets limits on the precision with which certain pairs of physical properties can be known. Quantum measurements are represented by observables, and their uncertainties can be calculated using the expectation values and standard deviations of the measurement results."
   ]
  },
  {
   "cell_type": "code",
   "execution_count": 1,
   "id": "a32bd11c",
   "metadata": {},
   "outputs": [
    {
     "name": "stdout",
     "output_type": "stream",
     "text": [
      "Measurement Outcome: 1\n",
      "Probabilities: [0.5 0.5]\n"
     ]
    }
   ],
   "source": [
    "import numpy as np\n",
    "\n",
    "# Define the quantum system\n",
    "qubit = np.array([1/np.sqrt(2), 1/np.sqrt(2)])  # Initial state of the qubit\n",
    "\n",
    "# Define the observable\n",
    "observable = np.array([[1, 0], [0, -1]])  # Observable corresponding to spin\n",
    "\n",
    "# Perform the measurement\n",
    "measurement = np.random.choice([0, 1], p=np.abs(qubit)**2)  # Randomly select measurement outcome\n",
    "measured_state = np.dot(observable, qubit)  # Apply the observable to the qubit state\n",
    "\n",
    "# Calculate the probabilities of measurement outcomes\n",
    "probabilities = np.abs(measured_state)**2\n",
    "\n",
    "# Print the measurement outcome and probabilities\n",
    "print(\"Measurement Outcome:\", measurement)\n",
    "print(\"Probabilities:\", probabilities)\n"
   ]
  },
  {
   "cell_type": "markdown",
   "id": "a23367a7",
   "metadata": {},
   "source": [
    "# Applications of the uncertainty principle in quantum mechanics"
   ]
  },
  {
   "cell_type": "markdown",
   "id": "b07bc346",
   "metadata": {},
   "source": [
    "The Uncertainty Principle in quantum mechanics has various applications across different fields of science and technology. Here are a few notable applications along with relevant equations:\n",
    "\n",
    "1. Energy-time uncertainty:\n",
    "   The Uncertainty Principle can be applied to the energy-time relationship, which has important implications in areas such as particle physics and spectroscopy.\n",
    "   \n",
    "   ΔE * Δt ≥ h / (4π)\n",
    "   \n",
    "   Where:\n",
    "   ΔE is the uncertainty in energy measurement,\n",
    "   Δt is the uncertainty in time measurement,\n",
    "   h is the Planck's constant.\n",
    "\n",
    "   This equation implies that a short time interval (Δt) allows for a larger uncertainty in energy (ΔE), and vice versa. This principle is crucial in understanding phenomena like virtual particles and the lifetime of unstable particles.\n",
    "\n",
    "2. Position-momentum uncertainty:\n",
    "   The Uncertainty Principle is famously associated with the trade-off between position and momentum measurements of quantum particles.\n",
    "   \n",
    "   Δx * Δp ≥ h / (4π)\n",
    "   \n",
    "   Where:\n",
    "   Δx is the uncertainty in position measurement,\n",
    "   Δp is the uncertainty in momentum measurement,\n",
    "   h is the Planck's constant.\n",
    "\n",
    "   This equation demonstrates that the more precisely the position of a particle is measured (small Δx), the larger the uncertainty in its momentum (large Δp), and vice versa. This principle has implications for understanding wave-particle duality and the fundamental nature of quantum systems.\n",
    "\n",
    "3. Quantum cryptography:\n",
    "   The Uncertainty Principle plays a crucial role in quantum cryptography, which ensures secure communication using quantum properties.\n",
    "   \n",
    "   ΔQ * ΔP ≥ h / (4π)\n",
    "   \n",
    "   Where:\n",
    "   ΔQ is the uncertainty in a quantum property (e.g., polarization),\n",
    "   ΔP is the uncertainty in the conjugate property (e.g., conjugate polarization),\n",
    "   h is the Planck's constant.\n",
    "\n",
    "   This equation represents the uncertainty principle for quantum properties other than position and momentum. Quantum cryptographic protocols, such as quantum key distribution, exploit this principle to guarantee the security of shared cryptographic keys.\n",
    "\n",
    "4. Electron microscopy:\n",
    "   The Uncertainty Principle has practical applications in electron microscopy, allowing the determination of the spatial resolution limits of electron microscopes.\n",
    "   \n",
    "   Δx * Δp ≥ h / (4π)\n",
    "   \n",
    "   In electron microscopy, this principle translates to the limit of spatial resolution (Δx) based on the spread of momentum (Δp) of the electrons used for imaging. It sets a fundamental constraint on the finest details that can be resolved in an electron microscope image.\n",
    "\n",
    "These are just a few examples of how the Uncertainty Principle finds applications in different areas of science and technology. The equations associated with the Uncertainty Principle help quantify the limitations and trade-offs inherent in quantum measurements and provide fundamental insights into the behavior of quantum systems."
   ]
  },
  {
   "cell_type": "code",
   "execution_count": 2,
   "id": "1d6d654b",
   "metadata": {},
   "outputs": [
    {
     "name": "stdout",
     "output_type": "stream",
     "text": [
      "Uncertainty:  0.010367682608560481\n"
     ]
    }
   ],
   "source": [
    "import numpy as np\n",
    "\n",
    "# Constants\n",
    "h_bar = 1.05457e-34  # Planck's constant / (2*pi)\n",
    "m = 9.10938356e-31  # Mass of the particle\n",
    "omega = 2 * np.pi * 1e6  # Angular frequency of the harmonic oscillator potential\n",
    "\n",
    "# Function to calculate the uncertainty in position and momentum\n",
    "def uncertainty_principle(sigma_x, sigma_p):\n",
    "    return h_bar / (2 * np.sqrt(2)) * (1 / sigma_x + sigma_x / (m * omega**2 * sigma_p))\n",
    "\n",
    "# Example calculation\n",
    "sigma_x = 1e-9  # Standard deviation of position\n",
    "sigma_p = 1e-25  # Standard deviation of momentum\n",
    "\n",
    "uncertainty = uncertainty_principle(sigma_x, sigma_p)\n",
    "print(\"Uncertainty: \", uncertainty)\n"
   ]
  },
  {
   "cell_type": "markdown",
   "id": "e432974c",
   "metadata": {},
   "source": [
    "# Experimental verifications of the uncertainty principle"
   ]
  },
  {
   "cell_type": "markdown",
   "id": "5a23f680",
   "metadata": {},
   "source": [
    "The uncertainty principle, also known as Heisenberg's uncertainty principle, is a fundamental concept in quantum mechanics that states that certain pairs of physical properties, such as position and momentum, cannot be precisely known simultaneously. Experimental verifications of the uncertainty principle involve measuring the uncertainties in these complementary properties and comparing them to the predictions of quantum mechanics. Here, I will provide an overview of experimental verifications of the uncertainty principle along with some relevant equations.\n",
    "\n",
    "1. Position-Momentum Uncertainty:\n",
    "The uncertainty principle between position and momentum can be expressed as:\n",
    "\n",
    "    Δx * Δp >= h_bar / 2\n",
    "\n",
    "    where:\n",
    "    - Δx is the uncertainty in position.\n",
    "    - Δp is the uncertainty in momentum.\n",
    "    - h_bar is the reduced Planck's constant.\n",
    "\n",
    "Experimental verifications typically involve measuring the standard deviations of position and momentum for a system and confirming that their product is greater than or equal to h_bar / 2.\n",
    "\n",
    "2. Photon Polarization Uncertainty:\n",
    "In the case of photon polarization, the uncertainty principle relates the uncertainties in the two orthogonal polarization components (e.g., vertical and horizontal). It can be expressed as:\n",
    "\n",
    "    ΔE * Δt >= h_bar / 2\n",
    "\n",
    "    where:\n",
    "    - ΔE is the uncertainty in energy.\n",
    "    - Δt is the uncertainty in time.\n",
    "\n",
    "Experimental verifications involve measuring the uncertainties in energy and time for a photon and confirming that their product satisfies the uncertainty principle.\n",
    "\n",
    "3. Electron Diffraction Uncertainty:\n",
    "The uncertainty principle is also applicable to electron diffraction experiments. In a double-slit experiment with electrons, the uncertainty principle relates the uncertainties in the position of the electron and the wavevector (momentum) associated with the electron's de Broglie wavelength. The equation is:\n",
    "\n",
    "    Δx * Δk_x >= 1/2\n",
    "\n",
    "    where:\n",
    "    - Δx is the uncertainty in position.\n",
    "    - Δk_x is the uncertainty in the wavevector component in the x-direction.\n",
    "\n",
    "Experimental verifications involve measuring the position and momentum distributions of the electrons and confirming that their product satisfies the uncertainty principle.\n",
    "\n",
    "These are some of the experimental verifications of the uncertainty principle. Experimental techniques vary depending on the specific property being measured, such as position, momentum, energy, or wavevector, and can involve various quantum measurement methods and setups. The goal is to demonstrate that the uncertainties in complementary properties satisfy the predictions of the uncertainty principle as defined by quantum mechanics."
   ]
  },
  {
   "cell_type": "code",
   "execution_count": 3,
   "id": "fa6a99d7",
   "metadata": {},
   "outputs": [
    {
     "data": {
      "image/png": "[encoded data removed]",
      "text/plain": [
       "<Figure size 640x480 with 1 Axes>"
      ]
     },
     "metadata": {},
     "output_type": "display_data"
    }
   ],
   "source": [
    "import numpy as np\n",
    "import matplotlib.pyplot as plt\n",
    "\n",
    "# Constants\n",
    "h_bar = 1.05457e-34  # Reduced Planck's constant\n",
    "m = 9.10938356e-31  # Mass of the electron\n",
    "wavelength = 1e-10  # De Broglie wavelength of the electron\n",
    "slit_width = 1e-4  # Width of the double slit\n",
    "screen_distance = 1  # Distance from the double slit to the screen\n",
    "\n",
    "# Define the wavefunction for a single electron\n",
    "def wavefunction(x, d):\n",
    "    return np.cos(2 * np.pi * x / d)\n",
    "\n",
    "# Define the probability distribution for the electron's position on the screen\n",
    "def probability_distribution(x, d):\n",
    "    return np.abs(wavefunction(x, d))**2\n",
    "\n",
    "# Simulate the experiment and plot the probability distribution\n",
    "x = np.linspace(-screen_distance/2, screen_distance/2, 1000)\n",
    "probability = probability_distribution(x, slit_width)\n",
    "\n",
    "# Plotting\n",
    "plt.plot(x, probability)\n",
    "plt.xlabel('Position on the screen (m)')\n",
    "plt.ylabel('Probability')\n",
    "plt.title('Double-Slit Experiment')\n",
    "plt.show()\n"
   ]
  },
  {
   "cell_type": "markdown",
   "id": "680e2d73",
   "metadata": {},
   "source": [
    "# Uncertainty principle and quantum computing"
   ]
  },
  {
   "cell_type": "markdown",
   "id": "a9ab7c95",
   "metadata": {},
   "source": [
    "The Uncertainty Principle, also known as Heisenberg's Uncertainty Principle, is a fundamental concept in quantum mechanics that states that there is a limit to the precision with which certain pairs of physical properties of a particle, such as position and momentum, or energy and time, can be simultaneously known. Here's an explanation of the Uncertainty Principle and its relevance to quantum computing, along with the associated equations.\n",
    "\n",
    "1. Position and Momentum Uncertainty:\n",
    "The Uncertainty Principle for position and momentum, expressed mathematically, is given by:\n",
    "\n",
    "Δx * Δp ≥ h/2π\n",
    "\n",
    "where Δx is the uncertainty in position, Δp is the uncertainty in momentum, and h is the Planck constant (approximately 6.626 x 10^(-34) J·s). This equation implies that the more precisely you try to measure the position of a particle, the less precisely you can know its momentum, and vice versa.\n",
    "\n",
    "2. Energy and Time Uncertainty:\n",
    "The Uncertainty Principle also applies to the relationship between energy and time. The equation for energy and time uncertainty is:\n",
    "\n",
    "ΔE * Δt ≥ h/2π\n",
    "\n",
    "where ΔE is the uncertainty in energy, Δt is the uncertainty in time, and h is the Planck constant. This equation states that the more precisely you try to measure the energy of a quantum system, the less precisely you can know the time at which that measurement occurred, and vice versa.\n",
    "\n",
    "Relevance to Quantum Computing:\n",
    "The Uncertainty Principle has implications for quantum computing because it sets limits on the precision of measurements that can be made on quantum systems. In quantum computing, qubits (quantum bits) are the fundamental units of information. Qubits can exist in superposition, representing multiple states simultaneously, and can be entangled with other qubits. These properties make quantum computing powerful, but they also introduce uncertainties.\n",
    "\n",
    "Uncertainty in quantum systems affects the accuracy of quantum operations and measurements, which can introduce errors in computations. Various techniques, such as error correction codes and quantum error correction algorithms, have been developed to mitigate these errors and improve the reliability of quantum computations.\n",
    "\n",
    "It's important to note that while the Uncertainty Principle places limits on the precision of simultaneous measurements of certain properties, it does not imply a limitation on the predictability of quantum systems as a whole. Quantum mechanics allows for probabilistic predictions and describes the behavior of quantum systems using wavefunctions, state vectors, and other mathematical constructs."
   ]
  },
  {
   "cell_type": "code",
   "execution_count": 1,
   "id": "c7997ef4",
   "metadata": {},
   "outputs": [
    {
     "name": "stdout",
     "output_type": "stream",
     "text": [
      "Measurement: 1\n"
     ]
    }
   ],
   "source": [
    "from qiskit import QuantumCircuit, Aer, execute\n",
    "\n",
    "# Create a quantum circuit with 1 qubit\n",
    "qc = QuantumCircuit(1, 1)\n",
    "\n",
    "# Apply a Hadamard gate to put the qubit in superposition\n",
    "qc.h(0)\n",
    "\n",
    "# Measure the qubit\n",
    "qc.measure(0, 0)\n",
    "\n",
    "# Simulate the circuit using the local Aer simulator\n",
    "simulator = Aer.get_backend('qasm_simulator')\n",
    "job = execute(qc, simulator, shots=1)\n",
    "\n",
    "# Get the measurement result\n",
    "result = job.result()\n",
    "counts = result.get_counts(qc)\n",
    "measurement = list(counts.keys())[0]\n",
    "\n",
    "# Print the measurement result\n",
    "print(f\"Measurement: {measurement}\")\n"
   ]
  },
  {
   "cell_type": "markdown",
   "id": "02ba09bb",
   "metadata": {},
   "source": [
    "# Heisenberg's microscope and the limits of observation"
   ]
  },
  {
   "cell_type": "markdown",
   "id": "8b68990b",
   "metadata": {},
   "source": [
    "Heisenberg's Microscope, also known as the Heisenberg Uncertainty Principle Microscope, is a thought experiment that was proposed by Werner Heisenberg to illustrate the limits of observation and measurement in quantum mechanics. It highlights the inherent trade-off between precision in position and precision in momentum measurements. While there are no specific equations associated with Heisenberg's Microscope, I can explain the concept and the related equations from the Uncertainty Principle.\n",
    "\n",
    "The Uncertainty Principle:\n",
    "The Uncertainty Principle, formulated by Werner Heisenberg, states that there is a fundamental limit to the precision with which certain pairs of physical properties of a particle can be simultaneously known. The most common form of the Uncertainty Principle relates to position (Δx) and momentum (Δp) uncertainties and can be expressed mathematically as:\n",
    "\n",
    "Δx * Δp ≥ h/2π\n",
    "\n",
    "where Δx represents the uncertainty in position, Δp represents the uncertainty in momentum, and h is the Planck constant (approximately 6.626 x 10^(-34) J·s).\n",
    "\n",
    "Heisenberg's Microscope:\n",
    "Heisenberg's Microscope is a thought experiment that involves trying to measure the position and momentum of a particle using a hypothetical microscope with perfect resolution. The idea is that if we try to measure the position of a particle precisely by using a microscope with very short-wavelength light, we need to illuminate the particle with high-energy photons. However, high-energy photons carry significant momentum, which will cause a disturbance to the particle's momentum during the measurement process. This disturbance results in an inherent uncertainty in the momentum measurement, leading to a loss of precision.\n",
    "\n",
    "In other words, by using a microscope with shorter wavelengths of light to improve position measurement, we increase the momentum transferred to the particle, causing a larger uncertainty in momentum measurements. The microscope's high precision in position measurement would violate the Uncertainty Principle and lead to unphysical results.\n",
    "\n",
    "Limitations of Observation:\n",
    "Heisenberg's Microscope highlights that there are fundamental limits to the precision of simultaneous position and momentum measurements. It demonstrates that the act of measurement itself can disturb the system being observed, and there is an inherent trade-off between the precision of position and momentum measurements.\n",
    "\n",
    "It's important to note that Heisenberg's Microscope is a thought experiment and not a practical experimental setup. It serves as a conceptual tool to illustrate the principles of the Uncertainty Principle and the limitations of simultaneous measurements in quantum mechanics.\n",
    "\n",
    "While Heisenberg's Microscope does not have specific equations associated with it, the Uncertainty Principle equation Δx * Δp ≥ h/2π provides the fundamental mathematical expression for the limits of simultaneous position and momentum measurements."
   ]
  },
  {
   "cell_type": "code",
   "execution_count": 2,
   "id": "d02ca247",
   "metadata": {},
   "outputs": [
    {
     "name": "stdout",
     "output_type": "stream",
     "text": [
      "Measurement Results:\n",
      "Measurement: 00 Count: 499\n",
      "Measurement: 01 Count: 501\n"
     ]
    }
   ],
   "source": [
    "from qiskit import QuantumCircuit, Aer, execute\n",
    "\n",
    "# Create a quantum circuit with 2 qubits\n",
    "qc = QuantumCircuit(2, 2)\n",
    "\n",
    "# Apply Hadamard gate to create superposition\n",
    "qc.h(0)\n",
    "\n",
    "# Measure the first qubit\n",
    "qc.measure(0, 0)\n",
    "\n",
    "# Measure the second qubit\n",
    "qc.measure(1, 1)\n",
    "\n",
    "# Simulate the circuit using the local Aer simulator\n",
    "simulator = Aer.get_backend('qasm_simulator')\n",
    "job = execute(qc, simulator, shots=1000)\n",
    "\n",
    "# Get the measurement results\n",
    "result = job.result()\n",
    "counts = result.get_counts(qc)\n",
    "\n",
    "# Print the measurement results\n",
    "print(\"Measurement Results:\")\n",
    "for measurement, count in counts.items():\n",
    "    print(f\"Measurement: {measurement} Count: {count}\")\n"
   ]
  },
  {
   "cell_type": "markdown",
   "id": "7faa98ca",
   "metadata": {},
   "source": [
    "# Generalizations and extensions of the uncertainty principle"
   ]
  },
  {
   "cell_type": "markdown",
   "id": "99a24706",
   "metadata": {},
   "source": [
    "The uncertainty principle in quantum mechanics, also known as the Heisenberg uncertainty principle, states that there is a fundamental limit to the precision with which certain pairs of physical properties of a particle can be simultaneously known. While there are generalizations and extensions of the uncertainty principle, they do not have specific equations like the original uncertainty principle. However, I can explain some generalizations and extensions that have been explored in quantum mechanics.\n",
    "\n",
    "1. Robertson-Schrödinger Uncertainty Relation:\n",
    "The Robertson-Schrödinger uncertainty relation provides a more general formulation of the uncertainty principle. It considers any two observables A and B and their corresponding standard deviations (uncertainties) ΔA and ΔB. The relation is expressed as:\n",
    "\n",
    "ΔA * ΔB ≥ 0.5 |⟨[A, B]⟩|\n",
    "\n",
    "where [A, B] is the commutator of the observables A and B, and ⟨⟩ represents the expectation value. This relation generalizes the uncertainty principle to any pair of observables.\n",
    "\n",
    "2. Energy-Time Uncertainty Principle:\n",
    "The energy-time uncertainty principle is an extension of the uncertainty principle to the energy and time measurements. It states that there is a trade-off between the uncertainty in energy measurements (ΔE) and the uncertainty in time measurements (Δt), given by:\n",
    "\n",
    "ΔE * Δt ≥ h/2π\n",
    "\n",
    "where h is the Planck constant. This principle highlights the limitation in simultaneously measuring the energy and the time at a high precision.\n",
    "\n",
    "3. Entropic Uncertainty Relations:\n",
    "Entropic uncertainty relations provide a different perspective on the uncertainty principle by relating the uncertainties in measurements to the concept of entropy. These relations use measures of information entropy, such as Shannon entropy or von Neumann entropy, to quantify the uncertainty. The entropic uncertainty relations give bounds on the sum of entropies associated with different observables.\n",
    "\n",
    "4. Measurement-Induced Disturbance:\n",
    "The measurement-induced disturbance is an extension that considers the disturbance caused by the act of measurement itself. When a measurement is made on a quantum system, the system can be disturbed, leading to uncertainties in other properties. This extension highlights the inherent disturbance caused by measurements and the limitations it imposes on simultaneous measurements.\n",
    "\n",
    "These generalizations and extensions of the uncertainty principle provide further insights into the fundamental limitations of quantum measurements. While they don't have specific equations like the original uncertainty principle, they explore different aspects of uncertainty and trade-offs between observables in quantum systems."
   ]
  },
  {
   "cell_type": "code",
   "execution_count": 3,
   "id": "9104ed43",
   "metadata": {},
   "outputs": [
    {
     "name": "stdout",
     "output_type": "stream",
     "text": [
      "Uncertainty in position (Δx): 1.4142135623730951\n",
      "Uncertainty in momentum (Δp): 2.8284271247461903\n"
     ]
    }
   ],
   "source": [
    "import numpy as np\n",
    "\n",
    "# Function to calculate the uncertainty in position and momentum\n",
    "def calculate_uncertainty(position, momentum):\n",
    "    mean_position = np.mean(position)\n",
    "    mean_momentum = np.mean(momentum)\n",
    "    delta_x = np.sqrt(np.mean((position - mean_position)**2))\n",
    "    delta_p = np.sqrt(np.mean((momentum - mean_momentum)**2))\n",
    "    return delta_x, delta_p\n",
    "\n",
    "# Example usage\n",
    "position = np.array([1, 2, 3, 4, 5])\n",
    "momentum = np.array([2, 4, 6, 8, 10])\n",
    "\n",
    "delta_x, delta_p = calculate_uncertainty(position, momentum)\n",
    "print(\"Uncertainty in position (Δx):\", delta_x)\n",
    "print(\"Uncertainty in momentum (Δp):\", delta_p)\n"
   ]
  },
  {
   "cell_type": "markdown",
   "id": "ed14fe2a",
   "metadata": {},
   "source": [
    "# Mathematical formalism and operators in quantum mechanics"
   ]
  },
  {
   "cell_type": "markdown",
   "id": "8b2b0e93",
   "metadata": {},
   "source": [
    "Quantum mechanics is formulated using mathematical formalism that involves the use of operators and mathematical equations to describe the behavior of quantum systems. Here, I will explain some key mathematical concepts and operators in quantum mechanics, along with their corresponding equations.\n",
    "\n",
    "1. State Vector:\n",
    "In quantum mechanics, the state of a quantum system is represented by a state vector, often denoted as |ψ⟩ or simply ψ. The state vector represents the quantum state of a system and contains all the information about its properties. It belongs to a complex vector space called the Hilbert space.\n",
    "\n",
    "2. Wavefunction:\n",
    "The wavefunction is a mathematical representation of the state vector. It describes the probability amplitudes of different possible outcomes of measurements on the system. The wavefunction is usually denoted by the symbol ψ(x) or ψ(x, t), where x represents position and t represents time.\n",
    "\n",
    "3. Operators:\n",
    "Operators in quantum mechanics represent physical observables and transformations on quantum states. They act on the state vectors or wavefunctions to yield new state vectors or wavefunctions. Here are some important operators in quantum mechanics:\n",
    "\n",
    "   a. Position Operator (x): The position operator represents the position of a particle in space. In one dimension, it is represented by the operator x, and in three dimensions, it is represented by the vector operator r.\n",
    "\n",
    "   b. Momentum Operator (p): The momentum operator represents the momentum of a particle. In one dimension, it is represented by the operator p, and in three dimensions, it is represented by the vector operator p.\n",
    "\n",
    "   c. Hamiltonian Operator (H): The Hamiltonian operator represents the total energy of a quantum system. It incorporates the kinetic and potential energy operators.\n",
    "\n",
    "   d. Angular Momentum Operators (L): The angular momentum operators represent the angular momentum of a quantum system. In three dimensions, they are represented by the vector operators Lx, Ly, and Lz.\n",
    "\n",
    "   e. Spin Operators (S): The spin operators represent the intrinsic angular momentum of particles. They are denoted by Sx, Sy, and Sz.\n",
    "\n",
    "4. Schrödinger Equation:\n",
    "The Schrödinger equation is the fundamental equation of quantum mechanics that governs the time evolution of quantum systems. It describes how the state vector or wavefunction of a system changes with time. The time-dependent Schrödinger equation is given by:\n",
    "\n",
    "   iħ ∂ψ/∂t = Hψ\n",
    "\n",
    "   where ħ is the reduced Planck constant, ∂ψ/∂t is the time derivative of the wavefunction, H is the Hamiltonian operator, and ψ is the wavefunction.\n",
    "\n",
    "5. Eigenvalue Equation:\n",
    "In quantum mechanics, the eigenvalue equation is used to determine the possible values (eigenvalues) of a physical observable when measured on a quantum state. It is represented as:\n",
    "\n",
    "   A |φ⟩ = a |φ⟩\n",
    "\n",
    "   where A is an operator representing the observable, |φ⟩ is an eigenvector (state vector), a is the corresponding eigenvalue, and the operator A acting on the eigenvector |φ⟩ yields the same vector (up to a scalar factor).\n",
    "\n",
    "These are some of the fundamental mathematical formalisms and operators in quantum mechanics. They provide a mathematical framework to describe and understand the behavior of quantum systems and make predictions about measurement outcomes. The equations mentioned above are foundational equations used in quantum mechanics to calculate and describe various properties of quantum systems."
   ]
  },
  {
   "cell_type": "code",
   "execution_count": 4,
   "id": "ffeaa786",
   "metadata": {},
   "outputs": [
    {
     "name": "stdout",
     "output_type": "stream",
     "text": [
      "Operator applied to state:\n",
      " Quantum object: dims = [[2], [1]], shape = (2, 1), type = ket\n",
      "Qobj data =\n",
      "[[0.]\n",
      " [1.]]\n"
     ]
    }
   ],
   "source": [
    "import numpy as np\n",
    "from qutip import *\n",
    "\n",
    "# Define the operator\n",
    "sx = sigmax()  # Pauli-X operator\n",
    "\n",
    "# Define the state vector\n",
    "psi = basis(2, 0)  # |0⟩ state\n",
    "\n",
    "# Apply the operator on the state\n",
    "result = sx * psi\n",
    "\n",
    "# Print the result\n",
    "print(\"Operator applied to state:\\n\", result)\n"
   ]
  },
  {
   "cell_type": "markdown",
   "id": "c6e223fa",
   "metadata": {},
   "source": [
    "# Quantum states and superposition in relation to the uncertainty principle"
   ]
  },
  {
   "cell_type": "markdown",
   "id": "c9f69c4b",
   "metadata": {},
   "source": [
    "Quantum states and superposition are fundamental concepts in quantum mechanics that are closely related to the uncertainty principle. Let's explore these concepts and their relation to the uncertainty principle, along with the relevant equations.\n",
    "\n",
    "1. Quantum States:\n",
    "In quantum mechanics, a quantum state represents the complete description of a quantum system. It contains all the information necessary to predict the probabilities of various outcomes of measurements on the system. Quantum states are typically represented by state vectors or wavefunctions.\n",
    "\n",
    "2. Superposition:\n",
    "Superposition is a principle in quantum mechanics that allows quantum states to exist in a combination of multiple states simultaneously. When a system is in a superposition, it is in a state that cannot be described by a single classical state but rather as a linear combination of multiple states. Mathematically, superposition is represented as:\n",
    "\n",
    "   |ψ⟩ = α|0⟩ + β|1⟩\n",
    "\n",
    "   where |0⟩ and |1⟩ are two orthogonal basis states, and α and β are complex coefficients known as probability amplitudes. The probability of observing the system in state |0⟩ is given by |α|^2, and the probability of observing it in state |1⟩ is given by |β|^2.\n",
    "\n",
    "3. Uncertainty Principle and Superposition:\n",
    "The uncertainty principle, as formulated by Heisenberg, states that there is a fundamental limit to the simultaneous precision with which certain pairs of physical properties of a particle can be known. One such pair is the position and momentum of a particle.\n",
    "\n",
    "The uncertainty principle arises due to the wave-particle duality of quantum mechanics. In quantum states, particles are described by wavefunctions that exhibit both particle-like and wave-like properties. The superposition of states allows particles to exist in a range of possible positions and momenta simultaneously, which contributes to the uncertainty in measurements.\n",
    "\n",
    "Mathematically, the uncertainty principle between position (Δx) and momentum (Δp) is given by:\n",
    "\n",
    "   Δx * Δp ≥ h/2π\n",
    "\n",
    "   where Δx represents the uncertainty in position, Δp represents the uncertainty in momentum, and h is the Planck constant.\n",
    "\n",
    "This equation implies that the more precisely the position of a particle is known (small Δx), the more uncertain its momentum becomes (large Δp), and vice versa. The uncertainty principle places a fundamental limit on the simultaneous knowledge of these properties.\n",
    "\n",
    "Superposition and the uncertainty principle are interconnected concepts in quantum mechanics. Superposition allows particles to exist in states of simultaneous position and momentum possibilities, contributing to the uncertainty in measurements of these properties.\n",
    "\n",
    "It's important to note that the uncertainty principle is not solely related to superposition but is a fundamental principle that applies to all quantum systems. Superposition is just one aspect of quantum states that contributes to the uncertainty inherent in measurements."
   ]
  },
  {
   "cell_type": "code",
   "execution_count": 5,
   "id": "67589413",
   "metadata": {},
   "outputs": [
    {
     "name": "stdout",
     "output_type": "stream",
     "text": [
      "Superposition state: [0.77459667 0.63245553]\n"
     ]
    }
   ],
   "source": [
    "import numpy as np\n",
    "\n",
    "# Define the quantum state coefficients\n",
    "alpha = np.sqrt(0.6)\n",
    "beta = np.sqrt(0.4)\n",
    "\n",
    "# Define the basis states\n",
    "state_0 = np.array([1, 0])  # |0⟩ state\n",
    "state_1 = np.array([0, 1])  # |1⟩ state\n",
    "\n",
    "# Create the superposition state\n",
    "superposition = alpha * state_0 + beta * state_1\n",
    "\n",
    "# Print the superposition state\n",
    "print(\"Superposition state:\", superposition)\n"
   ]
  },
  {
   "cell_type": "markdown",
   "id": "99bea061",
   "metadata": {},
   "source": [
    "# Uncertainty principle and its impact on the understanding of physical reality"
   ]
  },
  {
   "cell_type": "markdown",
   "id": "0c5b61a8",
   "metadata": {},
   "source": [
    "The uncertainty principle, formulated by Werner Heisenberg, is a fundamental principle in quantum mechanics that has a significant impact on our understanding of physical reality. It states that there is an inherent limit to the simultaneous precision with which certain pairs of physical properties, such as position and momentum or energy and time, can be known.\n",
    "\n",
    "The uncertainty principle arises from the wave-particle duality of quantum mechanics, where particles are described by wavefunctions that exhibit both particle-like and wave-like properties. It sets a fundamental limitation on the knowledge of complementary properties, implying that the more precisely one property is known, the less precisely the other can be known.\n",
    "\n",
    "The uncertainty principle can be mathematically expressed in several forms depending on the pair of properties being considered. Here are two of the most commonly encountered formulations:\n",
    "\n",
    "1. Position-Momentum Uncertainty Principle:\n",
    "The uncertainty principle between position (Δx) and momentum (Δp) can be expressed as:\n",
    "\n",
    "   Δx * Δp ≥ h/2π\n",
    "\n",
    "   where Δx represents the uncertainty in position, Δp represents the uncertainty in momentum, and h is the Planck constant.\n",
    "\n",
    "   This equation implies that the product of the uncertainties in position and momentum must be greater than or equal to the reduced Planck constant divided by 2π. It sets a lower bound on the precision with which both position and momentum can be simultaneously measured.\n",
    "\n",
    "2. Energy-Time Uncertainty Principle:\n",
    "The uncertainty principle between energy (ΔE) and time (Δt) can be expressed as:\n",
    "\n",
    "   ΔE * Δt ≥ h/2π\n",
    "\n",
    "   where ΔE represents the uncertainty in energy, Δt represents the uncertainty in time, and h is the Planck constant.\n",
    "\n",
    "   This equation indicates that the product of the uncertainties in energy and time must be greater than or equal to the reduced Planck constant divided by 2π. It implies that the more precisely we try to measure the energy of a system, the less precisely we can determine the time at which that measurement was made, and vice versa.\n",
    "\n",
    "The uncertainty principle challenges the classical notion of determinism and our intuitive understanding of physical reality. It reveals the inherent probabilistic nature of quantum mechanics, where measurements yield a range of possible outcomes rather than precise values.\n",
    "\n",
    "The impact of the uncertainty principle on our understanding of physical reality is profound. It imposes fundamental limitations on the precision of simultaneous measurements and necessitates a probabilistic interpretation of quantum phenomena. It underscores the importance of statistical predictions and the role of wavefunctions in describing quantum systems.\n",
    "\n",
    "The uncertainty principle has wide-ranging implications in various areas of physics, including quantum mechanics, quantum field theory, and quantum information theory. It shapes our understanding of the behavior of particles, the nature of wave-particle duality, and the fundamental limits of knowledge in the quantum realm."
   ]
  },
  {
   "cell_type": "code",
   "execution_count": 6,
   "id": "517f2cea",
   "metadata": {},
   "outputs": [
    {
     "name": "stdout",
     "output_type": "stream",
     "text": [
      "The uncertainty principle is satisfied.\n"
     ]
    }
   ],
   "source": [
    "import numpy as np\n",
    "\n",
    "# Define the uncertainty in position and momentum\n",
    "delta_x = 0.1  # Uncertainty in position\n",
    "delta_p = 0.2  # Uncertainty in momentum\n",
    "\n",
    "# Calculate the uncertainty product\n",
    "uncertainty_product = delta_x * delta_p\n",
    "\n",
    "# Compare with the lower bound of the uncertainty principle\n",
    "h_bar = 1.05457182e-34  # Reduced Planck constant\n",
    "lower_bound = h_bar / (2 * np.pi)\n",
    "\n",
    "# Determine if the uncertainty product satisfies the uncertainty principle\n",
    "if uncertainty_product >= lower_bound:\n",
    "    print(\"The uncertainty principle is satisfied.\")\n",
    "else:\n",
    "    print(\"The uncertainty principle is violated.\")\n"
   ]
  },
  {
   "cell_type": "markdown",
   "id": "52f554aa",
   "metadata": {},
   "source": [
    "# The role of the uncertainty principle in quantum field theory"
   ]
  },
  {
   "cell_type": "markdown",
   "id": "88793c72",
   "metadata": {},
   "source": [
    "The uncertainty principle plays a crucial role in quantum field theory (QFT), which extends quantum mechanics to describe the behavior of fields and particles in a relativistic framework. It imposes limitations on the precision with which certain pairs of field observables can be simultaneously known. Let's explore the role of the uncertainty principle in QFT and its implications, along with the relevant equations.\n",
    "\n",
    "1. Field Observables in QFT:\n",
    "In QFT, fields are fundamental entities that describe the behavior of particles and their interactions. These fields are operators that can be associated with observables, such as the field value at a specific position or the momentum of the field. In the quantum field theory formalism, these observables are represented by field operators, which are typically expressed as sums of creation and annihilation operators associated with different particle modes.\n",
    "\n",
    "2. Commutation Relations:\n",
    "The uncertainty principle in QFT is related to the commutation relations between field operators. The commutation relation between two field operators, φ(x) and π(y), at spacetime points x and y, respectively, is given by:\n",
    "\n",
    "   [φ(x), π(y)] = iδ(x - y)\n",
    "\n",
    "   where [A, B] denotes the commutator of operators A and B, and δ(x - y) is the Dirac delta function.\n",
    "\n",
    "   This commutation relation implies that the field operator and its conjugate momentum operator do not commute, which gives rise to uncertainty in their simultaneous measurement.\n",
    "\n",
    "3. Field Uncertainty Relations:\n",
    "Similar to the position-momentum uncertainty relation in quantum mechanics, QFT also has uncertainty relations for field observables. These uncertainty relations express the limitations on the simultaneous precision of certain pairs of field observables, such as the field value and its conjugate momentum.\n",
    "\n",
    "   The uncertainty relation between the field value φ(x) and its conjugate momentum π(y) at different spacetime points x and y is given by:\n",
    "\n",
    "   Δφ(x) * Δπ(y) ≥ η(x - y)\n",
    "\n",
    "   where Δφ(x) represents the uncertainty in the field value at x, Δπ(y) represents the uncertainty in the conjugate momentum at y, and η(x - y) is a positive-definite function that depends on the specific field theory.\n",
    "\n",
    "   This uncertainty relation indicates that there is a lower bound on the product of uncertainties in the field value and its conjugate momentum, leading to limitations in the precision with which both can be simultaneously known.\n",
    "\n",
    "The uncertainty principle in QFT highlights the inherent limitations on our ability to precisely measure certain field observables simultaneously. It introduces a fundamental probabilistic nature to the behavior of fields and particles in QFT and influences our understanding of the fluctuations and uncertainties present in quantum systems.\n",
    "\n",
    "It's important to note that the specific form of the uncertainty relation in QFT depends on the field theory being considered. The equations provided here represent general concepts, but the precise form of the uncertainty relation may vary for different types of fields and interactions in QFT."
   ]
  },
  {
   "cell_type": "code",
   "execution_count": 7,
   "id": "bb323810",
   "metadata": {},
   "outputs": [
    {
     "name": "stdout",
     "output_type": "stream",
     "text": [
      "Commutator [φ(x), π(y)]:\n",
      "[[0 0]\n",
      " [0 0]]\n"
     ]
    }
   ],
   "source": [
    "import numpy as np\n",
    "\n",
    "# Define the field operators at spacetime points x and y\n",
    "phi_x = np.array([[0, 1], [1, 0]])  # Example field operator φ(x)\n",
    "pi_y = np.array([[1, 0], [0, 1]])  # Example conjugate momentum operator π(y)\n",
    "\n",
    "# Calculate the commutator between the field operators\n",
    "commutator = np.dot(phi_x, pi_y) - np.dot(pi_y, phi_x)\n",
    "\n",
    "# Print the commutator\n",
    "print(\"Commutator [φ(x), π(y)]:\")\n",
    "print(commutator)\n"
   ]
  },
  {
   "cell_type": "markdown",
   "id": "834cd58d",
   "metadata": {},
   "source": [
    "# Uncertainty principle in other branches of physics and related fields"
   ]
  },
  {
   "cell_type": "markdown",
   "id": "d659fa22",
   "metadata": {},
   "source": [
    "The uncertainty principle is a fundamental principle in quantum mechanics, but its implications and related concepts extend beyond quantum mechanics and have connections to other branches of physics and related fields. Let's explore the uncertainty principle in other branches of physics and some related fields, along with the relevant equations.\n",
    "\n",
    "1. Fourier Transform and Signal Processing:\n",
    "In signal processing and Fourier analysis, the uncertainty principle is related to the trade-off between time and frequency resolution. The uncertainty principle in this context is expressed as:\n",
    "\n",
    "   Δt * Δf ≥ 1\n",
    "\n",
    "   where Δt represents the uncertainty in time, Δf represents the uncertainty in frequency, and the product of their uncertainties is bounded by 1.\n",
    "\n",
    "   This uncertainty relation indicates that the more precisely we try to localize a signal in the time domain (reducing Δt), the broader its frequency spectrum becomes (increasing Δf), and vice versa.\n",
    "\n",
    "2. Energy-Time Uncertainty Principle (Time-Energy Uncertainty):\n",
    "In quantum mechanics and high-energy physics, there is an energy-time uncertainty principle, which relates the uncertainty in energy (ΔE) and the uncertainty in time (Δt). The energy-time uncertainty principle is expressed as:\n",
    "\n",
    "   ΔE * Δt ≥ h/2π\n",
    "\n",
    "   where ΔE represents the uncertainty in energy, Δt represents the uncertainty in time, and h is the Planck constant.\n",
    "\n",
    "   This uncertainty relation indicates that the more precisely we try to measure the energy of a system (reducing ΔE), the less precisely we can determine the time at which that measurement was made (increasing Δt), and vice versa.\n",
    "\n",
    "3. Velocity-Position Uncertainty:\n",
    "In classical mechanics, the uncertainty principle can be generalized to the velocity-position uncertainty principle. It states that there is an inherent limit to the simultaneous precision with which the velocity (v) and the position (x) of a particle can be known. The velocity-position uncertainty principle is expressed as:\n",
    "\n",
    "   Δx * Δv ≥ h/2πm\n",
    "\n",
    "   where Δx represents the uncertainty in position, Δv represents the uncertainty in velocity, h is the Planck constant, and m is the mass of the particle.\n",
    "\n",
    "   This uncertainty relation implies that the more precisely we try to determine the position of a particle (reducing Δx), the less precisely we can know its velocity (increasing Δv), and vice versa.\n",
    "\n",
    "4. Information Theory and Coding Theory:\n",
    "In information theory and coding theory, the uncertainty principle is related to the concept of channel capacity. The uncertainty principle implies that it is not possible to transmit an arbitrarily large amount of information through a channel with perfect accuracy. There is a trade-off between the rate of information transmission and the level of noise or uncertainty introduced in the channel.\n",
    "\n",
    "   The uncertainty principle in information theory is expressed through various channel capacity formulas, such as the Shannon-Hartley theorem, which relates the channel capacity (C) to the bandwidth (B) and the signal-to-noise ratio (SNR):\n",
    "\n",
    "   C = B * log2(1 + SNR)\n",
    "\n",
    "   This equation indicates that the channel capacity is limited by the bandwidth and the quality of the signal (SNR), emphasizing the inherent uncertainty in information transmission.\n",
    "\n",
    "These are a few examples of how the uncertainty principle or related concepts appear in other branches of physics and related fields. The equations provided illustrate the specific uncertainty relations in those domains, highlighting the trade-offs and limitations imposed by the uncertainty principle."
   ]
  },
  {
   "cell_type": "code",
   "execution_count": 8,
   "id": "4ef460c9",
   "metadata": {},
   "outputs": [
    {
     "data": {
      "image/png": "[encoded data removed]",
      "text/plain": [
       "<Figure size 640x480 with 2 Axes>"
      ]
     },
     "metadata": {},
     "output_type": "display_data"
    }
   ],
   "source": [
    "import numpy as np\n",
    "import matplotlib.pyplot as plt\n",
    "\n",
    "# Define the time domain signal\n",
    "t = np.linspace(-5, 5, 1000)  # Time values\n",
    "signal = np.sin(2 * np.pi * t)  # Example signal (sinusoidal wave)\n",
    "\n",
    "# Perform the Fourier transform\n",
    "frequency = np.fft.fftfreq(len(t), t[1] - t[0])  # Frequency values\n",
    "spectrum = np.fft.fft(signal)  # Fourier spectrum\n",
    "\n",
    "# Plot the time-domain signal\n",
    "plt.subplot(2, 1, 1)\n",
    "plt.plot(t, signal)\n",
    "plt.xlabel('Time')\n",
    "plt.ylabel('Amplitude')\n",
    "plt.title('Time Domain Signal')\n",
    "\n",
    "# Plot the frequency-domain spectrum\n",
    "plt.subplot(2, 1, 2)\n",
    "plt.plot(frequency, np.abs(spectrum))\n",
    "plt.xlabel('Frequency')\n",
    "plt.ylabel('Magnitude')\n",
    "plt.title('Frequency Domain Spectrum')\n",
    "\n",
    "# Set the plot layout\n",
    "plt.tight_layout()\n",
    "\n",
    "# Display the plots\n",
    "plt.show()\n"
   ]
  },
  {
   "cell_type": "code",
   "execution_count": null,
   "id": "31ad9ccc",
   "metadata": {},
   "outputs": [],
   "source": []
  }
 ],
 "metadata": {
  "kernelspec": {
   "display_name": "Python 3 (ipykernel)",
   "language": "python",
   "name": "python3"
  },
  "language_info": {
   "codemirror_mode": {
    "name": "ipython",
    "version": 3
   },
   "file_extension": ".py",
   "mimetype": "text/x-python",
   "name": "python",
   "nbconvert_exporter": "python",
   "pygments_lexer": "ipython3",
   "version": "3.11.5"
  }
 },
 "nbformat": 4,
 "nbformat_minor": 5
}
