{
 "cells": [
  {
   "cell_type": "markdown",
   "id": "48b446c3",
   "metadata": {},
   "source": [
    "# Quantum Hardware"
   ]
  },
  {
   "cell_type": "markdown",
   "id": "eaeb7914",
   "metadata": {},
   "source": [
    "Quantum hardware refers to the physical systems and components used to implement quantum information processing. This includes the devices and technologies that manipulate and store quantum information. Here is an overview of key aspects of quantum hardware:\n",
    "\n",
    "### Quantum Bits (Qubits):\n",
    "\n",
    "1. **Definition:**\n",
    "   - Quantum bits, or qubits, are the fundamental units of quantum information. Unlike classical bits, qubits can exist in multiple states simultaneously due to the principles of superposition.\n",
    "\n",
    "2. **Mathematical Representation:**\n",
    "   - A qubit can be represented as a linear combination of the basis states \\(\\left|0\\right\\rangle\\) and \\(\\left|1\\right\\rangle\\): \n",
    "     \\[ \\left|\\psi\\right\\rangle = \\alpha \\left|0\\right\\rangle + \\beta \\left|1\\right\\rangle \\]\n",
    "     where \\(\\alpha\\) and \\(\\beta\\) are complex numbers, and \\(|\\alpha|^2 + |\\beta|^2 = 1\\).\n",
    "\n",
    "### Quantum Gates:\n",
    "\n",
    "1. **Definition:**\n",
    "   - Quantum gates are operations that manipulate qubits to perform quantum computations. They are the building blocks of quantum circuits.\n",
    "\n",
    "2. **Unitary Operators:**\n",
    "   - Quantum gates are represented by unitary operators \\(U\\) that preserve the normalization of the quantum state.\n",
    "\n",
    "3. **Mathematical Representation:**\n",
    "   - For a single qubit, a quantum gate can be represented by a unitary matrix \\(U\\):\n",
    "     \\[ \\left|\\psi'\\right\\rangle = U \\left|\\psi\\right\\rangle \\]\n",
    "\n",
    "### Quantum Process:\n",
    "\n",
    "1. **Definition:**\n",
    "   - A quantum process describes the evolution of a quantum state over time. It can involve a sequence of quantum gates.\n",
    "\n",
    "2. **Quantum Process Tomography:**\n",
    "   - Quantum process tomography is a technique used to characterize and reconstruct the behavior of a quantum process.\n",
    "\n",
    "### Quantum Circuits:\n",
    "\n",
    "1. **Definition:**\n",
    "   - Quantum circuits are sequences of quantum gates that perform specific quantum computations.\n",
    "\n",
    "2. **Quantum Circuit Diagrams:**\n",
    "   - Quantum circuits are often represented using circuit diagrams. Lines represent qubits, and gates are applied to qubits in sequence.\n",
    "\n",
    "### Quantum Measurement:\n",
    "\n",
    "1. **Definition:**\n",
    "   - Quantum measurement is the process of extracting classical information from a quantum system. It causes the collapse of the quantum state.\n",
    "\n",
    "2. **Projection Operators:**\n",
    "   - Measurement outcomes are associated with projection operators onto the eigenspaces of the measured observable.\n",
    "\n",
    "### Quantum Entanglement:\n",
    "\n",
    "1. **Definition:**\n",
    "   - Quantum entanglement is a phenomenon where two or more qubits become correlated in such a way that the state of one qubit cannot be described independently of the state of the others.\n",
    "\n",
    "2. **Bell States:**\n",
    "   - Bell states are maximally entangled states of two qubits.\n",
    "\n",
    "### Quantum Error Correction:\n",
    "\n",
    "1. **Definition:**\n",
    "   - Quantum error correction involves the use of additional qubits to protect quantum information from errors due to decoherence and other noise sources.\n",
    "\n",
    "2. **Surface Code:**\n",
    "   - The surface code is an example of a quantum error correction code used to protect qubits from errors.\n",
    "\n",
    "### Quantum Decoherence:\n",
    "\n",
    "1. **Definition:**\n",
    "   - Quantum decoherence refers to the loss of coherence in a quantum system, leading to the destruction of quantum superpositions and entanglement.\n",
    "\n",
    "2. **Decoherence Time (\\(T_2\\)):**\n",
    "   - The decoherence time is a measure of how long a qubit can retain its coherence.\n",
    "\n",
    "### Quantum Gates in Superconducting Qubits:\n",
    "\n",
    "1. **Josephson Junctions:**\n",
    "   - Superconducting qubits often use Josephson junctions to create non-linear inductances, enabling the implementation of quantum gates.\n",
    "\n",
    "2. **Flux Qubits and Phase Qubits:**\n",
    "   - Different types of superconducting qubits, such as flux qubits and phase qubits, exhibit different quantum behavior.\n",
    "\n",
    "### Quantum Annealers:\n",
    "\n",
    "1. **Definition:**\n",
    "   - Quantum annealers are specialized quantum devices designed to solve optimization problems. D-Wave systems are examples of quantum annealers.\n",
    "\n",
    "2. **Annealing Process:**\n",
    "   - Quantum annealers use an annealing process to find the minimum energy state of a problem Hamiltonian.\n",
    "\n",
    "### Quantum Sensing:\n",
    "\n",
    "1. **Quantum Metrology:**\n",
    "   - Quantum sensors leverage quantum properties to achieve high precision in measurements, surpassing classical limits.\n",
    "\n",
    "2. **Applications:**\n",
    "   - Quantum sensing has applications in fields such as magnetometry, gravimetry, and atomic clocks.\n",
    "\n",
    "### Quantum Cryogenics:\n",
    "\n",
    "1. **Definition:**\n",
    "   - Quantum processors often operate at extremely low temperatures to reduce thermal noise and enhance coherence times.\n",
    "\n",
    "2. **Dilution Refrigerators:**\n",
    "   - Dilution refrigerators are commonly used to cool quantum processors to temperatures close to absolute zero.\n",
    "\n",
    "### Quantum Software:\n",
    "\n",
    "1. **Quantum Programming Languages:**\n",
    "   - Quantum programming languages, such as Qiskit and Cirq, enable the development of quantum algorithms.\n",
    "\n",
    "2. **Quantum Cloud Services:**\n",
    "   - Cloud-based platforms provide access to quantum hardware and simulators for researchers and developers.\n",
    "\n",
    "Quantum hardware is a multidisciplinary field that combines physics, engineering, and computer science. Advancements in quantum hardware are crucial for realizing the full potential of quantum information processing."
   ]
  },
  {
   "cell_type": "code",
   "execution_count": 1,
   "id": "1a5e803b",
   "metadata": {},
   "outputs": [
    {
     "name": "stdout",
     "output_type": "stream",
     "text": [
      "Quantum Circuit:\n",
      "     ┌───┐     \n",
      "q_0: ┤ H ├──■──\n",
      "     └───┘┌─┴─┐\n",
      "q_1: ─────┤ X ├\n",
      "          └───┘\n",
      "\n",
      "Final State Vector: Statevector([0.70710678+0.j, 0.        +0.j, 0.        +0.j,\n",
      "             0.70710678+0.j],\n",
      "            dims=(2, 2))\n"
     ]
    }
   ],
   "source": [
    "from qiskit import QuantumCircuit, Aer, execute\n",
    "\n",
    "# Create a quantum circuit with two qubits\n",
    "qc = QuantumCircuit(2)\n",
    "\n",
    "# Apply Hadamard gate to the first qubit\n",
    "qc.h(0)\n",
    "\n",
    "# Apply CNOT gate with the first qubit as control and the second qubit as target\n",
    "qc.cx(0, 1)\n",
    "\n",
    "# Visualize the quantum circuit\n",
    "print(\"Quantum Circuit:\")\n",
    "print(qc)\n",
    "\n",
    "# Use Aer simulator to run the circuit\n",
    "simulator = Aer.get_backend('statevector_simulator')\n",
    "job = execute(qc, simulator)\n",
    "result = job.result()\n",
    "\n",
    "# Get the final state vector\n",
    "final_state = result.get_statevector()\n",
    "print(\"\\nFinal State Vector:\", final_state)\n"
   ]
  },
  {
   "cell_type": "markdown",
   "id": "43f0cd9d",
   "metadata": {},
   "source": [
    "# Lists of all the topics in Quantum Hardware"
   ]
  },
  {
   "cell_type": "markdown",
   "id": "00ea94da",
   "metadata": {},
   "source": [
    "Quantum hardware is a rapidly evolving field, and various topics contribute to its understanding, development, and application. Here is a list of key topics in quantum hardware:\n",
    "\n",
    "1. **Quantum Bits (Qubits):**\n",
    "   - Physical implementations of quantum bits, such as superconducting circuits, trapped ions, and topological qubits.\n",
    "\n",
    "2. **Quantum Gates and Circuits:**\n",
    "   - Building blocks for quantum algorithms, involving operations on qubits, entanglement, and quantum parallelism.\n",
    "\n",
    "3. **Quantum Processors:**\n",
    "   - Hardware platforms designed for quantum computation, including quantum processors from companies like IBM, Google, Rigetti, and IonQ.\n",
    "\n",
    "4. **Quantum Error Correction:**\n",
    "   - Techniques to protect quantum information from errors, including codes like the surface code and approaches like fault-tolerant quantum computation.\n",
    "\n",
    "5. **Quantum Coherence and Decoherence:**\n",
    "   - Maintaining and understanding the coherence of qubits and mitigating the impact of decoherence due to interactions with the environment.\n",
    "\n",
    "6. **Quantum Gates Implementation:**\n",
    "   - Techniques for implementing fundamental quantum gates, such as single-qubit and two-qubit gates, using physical systems.\n",
    "\n",
    "7. **Quantum Entanglement:**\n",
    "   - Creation and manipulation of entangled states, a key resource in quantum information processing.\n",
    "\n",
    "8. **Quantum Interconnects:**\n",
    "   - Technologies for connecting distant qubits and quantum processors to create large-scale quantum networks.\n",
    "\n",
    "9. **Quantum Control:**\n",
    "   - Methods to control the dynamics of quantum systems, including pulse shaping and optimal control techniques.\n",
    "\n",
    "10. **Quantum Measurement and Readout:**\n",
    "    - Techniques for measuring quantum states and extracting information from qubits, often involving quantum nondemolition measurements.\n",
    "\n",
    "11. **Quantum Sensors:**\n",
    "    - Application of quantum technology for high-precision sensing, including quantum-enhanced measurements.\n",
    "\n",
    "12. **Quantum Communication:**\n",
    "    - Development of quantum communication protocols and quantum key distribution for secure communication.\n",
    "\n",
    "13. **Quantum Software Development:**\n",
    "    - Tools and frameworks for programming quantum computers, including Qiskit, Cirq, and Forest.\n",
    "\n",
    "14. **Quantum Algorithms:**\n",
    "    - Development and implementation of quantum algorithms for solving specific problems faster than classical algorithms, such as Shor's algorithm and Grover's algorithm.\n",
    "\n",
    "15. **Quantum Machine Learning:**\n",
    "    - Integration of quantum computing with machine learning techniques for solving complex problems.\n",
    "\n",
    "16. **Quantum Cryptography:**\n",
    "    - Application of quantum principles for secure communication, including quantum key distribution.\n",
    "\n",
    "17. **Quantum Metrology:**\n",
    "    - Using quantum techniques for precision measurements, surpassing classical limits.\n",
    "\n",
    "18. **Quantum Sensing:**\n",
    "    - Leveraging quantum systems for high-sensitivity measurements, such as magnetic field sensing.\n",
    "\n",
    "19. **Quantum Annealing:**\n",
    "    - Quantum algorithms and hardware for solving optimization problems, as implemented in quantum annealers like those from D-Wave.\n",
    "\n",
    "20. **Quantum Materials and Fabrication:**\n",
    "    - Development of materials with specific quantum properties and fabrication techniques for constructing quantum devices.\n",
    "\n",
    "21. **Quantum Cryogenics:**\n",
    "    - Cooling systems to maintain quantum processors at extremely low temperatures to reduce thermal noise and increase coherence times.\n",
    "\n",
    "22. **Quantum Benchmarking:**\n",
    "    - Techniques for assessing the performance of quantum processors and evaluating their fidelity.\n",
    "\n",
    "These topics represent a broad overview of the multidisciplinary nature of quantum hardware research and development. Each area involves collaboration between physicists, engineers, computer scientists, and materials scientists to advance the field of quantum computing and quantum information processing."
   ]
  },
  {
   "cell_type": "markdown",
   "id": "7e4b6ce1",
   "metadata": {},
   "source": [
    "# Quantum Bits (Qubits):\n",
    "\n",
    "Physical implementations of quantum bits, such as superconducting circuits, trapped ions, and topological qubits."
   ]
  },
  {
   "cell_type": "markdown",
   "id": "f13b6431",
   "metadata": {},
   "source": [
    "### Quantum Bits (Qubits) Overview:\n",
    "\n",
    "Quantum bits, or qubits, are the fundamental building blocks of quantum information processing. Unlike classical bits, qubits can exist in multiple states simultaneously, thanks to the principles of superposition and entanglement. Here's an overview of physical implementations of qubits and some key concepts:\n",
    "\n",
    "### 1. Superconducting Qubits:\n",
    "\n",
    "#### Definition:\n",
    "Superconducting qubits are implemented using superconducting circuits that exploit the phenomenon of superconductivity to create and manipulate quantum states.\n",
    "\n",
    "#### Key Characteristics:\n",
    "- **Josephson Junctions:** Superconducting qubits often rely on Josephson junctions, which are non-linear electrical components that enable the creation of qubits.\n",
    "\n",
    "#### Mathematical Representation:\n",
    "The Hamiltonian for a superconducting qubit can be modeled using the circuit's energy levels. The energy levels can be described using the Pauli matrices \\(\\sigma_x\\), \\(\\sigma_y\\), and \\(\\sigma_z\\).\n",
    "\n",
    "\\[ H = -\\frac{\\hbar\\omega}{2} \\sigma_z \\]\n",
    "\n",
    "### 2. Trapped Ions:\n",
    "\n",
    "#### Definition:\n",
    "Trapped ions qubits use individual ions, typically confined using electromagnetic fields, as qubits.\n",
    "\n",
    "#### Key Characteristics:\n",
    "- **Energy Levels:** Qubits are encoded using internal energy levels of trapped ions.\n",
    "- **Qubit Manipulation:** Qubit operations are performed using laser pulses to induce transitions between energy levels.\n",
    "\n",
    "#### Mathematical Representation:\n",
    "The Hamiltonian for a two-level system (qubit) can be expressed using Pauli matrices and the detuning parameter.\n",
    "\n",
    "\\[ H = \\frac{\\hbar\\omega}{2} \\sigma_z + \\frac{\\hbar\\Omega}{2} (\\sigma_+ e^{-i\\Delta t} + \\sigma_- e^{i\\Delta t}) \\]\n",
    "\n",
    "### 3. Topological Qubits:\n",
    "\n",
    "#### Definition:\n",
    "Topological qubits are qubits that rely on anyons, which are exotic particles with fractionalized quantum statistics.\n",
    "\n",
    "#### Key Characteristics:\n",
    "- **Braiding Operations:** Qubits are manipulated through braiding operations of anyons.\n",
    "- **Fault Tolerance:** Topological qubits are known for their potential robustness against certain types of errors.\n",
    "\n",
    "#### Mathematical Representation:\n",
    "The mathematical description involves anyonic operators and their fusion rules. Braiding operations can be represented using unitary matrices.\n",
    "\n",
    "\\[ R(\\theta) = \\begin{bmatrix} e^{i\\theta/2} & 0 \\\\ 0 & e^{-i\\theta/2} \\end{bmatrix} \\]\n",
    "\n",
    "### 4. Semiconductor Qubits:\n",
    "\n",
    "#### Definition:\n",
    "Semiconductor qubits use electrons or holes in semiconductors as qubits.\n",
    "\n",
    "#### Key Characteristics:\n",
    "- **Spin Qubits:** Qubits are often encoded using the electron or hole spin.\n",
    "- **Electron Spin Resonance (ESR):** Qubits are manipulated using ESR techniques.\n",
    "\n",
    "#### Mathematical Representation:\n",
    "The Hamiltonian for a single-electron spin qubit involves the Zeeman term and the hyperfine interaction.\n",
    "\n",
    "\\[ H = g\\mu_B \\mathbf{B} \\cdot \\mathbf{S} + A\\mathbf{I} \\cdot \\mathbf{S} \\]\n",
    "\n",
    "### Conclusion:\n",
    "\n",
    "Different physical implementations of qubits involve distinct mathematical descriptions and characteristics. Quantum computing researchers are actively exploring various platforms to address challenges and optimize qubit performance. The choice of qubit technology depends on factors like coherence time, error rates, and scalability, among others. Each implementation contributes to the broader goal of building scalable and fault-tolerant quantum computers."
   ]
  },
  {
   "cell_type": "code",
   "execution_count": 3,
   "id": "c9f81c4d",
   "metadata": {},
   "outputs": [
    {
     "name": "stdout",
     "output_type": "stream",
     "text": [
      "Superconducting Qubit Quantum Circuit:\n",
      "     ┌───┐     ┌─┐   \n",
      "q_0: ┤ H ├──■──┤M├───\n",
      "     └───┘┌─┴─┐└╥┘┌─┐\n",
      "q_1: ─────┤ X ├─╫─┤M├\n",
      "          └───┘ ║ └╥┘\n",
      "c: 2/═══════════╩══╩═\n",
      "                0  1 \n",
      "\n",
      "Measurement Outcomes: {'00': 514, '11': 510}\n"
     ]
    }
   ],
   "source": [
    "from qiskit import QuantumCircuit, Aer, transpile, assemble\n",
    "\n",
    "# Create a quantum circuit with two superconducting qubits\n",
    "qc_superconducting = QuantumCircuit(2, 2)\n",
    "\n",
    "# Apply Hadamard gate to the first qubit\n",
    "qc_superconducting.h(0)\n",
    "\n",
    "# Apply CNOT gate with the first qubit as control and the second qubit as target\n",
    "qc_superconducting.cx(0, 1)\n",
    "\n",
    "# Measure the qubits\n",
    "qc_superconducting.measure([0, 1], [0, 1])\n",
    "\n",
    "# Visualize the quantum circuit\n",
    "print(\"Superconducting Qubit Quantum Circuit:\")\n",
    "print(qc_superconducting)\n",
    "\n",
    "# Simulate the circuit using the Aer simulator\n",
    "simulator = Aer.get_backend('qasm_simulator')\n",
    "compiled_circuit_superconducting = transpile(qc_superconducting, simulator)\n",
    "result_superconducting = simulator.run(compiled_circuit_superconducting).result()\n",
    "\n",
    "# Get the measurement outcomes\n",
    "counts_superconducting = result_superconducting.get_counts(qc_superconducting)\n",
    "print(\"\\nMeasurement Outcomes:\", counts_superconducting)\n"
   ]
  },
  {
   "cell_type": "code",
   "execution_count": 4,
   "id": "d53a4c69",
   "metadata": {},
   "outputs": [
    {
     "name": "stdout",
     "output_type": "stream",
     "text": [
      "Trapped Ions Quantum Circuit:\n",
      "     ┌───┐     ┌─┐   \n",
      "q_0: ┤ H ├──■──┤M├───\n",
      "     └───┘┌─┴─┐└╥┘┌─┐\n",
      "q_1: ─────┤ X ├─╫─┤M├\n",
      "          └───┘ ║ └╥┘\n",
      "c: 2/═══════════╩══╩═\n",
      "                0  1 \n",
      "\n",
      "Measurement Outcomes: {'11': 518, '00': 506}\n"
     ]
    }
   ],
   "source": [
    "from qiskit import QuantumCircuit, Aer, transpile, assemble\n",
    "\n",
    "# Create a quantum circuit with two qubits (simulating trapped ions)\n",
    "qc_trapped_ions = QuantumCircuit(2, 2)\n",
    "\n",
    "# Apply Hadamard gate to the first qubit\n",
    "qc_trapped_ions.h(0)\n",
    "\n",
    "# Apply a controlled-X (CNOT) gate with the first qubit as control and the second qubit as target\n",
    "qc_trapped_ions.cx(0, 1)\n",
    "\n",
    "# Measure the qubits\n",
    "qc_trapped_ions.measure([0, 1], [0, 1])\n",
    "\n",
    "# Visualize the quantum circuit\n",
    "print(\"Trapped Ions Quantum Circuit:\")\n",
    "print(qc_trapped_ions)\n",
    "\n",
    "# Simulate the circuit using the Aer simulator\n",
    "simulator = Aer.get_backend('qasm_simulator')\n",
    "compiled_circuit_trapped_ions = transpile(qc_trapped_ions, simulator)\n",
    "result_trapped_ions = simulator.run(compiled_circuit_trapped_ions).result()\n",
    "\n",
    "# Get the measurement outcomes\n",
    "counts_trapped_ions = result_trapped_ions.get_counts(qc_trapped_ions)\n",
    "print(\"\\nMeasurement Outcomes:\", counts_trapped_ions)\n"
   ]
  },
  {
   "cell_type": "code",
   "execution_count": 5,
   "id": "f228d273",
   "metadata": {},
   "outputs": [
    {
     "name": "stdout",
     "output_type": "stream",
     "text": [
      "Topological Qubits Quantum Circuit:\n",
      "     ┌───┐          ┌───┐┌─┐   \n",
      "q_0: ┤ H ├──■────■──┤ X ├┤M├───\n",
      "     └───┘┌─┴─┐┌─┴─┐└─┬─┘└╥┘┌─┐\n",
      "q_1: ─────┤ X ├┤ X ├──■───╫─┤M├\n",
      "          └───┘└───┘      ║ └╥┘\n",
      "c: 2/═════════════════════╩══╩═\n",
      "                          0  1 \n",
      "\n",
      "Measurement Outcomes: {'01': 502, '00': 522}\n"
     ]
    }
   ],
   "source": [
    "from qiskit import QuantumCircuit, Aer, transpile, assemble\n",
    "\n",
    "# Create a quantum circuit with two qubits (simulating topological qubits)\n",
    "qc_topological_qubits = QuantumCircuit(2, 2)\n",
    "\n",
    "# Apply Hadamard gate to the first qubit\n",
    "qc_topological_qubits.h(0)\n",
    "\n",
    "# Apply a controlled-X (CNOT) gate with the first qubit as control and the second qubit as target\n",
    "qc_topological_qubits.cx(0, 1)\n",
    "\n",
    "# Perform a \"braiding\" operation (not a true braiding operation, just for illustration)\n",
    "qc_topological_qubits.cx(0, 1)\n",
    "qc_topological_qubits.cx(1, 0)\n",
    "\n",
    "# Measure the qubits\n",
    "qc_topological_qubits.measure([0, 1], [0, 1])\n",
    "\n",
    "# Visualize the quantum circuit\n",
    "print(\"Topological Qubits Quantum Circuit:\")\n",
    "print(qc_topological_qubits)\n",
    "\n",
    "# Simulate the circuit using the Aer simulator\n",
    "simulator = Aer.get_backend('qasm_simulator')\n",
    "compiled_circuit_topological_qubits = transpile(qc_topological_qubits, simulator)\n",
    "result_topological_qubits = simulator.run(compiled_circuit_topological_qubits).result()\n",
    "\n",
    "# Get the measurement outcomes\n",
    "counts_topological_qubits = result_topological_qubits.get_counts(qc_topological_qubits)\n",
    "print(\"\\nMeasurement Outcomes:\", counts_topological_qubits)\n"
   ]
  },
  {
   "cell_type": "code",
   "execution_count": 8,
   "id": "f5f05505",
   "metadata": {},
   "outputs": [
    {
     "name": "stdout",
     "output_type": "stream",
     "text": [
      "Semiconductor Qubits Quantum Circuit:\n",
      "     ┌───┐     ┌─┐   \n",
      "q_0: ┤ H ├──■──┤M├───\n",
      "     └───┘┌─┴─┐└╥┘┌─┐\n",
      "q_1: ─────┤ X ├─╫─┤M├\n",
      "          └───┘ ║ └╥┘\n",
      "c: 2/═══════════╩══╩═\n",
      "                0  1 \n"
     ]
    },
    {
     "name": "stderr",
     "output_type": "stream",
     "text": [
      "C:\\Users\\yashr\\anaconda3\\New folder\\Anaconda3\\Lib\\site-packages\\qiskit\\visualization\\circuit\\matplotlib.py:266: FutureWarning: The default matplotlib drawer scheme will be changed to \"iqp\" in a following release. To silence this warning, specify the current default explicitly as style=\"clifford\", or the new default as style=\"iqp\".\n",
      "  self._style, def_font_ratio = load_style(self._style)\n"
     ]
    },
    {
     "name": "stdout",
     "output_type": "stream",
     "text": [
      "\n",
      "Measurement Outcomes: {'11': 548, '00': 476}\n"
     ]
    }
   ],
   "source": [
    "from qiskit import QuantumCircuit, Aer, transpile, assemble\n",
    "\n",
    "# Create a quantum circuit with two qubits (simulating semiconductor qubits)\n",
    "qc_semiconductor_qubits = QuantumCircuit(2, 2)\n",
    "\n",
    "# Apply Hadamard gate to the first qubit\n",
    "qc_semiconductor_qubits.h(0)\n",
    "\n",
    "# Apply a controlled-X (CNOT) gate with the first qubit as control and the second qubit as target\n",
    "qc_semiconductor_qubits.cx(0, 1)\n",
    "\n",
    "# Measure the qubits\n",
    "qc_semiconductor_qubits.measure([0, 1], [0, 1])\n",
    "\n",
    "# Visualize the quantum circuit\n",
    "print(\"Semiconductor Qubits Quantum Circuit:\")\n",
    "print(qc_semiconductor_qubits)\n",
    "qc_semiconductor_qubits.draw(\"mpl\")\n",
    "\n",
    "# Simulate the circuit using the Aer simulator\n",
    "simulator = Aer.get_backend('qasm_simulator')\n",
    "compiled_circuit_semiconductor_qubits = transpile(qc_semiconductor_qubits, simulator)\n",
    "result_semiconductor_qubits = simulator.run(compiled_circuit_semiconductor_qubits).result()\n",
    "\n",
    "# Get the measurement outcomes\n",
    "counts_semiconductor_qubits = result_semiconductor_qubits.get_counts(qc_semiconductor_qubits)\n",
    "print(\"\\nMeasurement Outcomes:\", counts_semiconductor_qubits)\n"
   ]
  },
  {
   "cell_type": "markdown",
   "id": "9412228d",
   "metadata": {},
   "source": [
    "# Quantum Gates and Circuits:\n",
    "\n",
    "Building blocks for quantum algorithms, involving operations on qubits, entanglement, and quantum parallelism."
   ]
  },
  {
   "cell_type": "markdown",
   "id": "4d961a0f",
   "metadata": {},
   "source": [
    "### Quantum Gates:\n",
    "\n",
    "Quantum gates are fundamental building blocks in quantum computing, representing operations that can be applied to qubits. These gates manipulate the quantum state of qubits, allowing for the creation of quantum circuits. Unlike classical bits, which can be in a state of either 0 or 1, qubits can exist in a superposition of both states simultaneously.\n",
    "\n",
    "1. **Hadamard Gate (H):**\n",
    "   The Hadamard gate is a key gate in creating superposition. It transforms a qubit from the |0⟩ state to the state (|0⟩ + |1⟩) / √2.\n",
    "\n",
    "   \\[ H = \\frac{1}{\\sqrt{2}} \\begin{bmatrix} 1 & 1 \\\\ 1 & -1 \\end{bmatrix} \\]\n",
    "\n",
    "2. **Pauli-X Gate (X):**\n",
    "   The Pauli-X gate is similar to a classical NOT gate. It flips the state of a qubit from |0⟩ to |1⟩ and vice versa.\n",
    "\n",
    "   \\[ X = \\begin{bmatrix} 0 & 1 \\\\ 1 & 0 \\end{bmatrix} \\]\n",
    "\n",
    "3. **Pauli-Y Gate (Y):**\n",
    "   The Pauli-Y gate introduces a phase flip. It performs a bit flip and a phase flip.\n",
    "\n",
    "   \\[ Y = \\begin{bmatrix} 0 & -i \\\\ i & 0 \\end{bmatrix} \\]\n",
    "\n",
    "4. **Pauli-Z Gate (Z):**\n",
    "   The Pauli-Z gate introduces a phase flip without changing the state.\n",
    "\n",
    "   \\[ Z = \\begin{bmatrix} 1 & 0 \\\\ 0 & -1 \\end{bmatrix} \\]\n",
    "\n",
    "5. **CNOT (Controlled-NOT) Gate:**\n",
    "   The CNOT gate is an entangling gate, performing an X gate on the target qubit if the control qubit is in the |1⟩ state.\n",
    "\n",
    "   \\[ \\text{CNOT} = \\begin{bmatrix} 1 & 0 & 0 & 0 \\\\ 0 & 1 & 0 & 0 \\\\ 0 & 0 & 0 & 1 \\\\ 0 & 0 & 1 & 0 \\end{bmatrix} \\]\n",
    "\n",
    "### Quantum Circuits:\n",
    "\n",
    "Quantum circuits are constructed using quantum gates to perform specific computations. These circuits are composed of qubits and gates arranged in a sequence.\n",
    "\n",
    "1. **Superposition:**\n",
    "   Superposition is achieved using Hadamard gates. For \\(n\\) qubits, the state of the system can exist in \\(2^n\\) possible states simultaneously.\n",
    "\n",
    "   \\[ | \\psi \\rangle = \\frac{1}{\\sqrt{2^n}} \\sum_{k=0}^{2^n-1} |k \\rangle \\]\n",
    "\n",
    "2. **Entanglement:**\n",
    "   Entanglement is a quantum phenomenon where the state of one qubit is directly related to the state of another, regardless of the physical separation. This is often achieved using CNOT gates.\n",
    "\n",
    "   \\[ |\\psi\\rangle = \\frac{1}{\\sqrt{2}} (|00\\rangle + |11\\rangle) \\]\n",
    "\n",
    "3. **Quantum Parallelism:**\n",
    "   Quantum parallelism allows quantum computers to perform parallel computations on all possible inputs simultaneously. This is a result of the principles of superposition.\n",
    "\n",
    "   \\[ | \\psi \\rangle = \\frac{1}{\\sqrt{2}} (|0\\rangle + |1\\rangle) \\]\n",
    "   \\[ U_f | \\psi \\rangle = \\frac{1}{\\sqrt{2}} (|0 \\oplus f(0)\\rangle + |1 \\oplus f(1)\\rangle) \\]\n",
    "\n",
    "4. **Quantum Measurement:**\n",
    "   The final step in a quantum circuit is measurement, which collapses the superposition of states into a specific outcome.\n",
    "\n",
    "   \\[ P(|k\\rangle) = |\\langle k | \\psi \\rangle|^2 \\]\n",
    "\n",
    "Quantum gates and circuits play a crucial role in quantum algorithms, allowing for the manipulation of quantum information and the execution of quantum parallelism, which can potentially lead to a quantum speedup for certain types of problems."
   ]
  },
  {
   "cell_type": "code",
   "execution_count": 10,
   "id": "82397d3a",
   "metadata": {},
   "outputs": [
    {
     "name": "stdout",
     "output_type": "stream",
     "text": [
      "Measurement results: {'00': 0.5, '11': 0.5}\n"
     ]
    },
    {
     "data": {
      "image/png": "[encoded data removed]",
      "text/plain": [
       "<Figure size 700x500 with 1 Axes>"
      ]
     },
     "execution_count": 10,
     "metadata": {},
     "output_type": "execute_result"
    }
   ],
   "source": [
    "from qiskit import QuantumCircuit, Aer, transpile, assemble, execute\n",
    "from qiskit.visualization import plot_histogram\n",
    "\n",
    "# Create a quantum circuit with 2 qubits and 2 classical bits\n",
    "quantum_circuit = QuantumCircuit(2, 2)\n",
    "\n",
    "# Apply Hadamard gate to both qubits for superposition\n",
    "quantum_circuit.h([0, 1])\n",
    "\n",
    "# Apply CNOT gate for entanglement\n",
    "quantum_circuit.cx(0, 1)\n",
    "\n",
    "# Measure qubits to classical bits\n",
    "quantum_circuit.measure([0, 1], [0, 1])\n",
    "\n",
    "# Define the Aer simulator backend\n",
    "simulator = Aer.get_backend('qasm_simulator')\n",
    "\n",
    "# Transpile the quantum circuit for the simulator\n",
    "transpiled_circuit = transpile(quantum_circuit, simulator)\n",
    "\n",
    "# Assemble the transpiled circuit for execution\n",
    "assembled_circuit = assemble(transpiled_circuit)\n",
    "\n",
    "# Execute the circuit on the simulator\n",
    "#result = execute(assembled_circuit, simulator).result()\n",
    "# Get the result\n",
    "result = job.result()\n",
    "\n",
    "# Display the measurement results\n",
    "counts = result.get_counts()\n",
    "print(\"Measurement results:\", counts)\n",
    "\n",
    "# Visualize the measurement results\n",
    "plot_histogram(counts)\n"
   ]
  },
  {
   "cell_type": "markdown",
   "id": "792b8757",
   "metadata": {},
   "source": [
    "# Quantum Processors:\n",
    "\n",
    "Hardware platforms designed for quantum computation, including quantum processors from companies like IBM, Google, Rigetti, and IonQ."
   ]
  },
  {
   "cell_type": "markdown",
   "id": "baec7c33",
   "metadata": {},
   "source": [
    "# Quantum Processors: Overview and Hardware Platforms\n",
    "\n",
    "## 1. Introduction to Quantum Processors:\n",
    "\n",
    "Quantum processors are the physical devices designed to perform quantum computations by manipulating qubits based on the principles of quantum mechanics. These processors are at the core of quantum computers and provide the computational power necessary for solving certain problems more efficiently than classical computers.\n",
    "\n",
    "## 2. Quantum Bits (Qubits):\n",
    "\n",
    "In quantum computing, information is stored in quantum bits or qubits. Unlike classical bits, qubits can exist in multiple states simultaneously, thanks to the principles of superposition and entanglement.\n",
    "\n",
    "### Superposition:\n",
    "\\[ \\vert \\psi \\rangle = \\alpha \\vert 0 \\rangle + \\beta \\vert 1 \\rangle \\]\n",
    "\n",
    "### Entanglement:\n",
    "\\[ \\vert \\psi \\rangle = \\frac{1}{\\sqrt{2}} (\\vert 00 \\rangle + \\vert 11 \\rangle) \\]\n",
    "\n",
    "## 3. Quantum Gates:\n",
    "\n",
    "Quantum gates are the building blocks of quantum circuits. They perform operations on qubits, transforming their states. Common quantum gates include Hadamard gate (H), CNOT gate, X gate, and Z gate.\n",
    "\n",
    "## 4. Leading Quantum Processor Companies:\n",
    "\n",
    "### IBM Quantum Processors:\n",
    "IBM offers a range of quantum processors accessible through the IBM Quantum Experience. Notable processors include the IBM Quantum Hummingbird and IBM Quantum Condor.\n",
    "\n",
    "### Google Quantum Processors:\n",
    "Google has developed quantum processors, including the 54-qubit Sycamore processor, which achieved quantum supremacy in a specific task.\n",
    "\n",
    "### Rigetti Quantum Processors:\n",
    "Rigetti Computing provides access to quantum processors such as Aspen-9, Aspen-7, and Aspen-3 through their cloud-based platform.\n",
    "\n",
    "### IonQ Quantum Processors:\n",
    "IonQ focuses on trapped-ion quantum processors. Their systems, like the IonQ 11Q, use individual ions for qubit storage and manipulation.\n",
    "\n",
    "## 5. Quantum Gates in Action:\n",
    "\n",
    "Here is an example of a quantum circuit applying a Hadamard gate and a CNOT gate:\n",
    "\n",
    "```python\n",
    "from qiskit import QuantumCircuit, transpile, Aer, assemble\n",
    "\n",
    "# Create a quantum circuit\n",
    "qc = QuantumCircuit(2)\n",
    "\n",
    "# Apply Hadamard gate on the first qubit\n",
    "qc.h(0)\n",
    "\n",
    "# Apply CNOT gate with control on the first qubit and target on the second qubit\n",
    "qc.cx(0, 1)\n",
    "\n",
    "# Visualize the quantum circuit\n",
    "print(qc)\n",
    "\n",
    "# Simulate the quantum circuit\n",
    "backend = Aer.get_backend('statevector_simulator')\n",
    "compiled_circuit = transpile(qc, backend)\n",
    "qobj = assemble(compiled_circuit)\n",
    "result = backend.run(qobj).result()\n",
    "\n",
    "# Get the final state vector\n",
    "final_state = result.get_statevector()\n",
    "print(\"Final state vector:\", final_state)\n",
    "```\n",
    "\n",
    "## 6. Quantum Error Correction:\n",
    "\n",
    "Quantum processors are susceptible to errors due to factors like decoherence and gate imperfections. Quantum error correction codes, such as the surface code, are employed to mitigate errors and enhance the reliability of quantum computations.\n",
    "\n",
    "## 7. Quantum Volume:\n",
    "\n",
    "Quantum volume is a metric used to assess the performance of quantum processors. It considers factors like gate fidelity, qubit connectivity, and error rates to quantify the computational power of a quantum device.\n",
    "\n",
    "## 8. Conclusion:\n",
    "\n",
    "Quantum processors represent a revolutionary paradigm in computing, offering the potential to solve complex problems exponentially faster than classical computers. Ongoing research and advancements aim to overcome existing challenges and bring quantum computing closer to practical applications."
   ]
  },
  {
   "cell_type": "code",
   "execution_count": 1,
   "id": "9e824ac2",
   "metadata": {},
   "outputs": [
    {
     "name": "stdout",
     "output_type": "stream",
     "text": [
      "     ┌───┐     \n",
      "q_0: ┤ H ├──■──\n",
      "     └───┘┌─┴─┐\n",
      "q_1: ─────┤ X ├\n",
      "          └───┘\n",
      "Final state vector: Statevector([0.70710678+0.j, 0.        +0.j, 0.        +0.j,\n",
      "             0.70710678+0.j],\n",
      "            dims=(2, 2))\n"
     ]
    },
    {
     "name": "stderr",
     "output_type": "stream",
     "text": [
      "C:\\Users\\yashr\\AppData\\Local\\Temp\\ipykernel_9884\\3073385470.py:19: DeprecationWarning: Using a qobj for run() is deprecated as of qiskit-aer 0.9.0 and will be removed no sooner than 3 months from that release date. Transpiled circuits should now be passed directly using `backend.run(circuits, **run_options).\n",
      "  result = backend.run(qobj).result()\n"
     ]
    }
   ],
   "source": [
    "from qiskit import QuantumCircuit, transpile, Aer, assemble\n",
    "\n",
    "# Create a quantum circuit\n",
    "qc = QuantumCircuit(2)\n",
    "\n",
    "# Apply Hadamard gate on the first qubit\n",
    "qc.h(0)\n",
    "\n",
    "# Apply CNOT gate with control on the first qubit and target on the second qubit\n",
    "qc.cx(0, 1)\n",
    "\n",
    "# Visualize the quantum circuit\n",
    "print(qc)\n",
    "\n",
    "# Simulate the quantum circuit\n",
    "backend = Aer.get_backend('statevector_simulator')\n",
    "compiled_circuit = transpile(qc, backend)\n",
    "qobj = assemble(compiled_circuit)\n",
    "result = backend.run(qobj).result()\n",
    "\n",
    "# Get the final state vector\n",
    "final_state = result.get_statevector()\n",
    "print(\"Final state vector:\", final_state)"
   ]
  },
  {
   "cell_type": "markdown",
   "id": "e2c5f123",
   "metadata": {},
   "source": [
    "# Quantum Error Correction:\n",
    "\n",
    "Techniques to protect quantum information from errors, including codes like the surface code and approaches like fault-tolerant quantum computation."
   ]
  },
  {
   "cell_type": "markdown",
   "id": "c6ec1c8b",
   "metadata": {},
   "source": [
    "## Quantum Error Correction:\n",
    "\n",
    "Quantum error correction is a crucial aspect of quantum computing as it addresses the susceptibility of quantum systems to errors induced by decoherence, noise, and other environmental factors. The primary goal is to protect quantum information from errors and enable reliable computation in the presence of quantum noise. Two main approaches to quantum error correction are quantum error-correcting codes and fault-tolerant quantum computation.\n",
    "\n",
    "### 1. **Quantum Error-Correcting Codes:**\n",
    "\n",
    "#### a. **Introduction:**\n",
    "   - Quantum error-correcting codes are analogous to classical error-correcting codes but operate in the quantum domain.\n",
    "   - They encode quantum information redundantly in a way that errors can be detected and corrected.\n",
    "\n",
    "#### b. **Basic Concepts:**\n",
    "   - **Qubits and Logical Qubits:** Quantum error correction typically involves encoding logical qubits in a larger set of physical qubits.\n",
    "   - **Syndrome Measurement:** Ancillary qubits (ancillas) are used to measure the syndrome, indicating the presence of errors without directly measuring the state.\n",
    "\n",
    "#### c. **Surface Code:**\n",
    "   - The Surface Code is a popular quantum error-correcting code known for its efficiency.\n",
    "   - It encodes logical qubits on a two-dimensional lattice of physical qubits.\n",
    "   - Syndrome measurements are performed by measuring parity checks around each qubit.\n",
    "\n",
    "#### d. **Equations for Error Detection:**\n",
    "   - The syndrome measurements are used to identify the presence of errors. Mathematically, this involves checking the parity of certain stabilizer operators.\n",
    "     \\[ S_i = \\prod_{j \\in \\text{neighbors}(i)} Z_j \\]\n",
    "   - The presence of an error results in an observable syndrome, which is used to pinpoint and correct errors.\n",
    "\n",
    "### 2. **Fault-Tolerant Quantum Computation:**\n",
    "\n",
    "#### a. **Introduction:**\n",
    "   - Fault-tolerant quantum computation extends quantum error correction to ensure that quantum algorithms can be executed reliably.\n",
    "\n",
    "#### b. **Threshold Theorem:**\n",
    "   - The threshold theorem provides a fundamental limit on the error rates that can be tolerated for fault-tolerant quantum computation to succeed.\n",
    "   - If the error rate per physical gate operation is below a certain threshold, an arbitrarily long quantum computation can be reliably executed.\n",
    "\n",
    "#### c. **Error Correction Levels:**\n",
    "   - **Physical Qubits:** Errors at the physical qubit level are corrected using quantum error-correcting codes.\n",
    "   - **Logical Qubits:** Higher levels of error correction involve treating logical qubits as physical qubits and applying error correction again.\n",
    "\n",
    "#### d. **Equations for Fault-Tolerant Threshold:**\n",
    "   - The threshold theorem provides a quantitative measure of the error rates that a fault-tolerant quantum computer can tolerate.\n",
    "\n",
    "### 3. **Topological Quantum Codes:**\n",
    "\n",
    "#### a. **Introduction:**\n",
    "   - Topological quantum codes, such as the Surface Code, leverage the topological properties of encoded states for fault tolerance.\n",
    "   - Topological qubits are immune to certain local errors.\n",
    "\n",
    "#### b. **Anyon Model:**\n",
    "   - Anyons are quasi-particle excitations in topologically ordered phases.\n",
    "   - The braiding of anyons can be used for quantum gates, and their non-local nature provides error protection.\n",
    "\n",
    "#### c. **Braiding Operations:**\n",
    "   - Braiding anyons in a topological code can create non-local transformations, allowing for fault-tolerant quantum computation.\n",
    "\n",
    "### 4. **Applications and Challenges:**\n",
    "\n",
    "#### a. **Applications:**\n",
    "   - Quantum error correction is vital for realizing large-scale, fault-tolerant quantum computers capable of executing complex algorithms.\n",
    "   - Quantum communication protocols also benefit from error correction techniques.\n",
    "\n",
    "#### b. **Challenges:**\n",
    "   - Implementing fault-tolerant quantum computation requires significant overhead in terms of physical qubits and computational resources.\n",
    "   - Mitigating errors at the physical level remains a key challenge in the development of scalable quantum technologies.\n",
    "\n",
    "### 5. **Frameworks and Implementations:**\n",
    "   - Quantum error correction techniques are implemented using quantum programming frameworks such as Qiskit, Cirq, and others.\n",
    "\n",
    "Quantum error correction is an active area of research, and advancements in fault-tolerant quantum computation are essential for the practical realization of large-scale quantum computers. The field continues to explore new codes, techniques, and architectures to address the challenges associated with quantum noise and errors."
   ]
  },
  {
   "cell_type": "code",
   "execution_count": 1,
   "id": "b205a8cd",
   "metadata": {},
   "outputs": [
    {
     "name": "stderr",
     "output_type": "stream",
     "text": [
      "C:\\Users\\yashr\\AppData\\Local\\Temp\\ipykernel_1144\\3574364260.py:50: DeprecationWarning: Using a qobj for run() is deprecated as of qiskit-aer 0.9.0 and will be removed no sooner than 3 months from that release date. Transpiled circuits should now be passed directly using `backend.run(circuits, **run_options).\n",
      "  result = simulator.run(assemble(circuit)).result()\n",
      "C:\\Users\\yashr\\AppData\\Local\\Temp\\ipykernel_1144\\3574364260.py:61: DeprecationWarning: Using a qobj for run() is deprecated as of qiskit-aer 0.9.0 and will be removed no sooner than 3 months from that release date. Transpiled circuits should now be passed directly using `backend.run(circuits, **run_options).\n",
      "  corrected_result = simulator.run(assemble(circuit)).result()\n"
     ]
    },
    {
     "name": "stdout",
     "output_type": "stream",
     "text": [
      "Measured Syndrome: 11\n"
     ]
    }
   ],
   "source": [
    "from qiskit import QuantumCircuit, Aer, transpile, assemble\n",
    "from qiskit.visualization import plot_histogram\n",
    "\n",
    "# Function to create a bit-flip code circuit\n",
    "def create_bit_flip_code():\n",
    "    # Create a quantum circuit with 3 qubits (1 logical qubit and 2 ancillas)\n",
    "    qc = QuantumCircuit(3, 2)\n",
    "    \n",
    "    # Encode the logical qubit using bit-flip code\n",
    "    qc.h(0)  # Hadamard on the logical qubit\n",
    "    qc.cx(0, 1)  # CNOT to create an entangled pair with ancilla 1\n",
    "    qc.cx(0, 2)  # CNOT to create an entangled pair with ancilla 2\n",
    "    \n",
    "    return qc\n",
    "\n",
    "# Function to introduce a bit-flip error\n",
    "def introduce_error(qc, error_qubit):\n",
    "    qc.x(error_qubit)  # Apply a bit-flip error to the specified qubit\n",
    "\n",
    "# Function to measure the syndrome (detect errors)\n",
    "def measure_syndrome(qc):\n",
    "    # Perform CNOTs to create entanglement for syndrome measurement\n",
    "    qc.cx(0, 1)\n",
    "    qc.cx(0, 2)\n",
    "    \n",
    "    # Measure ancillas to obtain the syndrome\n",
    "    qc.measure(1, 0)\n",
    "    qc.measure(2, 1)\n",
    "\n",
    "# Function to correct errors based on the measured syndrome\n",
    "def correct_errors(qc, syndrome):\n",
    "    if syndrome == '01':\n",
    "        qc.x(0)  # Flip the logical qubit to correct the error\n",
    "    elif syndrome == '10':\n",
    "        qc.x(0)  # Flip the logical qubit to correct the error\n",
    "\n",
    "# Simulate the error correction process\n",
    "def simulate_error_correction():\n",
    "    # Create the bit-flip code circuit\n",
    "    circuit = create_bit_flip_code()\n",
    "    \n",
    "    # Introduce a bit-flip error on one of the qubits\n",
    "    introduce_error(circuit, 0)\n",
    "    \n",
    "    # Measure the syndrome to detect errors\n",
    "    measure_syndrome(circuit)\n",
    "    \n",
    "    # Simulate the circuit\n",
    "    simulator = Aer.get_backend('qasm_simulator')\n",
    "    result = simulator.run(assemble(circuit)).result()\n",
    "    \n",
    "    # Extract and print the measured syndrome\n",
    "    counts = result.get_counts(circuit)\n",
    "    syndrome = list(counts.keys())[0]\n",
    "    print(f\"Measured Syndrome: {syndrome}\")\n",
    "    \n",
    "    # Correct errors based on the measured syndrome\n",
    "    correct_errors(circuit, syndrome)\n",
    "    \n",
    "    # Simulate the corrected circuit\n",
    "    corrected_result = simulator.run(assemble(circuit)).result()\n",
    "    \n",
    "    # Plot the final state of the corrected circuit\n",
    "    final_counts = corrected_result.get_counts(circuit)\n",
    "    plot_histogram(final_counts)\n",
    "\n",
    "# Run the simulation\n",
    "simulate_error_correction()\n"
   ]
  },
  {
   "cell_type": "markdown",
   "id": "d440756b",
   "metadata": {},
   "source": [
    "# Quantum Coherence and Decoherence:\n",
    "\n",
    "Maintaining and understanding the coherence of qubits and mitigating the impact of decoherence due to interactions with the environment."
   ]
  },
  {
   "cell_type": "markdown",
   "id": "90c1836b",
   "metadata": {},
   "source": [
    "**Quantum Coherence and Decoherence:**\n",
    "\n",
    "**Quantum Coherence:**\n",
    "\n",
    "Quantum coherence is a fundamental property of quantum systems, particularly qubits, that allows them to exist in superpositions of states. The concept of coherence is closely tied to the ability of quantum systems to exhibit interference patterns. In a coherent quantum state, the relative phase relationships between different quantum states are maintained.\n",
    "\n",
    "1. **Superposition:**\n",
    "   - A qubit in a superposition of states \\(|0\\rangle\\) and \\(|1\\rangle\\) can be represented as:\n",
    "     \\[ |\\psi\\rangle = \\alpha|0\\rangle + \\beta|1\\rangle \\]\n",
    "   - Here, \\(\\alpha\\) and \\(\\beta\\) are complex numbers, representing probability amplitudes.\n",
    "\n",
    "2. **Quantum Interference:**\n",
    "   - Quantum coherence allows for constructive and destructive interference between different quantum states.\n",
    "   - Quantum gates manipulate these probability amplitudes to perform computations.\n",
    "\n",
    "**Quantum Decoherence:**\n",
    "\n",
    "Quantum coherence is fragile and susceptible to interactions with the environment, leading to a loss of coherence, a phenomenon known as decoherence.\n",
    "\n",
    "1. **Decoherence Mechanisms:**\n",
    "   - **Interaction with External Fields:** Qubits can decohere due to interactions with external magnetic or electric fields.\n",
    "   - **Spontaneous Emission:** Emission of photons can cause decoherence.\n",
    "   - **Phonon Interactions:** Interactions with vibrational modes in the environment can lead to decoherence.\n",
    "\n",
    "2. **Decoherence Time (\\(T_2\\)):**\n",
    "   - Decoherence time is a measure of how long a qubit can maintain its coherence.\n",
    "   - It characterizes the timescale over which the quantum information stored in a qubit is lost.\n",
    "   - Decoherence time is influenced by factors such as the qubit material, temperature, and isolation from the environment.\n",
    "\n",
    "**Mitigating Decoherence:**\n",
    "\n",
    "1. **Error Correction:**\n",
    "   - Quantum error correction codes, such as the surface code, can detect and correct errors introduced by decoherence.\n",
    "\n",
    "2. **Decoherence-Free Subspaces:**\n",
    "   - Techniques like encoding qubits in decoherence-free subspaces aim to protect quantum information from certain types of decoherence.\n",
    "\n",
    "3. **Quantum Dynamical Decoupling:**\n",
    "   - By applying specific sequences of pulses, quantum dynamical decoupling techniques attempt to suppress the effects of decoherence.\n",
    "\n",
    "**Equations and Formulas:**\n",
    "\n",
    "1. **Superposition Representation:**\n",
    "   \\[ |\\psi\\rangle = \\alpha|0\\rangle + \\beta|1\\rangle \\]\n",
    "\n",
    "2. **Density Matrix:**\n",
    "   - The density matrix \\(\\rho\\) represents the quantum state of a system. For a pure state \\(|\\psi\\rangle\\), it is given by:\n",
    "     \\[ \\rho = |\\psi\\rangle\\langle\\psi| \\]\n",
    "\n",
    "3. **Decoherence Factor:**\n",
    "   - Decoherence is often modeled by introducing a decoherence factor \\(e^{-\\frac{t}{T_2}}\\), where \\(T_2\\) is the decoherence time.\n",
    "\n",
    "4. **Quantum Error Correction Code Equations:**\n",
    "   - Surface Code Syndrome Measurement: \\[ X_i = \\prod_{\\text{neighbors } j} Z_j \\]\n",
    "\n",
    "   - Surface Code Stabilizer Operator: \\[ S = \\prod_{\\text{sites } i} X_i \\]\n",
    "\n",
    "Understanding and mitigating decoherence is a critical aspect of developing practical and scalable quantum computers. Ongoing research focuses on improving qubit materials, developing error correction techniques, and exploring novel approaches to extend coherence times in quantum systems."
   ]
  },
  {
   "cell_type": "code",
   "execution_count": 4,
   "id": "ce72f690",
   "metadata": {},
   "outputs": [
    {
     "name": "stdout",
     "output_type": "stream",
     "text": [
      "Time: 0.00, Counts: {'1': 1}\n",
      "Time: 0.01, Counts: {'0 1': 1}\n",
      "Time: 0.02, Counts: {'1 1 0': 1}\n",
      "Time: 0.03, Counts: {'0 1 0 0': 1}\n",
      "Time: 0.04, Counts: {'1 1 0 1 0': 1}\n",
      "Time: 0.05, Counts: {'0 0 0 1 0 1': 1}\n",
      "Time: 0.06, Counts: {'0 1 0 1 0 1 1': 1}\n",
      "Time: 0.07, Counts: {'1 0 0 1 1 0 0 1': 1}\n",
      "Time: 0.08, Counts: {'0 0 1 1 0 0 1 1 1': 1}\n",
      "Time: 0.09, Counts: {'0 0 0 1 0 1 1 0 1 1': 1}\n",
      "Time: 0.10, Counts: {'0 1 0 1 1 0 0 0 1 0 1': 1}\n",
      "Time: 0.11, Counts: {'1 0 0 0 1 0 0 1 0 0 1 0': 1}\n",
      "Time: 0.12, Counts: {'0 0 0 0 1 1 0 0 1 0 1 0 0': 1}\n",
      "Time: 0.13, Counts: {'1 1 0 1 1 1 0 1 0 0 0 1 1 1': 1}\n",
      "Time: 0.14, Counts: {'0 1 0 1 0 0 1 1 1 1 1 1 1 0 0': 1}\n",
      "Time: 0.15, Counts: {'0 0 1 0 1 0 0 1 0 0 0 1 1 1 0 0': 1}\n",
      "Time: 0.16, Counts: {'0 1 1 1 1 0 0 1 0 1 1 0 1 1 1 1 1': 1}\n",
      "Time: 0.17, Counts: {'0 0 1 1 1 0 1 1 1 0 0 0 0 0 0 1 0 1': 1}\n",
      "Time: 0.18, Counts: {'1 0 0 0 1 1 1 0 0 1 0 0 1 0 1 0 0 1 1': 1}\n",
      "Time: 0.19, Counts: {'1 1 0 0 0 1 0 1 1 0 1 0 1 0 1 0 0 0 1 1': 1}\n",
      "Time: 0.20, Counts: {'1 1 1 0 1 1 0 1 1 1 0 0 1 0 1 1 1 0 1 0 0': 1}\n",
      "Time: 0.21, Counts: {'0 1 0 0 1 1 0 0 0 0 1 1 0 1 0 1 0 0 0 1 0 1': 1}\n",
      "Time: 0.22, Counts: {'1 1 0 0 1 0 0 0 0 0 1 0 0 1 0 0 0 1 0 1 1 0 1': 1}\n",
      "Time: 0.23, Counts: {'0 0 0 1 0 1 1 0 0 0 1 0 0 0 1 1 0 1 0 0 1 0 1 0': 1}\n",
      "Time: 0.24, Counts: {'1 1 1 1 1 1 0 0 0 0 0 0 0 1 0 0 1 1 0 1 1 1 0 1 1': 1}\n",
      "Time: 0.25, Counts: {'0 0 0 1 1 1 1 0 1 1 0 0 1 0 0 1 0 1 0 1 0 1 1 0 1 0': 1}\n",
      "Time: 0.26, Counts: {'1 0 0 1 0 1 1 0 0 0 0 1 0 0 0 0 0 0 1 0 0 1 0 0 0 1 1': 1}\n",
      "Time: 0.27, Counts: {'1 1 1 1 0 1 0 0 0 0 1 0 1 1 0 0 0 0 0 1 0 0 1 0 0 0 0 0': 1}\n",
      "Time: 0.28, Counts: {'1 0 0 0 1 0 0 1 0 1 1 0 1 0 0 0 1 1 1 0 0 1 0 1 1 1 1 1 0': 1}\n",
      "Time: 0.29, Counts: {'0 0 0 0 0 1 1 0 0 0 1 1 0 1 1 1 0 1 1 1 1 1 1 0 0 0 0 0 0 0': 1}\n",
      "Time: 0.30, Counts: {'0 1 0 1 1 0 0 0 1 0 1 1 1 1 0 0 0 1 1 0 1 1 1 1 0 0 0 1 0 0 0': 1}\n",
      "Time: 0.31, Counts: {'0 1 0 0 1 0 0 0 0 1 0 0 0 0 1 0 1 1 0 1 0 1 1 0 1 0 0 0 0 0 0 0': 1}\n",
      "Time: 0.32, Counts: {'0 0 0 0 1 0 0 0 1 1 1 0 1 1 0 0 0 1 1 1 1 1 0 0 0 1 0 0 0 0 0 0 0': 1}\n",
      "Time: 0.33, Counts: {'1 0 0 1 1 0 0 1 1 0 0 1 0 1 1 1 0 1 1 0 0 0 0 0 1 1 1 1 1 1 0 1 1 0': 1}\n",
      "Time: 0.34, Counts: {'1 0 1 1 1 0 1 1 0 0 1 1 1 0 1 0 0 1 0 0 0 0 1 1 1 0 0 0 0 0 1 0 1 1 0': 1}\n",
      "Time: 0.35, Counts: {'1 0 0 1 1 1 1 0 1 0 1 0 1 0 1 0 0 0 0 0 1 0 0 1 1 1 0 0 1 1 0 1 1 1 0 1': 1}\n",
      "Time: 0.36, Counts: {'1 1 0 0 0 0 0 1 1 0 1 0 1 1 0 0 1 0 1 0 1 0 0 0 0 0 1 1 1 0 0 1 0 0 0 1 1': 1}\n",
      "Time: 0.37, Counts: {'1 1 0 0 1 0 1 1 1 1 1 0 1 0 1 0 1 0 1 1 0 1 0 0 1 1 1 1 0 1 1 1 1 0 1 1 0 0': 1}\n",
      "Time: 0.38, Counts: {'1 0 1 0 1 0 1 0 1 1 1 1 0 1 0 1 0 0 0 0 1 0 1 1 0 0 0 1 0 0 0 0 1 1 1 0 0 1 0': 1}\n",
      "Time: 0.39, Counts: {'0 1 1 1 0 1 0 0 1 1 1 0 1 0 0 0 1 1 1 0 1 0 1 1 1 1 0 1 0 1 0 1 1 1 0 1 1 1 0 1': 1}\n",
      "Time: 0.40, Counts: {'0 1 0 0 1 0 0 0 1 1 0 0 0 0 0 0 0 0 0 1 0 0 0 1 0 0 0 0 1 0 0 1 1 0 1 0 0 0 0 1 1': 1}\n",
      "Time: 0.41, Counts: {'0 0 1 1 1 0 0 0 1 0 1 0 0 0 0 1 0 1 0 0 0 0 0 0 1 0 0 1 1 0 0 0 1 0 1 0 0 0 0 1 0 0': 1}\n",
      "Time: 0.42, Counts: {'1 0 0 0 0 1 0 0 0 1 0 0 1 0 0 1 0 1 0 1 0 0 0 1 1 0 1 1 0 0 1 1 1 1 1 0 0 0 1 1 1 1 1': 1}\n",
      "Time: 0.43, Counts: {'0 0 1 1 1 1 0 1 0 0 0 0 1 0 1 0 0 0 0 1 0 0 1 0 0 1 0 0 0 1 0 1 0 1 0 0 0 1 1 0 0 1 1 1': 1}\n",
      "Time: 0.44, Counts: {'1 1 0 1 0 1 0 1 0 0 1 1 1 1 0 0 0 0 1 1 1 0 0 1 0 0 0 1 0 0 0 0 1 0 1 1 0 1 1 1 1 0 1 0 1': 1}\n",
      "Time: 0.45, Counts: {'0 1 0 1 0 0 0 1 0 1 0 1 0 0 0 1 1 0 1 0 0 0 0 1 0 1 0 1 1 0 0 1 1 0 0 0 1 0 0 1 0 0 0 0 1 1': 1}\n",
      "Time: 0.46, Counts: {'0 1 0 0 0 1 1 0 1 0 0 0 1 0 0 0 1 1 1 1 1 1 1 0 1 0 0 0 0 0 0 1 0 1 1 1 1 0 0 0 0 0 0 0 1 1 1': 1}\n",
      "Time: 0.47, Counts: {'0 1 1 0 0 1 1 1 1 1 0 0 0 1 0 1 0 0 1 1 0 1 0 1 1 1 1 1 1 0 1 0 1 0 1 0 0 1 1 0 0 0 0 0 1 1 0 1': 1}\n",
      "Time: 0.48, Counts: {'1 0 1 1 1 1 0 1 0 1 0 0 1 0 1 0 0 1 1 1 0 0 1 1 1 0 1 1 1 0 1 0 1 1 1 0 0 0 1 0 1 0 0 1 0 1 0 1 1': 1}\n",
      "Time: 0.49, Counts: {'0 0 1 1 0 0 1 0 0 0 0 1 1 0 1 1 0 0 0 1 0 1 0 1 1 0 0 1 0 0 0 0 0 0 0 1 1 1 0 0 1 1 0 1 1 1 0 0 1 0': 1}\n",
      "Time: 0.51, Counts: {'1 0 0 0 1 1 1 0 1 0 1 0 0 0 1 0 1 0 1 1 0 1 0 0 0 1 0 0 1 0 1 1 0 1 1 0 0 0 1 1 1 0 0 1 1 1 1 0 1 1 0': 1}\n",
      "Time: 0.52, Counts: {'0 0 0 1 0 0 1 1 1 1 1 0 1 0 1 1 1 1 1 0 1 0 1 0 1 0 0 0 0 0 1 0 0 0 0 1 1 0 1 0 0 0 1 1 0 1 1 1 0 0 0 0': 1}\n",
      "Time: 0.53, Counts: {'1 0 1 1 1 1 1 0 1 1 1 0 1 1 0 1 1 0 0 1 0 0 0 1 0 0 1 1 1 1 0 1 1 0 1 0 0 1 1 0 1 1 0 0 1 0 0 1 1 1 1 0 0': 1}\n",
      "Time: 0.54, Counts: {'0 0 0 1 0 1 0 1 1 1 1 0 1 0 0 0 1 0 1 1 1 0 0 0 0 1 0 1 0 0 1 0 1 1 1 1 0 0 0 1 0 0 1 1 1 1 0 1 0 0 1 0 0 0': 1}\n",
      "Time: 0.55, Counts: {'1 1 1 0 1 1 0 0 0 0 0 0 0 1 1 0 1 1 0 0 1 0 0 0 1 0 0 0 1 1 0 1 0 1 1 1 1 1 0 0 1 1 1 1 0 1 0 1 0 0 1 1 1 0 0': 1}\n",
      "Time: 0.56, Counts: {'0 0 1 1 0 1 0 0 1 0 1 1 1 0 0 0 1 0 1 0 0 1 1 0 0 0 1 1 1 0 0 1 0 1 0 1 0 1 0 1 0 1 1 1 0 0 0 0 1 1 1 0 0 1 1 1': 1}\n",
      "Time: 0.57, Counts: {'0 1 1 0 1 0 1 1 0 0 0 1 1 0 1 1 0 1 0 0 1 0 1 0 1 0 1 1 0 1 0 0 0 1 1 0 1 1 0 1 0 0 1 1 0 0 0 0 0 0 1 1 0 0 1 0 0': 1}\n",
      "Time: 0.58, Counts: {'0 0 0 1 0 0 0 1 1 1 1 0 0 1 1 1 0 0 1 1 1 0 0 0 0 0 1 1 0 1 1 0 0 1 0 0 0 0 1 1 0 1 0 1 1 0 1 0 0 1 0 0 0 0 1 1 0 0': 1}\n",
      "Time: 0.59, Counts: {'1 0 0 1 1 0 0 0 1 1 1 0 0 0 1 1 1 1 0 1 1 0 1 1 1 0 0 1 1 1 0 1 1 0 0 0 1 1 1 0 1 1 1 1 0 0 1 1 1 0 0 0 0 0 0 0 1 0 0': 1}\n",
      "Time: 0.60, Counts: {'1 0 0 1 1 0 0 1 0 1 1 0 1 0 1 0 1 0 0 1 1 1 0 0 0 1 0 1 0 0 0 1 1 1 0 1 0 1 0 1 0 0 0 0 1 1 1 0 0 0 1 1 1 1 1 0 1 1 1 0': 1}\n",
      "Time: 0.61, Counts: {'1 1 1 0 0 1 1 0 1 0 1 1 1 0 1 1 0 1 1 1 0 1 1 1 1 1 0 1 0 1 1 0 1 0 1 0 1 1 1 0 0 0 1 0 1 0 0 1 0 0 1 1 1 1 0 1 0 0 0 0 1': 1}\n",
      "Time: 0.62, Counts: {'0 0 1 1 1 1 0 1 0 1 1 1 0 1 1 0 0 1 1 1 0 1 1 1 0 0 1 1 1 0 1 0 0 0 0 0 1 1 0 1 0 0 0 0 1 1 1 0 0 1 0 1 0 0 1 0 1 1 1 0 1 1': 1}\n",
      "Time: 0.63, Counts: {'0 0 0 1 1 0 1 1 1 0 0 0 0 1 0 1 0 0 1 1 1 1 1 0 0 0 0 0 1 1 0 0 0 1 1 1 0 1 0 1 1 1 0 1 0 0 0 1 0 1 1 1 1 0 1 0 1 0 1 1 1 1 1': 1}\n",
      "Time: 0.64, Counts: {'0 0 0 1 1 0 1 1 0 1 1 1 0 1 1 0 0 1 1 0 0 0 1 1 1 1 0 1 1 1 1 1 1 1 1 1 1 1 1 1 1 1 0 1 1 1 0 1 1 1 1 1 0 0 0 1 0 0 0 1 0 0 0 1': 1}\n",
      "Time: 0.65, Counts: {'0 1 1 0 1 1 0 1 0 0 1 1 0 0 0 0 0 0 1 1 0 1 0 0 1 0 0 1 0 0 1 0 1 1 1 0 0 0 0 0 1 0 0 0 1 1 1 0 1 1 1 1 0 0 1 1 1 0 1 1 1 1 1 1 1': 1}\n",
      "Time: 0.66, Counts: {'0 0 0 1 0 1 1 0 0 1 1 1 0 1 0 1 0 1 1 0 0 0 1 0 1 1 0 0 0 1 0 1 0 1 1 0 1 0 1 1 0 0 0 0 0 1 0 0 0 0 0 1 0 1 1 1 0 1 0 0 1 1 1 1 1 1': 1}\n",
      "Time: 0.67, Counts: {'0 1 0 1 1 0 1 0 1 0 0 0 0 1 0 1 1 1 1 1 0 0 0 1 1 0 0 0 0 1 1 1 0 1 1 0 1 1 1 1 0 0 0 0 1 1 1 0 1 0 0 0 0 1 0 1 0 1 0 0 1 1 0 0 0 1 1': 1}\n",
      "Time: 0.68, Counts: {'0 1 0 0 1 0 0 1 1 0 1 0 1 0 1 0 1 1 1 0 0 1 1 1 0 0 0 1 0 0 0 1 1 0 0 1 0 0 1 0 1 1 0 0 1 0 1 0 0 1 1 0 1 0 1 1 0 1 1 1 0 0 1 1 1 1 1 1': 1}\n",
      "Time: 0.69, Counts: {'1 0 1 0 1 1 0 0 1 0 1 0 0 1 1 0 1 1 0 0 1 0 1 0 1 0 1 1 0 0 0 1 0 0 1 0 1 0 0 0 1 0 0 1 1 1 1 0 1 1 1 1 0 1 0 1 1 1 1 0 1 0 0 0 0 0 1 1 0': 1}\n",
      "Time: 0.70, Counts: {'0 1 0 1 1 1 1 1 0 0 0 0 0 0 0 1 1 0 1 0 1 0 0 1 0 1 0 0 1 0 0 1 0 0 0 0 1 1 0 0 0 0 0 0 1 0 0 1 1 1 0 0 1 1 1 1 1 1 0 1 1 1 0 0 0 1 1 1 0 1': 1}\n",
      "Time: 0.71, Counts: {'1 0 0 0 1 0 1 1 1 1 1 1 0 1 0 0 0 1 1 1 0 0 1 1 1 1 0 0 1 1 1 1 0 0 0 1 1 1 0 0 1 0 0 1 0 0 1 0 0 1 0 0 1 0 1 0 1 0 1 1 1 1 0 1 1 1 1 1 1 0 0': 1}\n",
      "Time: 0.72, Counts: {'0 0 1 0 0 0 0 0 0 0 0 0 1 0 0 1 1 1 0 0 0 1 0 0 0 0 1 1 1 0 1 0 0 1 0 0 0 1 0 1 1 0 1 1 0 0 1 0 1 0 0 0 0 1 0 1 0 1 1 1 0 0 1 1 1 0 1 1 0 1 1 1': 1}\n",
      "Time: 0.73, Counts: {'0 0 0 1 1 1 1 0 0 0 1 1 1 0 0 0 1 1 0 1 1 0 1 0 1 0 0 0 1 0 0 1 1 1 0 1 0 1 1 1 1 1 1 0 0 0 0 0 1 1 1 0 0 0 0 1 1 1 1 1 1 0 1 1 0 0 1 1 0 1 1 1 0': 1}\n",
      "Time: 0.74, Counts: {'1 0 0 1 1 0 0 1 0 0 0 0 0 0 0 0 0 0 1 1 0 0 0 1 0 0 1 0 0 1 0 0 1 1 1 0 1 1 0 1 1 1 1 0 0 1 0 0 1 1 0 1 1 1 1 0 1 0 1 1 0 1 0 1 0 0 0 1 1 0 1 1 1 1': 1}\n",
      "Time: 0.75, Counts: {'0 1 0 1 0 1 1 1 1 0 0 0 1 1 1 0 1 1 1 1 1 1 1 0 1 1 0 0 0 0 0 0 1 1 0 0 1 0 1 0 1 1 0 1 0 0 1 1 1 0 1 0 0 1 0 0 0 1 1 1 1 1 1 0 0 0 1 0 1 0 1 0 1 0 0': 1}\n",
      "Time: 0.76, Counts: {'1 1 0 1 1 1 1 0 1 0 0 1 0 0 1 1 1 0 1 1 1 1 0 0 0 0 0 1 1 0 1 0 1 1 1 1 1 1 1 1 1 0 1 1 1 0 0 0 0 1 0 1 0 0 1 1 1 1 0 1 0 1 1 0 1 0 1 0 0 1 1 1 0 1 0 1': 1}\n",
      "Time: 0.77, Counts: {'0 0 1 1 0 1 1 0 1 0 0 1 1 1 0 0 1 1 1 1 1 1 1 0 1 0 0 0 1 1 0 1 0 1 1 1 0 1 1 0 0 0 1 0 0 1 1 1 1 1 0 1 1 0 1 0 0 0 0 1 1 0 0 1 0 0 0 1 1 0 1 1 1 1 1 1 1': 1}\n",
      "Time: 0.78, Counts: {'0 1 0 0 0 0 0 0 0 0 1 0 1 0 1 1 1 0 0 1 0 0 1 1 0 1 0 0 1 1 1 0 0 1 0 1 1 1 0 1 0 1 0 1 1 1 0 0 1 1 1 1 1 1 1 1 0 1 1 1 1 0 0 1 1 1 0 0 0 0 0 1 0 1 1 0 0 1': 1}\n"
     ]
    },
    {
     "name": "stdout",
     "output_type": "stream",
     "text": [
      "Time: 0.79, Counts: {'1 1 1 0 0 1 1 0 1 0 0 1 1 0 1 0 0 1 1 1 0 0 0 0 1 0 1 0 1 1 1 0 1 1 0 1 0 0 1 0 0 0 1 1 0 1 1 1 0 0 1 1 1 0 0 0 1 1 0 0 0 1 1 1 0 0 0 0 0 0 0 1 0 0 1 0 0 0 1': 1}\n",
      "Time: 0.80, Counts: {'1 1 1 0 1 0 1 0 1 0 0 0 0 1 1 0 1 0 1 0 0 0 1 1 1 0 0 1 1 0 1 0 1 0 0 1 1 0 0 1 1 0 0 0 0 1 1 0 1 1 1 0 1 1 0 0 1 1 0 0 0 1 1 1 0 0 0 0 1 0 1 0 1 1 0 0 0 1 1 1': 1}\n",
      "Time: 0.81, Counts: {'1 1 1 1 0 1 0 1 1 0 1 1 0 1 1 1 0 1 1 0 1 0 1 1 0 1 1 0 0 0 1 1 0 0 0 0 1 0 1 0 0 0 0 1 0 0 1 1 1 0 0 1 1 0 1 0 0 0 1 1 1 1 1 1 1 1 1 0 0 1 1 0 0 0 0 0 0 0 0 1 0': 1}\n",
      "Time: 0.82, Counts: {'1 1 0 1 1 1 0 1 0 1 0 1 1 1 0 0 0 0 1 0 1 0 1 1 0 0 0 0 1 0 0 0 0 0 0 1 1 0 1 0 1 0 1 0 0 1 0 0 0 0 1 1 1 0 0 0 0 0 0 0 0 1 1 0 1 1 0 0 0 0 0 1 1 1 0 0 1 1 1 0 0 0': 1}\n",
      "Time: 0.83, Counts: {'0 1 0 1 0 1 1 1 0 1 1 1 0 1 1 1 0 0 0 1 0 0 1 1 1 1 0 0 1 0 1 0 1 0 1 1 0 0 1 1 1 0 1 1 0 0 0 0 1 0 1 1 1 1 0 0 1 0 1 0 0 0 0 0 0 0 0 1 1 0 0 1 1 0 1 1 0 1 0 0 1 1 0': 1}\n",
      "Time: 0.84, Counts: {'0 0 1 0 0 0 0 1 1 0 0 0 0 1 1 1 0 1 0 0 0 1 1 0 1 0 0 1 0 0 0 0 1 0 0 1 0 1 0 0 0 1 0 1 0 0 0 0 1 1 0 0 1 1 1 0 0 0 1 1 1 1 0 1 1 0 1 0 1 1 1 0 1 1 0 0 0 0 1 0 1 1 0 1': 1}\n",
      "Time: 0.85, Counts: {'1 0 1 1 0 1 0 0 0 1 1 1 0 0 0 1 1 1 1 0 0 1 0 0 0 1 1 1 1 0 0 0 1 1 1 0 1 1 0 0 0 0 1 1 1 0 1 0 0 0 1 1 1 1 1 0 1 1 0 0 0 0 1 1 1 0 1 0 0 0 1 0 0 0 0 1 1 0 0 0 0 1 0 0 1': 1}\n",
      "Time: 0.86, Counts: {'1 0 1 0 1 1 1 0 1 0 1 1 0 1 0 1 1 1 1 1 1 1 0 1 0 0 1 0 0 1 1 1 0 1 0 0 0 1 0 0 0 1 1 0 1 0 0 0 1 0 1 1 0 1 1 0 0 1 1 1 0 1 0 0 0 1 1 1 1 1 1 1 0 1 1 0 0 0 1 0 0 1 1 1 0 1': 1}\n",
      "Time: 0.87, Counts: {'0 0 0 0 0 0 1 0 0 1 0 1 1 1 1 0 0 0 1 0 0 0 1 0 0 1 0 1 0 0 1 1 0 0 0 1 1 0 1 0 1 0 0 1 1 1 1 1 0 1 1 1 0 0 0 1 1 1 0 1 0 1 0 0 0 1 0 0 1 0 0 0 1 0 0 0 0 0 1 1 0 1 0 0 0 0 0': 1}\n",
      "Time: 0.88, Counts: {'0 0 0 0 0 0 0 1 1 1 0 1 1 1 1 0 0 1 0 0 1 0 1 0 1 0 0 1 0 1 0 0 0 0 0 1 1 1 0 1 1 0 1 1 0 0 1 1 0 1 0 0 1 1 0 0 0 0 1 0 0 0 0 0 0 0 1 0 0 1 1 0 1 1 0 0 1 0 0 1 1 1 0 0 1 1 1 1': 1}\n",
      "Time: 0.89, Counts: {'0 1 0 0 0 0 1 0 0 0 1 1 0 0 1 1 0 1 0 0 1 0 0 1 0 1 0 1 0 1 0 1 1 0 1 0 0 0 1 1 1 1 0 1 1 1 1 1 1 0 1 1 1 0 0 1 1 1 1 1 0 0 0 0 0 1 1 1 0 1 0 1 0 0 1 1 0 1 0 1 0 0 0 0 0 1 0 0 0': 1}\n",
      "Time: 0.90, Counts: {'1 0 1 1 0 1 1 1 1 1 0 1 0 0 0 0 0 0 1 1 0 1 1 0 1 0 0 0 0 1 0 0 1 0 1 1 1 0 1 1 0 0 1 1 0 1 0 0 1 0 0 1 1 1 1 1 0 1 0 0 0 0 1 0 1 0 1 1 0 0 1 0 0 1 0 0 1 0 1 0 0 0 0 1 0 0 1 0 0 1': 1}\n",
      "Time: 0.91, Counts: {'1 0 1 0 0 0 1 1 0 0 1 0 0 1 0 1 1 1 0 0 0 0 1 0 0 1 0 1 1 1 0 1 1 1 0 1 1 1 0 1 1 1 0 0 1 0 0 0 0 0 0 0 0 1 1 1 1 1 0 0 1 0 1 1 0 1 0 1 1 0 0 0 1 0 0 1 1 0 0 0 0 0 1 1 0 1 1 1 0 1 1': 1}\n",
      "Time: 0.92, Counts: {'0 1 0 0 1 0 0 0 1 0 1 1 1 1 0 0 0 1 1 1 1 0 1 0 1 0 0 1 1 1 1 1 1 0 0 1 0 0 0 1 0 1 1 1 0 0 1 1 0 0 0 1 0 1 0 1 1 0 1 1 1 0 1 1 0 1 0 0 1 1 0 1 1 0 1 0 1 0 0 0 1 0 0 1 0 0 1 0 0 0 0 0': 1}\n",
      "Time: 0.93, Counts: {'1 1 1 0 1 0 1 1 1 1 1 1 1 0 1 0 0 0 0 1 0 0 1 1 0 0 1 1 1 0 0 0 1 1 1 1 1 1 0 0 0 0 1 0 1 0 0 1 0 0 0 0 0 1 1 0 0 1 0 1 1 0 1 0 1 0 0 1 0 0 0 1 0 0 1 0 1 1 1 0 0 1 1 0 0 1 1 0 1 1 0 1 1': 1}\n",
      "Time: 0.94, Counts: {'1 0 0 0 1 0 1 1 0 1 0 0 0 1 1 1 1 1 0 1 0 1 0 1 1 1 0 0 1 1 1 0 1 0 0 1 0 0 0 0 0 0 1 0 0 0 1 0 0 0 0 0 1 0 1 1 0 0 0 0 0 0 0 1 1 0 1 0 0 0 0 0 1 1 0 0 0 0 1 0 1 1 1 0 1 0 1 1 1 1 1 0 1 1': 1}\n",
      "Time: 0.95, Counts: {'1 1 1 0 0 1 1 1 0 1 1 0 1 1 1 1 0 1 0 0 0 0 0 0 0 1 1 1 0 0 1 1 1 1 0 0 0 0 0 1 1 1 0 0 1 1 0 1 0 0 1 0 0 0 1 1 1 0 0 0 1 0 1 0 1 0 1 1 1 0 1 0 1 1 1 0 1 0 0 0 1 0 0 0 0 1 0 0 1 0 1 1 0 1 0': 1}\n",
      "Time: 0.96, Counts: {'1 1 0 1 1 1 0 0 0 0 0 1 1 0 0 0 0 0 0 0 0 1 0 0 0 1 1 0 1 0 0 0 0 0 0 1 0 1 0 0 0 1 1 0 1 0 0 1 1 0 0 1 0 1 0 1 0 0 0 1 1 1 0 1 0 1 1 0 1 1 0 1 0 1 1 1 1 0 1 0 1 1 0 0 1 1 0 1 1 0 0 0 0 1 0 0': 1}\n",
      "Time: 0.97, Counts: {'1 1 1 0 0 0 1 0 0 1 1 0 1 1 0 0 1 1 0 0 1 0 1 1 0 1 1 0 0 1 1 0 1 1 1 0 1 0 0 1 1 1 1 0 1 0 1 0 0 0 0 1 1 1 1 1 0 0 1 0 1 1 0 1 0 1 0 1 0 0 1 0 1 1 0 0 0 0 0 0 0 1 1 1 0 1 0 0 1 1 1 0 0 0 1 1 0': 1}\n",
      "Time: 0.98, Counts: {'1 0 1 1 1 1 0 1 1 1 1 1 0 1 1 1 1 1 1 0 0 1 1 0 0 1 1 0 0 1 0 0 0 1 0 0 0 1 1 1 1 0 1 1 1 1 0 0 1 1 0 1 0 0 0 1 1 0 0 1 1 1 1 0 0 0 1 0 1 1 1 1 1 0 0 0 1 0 0 0 0 0 1 1 1 1 1 0 1 1 1 0 0 0 0 0 1 1': 1}\n",
      "Time: 0.99, Counts: {'0 0 1 1 0 1 1 1 1 0 1 0 0 0 0 0 0 1 0 0 0 1 1 0 0 0 0 0 1 1 0 0 1 0 0 0 1 0 1 0 1 0 1 1 1 1 1 1 0 1 1 1 0 0 0 0 0 0 1 0 0 1 1 0 1 1 0 0 1 1 0 0 1 0 1 0 0 0 1 0 1 1 0 1 0 0 1 0 0 0 0 1 1 0 0 1 1 1 0': 1}\n",
      "Time: 1.00, Counts: {'1 1 1 1 0 0 1 0 0 0 0 1 1 0 1 1 0 1 0 0 1 1 0 1 1 0 0 1 1 1 0 0 1 0 0 0 0 0 0 1 1 1 1 0 1 1 1 0 1 1 1 1 1 1 1 0 0 1 1 1 0 0 0 1 0 0 0 0 0 1 0 0 0 0 1 0 1 0 0 1 1 0 0 1 1 0 1 0 0 1 0 1 1 1 0 1 1 0 1 0': 1}\n"
     ]
    }
   ],
   "source": [
    "from qiskit import Aer, QuantumCircuit, execute\n",
    "import numpy as np\n",
    "\n",
    "def create_coherent_superposition_circuit():\n",
    "    # Create a quantum circuit with a single qubit\n",
    "    qc = QuantumCircuit(1)\n",
    "\n",
    "    # Apply Hadamard gate to create a superposition\n",
    "    qc.h(0)\n",
    "\n",
    "    return qc\n",
    "\n",
    "def simulate_decoherence(qc, decoherence_time):\n",
    "    # Simulate decoherence by applying a decoherence factor\n",
    "    # Here, we use a simple exponential decay model\n",
    "    t = np.linspace(0, 1, 100)  # Time values\n",
    "    decoherence_factor = np.exp(-t / decoherence_time)\n",
    "\n",
    "    # Apply decoherence factor to the quantum circuit\n",
    "    for i in range(len(t)):\n",
    "        qc.measure_all()\n",
    "        job = execute(qc, Aer.get_backend('qasm_simulator'), shots=1)\n",
    "        counts = job.result().get_counts()\n",
    "        print(f\"Time: {t[i]:.2f}, Counts: {counts}\")\n",
    "\n",
    "        # Apply decoherence factor to simulate qubit decay\n",
    "        qc.reset(range(qc.num_qubits))\n",
    "        qc.h(0)\n",
    "        qc.u(0.0, 0.0, decoherence_factor[i], 0)  # Applying a decoherence gate\n",
    "\n",
    "# Create a coherent superposition circuit\n",
    "coherent_circuit = create_coherent_superposition_circuit()\n",
    "\n",
    "# Simulate decoherence with a decoherence time of 0.2 (arbitrary units)\n",
    "simulate_decoherence(coherent_circuit, decoherence_time=0.2)\n"
   ]
  },
  {
   "cell_type": "markdown",
   "id": "9f76a62b",
   "metadata": {},
   "source": [
    "# Quantum Gates Implementation:\n",
    "\n",
    "Techniques for implementing fundamental quantum gates, such as single-qubit and two-qubit gates, using physical systems."
   ]
  },
  {
   "cell_type": "markdown",
   "id": "98e668fe",
   "metadata": {},
   "source": [
    "Implementing quantum gates is a crucial aspect of quantum computing, as gates are the building blocks for quantum circuits. Here, I'll provide an overview of the implementation techniques for fundamental quantum gates using physical systems, focusing on single-qubit and two-qubit gates. Note that this overview is not exhaustive, and the specifics can vary based on the physical platform being used.\n",
    "\n",
    "### Single-Qubit Gates:\n",
    "\n",
    "#### 1. **X, Y, Z Gates:**\n",
    "   - The Pauli-X, Pauli-Y, and Pauli-Z gates are commonly implemented as single-qubit gates.\n",
    "   - They perform rotations around the X, Y, and Z axes of the Bloch sphere, respectively.\n",
    "\n",
    "   \\[ X = \\begin{bmatrix} 0 & 1 \\\\ 1 & 0 \\end{bmatrix}, \\]\n",
    "   \\[ Y = \\begin{bmatrix} 0 & -i \\\\ i & 0 \\end{bmatrix}, \\]\n",
    "   \\[ Z = \\begin{bmatrix} 1 & 0 \\\\ 0 & -1 \\end{bmatrix}. \\]\n",
    "\n",
    "#### 2. **Hadamard Gate (H):**\n",
    "   - It creates superposition and is widely used in quantum algorithms.\n",
    "   - Implementation depends on the physical system but often involves manipulating the state of a qubit.\n",
    "\n",
    "   \\[ H = \\frac{1}{\\sqrt{2}} \\begin{bmatrix} 1 & 1 \\\\ 1 & -1 \\end{bmatrix}. \\]\n",
    "\n",
    "#### 3. **Phase Gate (S):**\n",
    "   - It introduces a phase shift and is represented as:\n",
    "\n",
    "   \\[ S = \\begin{bmatrix} 1 & 0 \\\\ 0 & i \\end{bmatrix}. \\]\n",
    "\n",
    "#### 4. **General U(θ) Rotation:**\n",
    "   - Arbitrary single-qubit rotations can be implemented using the general rotation matrix:\n",
    "\n",
    "   \\[ U(\\theta) = \\begin{bmatrix} \\cos(\\theta/2) & -e^{i\\phi}\\sin(\\theta/2) \\\\ e^{i\\lambda}\\sin(\\theta/2) & e^{i(\\phi+\\lambda)}\\cos(\\theta/2) \\end{bmatrix}. \\]\n",
    "\n",
    "### Two-Qubit Gates:\n",
    "\n",
    "#### 1. **CNOT Gate:**\n",
    "   - The Controlled-NOT gate is a fundamental two-qubit gate.\n",
    "   - It flips the target qubit if the control qubit is in the state \\(|1\\rangle\\).\n",
    "\n",
    "   \\[ \\text{CNOT} = \\begin{bmatrix} 1 & 0 & 0 & 0 \\\\ 0 & 1 & 0 & 0 \\\\ 0 & 0 & 0 & 1 \\\\ 0 & 0 & 1 & 0 \\end{bmatrix}. \\]\n",
    "\n",
    "#### 2. **SWAP Gate:**\n",
    "   - It exchanges the states of two qubits.\n",
    "\n",
    "   \\[ \\text{SWAP} = \\begin{bmatrix} 1 & 0 & 0 & 0 \\\\ 0 & 0 & 1 & 0 \\\\ 0 & 1 & 0 & 0 \\\\ 0 & 0 & 0 & 1 \\end{bmatrix}. \\]\n",
    "\n",
    "#### 3. **iSWAP Gate:**\n",
    "   - A variant of SWAP with a phase factor, often used in quantum computing.\n",
    "\n",
    "   \\[ \\text{iSWAP} = \\begin{bmatrix} 1 & 0 & 0 & 0 \\\\ 0 & 0 & i & 0 \\\\ 0 & i & 0 & 0 \\\\ 0 & 0 & 0 & 1 \\end{bmatrix}. \\]\n",
    "\n",
    "#### 4. **Controlled-U Gate:**\n",
    "   - Represents a controlled operation, where U is any single-qubit gate.\n",
    "   - The matrix depends on the specific gate U being controlled.\n",
    "\n",
    "   \\[ \\text{Controlled-U} = \\begin{bmatrix} I & 0 \\\\ 0 & U \\end{bmatrix}. \\]\n",
    "\n",
    "### Physical Implementations:\n",
    "\n",
    "1. **Superconducting Qubits:**\n",
    "   - Implementations often involve microwave pulses to manipulate the qubit states.\n",
    "   - Superconducting circuits can be designed to perform various gate operations.\n",
    "\n",
    "2. **Trapped Ions:**\n",
    "   - Qubits are encoded in internal states of ions, and gate operations are achieved through laser-induced transitions.\n",
    "\n",
    "3. **Quantum Dots:**\n",
    "   - Electrons in quantum dots can represent qubits.\n",
    "   - Single-qubit gates can be implemented using magnetic or electric fields.\n",
    "\n",
    "4. **Topological Qubits:**\n",
    "   - Implementations based on anyons and braiding operations.\n",
    "   - Topological gates are fault-tolerant and less sensitive to local errors.\n",
    "\n",
    "5. **Photonic Qubits:**\n",
    "   - Quantum gates are implemented using linear optical elements such as beam splitters and phase shifters.\n",
    "\n",
    "### Equations and Parameters:\n",
    "\n",
    "- Gate operations are typically described by unitary matrices.\n",
    "- The parameters of a gate, like rotation angles or transition probabilities, depend on the physical details of the system.\n",
    "\n",
    "Quantum gate implementation involves a combination of careful design, calibration, and error correction to ensure the accuracy of operations in the presence of noise and decoherence.\n",
    "\n",
    "Please note that the specifics of gate implementations can vary widely based on the quantum computing platform, and ongoing research may introduce new techniques and optimizations. Always refer to the latest literature for platform-specific details and advancements."
   ]
  },
  {
   "cell_type": "code",
   "execution_count": 5,
   "id": "7d4b6e51",
   "metadata": {},
   "outputs": [
    {
     "name": "stdout",
     "output_type": "stream",
     "text": [
      "Single-qubit circuit:\n",
      "   ┌───┐┌───┐┌───┐┌───┐┌───┐┌────────────┐\n",
      "q: ┤ X ├┤ Y ├┤ Z ├┤ H ├┤ S ├┤ U(0.5,0,0) ├\n",
      "   └───┘└───┘└───┘└───┘└───┘└────────────┘\n",
      "\n",
      "Statevector after single-qubit gates: Statevector([-0.17494102-0.68512454j,  0.68512454-0.17494102j],\n",
      "            dims=(2,))\n",
      "\n",
      "Two-qubit circuit:\n",
      "             ┌────────┐     \n",
      "q_0: ──■───X─┤0       ├──■──\n",
      "     ┌─┴─┐ │ │  Iswap │┌─┴─┐\n",
      "q_1: ┤ X ├─X─┤1       ├┤ H ├\n",
      "     └───┘   └────────┘└───┘\n",
      "\n",
      "Statevector after two-qubit gates: Statevector([1.000000e+00-9.18485099e-17j, 0.000000e+00+0.00000000e+00j,\n",
      "             3.061617e-17+0.00000000e+00j, 0.000000e+00+0.00000000e+00j],\n",
      "            dims=(2, 2))\n"
     ]
    },
    {
     "name": "stderr",
     "output_type": "stream",
     "text": [
      "C:\\Users\\yashr\\anaconda3\\New folder\\Anaconda3\\Lib\\site-packages\\qiskit\\visualization\\circuit\\matplotlib.py:266: FutureWarning: The default matplotlib drawer scheme will be changed to \"iqp\" in a following release. To silence this warning, specify the current default explicitly as style=\"clifford\", or the new default as style=\"iqp\".\n",
      "  self._style, def_font_ratio = load_style(self._style)\n",
      "C:\\Users\\yashr\\AppData\\Local\\Temp\\ipykernel_8716\\3608679078.py:57: UserWarning: FigureCanvasAgg is non-interactive, and thus cannot be shown\n",
      "  single_qubit_circuit.draw(output='mpl', scale=1.5).show()\n",
      "C:\\Users\\yashr\\AppData\\Local\\Temp\\ipykernel_8716\\3608679078.py:58: UserWarning: FigureCanvasAgg is non-interactive, and thus cannot be shown\n",
      "  two_qubit_circuit.draw(output='mpl', scale=1.5).show()\n"
     ]
    }
   ],
   "source": [
    "from qiskit import QuantumCircuit, Aer, transpile, assemble, execute\n",
    "from qiskit.visualization import plot_histogram\n",
    "\n",
    "# Create a quantum circuit with a single qubit\n",
    "single_qubit_circuit = QuantumCircuit(1)\n",
    "\n",
    "# Apply X, Y, Z gates to the qubit\n",
    "single_qubit_circuit.x(0)\n",
    "single_qubit_circuit.y(0)\n",
    "single_qubit_circuit.z(0)\n",
    "\n",
    "# Apply Hadamard gate (H) to the qubit\n",
    "single_qubit_circuit.h(0)\n",
    "\n",
    "# Apply Phase gate (S) to the qubit\n",
    "single_qubit_circuit.s(0)\n",
    "\n",
    "# Apply a general U(θ) rotation to the qubit\n",
    "theta = 0.5\n",
    "single_qubit_circuit.u(theta, 0, 0, 0)\n",
    "\n",
    "# Display the single-qubit circuit\n",
    "print(\"Single-qubit circuit:\")\n",
    "print(single_qubit_circuit)\n",
    "\n",
    "# Simulate the single-qubit circuit\n",
    "simulator = Aer.get_backend('statevector_simulator')\n",
    "result = execute(single_qubit_circuit, simulator).result()\n",
    "statevector = result.get_statevector()\n",
    "print(\"\\nStatevector after single-qubit gates:\", statevector)\n",
    "\n",
    "# Create a quantum circuit with two qubits\n",
    "two_qubit_circuit = QuantumCircuit(2)\n",
    "\n",
    "# Apply CNOT gate to the two qubits\n",
    "two_qubit_circuit.cx(0, 1)\n",
    "\n",
    "# Apply SWAP gate to the two qubits\n",
    "two_qubit_circuit.swap(0, 1)\n",
    "\n",
    "# Apply iSWAP gate to the two qubits\n",
    "two_qubit_circuit.iswap(0, 1)\n",
    "\n",
    "# Apply Controlled-U gate (controlled-H in this example) to the two qubits\n",
    "two_qubit_circuit.ch(0, 1)\n",
    "\n",
    "# Display the two-qubit circuit\n",
    "print(\"\\nTwo-qubit circuit:\")\n",
    "print(two_qubit_circuit)\n",
    "\n",
    "# Simulate the two-qubit circuit\n",
    "result = execute(two_qubit_circuit, simulator).result()\n",
    "statevector = result.get_statevector()\n",
    "print(\"\\nStatevector after two-qubit gates:\", statevector)\n",
    "\n",
    "# Visualize the circuits\n",
    "single_qubit_circuit.draw(output='mpl', scale=1.5).show()\n",
    "two_qubit_circuit.draw(output='mpl', scale=1.5).show()\n"
   ]
  },
  {
   "cell_type": "markdown",
   "id": "fa2633e5",
   "metadata": {},
   "source": [
    "# Quantum Entanglement:\n",
    "\n",
    "Creation and manipulation of entangled states, a key resource in quantum information processing."
   ]
  },
  {
   "cell_type": "markdown",
   "id": "67563ba3",
   "metadata": {},
   "source": [
    "Quantum entanglement is a fascinating phenomenon in quantum mechanics where two or more particles become correlated in such a way that the state of one particle cannot be independently described without reference to the state of the other(s). This entanglement is a crucial resource in quantum information processing, forming the basis for various quantum technologies such as quantum computing, quantum communication, and quantum cryptography.\n",
    "\n",
    "### Creation of Entangled States:\n",
    "\n",
    "#### 1. **Spontaneous Parametric Down-Conversion (SPDC):**\n",
    "   - One common method to create entangled photon pairs is through SPDC.\n",
    "   - In a nonlinear crystal, a single photon can be split into two entangled photons with lower energy (half the original energy).\n",
    "   - The resulting state is typically expressed as a superposition of two possibilities, often referred to as the signal and idler photons.\n",
    "\n",
    "   **Mathematically:**\n",
    "   If \\(|1\\rangle\\) represents the creation of a photon, the entangled state can be written as:\n",
    "   \\[ |\\psi\\rangle = \\frac{1}{\\sqrt{2}}(|1\\rangle_s |0\\rangle_i + |0\\rangle_s |1\\rangle_i) \\]\n",
    "\n",
    "#### 2. **Parametric Down-Conversion with Crystal Polarization:**\n",
    "   - Entangled states can also be created by exploiting the polarization properties of photons in crystals.\n",
    "   - The process involves the emission of entangled photon pairs with correlated polarizations.\n",
    "\n",
    "   **Mathematically:**\n",
    "   The entangled state for polarization can be written as:\n",
    "   \\[ |\\psi\\rangle = \\frac{1}{\\sqrt{2}}(|H\\rangle_s |V\\rangle_i - |V\\rangle_s |H\\rangle_i) \\]\n",
    "   where \\(|H\\rangle\\) and \\(|V\\rangle\\) represent horizontal and vertical polarizations.\n",
    "\n",
    "### Manipulation of Entangled States:\n",
    "\n",
    "#### 1. **Bell State Measurement:**\n",
    "   - To perform quantum information tasks, it is often necessary to transform entangled states. One common transformation involves a Bell state measurement.\n",
    "   - A Bell state measurement projects entangled qubits onto one of the four Bell states.\n",
    "\n",
    "   **Mathematically:**\n",
    "   If \\(|\\psi\\rangle\\) and \\(|\\Phi\\rangle\\) are two entangled qubits, the Bell state measurement can be represented as:\n",
    "   \\[ |\\Psi\\rangle = \\sum_{i=0}^{3} c_i |B_i\\rangle \\]\n",
    "   where \\(|B_i\\rangle\\) are the four Bell states.\n",
    "\n",
    "#### 2. **Quantum Gates:**\n",
    "   - Quantum gates can be applied to manipulate the entangled states.\n",
    "   - For example, CNOT gates and Hadamard gates can be used to perform operations on entangled qubits.\n",
    "\n",
    "   **Mathematically:**\n",
    "   If \\(U\\) is a quantum gate, the operation on an entangled state \\(|\\psi\\rangle\\) can be written as \\(U|\\psi\\rangle\\).\n",
    "\n",
    "### Important Concepts:\n",
    "\n",
    "#### 1. **Quantum Entanglement Inequality (Bell Inequality):**\n",
    "   - Bell inequalities quantify the correlations expected from classical systems and are used to test the presence of quantum entanglement.\n",
    "   - Violation of Bell inequalities suggests non-classical correlations, confirming the existence of entanglement.\n",
    "\n",
    "#### 2. **Quantum Entanglement and Quantum Information Processing:**\n",
    "   - Entangled states play a crucial role in quantum teleportation, quantum key distribution, and quantum algorithms such as Shor's algorithm for factoring large numbers.\n",
    "\n",
    "### Challenges:\n",
    "Quantum entanglement faces challenges like decoherence and maintaining entanglement over long distances. Researchers are actively working on developing quantum error correction techniques and improving the robustness of quantum entanglement for practical applications.\n",
    "\n",
    "Understanding quantum entanglement involves a deep dive into quantum mechanics, linear algebra, and quantum information theory. The equations provided here are simplified representations of complex mathematical concepts and should be explored further through dedicated study and research."
   ]
  },
  {
   "cell_type": "code",
   "execution_count": 6,
   "id": "6659083e",
   "metadata": {},
   "outputs": [
    {
     "name": "stdout",
     "output_type": "stream",
     "text": [
      "Quantum Circuit:\n",
      "     ┌───┐     \n",
      "q_0: ┤ H ├──■──\n",
      "     └───┘┌─┴─┐\n",
      "q_1: ─────┤ X ├\n",
      "          └───┘\n",
      "\n",
      "Final State Vector:\n",
      "Statevector([0.70710678+0.j, 0.        +0.j, 0.        +0.j,\n",
      "             0.70710678+0.j],\n",
      "            dims=(2, 2))\n"
     ]
    },
    {
     "data": {
      "image/png": "[encoded data removed]",
      "text/plain": [
       "<Figure size 700x500 with 1 Axes>"
      ]
     },
     "execution_count": 6,
     "metadata": {},
     "output_type": "execute_result"
    }
   ],
   "source": [
    "from qiskit import QuantumCircuit, Aer, transpile, assemble, execute\n",
    "from qiskit.visualization import plot_histogram\n",
    "\n",
    "# Create a quantum circuit with two qubits\n",
    "qc = QuantumCircuit(2)\n",
    "\n",
    "# Apply Hadamard gate to the first qubit\n",
    "qc.h(0)\n",
    "\n",
    "# Apply CNOT gate to create entanglement\n",
    "qc.cx(0, 1)\n",
    "\n",
    "# Display the quantum circuit\n",
    "print(\"Quantum Circuit:\")\n",
    "print(qc)\n",
    "\n",
    "# Simulate the quantum circuit\n",
    "simulator = Aer.get_backend('statevector_simulator')\n",
    "compiled_circuit = transpile(qc, simulator)\n",
    "result = execute(compiled_circuit, simulator).result()\n",
    "\n",
    "# Get the final state vector\n",
    "statevector = result.get_statevector()\n",
    "\n",
    "# Display the final state vector\n",
    "print(\"\\nFinal State Vector:\")\n",
    "print(statevector)\n",
    "\n",
    "# Visualize the state vector\n",
    "plot_histogram(result.get_counts())\n"
   ]
  },
  {
   "cell_type": "markdown",
   "id": "09d9f63f",
   "metadata": {},
   "source": [
    "# Quantum Interconnects:\n",
    "\n",
    "Technologies for connecting distant qubits and quantum processors to create large-scale quantum networks."
   ]
  },
  {
   "cell_type": "markdown",
   "id": "3e99ca26",
   "metadata": {},
   "source": [
    "Quantum interconnects are technologies designed to connect distant qubits and quantum processors, enabling the creation of large-scale quantum networks. Building quantum networks is essential for distributed quantum computing, secure quantum communication, and connecting quantum computers in a way that allows them to collectively solve complex problems. Here's an overview of quantum interconnects, their technologies, and relevant information:\n",
    "\n",
    "### Technologies for Quantum Interconnects:\n",
    "\n",
    "1. **Quantum Teleportation:**\n",
    "   - **Principle:** Uses entanglement to transmit the quantum state of one qubit to another, without physically transferring the qubit itself.\n",
    "   - **Equation:** The quantum teleportation protocol involves a series of quantum gates and measurements. The state of the teleported qubit is reconstructed at the destination using classical communication.\n",
    "\n",
    "2. **Quantum Repeaters:**\n",
    "   - **Principle:** Mitigates quantum information loss over long distances in quantum communication.\n",
    "   - **Equation:** Involves a series of entanglement swapping operations and error correction codes to extend the range of entanglement.\n",
    "\n",
    "3. **Superconducting Transmission Lines:**\n",
    "   - **Principle:** Utilizes superconducting circuits as quantum transmission lines to connect qubits.\n",
    "   - **Equation:** Described by the physics of superconductivity, where current flows without resistance. Quantum information can be transferred using superconducting qubits coupled to these transmission lines.\n",
    "\n",
    "4. **Photonic Quantum Communication:**\n",
    "   - **Principle:** Quantum information is encoded in photons, allowing for long-distance communication through optical fibers.\n",
    "   - **Equation:** Photon polarization, often represented by the Bloch sphere, is used to encode and manipulate quantum information in quantum communication protocols.\n",
    "\n",
    "5. **Topological Quantum Networks:**\n",
    "   - **Principle:** Explores the use of topologically protected qubits and braiding operations for fault-tolerant quantum computation.\n",
    "   - **Equation:** Involves mathematical concepts such as anyons and braiding transformations, which provide protection against certain types of errors.\n",
    "\n",
    "6. **Hybrid Quantum Networks:**\n",
    "   - **Principle:** Combines different quantum technologies, such as superconducting qubits and trapped ions, to create more versatile and scalable quantum networks.\n",
    "   - **Equation:** Depends on the specific quantum technologies used in the hybrid network, incorporating the relevant mathematical descriptions of each technology.\n",
    "\n",
    "### Challenges and Considerations:\n",
    "\n",
    "1. **Decoherence and Error Rates:**\n",
    "   - Quantum information is susceptible to decoherence and errors during transmission. Quantum error correction codes and fault-tolerant schemes are critical.\n",
    "\n",
    "2. **Entanglement Distribution:**\n",
    "   - Efficiently distributing entangled states over long distances is a key challenge for quantum repeaters and quantum teleportation protocols.\n",
    "\n",
    "3. **Scalability:**\n",
    "   - Building scalable quantum interconnects that can handle a large number of qubits and processors is a significant challenge in the development of quantum networks.\n",
    "\n",
    "4. **Quantum Entanglement Swapping:**\n",
    "   - The success of quantum repeaters relies on the ability to perform entanglement swapping operations, which requires careful management of quantum entanglement.\n",
    "\n",
    "### Future Directions:\n",
    "\n",
    "1. **Quantum Internet Protocols:**\n",
    "   - Development of quantum communication protocols for secure communication, such as quantum key distribution (QKD) and quantum secure direct communication (QSDC).\n",
    "\n",
    "2. **Quantum Cloud Computing:**\n",
    "   - Integration of quantum processors into cloud computing infrastructures, allowing users to access quantum computing resources remotely.\n",
    "\n",
    "3. **Quantum Network Standards:**\n",
    "   - Development of standards for quantum networks to ensure interoperability and facilitate the exchange of quantum information.\n",
    "\n",
    "Quantum interconnects represent a critical component in the realization of practical quantum networks and distributed quantum computing. Ongoing research and technological advancements aim to overcome the current challenges and pave the way for a future where large-scale quantum networks are a reality."
   ]
  },
  {
   "cell_type": "code",
   "execution_count": 1,
   "id": "5e5cf7b2",
   "metadata": {},
   "outputs": [
    {
     "name": "stdout",
     "output_type": "stream",
     "text": [
      "Quantum Teleportation Result: {'100': 1}\n"
     ]
    }
   ],
   "source": [
    "from qiskit import QuantumCircuit, Aer, execute\n",
    "\n",
    "def quantum_teleportation():\n",
    "    # Create a quantum circuit with 3 qubits and 3 classical bits\n",
    "    circuit = QuantumCircuit(3, 3)\n",
    "\n",
    "    # Prepare an arbitrary quantum state on qubit 0\n",
    "    circuit.h(0)\n",
    "    circuit.rx(0.3, 0)\n",
    "    circuit.ry(1.2, 0)\n",
    "\n",
    "    # Create entanglement between qubits 1 and 2\n",
    "    circuit.h(1)\n",
    "    circuit.cx(1, 2)\n",
    "\n",
    "    # Bell measurement on qubits 0 and 1\n",
    "    circuit.cx(0, 1)\n",
    "    circuit.h(0)\n",
    "\n",
    "    # Measure qubits 0 and 1\n",
    "    circuit.measure([0, 1], [0, 1])\n",
    "\n",
    "    # Apply conditional gates based on the measurement outcomes\n",
    "    circuit.cx(1, 2)\n",
    "    circuit.cz(0, 2)\n",
    "\n",
    "    # Measure the teleported qubit\n",
    "    circuit.measure(2, 2)\n",
    "\n",
    "    # Use the local Aer simulator to run the circuit\n",
    "    simulator = Aer.get_backend('qasm_simulator')\n",
    "    result = execute(circuit, simulator, shots=1).result()\n",
    "\n",
    "    # Get the measurement outcomes\n",
    "    counts = result.get_counts(circuit)\n",
    "    print(\"Quantum Teleportation Result:\", counts)\n",
    "\n",
    "# Execute the quantum teleportation function\n",
    "quantum_teleportation()\n"
   ]
  },
  {
   "cell_type": "markdown",
   "id": "2e052c14",
   "metadata": {},
   "source": [
    "# Quantum Control:\n",
    "\n",
    "Methods to control the dynamics of quantum systems, including pulse shaping and optimal control techniques"
   ]
  },
  {
   "cell_type": "markdown",
   "id": "1d210cef",
   "metadata": {},
   "source": [
    "**Quantum Control:**\n",
    "\n",
    "Quantum control involves manipulating the dynamics of quantum systems to achieve desired outcomes. This manipulation is typically done through external fields, such as electromagnetic pulses, to guide the evolution of quantum states. The goal is to implement specific quantum operations or optimize the performance of quantum devices.\n",
    "\n",
    "**Key Concepts:**\n",
    "\n",
    "1. **Hamiltonian and Unitary Evolution:**\n",
    "   - The dynamics of a quantum system are governed by the Hamiltonian operator (\\(H\\)), which represents the total energy.\n",
    "   - The unitary operator \\(U(t)\\) describes the evolution of the quantum state over time and is related to the Hamiltonian through the Schrödinger equation:\n",
    "     \\[i\\hbar \\frac{dU(t)}{dt} = H(t)U(t)\\]\n",
    "\n",
    "2. **Pulse Shaping:**\n",
    "   - Pulse shaping involves designing time-dependent control fields (pulses) to achieve specific quantum operations.\n",
    "   - The shape, duration, and frequency of pulses are optimized to manipulate the quantum system effectively.\n",
    "\n",
    "3. **Optimal Control Techniques:**\n",
    "   - Optimal control methods aim to find control fields that optimize a given objective function.\n",
    "   - Techniques like GRAPE (Gradient Ascent Pulse Engineering) and Krotov's method are used for optimal control.\n",
    "\n",
    "4. **Quantum Gates and Operations:**\n",
    "   - Quantum gates are elementary operations that transform quantum states.\n",
    "   - Achieving specific quantum gates involves designing control pulses to manipulate qubits or quantum systems.\n",
    "\n",
    "5. **Quantum State Transfer:**\n",
    "   - Quantum state transfer involves designing control fields to transfer a quantum state from one location to another.\n",
    "\n",
    "**Equations:**\n",
    "\n",
    "1. **Optimal Control Objective Function:**\n",
    "   \\[J = \\int_0^T F(t) dt\\]\n",
    "   where \\(F(t)\\) is a figure of merit describing the closeness of the final state to the target state.\n",
    "\n",
    "2. **GRAPE Pulse Optimization:**\n",
    "   GRAPE is an iterative algorithm where the control fields are updated using the gradient of the objective function:\n",
    "   \\[\\vec{E}(t_{k+1}) = \\vec{E}(t_k) + \\alpha \\frac{\\partial J}{\\partial \\vec{E}(t_k)}\\]\n",
    "   where \\(\\vec{E}(t)\\) represents the control field, and \\(\\alpha\\) is the learning rate.\n",
    "\n",
    "3. **Krotov's Method:**\n",
    "   Krotov's method is another optimization technique for quantum control. The update equation is given by:\n",
    "   \\[\\vec{E}(t_{k+1}) = \\vec{E}(t_k) + \\alpha \\Im \\left[ \\lambda \\vec{C}(t_k)^{\\dagger} \\vec{E}(t_k) \\right]\\]\n",
    "   where \\(\\lambda\\) is a complex number and \\(\\vec{C}(t)\\) is the propagator for the quantum system.\n",
    "\n",
    "**Applications:**\n",
    "\n",
    "1. **Quantum Computing:**\n",
    "   - Designing pulses for quantum gates and operations.\n",
    "\n",
    "2. **Quantum Sensing:**\n",
    "   - Manipulating quantum states for precision measurements.\n",
    "\n",
    "3. **Quantum Communication:**\n",
    "   - Controlling the transfer of quantum information between locations.\n",
    "\n",
    "4. **Quantum Chemistry:**\n",
    "   - Optimizing control fields for simulating molecular systems.\n",
    "\n",
    "**Challenges:**\n",
    "\n",
    "1. **Decoherence:**\n",
    "   - Quantum systems are susceptible to environmental noise, leading to decoherence.\n",
    "\n",
    "2. **Control Hardware Limitations:**\n",
    "   - Experimental limitations, such as finite precision in control hardware.\n",
    "\n",
    "3. **Optimal Control Landscape:**\n",
    "   - Finding optimal control fields can be computationally expensive.\n",
    "\n",
    "Quantum control is an active area of research with applications in various quantum technologies. Advanced control techniques are crucial for realizing the potential of quantum computing and other quantum applications."
   ]
  },
  {
   "cell_type": "code",
   "execution_count": 10,
   "id": "4fea5e69",
   "metadata": {},
   "outputs": [],
   "source": [
    "import numpy as np\n",
    "import matplotlib.pyplot as plt\n",
    "from qutip import basis, mesolve, Options\n",
    "\n",
    "def hamiltonian(omega, H0, H1):\n",
    "    return omega * H0 + H1\n",
    "\n",
    "def create_operators(N):\n",
    "    H0 = basis(N, 0) * basis(N, 0).dag()\n",
    "    H1 = (basis(N, 0) * basis(N, 1).dag() + basis(N, 1) * basis(N, 0).dag()) / 2.0\n",
    "    return H0, H1\n",
    "\n",
    "def pulse_shape(t, args):\n",
    "    return np.sin(np.pi * t / args['T'])\n",
    "\n",
    "def run_simulation(H, psi0, t_list, c_ops, args):\n",
    "    options = Options(nsteps=5000)\n",
    "    result = mesolve(H, psi0, t_list, c_ops, args=args, options=options)\n",
    "    \n",
    "    # Debugging statements\n",
    "    print(\"Length of t_list:\", len(t_list))\n",
    "    print(\"Length of result.expect:\", len(result.expect))\n",
    "    \n",
    "    return result.expect[0]\n",
    "\n",
    "# System parameters\n",
    "omega = 1.0  # Energy separation between states |0⟩ and |1⟩\n",
    "N = 2  # Number of energy levels\n",
    "\n",
    "# Time parameters\n",
    "T = 2 * np.pi / omega  # Period of the pulse\n",
    "t_list = np.linspace(0, 5 * T, 500)  # Time points\n",
    "\n",
    "# Quantum operators\n",
    "H0, H1 = create_operators(N)\n",
    "H = hamiltonian(omega, H0, H1)\n",
    "\n",
    "# Initial state\n",
    "psi0 = basis(N, 0)\n",
    "\n",
    "# Time-dependent control pulse\n",
    "args = {'T': T}\n",
    "H1_coeff = {'H1': [H1, pulse_shape]}\n",
    "c_ops = []\n",
    "\n",
    "# Run simulation\n",
    "#result = run_simulation(H, psi0, t_list, c_ops, args)\n",
    "\n",
    "# Plot results\n",
    "#plt.plot(t_list, result)\n",
    "#plt.xlabel('Time')\n",
    "#plt.ylabel('Expectation Value')\n",
    "#plt.title('Quantum Control: Pulse Shaping')\n",
    "#plt.show()\n"
   ]
  },
  {
   "cell_type": "markdown",
   "id": "7d839d50",
   "metadata": {},
   "source": [
    "# Quantum Measurement and Readout:\n",
    "\n",
    "Techniques for measuring quantum states and extracting information from qubits, often involving quantum nondemolition measurements."
   ]
  },
  {
   "cell_type": "markdown",
   "id": "ae71932a",
   "metadata": {},
   "source": [
    "Quantum measurement and readout are essential aspects of quantum information processing. They involve determining the state of a quantum system, often a qubit, and extracting information from it. Quantum measurements are fundamentally different from classical measurements, introducing the concept of superposition and probabilistic outcomes. Quantum nondemolition measurements aim to gather information without disturbing the quantum state significantly.\n",
    "\n",
    "### Quantum Measurement:\n",
    "\n",
    "1. **Projective Measurement:**\n",
    "   - A fundamental type of quantum measurement.\n",
    "   - Projecting a quantum state onto one of the eigenstates of the measured observable.\n",
    "\n",
    "2. **Measurement Operators (\\(M\\)):**\n",
    "   - Described by a set of Hermitian operators corresponding to the possible outcomes.\n",
    "   - The probability of measuring outcome \\(m\\) is given by \\(\\text{Pr}(m) = \\langle \\psi | M_m^\\dagger M_m | \\psi \\rangle\\), where \\(|\\psi\\rangle\\) is the quantum state.\n",
    "\n",
    "3. **Post-Measurement State:**\n",
    "   - After a measurement with outcome \\(m\\), the state collapses to the corresponding eigenstate \\(|m\\rangle\\).\n",
    "\n",
    "### Quantum Readout:\n",
    "\n",
    "4. **Quantum Nondemolition Measurement (QND):**\n",
    "   - A type of measurement that minimally disturbs the state being measured.\n",
    "   - Aim is to gain information without altering the quantum state significantly.\n",
    "\n",
    "5. **Weak Measurement:**\n",
    "   - A quantum measurement performed gently, causing minimal disturbance.\n",
    "   - The weak value \\( \\langle A \\rangle_w \\) of an observable \\(A\\) is obtained using a weak measurement and is given by \\[ \\langle A \\rangle_w = \\frac{\\langle \\psi_f | A | \\psi_i \\rangle}{\\langle \\psi_f | \\psi_i \\rangle} \\], where \\(|\\psi_i\\rangle\\) is the initial state and \\(|\\psi_f\\rangle\\) is the post-selected state.\n",
    "\n",
    "6. **Quantum Tomography:**\n",
    "   - Reconstructing the complete quantum state from a set of measurements in different bases.\n",
    "\n",
    "### Quantum Measurement Operators:\n",
    "\n",
    "7. **Pauli Measurement Operators:**\n",
    "   - For a single-qubit system, the Pauli matrices (\\(X\\), \\(Y\\), \\(Z\\)) can be used as measurement operators.\n",
    "\n",
    "8. **Generalized Measurement (POVM):**\n",
    "   - Uses a Positive Operator-Valued Measure (POVM), a set of positive semi-definite operators summing to the identity.\n",
    "\n",
    "### Quantum Measurement in Quantum Circuits:\n",
    "\n",
    "9. **Quantum Measurement in Qiskit:**\n",
    "   - In Qiskit, measurements are typically performed at the end of a quantum circuit using the `measure` operation.\n",
    "\n",
    "```python\n",
    "from qiskit import QuantumCircuit, Aer, transpile, assemble, execute\n",
    "\n",
    "# Create a quantum circuit\n",
    "circuit = QuantumCircuit(2, 2)\n",
    "\n",
    "# Apply quantum gates\n",
    "\n",
    "# Measure qubits\n",
    "circuit.measure([0, 1], [0, 1])\n",
    "\n",
    "# Simulate the circuit\n",
    "backend = Aer.get_backend('qasm_simulator')\n",
    "transpiled_circuit = transpile(circuit, backend)\n",
    "qobj = assemble(transpiled_circuit)\n",
    "result = execute(qobj, backend).result()\n",
    "counts = result.get_counts()\n",
    "\n",
    "print(counts)\n",
    "```\n",
    "\n",
    "This code snippet demonstrates how to perform measurements in a Qiskit quantum circuit.\n",
    "\n",
    "Quantum measurement plays a crucial role in extracting information from quantum states, and its understanding is fundamental to quantum information processing and quantum computing. The specific equations and techniques may vary depending on the context and the type of measurement being performed."
   ]
  },
  {
   "cell_type": "code",
   "execution_count": 5,
   "id": "ac5beb19",
   "metadata": {},
   "outputs": [
    {
     "name": "stdout",
     "output_type": "stream",
     "text": [
      "Measurement outcomes: {'110': 239, '100': 279, '111': 257, '101': 266, '001': 247, '010': 245, '011': 259, '000': 256}\n"
     ]
    },
    {
     "data": {
      "image/png": "[encoded data removed]",
      "text/plain": [
       "<Figure size 640x480 with 1 Axes>"
      ]
     },
     "metadata": {},
     "output_type": "display_data"
    }
   ],
   "source": [
    "from qiskit import QuantumCircuit, transpile, assemble, Aer, execute\n",
    "import matplotlib.pyplot as plt \n",
    "\n",
    "# Create a quantum circuit with 3 qubits and 3 classical bits\n",
    "qc = QuantumCircuit(3, 3)\n",
    "\n",
    "# Apply a Hadamard gate to each qubit\n",
    "qc.h(0)\n",
    "qc.h(1)\n",
    "qc.h(2)\n",
    "\n",
    "# Apply a CNOT gate between qubit 0 and qubit 1\n",
    "qc.cx(0, 1)\n",
    "\n",
    "# Apply a CNOT gate between qubit 1 and qubit 2\n",
    "qc.cx(1, 2)\n",
    "\n",
    "# Measure the qubits and store the results in the classical bits\n",
    "qc.measure([0, 1, 2], [0, 1, 2])\n",
    "\n",
    "# Choose a simulator backend\n",
    "simulator = Aer.get_backend('qasm_simulator')\n",
    "\n",
    "# Execute the circuit on the simulator\n",
    "job = execute(qc, simulator, shots=2048)\n",
    "\n",
    "# Get the result\n",
    "result = job.result()\n",
    "\n",
    "# Print the counts of each measurement outcome\n",
    "counts = result.get_counts(qc)\n",
    "print(\"Measurement outcomes:\", counts)\n",
    "\n",
    "# Visualize the measurement results using a bar chart\n",
    "plt.bar(counts.keys(), counts.values())\n",
    "plt.xlabel('Binary Outcome')\n",
    "plt.ylabel('Counts')\n",
    "plt.show()"
   ]
  },
  {
   "cell_type": "markdown",
   "id": "15e5f226",
   "metadata": {},
   "source": [
    "# Quantum Sensors:\n",
    "\n",
    "Application of quantum technology for high-precision sensing, including quantum-enhanced measurements."
   ]
  },
  {
   "cell_type": "markdown",
   "id": "30491943",
   "metadata": {},
   "source": [
    "Quantum sensors leverage principles from quantum mechanics to achieve higher precision and sensitivity compared to classical sensors. These sensors use quantum phenomena such as superposition and entanglement to enhance their performance in various measurement tasks. Below, I'll provide an overview of quantum sensors, their applications, and some relevant information:\n",
    "\n",
    "### Quantum Sensing Principles:\n",
    "\n",
    "1. **Superposition:**\n",
    "   - Quantum sensors exploit the ability of quantum particles to exist in multiple states simultaneously. In a superposition state, a quantum system can be in a combination of different states with different probabilities.\n",
    "\n",
    "2. **Entanglement:**\n",
    "   - Quantum entanglement enables correlated behavior between quantum particles, even when separated by large distances. Changes to one entangled particle instantaneously affect the other.\n",
    "\n",
    "3. **Quantum Interference:**\n",
    "   - Quantum interference occurs when probability amplitudes of different quantum paths add constructively or destructively. This principle is used to enhance measurement precision.\n",
    "\n",
    "### Types of Quantum Sensors:\n",
    "\n",
    "1. **Quantum Magnetometers:**\n",
    "   - Measure magnetic fields with high precision.\n",
    "   - Applications: Magnetic resonance imaging (MRI), geological surveys, navigation systems.\n",
    "\n",
    "2. **Quantum Gyroscopes:**\n",
    "   - Measure rotation rates more accurately than classical gyroscopes.\n",
    "   - Applications: Navigation systems, inertial navigation in aerospace.\n",
    "\n",
    "3. **Quantum Accelerometers:**\n",
    "   - Measure acceleration with higher sensitivity.\n",
    "   - Applications: Seismic monitoring, inertial navigation systems.\n",
    "\n",
    "4. **Quantum Gravity Sensors:**\n",
    "   - Measure gravitational field variations with extreme sensitivity.\n",
    "   - Applications: Oil and mineral exploration, monitoring groundwater.\n",
    "\n",
    "5. **Quantum Imaging:**\n",
    "   - Utilize quantum properties for high-resolution imaging.\n",
    "   - Applications: Medical imaging, remote sensing, security.\n",
    "\n",
    "### Quantum-Enhanced Measurements:\n",
    "\n",
    "1. **Quantum Metrology:**\n",
    "   - Quantum-enhanced measurements use entangled states to surpass classical precision limits.\n",
    "   - Precision is related to the Heisenberg uncertainty principle:\n",
    "     \\[ \\Delta \\theta \\cdot \\Delta J \\geq \\frac{\\hbar}{2} \\]\n",
    "   - Where \\(\\Delta \\theta\\) is the uncertainty in the measured parameter, and \\(\\Delta J\\) is the uncertainty in the generator of the measurement evolution.\n",
    "\n",
    "2. **Quantum-Enhanced Interferometry:**\n",
    "   - Quantum interferometry allows for measurements beyond classical limits.\n",
    "   - Quantum-enhanced sensitivity scales with the number of entangled particles.\n",
    "\n",
    "3. **Squeezed States:**\n",
    "   - Squeezed states are used to reduce uncertainty in one variable at the expense of increasing uncertainty in another.\n",
    "   - Quantum-enhanced sensitivity can be achieved by preparing and measuring squeezed states.\n",
    "\n",
    "### Challenges and Considerations:\n",
    "\n",
    "1. **Decoherence:**\n",
    "   - Quantum sensors are sensitive to environmental factors, leading to decoherence and loss of quantum states.\n",
    "\n",
    "2. **Temperature Sensitivity:**\n",
    "   - Quantum sensors often require low temperatures to reduce thermal noise and maintain quantum coherence.\n",
    "\n",
    "3. **Scalability:**\n",
    "   - Implementing large-scale quantum sensors for practical applications remains a challenge.\n",
    "\n",
    "### Quantum Sensor Platforms:\n",
    "\n",
    "1. **Superconducting Qubits:**\n",
    "   - Superconducting circuits are used to create qubits for quantum sensors.\n",
    "\n",
    "2. **Trapped Ions:**\n",
    "   - Ions are trapped using electromagnetic fields, and their quantum states are manipulated for sensing.\n",
    "\n",
    "3. **Quantum Dots:**\n",
    "   - Semiconductor quantum dots can be engineered for sensing applications.\n",
    "\n",
    "4. **Photonic Quantum Sensors:**\n",
    "   - Use properties of photons for high-precision measurements.\n",
    "\n",
    "### Recent Developments:\n",
    "\n",
    "1. **Quantum-Enhanced Imaging Techniques:**\n",
    "   - Advances in quantum imaging for improved resolution and sensitivity.\n",
    "\n",
    "2. **Quantum Sensing Networks:**\n",
    "   - Integration of multiple quantum sensors into networks for distributed sensing.\n",
    "\n",
    "3. **Quantum Machine Learning for Sensing:**\n",
    "   - Combining quantum computing with quantum sensing for advanced data analysis.\n",
    "\n",
    "In conclusion, quantum sensors leverage unique quantum properties to enhance precision in a variety of sensing applications. Ongoing research and development aim to overcome challenges and further improve the scalability and practicality of quantum sensing technologies."
   ]
  },
  {
   "cell_type": "code",
   "execution_count": 6,
   "id": "caf7399c",
   "metadata": {},
   "outputs": [
    {
     "name": "stdout",
     "output_type": "stream",
     "text": [
      "True Magnetic Field: 0.7853981633974483\n",
      "Estimated Magnetic Field: 0.791013515814583\n"
     ]
    }
   ],
   "source": [
    "from qiskit import QuantumCircuit, Aer, transpile, assemble, execute\n",
    "import numpy as np\n",
    "\n",
    "def create_quantum_sensor_circuit(theta):\n",
    "    # Quantum circuit to measure a magnetic field\n",
    "    circuit = QuantumCircuit(1, 1)\n",
    "    \n",
    "    # Apply a rotation gate to simulate the effect of a magnetic field\n",
    "    circuit.rx(theta, 0)\n",
    "    \n",
    "    # Measurement\n",
    "    circuit.measure(0, 0)\n",
    "    \n",
    "    return circuit\n",
    "\n",
    "def run_quantum_sensor_simulation(circuit, backend='qasm_simulator', shots=1024):\n",
    "    # Simulate the quantum sensor\n",
    "    backend = Aer.get_backend(backend)\n",
    "    t_circuit = transpile(circuit, backend)\n",
    "    qobj = assemble(t_circuit, shots=shots)\n",
    "    result = execute(t_circuit, backend).result()\n",
    "    \n",
    "    # Extract measurement results\n",
    "    counts = result.get_counts(circuit)\n",
    "    \n",
    "    return counts\n",
    "\n",
    "def analyze_measurement_results(counts):\n",
    "    # Analyze the measurement results\n",
    "    if '0' in counts and '1' in counts:\n",
    "        # Calculate the probability of measuring state |1>\n",
    "        p1 = counts['1'] / (counts['0'] + counts['1'])\n",
    "        magnetic_field_strength = np.arcsin(np.sqrt(p1)) * 2\n",
    "        \n",
    "        return magnetic_field_strength\n",
    "    else:\n",
    "        return None\n",
    "\n",
    "def main():\n",
    "    # Magnetic field strength to be measured (in radians)\n",
    "    true_magnetic_field = np.pi / 4\n",
    "    \n",
    "    # Quantum sensor circuit with the true magnetic field\n",
    "    quantum_sensor_circuit = create_quantum_sensor_circuit(true_magnetic_field)\n",
    "    \n",
    "    # Run the quantum sensor simulation\n",
    "    measurement_results = run_quantum_sensor_simulation(quantum_sensor_circuit)\n",
    "    \n",
    "    # Analyze the measurement results\n",
    "    estimated_magnetic_field = analyze_measurement_results(measurement_results)\n",
    "    \n",
    "    # Display the results\n",
    "    print(f\"True Magnetic Field: {true_magnetic_field}\")\n",
    "    print(f\"Estimated Magnetic Field: {estimated_magnetic_field}\")\n",
    "\n",
    "if __name__ == \"__main__\":\n",
    "    main()\n",
    "                                                                              "
   ]
  },
  {
   "cell_type": "markdown",
   "id": "d80decd5",
   "metadata": {},
   "source": [
    "# Quantum Communication:\n",
    "\n",
    "Development of quantum communication protocols and quantum key distribution for secure communication"
   ]
  },
  {
   "cell_type": "markdown",
   "id": "1de4a9d6",
   "metadata": {},
   "source": [
    "## Quantum Communication:\n",
    "\n",
    "Quantum Communication exploits quantum mechanical properties to enable secure communication between parties. One of its key applications is Quantum Key Distribution (QKD), which provides a secure way to exchange cryptographic keys. Here's an overview of key concepts and protocols:\n",
    "\n",
    "### Quantum Key Distribution (QKD):\n",
    "\n",
    "#### Basic Principles:\n",
    "\n",
    "1. **Quantum Superposition:**\n",
    "   - Quantum bits, or qubits, can exist in superpositions of states (e.g., |0⟩ and |1⟩ simultaneously).\n",
    "\n",
    "2. **Quantum Entanglement:**\n",
    "   - Entangled qubits are correlated in a way that the state of one qubit instantaneously determines the state of the other, regardless of the distance between them.\n",
    "\n",
    "3. **No-Cloning Theorem:**\n",
    "   - Quantum states cannot be copied perfectly, preventing an eavesdropper from cloning transmitted qubits without being detected.\n",
    "\n",
    "#### BBM92 (BB84) Quantum Key Distribution Protocol:\n",
    "\n",
    "1. **Quantum State Preparation:**\n",
    "   - Alice prepares a sequence of qubits in one of four states: |0⟩, |1⟩, |+⟩, |-⟩.\n",
    "\n",
    "2. **Quantum Transmission:**\n",
    "   - Alice sends the qubits to Bob over a quantum channel.\n",
    "\n",
    "3. **Basis Choice:**\n",
    "   - Bob randomly chooses a basis (rectilinear or diagonal) to measure the received qubits.\n",
    "\n",
    "4. **Quantum Measurement:**\n",
    "   - Bob measures the qubits in the chosen basis.\n",
    "\n",
    "5. **Error Checking:**\n",
    "   - Alice and Bob publicly announce a subset of basis choices and check for discrepancies to detect eavesdropping.\n",
    "\n",
    "6. **Error Correction and Privacy Amplification:**\n",
    "   - Alice and Bob perform classical operations to correct errors and amplify the privacy of the key.\n",
    "\n",
    "### Security Parameter:\n",
    "\n",
    "The security of QKD is quantified by the security parameter (\\(\\epsilon\\)), representing the probability that an eavesdropper can gain knowledge of the secret key. The security parameter is typically a very small number, indicating a low probability of compromise.\n",
    "\n",
    "\\[ \\epsilon \\approx \\frac{1}{2^{\\text{{Key Length}}}} \\]\n",
    "\n",
    "### QKD Systems:\n",
    "\n",
    "1. **Quantum Channel:**\n",
    "   - The physical medium (fiber optic cable, free-space, etc.) used to transmit quantum states between parties.\n",
    "\n",
    "2. **QKD Devices:**\n",
    "   - Devices that generate, transmit, and measure quantum states. Examples include single-photon sources and detectors.\n",
    "\n",
    "### Quantum Communication Protocols:\n",
    "\n",
    "1. **E91 Protocol (Entanglement-Based QKD):**\n",
    "   - Utilizes entangled particles for secure key distribution. Measurement outcomes on entangled particles are correlated, ensuring security.\n",
    "\n",
    "2. **BBM92 Protocol with SARG04 Enhancement:**\n",
    "   - An enhancement to the BBM92 protocol that employs decoy states (SARG04) to enhance security against certain types of attacks.\n",
    "\n",
    "### Quantum Key Rates:\n",
    "\n",
    "The key rate (\\(K\\)) is a measure of the rate at which secret key bits are generated per time unit. It is defined as:\n",
    "\n",
    "\\[ K = \\frac{N}{T} \\]\n",
    "\n",
    "where \\(N\\) is the number of bits in the final secret key and \\(T\\) is the time taken for the QKD protocol.\n",
    "\n",
    "### Quantum Communication Networks:\n",
    "\n",
    "1. **Quantum Repeaters:**\n",
    "   - Used to extend the distance over which entangled particles can be shared, enabling the creation of large-scale quantum communication networks.\n",
    "\n",
    "2. **Satellite-Based Quantum Communication:**\n",
    "   - Leverages satellites for the transmission of quantum states, enabling global-scale quantum communication.\n",
    "\n",
    "### Equations and Key Concepts:\n",
    "\n",
    "#### Quantum Key Distribution Protocol:\n",
    "\n",
    "\\[ E(\\theta) = \\frac{\\langle \\psi(\\theta) | H | \\psi(\\theta) \\rangle}{\\langle \\psi(\\theta) | \\psi(\\theta) \\rangle} \\]\n",
    "\n",
    "#### QKD Key Rate:\n",
    "\n",
    "\\[ K = \\frac{N}{T} \\]\n",
    "\n",
    "#### Security Parameter:\n",
    "\n",
    "\\[ \\epsilon \\approx \\frac{1}{2^{\\text{{Key Length}}}} \\]\n",
    "\n",
    "These equations provide a basic understanding of key concepts in quantum communication and QKD. Implementation details, security proofs, and advanced concepts can be found in research papers and literature specific to quantum communication protocols. Always refer to authoritative sources for detailed information and accurate equations."
   ]
  },
  {
   "cell_type": "code",
   "execution_count": 3,
   "id": "20aa2d0e",
   "metadata": {},
   "outputs": [
    {
     "name": "stdout",
     "output_type": "stream",
     "text": [
      "Measurements:\n",
      "{'0000001000': 14, '0111000000': 19, '0110001000': 16, '1110000010': 9, '0100001000': 22, '1001001010': 15, '1011000000': 15, '1111001010': 19, '1101000000': 18, '1001000000': 18, '1011001010': 16, '1111000000': 10, '1101001010': 11, '1001000010': 8, '1111000010': 15, '0010001010': 20, '1100001010': 17, '0000000010': 17, '1000000000': 16, '1110001010': 15, '1101000010': 20, '1011000010': 15, '0001001000': 11, '0100000000': 17, '0111000010': 11, '0010001000': 24, '0000001010': 22, '1100000010': 16, '0001001010': 13, '0011000000': 15, '1111001000': 12, '1001001000': 16, '0111001000': 15, '0010000010': 20, '1101001000': 11, '1011001000': 19, '0100000010': 14, '1110001000': 24, '0001000000': 11, '0011001010': 16, '0110001010': 17, '1100001000': 12, '1000000010': 10, '0101000000': 14, '1000001010': 10, '1110000000': 19, '1010001000': 18, '0010000000': 11, '0110000010': 20, '0101001000': 17, '0011000010': 20, '0011001000': 18, '0101000010': 19, '0000000000': 22, '1100000000': 15, '0111001010': 24, '1000001000': 22, '0100001010': 16, '0110000000': 21, '0001000010': 11, '0101001010': 16, '1010001010': 11, '1010000000': 15, '1010000010': 14}\n"
     ]
    },
    {
     "name": "stderr",
     "output_type": "stream",
     "text": [
      "C:\\Users\\yashr\\AppData\\Local\\Temp\\ipykernel_8976\\341176697.py:56: DeprecationWarning: Using a qobj for run() is deprecated as of qiskit-aer 0.9.0 and will be removed no sooner than 3 months from that release date. Transpiled circuits should now be passed directly using `backend.run(circuits, **run_options).\n",
      "  result = simulator.run(qobj_circuit).result()\n"
     ]
    }
   ],
   "source": [
    "from qiskit import Aer, QuantumCircuit, transpile, assemble, QuantumRegister, ClassicalRegister\n",
    "from qiskit.visualization import plot_histogram\n",
    "from numpy.random import randint\n",
    "\n",
    "def alice_prepare_qubits(n):\n",
    "    # Alice prepares n qubits in random states (rectilinear or diagonal basis)\n",
    "    qubits = QuantumRegister(n, name='q')\n",
    "    bases = randint(2, size=n)  # 0 for rectilinear, 1 for diagonal\n",
    "    states = randint(2, size=(n, 2))  # 0 for |0⟩ or |+⟩, 1 for |1⟩ or |-⟩\n",
    "\n",
    "    circuit = QuantumCircuit(qubits)\n",
    "\n",
    "    for i in range(n):\n",
    "        if bases[i] == 0:  # Rectilinear basis\n",
    "            if states[i][0] == 1:\n",
    "                circuit.x(qubits[i])  # |1⟩\n",
    "        else:  # Diagonal basis\n",
    "            if states[i][1] == 1:\n",
    "                circuit.h(qubits[i])  # |+⟩\n",
    "\n",
    "    return circuit, bases, states\n",
    "\n",
    "def bob_measure_qubits(qubits, bases):\n",
    "    # Bob measures the qubits in the randomly chosen bases\n",
    "    measurements = QuantumCircuit(qubits, ClassicalRegister(len(qubits)))\n",
    "    for i in range(len(qubits)):\n",
    "        if bases[i] == 0:  # Rectilinear basis\n",
    "            measurements.measure(qubits[i], i)\n",
    "        else:  # Diagonal basis\n",
    "            measurements.h(qubits[i])\n",
    "            measurements.measure(qubits[i], i)\n",
    "            measurements.h(qubits[i])\n",
    "    return measurements\n",
    "\n",
    "# Set up the quantum and classical registers\n",
    "n = 10  # Number of qubits\n",
    "q = QuantumRegister(n, name='q')\n",
    "c = ClassicalRegister(n, name='c')\n",
    "\n",
    "# Alice prepares qubits\n",
    "alice_circuit, alice_bases, alice_states = alice_prepare_qubits(n)\n",
    "\n",
    "# Bob measures qubits\n",
    "bob_circuit = bob_measure_qubits(q, alice_bases)\n",
    "\n",
    "# Combine circuits\n",
    "circuit = alice_circuit\n",
    "circuit = bob_circuit\n",
    "\n",
    "# Simulate quantum circuits\n",
    "simulator = Aer.get_backend('qasm_simulator')\n",
    "t_circuit = transpile(circuit, simulator)\n",
    "qobj_circuit = assemble(t_circuit)\n",
    "\n",
    "# Execute the circuit\n",
    "result = simulator.run(qobj_circuit).result()\n",
    "\n",
    "# Get counts\n",
    "counts = result.get_counts()\n",
    "\n",
    "# Display results\n",
    "print(\"Measurements:\")\n",
    "print(counts)"
   ]
  },
  {
   "cell_type": "markdown",
   "id": "fb2dbb9f",
   "metadata": {},
   "source": [
    "# Quantum Software Development:\n",
    "\n",
    "Tools and frameworks for programming quantum computers, including Qiskit, Cirq, and Forest."
   ]
  },
  {
   "cell_type": "markdown",
   "id": "1dcf29c3",
   "metadata": {},
   "source": [
    "**Quantum Software Development: Tools and Frameworks**\n",
    "\n",
    "Quantum software development involves creating programs that leverage the principles of quantum mechanics to solve problems on quantum computers. Several tools and frameworks have been developed to facilitate quantum programming. Here, we'll explore three popular quantum software development frameworks: Qiskit, Cirq, and Forest.\n",
    "\n",
    "### Qiskit:\n",
    "\n",
    "**Overview:**\n",
    "Qiskit is an open-source quantum computing software development framework developed by IBM. It provides tools for working with quantum circuits, algorithms, and quantum applications. Qiskit supports both quantum and classical computing.\n",
    "\n",
    "**Key Components:**\n",
    "1. **Quantum Circuit:** Qiskit allows the creation and manipulation of quantum circuits, including quantum gates and measurements.\n",
    "\n",
    "2. **Quantum Algorithms:** Qiskit includes implementations of various quantum algorithms such as Shor's algorithm, Grover's algorithm, and more.\n",
    "\n",
    "3. **Quantum Simulators:** Qiskit provides simulators that allow users to simulate quantum circuits on classical computers, enabling debugging and testing without accessing real quantum hardware.\n",
    "\n",
    "4. **Access to Quantum Devices:** Qiskit enables users to run quantum circuits on IBM's quantum devices through the cloud.\n",
    "\n",
    "**Example Code (Quantum Hello World):**\n",
    "```python\n",
    "from qiskit import QuantumCircuit, Aer, transpile, assemble\n",
    "\n",
    "# Create a quantum circuit with one qubit\n",
    "qc = QuantumCircuit(1)\n",
    "\n",
    "# Apply a Hadamard gate\n",
    "qc.h(0)\n",
    "\n",
    "# Measure the qubit\n",
    "qc.measure_all()\n",
    "\n",
    "# Simulate the quantum circuit\n",
    "simulator = Aer.get_backend('qasm_simulator')\n",
    "result = simulator.run(assemble(transpile(qc), simulator)).result()\n",
    "\n",
    "# Get the measurement outcomes\n",
    "counts = result.get_counts()\n",
    "\n",
    "print(f\"Measurement outcomes: {counts}\")\n",
    "```\n",
    "\n",
    "### Cirq:\n",
    "\n",
    "**Overview:**\n",
    "Cirq is a quantum programming framework developed by Google. It is designed for writing quantum circuits for noisy intermediate-scale quantum (NISQ) devices.\n",
    "\n",
    "**Key Components:**\n",
    "1. **Circuits and Operations:** Cirq provides a clean and simple way to create and manipulate quantum circuits using circuits and operations.\n",
    "\n",
    "2. **Simulators:** Cirq includes simulators for testing and debugging quantum circuits.\n",
    "\n",
    "3. **Device Interaction:** Cirq allows users to define and interact with quantum devices, considering connectivity constraints and device specifications.\n",
    "\n",
    "**Example Code (Entanglement in Cirq):**\n",
    "```python\n",
    "import cirq\n",
    "\n",
    "# Create a circuit with two qubits\n",
    "qubit1 = cirq.GridQubit(0, 0)\n",
    "qubit2 = cirq.GridQubit(0, 1)\n",
    "circuit = cirq.Circuit(cirq.H(qubit1), cirq.CNOT(qubit1, qubit2))\n",
    "\n",
    "# Print the circuit\n",
    "print(circuit)\n",
    "```\n",
    "\n",
    "### Forest (Rigetti):\n",
    "\n",
    "**Overview:**\n",
    "Forest is a quantum programming framework developed by Rigetti Computing. It provides tools for writing quantum programs and accessing quantum processors developed by Rigetti.\n",
    "\n",
    "**Key Components:**\n",
    "1. **Quantum Cloud Services:** Forest allows users to access quantum processors over the cloud.\n",
    "\n",
    "2. **Quantum Virtual Machine (QVM):** Forest includes a simulator called QVM for simulating quantum circuits.\n",
    "\n",
    "3. **Quantum Instruction Language (Quil):** Quil is a low-level quantum instruction language used to describe quantum programs.\n",
    "\n",
    "**Example Code (Bell State in Quil):**\n",
    "```python\n",
    "from pyquil import Program, get_qc\n",
    "from pyquil.gates import H, CNOT, MEASURE\n",
    "\n",
    "# Create a Bell state program\n",
    "bell_program = Program(\n",
    "    H(0),\n",
    "    CNOT(0, 1),\n",
    "    MEASURE(0, 0),\n",
    "    MEASURE(1, 1)\n",
    ")\n",
    "\n",
    "# Run the program on a quantum processor\n",
    "quantum_processor = get_qc('2q-qvm')\n",
    "result = quantum_processor.run(bell_program).readout_data()\n",
    "\n",
    "print(f\"Measurement outcomes: {result}\")\n",
    "```\n",
    "\n",
    "These frameworks provide high-level abstractions for quantum programming, allowing developers to focus on algorithm design and implementation rather than low-level details of quantum hardware. It's important to note that quantum computing is an evolving field, and these frameworks continue to be refined and expanded as the technology progresses."
   ]
  },
  {
   "cell_type": "code",
   "execution_count": 1,
   "id": "a871c897",
   "metadata": {},
   "outputs": [
    {
     "name": "stdout",
     "output_type": "stream",
     "text": [
      "Measurement outcomes: {'0': 494, '1': 530}\n"
     ]
    },
    {
     "name": "stderr",
     "output_type": "stream",
     "text": [
      "C:\\Users\\yashr\\AppData\\Local\\Temp\\ipykernel_6356\\63271707.py:14: DeprecationWarning: Using a qobj for run() is deprecated as of qiskit-aer 0.9.0 and will be removed no sooner than 3 months from that release date. Transpiled circuits should now be passed directly using `backend.run(circuits, **run_options).\n",
      "  result = simulator.run(assemble(transpile(qc), simulator)).result()\n"
     ]
    }
   ],
   "source": [
    "from qiskit import QuantumCircuit, Aer, transpile, assemble\n",
    "\n",
    "# Create a quantum circuit with one qubit\n",
    "qc = QuantumCircuit(1)\n",
    "\n",
    "# Apply a Hadamard gate\n",
    "qc.h(0)\n",
    "\n",
    "# Measure the qubit\n",
    "qc.measure_all()\n",
    "\n",
    "# Simulate the quantum circuit\n",
    "simulator = Aer.get_backend('qasm_simulator')\n",
    "result = simulator.run(assemble(transpile(qc), simulator)).result()\n",
    "\n",
    "# Get the measurement outcomes\n",
    "counts = result.get_counts()\n",
    "\n",
    "print(f\"Measurement outcomes: {counts}\")"
   ]
  },
  {
   "cell_type": "code",
   "execution_count": 2,
   "id": "e53d2e68",
   "metadata": {},
   "outputs": [
    {
     "name": "stdout",
     "output_type": "stream",
     "text": [
      "(0, 0): ───H───@───\n",
      "               │\n",
      "(0, 1): ───────X───\n"
     ]
    }
   ],
   "source": [
    "import cirq\n",
    "\n",
    "# Create a circuit with two qubits\n",
    "qubit1 = cirq.GridQubit(0, 0)\n",
    "qubit2 = cirq.GridQubit(0, 1)\n",
    "circuit = cirq.Circuit(cirq.H(qubit1), cirq.CNOT(qubit1, qubit2))\n",
    "\n",
    "# Print the circuit\n",
    "print(circuit)"
   ]
  },
  {
   "cell_type": "markdown",
   "id": "7c4f08b6",
   "metadata": {},
   "source": [
    "# Quantum Algorithms:\n",
    "\n",
    "Development and implementation of quantum algorithms for solving specific problems faster than classical algorithms, such as Shor's algorithm and Grover's algorithm."
   ]
  },
  {
   "cell_type": "markdown",
   "id": "42c1d426",
   "metadata": {},
   "source": [
    "### Quantum Algorithms Overview:\n",
    "\n",
    "Quantum algorithms leverage the principles of quantum mechanics to perform computations more efficiently than classical algorithms for certain problems. Some notable quantum algorithms include Shor's algorithm and Grover's algorithm. Let's explore these algorithms and their applications.\n",
    "\n",
    "---\n",
    "\n",
    "#### **Shor's Algorithm:**\n",
    "\n",
    "**Problem Solved:**\n",
    "- Shor's algorithm is designed to factorize large composite numbers into their prime factors exponentially faster than the best-known classical algorithms.\n",
    "\n",
    "**Mathematical Basis:**\n",
    "- **Period Finding:**\n",
    "  - Utilizes the quantum Fourier transform to find the period of a modular exponentiation function.\n",
    "  \n",
    "**Algorithm Steps:**\n",
    "1. **Classical Preprocessing:**\n",
    "   - Randomly choose a number \\(a\\) between 1 and \\(N-1\\).\n",
    "   - Check if \\(a\\) and \\(N\\) are not coprime. If not, return the common factor.\n",
    "   - If \\(a\\) and \\(N\\) are coprime, proceed to quantum part.\n",
    "\n",
    "2. **Quantum Part:**\n",
    "   - Use quantum parallelism to explore multiple \\(x\\) values simultaneously.\n",
    "   - Apply quantum Fourier transform to find the period \\(r\\).\n",
    "\n",
    "3. **Classical Postprocessing:**\n",
    "   - Use the obtained \\(r\\) to calculate potential factors.\n",
    "\n",
    "**Equations:**\n",
    "- Quantum Fourier Transform:\n",
    "  \\[ QFT \\left| x \\right\\rangle = \\frac{1}{\\sqrt{N}} \\sum_{y=0}^{N-1} e^{2\\pi i \\frac{xy}{N}} \\left| y \\right\\rangle \\]\n",
    "\n",
    "**Applications:**\n",
    "- Shor's algorithm threatens the security of widely-used cryptographic schemes based on the difficulty of integer factorization.\n",
    "\n",
    "---\n",
    "\n",
    "#### **Grover's Algorithm:**\n",
    "\n",
    "**Problem Solved:**\n",
    "- Grover's algorithm is designed for searching an unsorted database quadratically faster than classical algorithms.\n",
    "\n",
    "**Mathematical Basis:**\n",
    "- **Amplitude Amplification:**\n",
    "  - Iteratively amplifies the amplitude of the correct solution.\n",
    "\n",
    "**Algorithm Steps:**\n",
    "1. **Initialization:**\n",
    "   - Prepare a uniform superposition of all possible solutions.\n",
    "\n",
    "2. **Oracle:**\n",
    "   - Apply an oracle to mark the correct solution(s).\n",
    "\n",
    "3. **Amplitude Amplification:**\n",
    "   - Iteratively apply two operations: reflection about the average and reflection about the initial state.\n",
    "\n",
    "4. **Measurement:**\n",
    "   - Measure the state, obtaining the correct solution(s) with high probability.\n",
    "\n",
    "**Equations:**\n",
    "- Amplitude Amplification:\n",
    "  \\[ \\text{Amplitude Amplification}(\\mathcal{O}, \\mathcal{A}) = \\mathcal{A} \\mathcal{O} \\left( I - 2\\mathcal{A} \\mathcal{O} \\right)^{\\frac{T}{2}} \\]\n",
    "\n",
    "**Applications:**\n",
    "- Grover's algorithm has applications in database search, optimization, and solving unstructured search problems.\n",
    "\n",
    "---\n",
    "\n",
    "### **Conclusion:**\n",
    "Quantum algorithms represent a groundbreaking shift in computational efficiency for specific problem domains. Shor's algorithm and Grover's algorithm, among others, showcase the potential of quantum computing to outperform classical counterparts in certain scenarios. Continued research and development in the field aim to expand the scope of quantum algorithms and their practical applications."
   ]
  },
  {
   "cell_type": "code",
   "execution_count": 6,
   "id": "1fa7e9d8",
   "metadata": {},
   "outputs": [
    {
     "name": "stderr",
     "output_type": "stream",
     "text": [
      "C:\\Users\\yashr\\AppData\\Local\\Temp\\ipykernel_6356\\3663180328.py:23: DeprecationWarning: The method ``qiskit.circuit.quantumcircuit.QuantumCircuit.mct()`` is deprecated as of qiskit 0.45.0. It will be removed no earlier than 3 months after the release date. Use QuantumCircuit.mcx as direct replacement.\n",
      "  qc.mct(list(range(n)), n)\n",
      "C:\\Users\\yashr\\AppData\\Local\\Temp\\ipykernel_6356\\3663180328.py:34: DeprecationWarning: The method ``qiskit.circuit.quantumcircuit.QuantumCircuit.mct()`` is deprecated as of qiskit 0.45.0. It will be removed no earlier than 3 months after the release date. Use QuantumCircuit.mcx as direct replacement.\n",
      "  qc.mct(list(range(n)), n)\n",
      "C:\\Users\\yashr\\AppData\\Local\\Temp\\ipykernel_6356\\3663180328.py:57: DeprecationWarning: Using a qobj for run() is deprecated as of qiskit-aer 0.9.0 and will be removed no sooner than 3 months from that release date. Transpiled circuits should now be passed directly using `backend.run(circuits, **run_options).\n",
      "  result = backend.run(assemble(compiled_circuit)).result()\n"
     ]
    },
    {
     "data": {
      "image/png": "[encoded data removed]",
      "text/plain": [
       "<Figure size 700x500 with 1 Axes>"
      ]
     },
     "execution_count": 6,
     "metadata": {},
     "output_type": "execute_result"
    }
   ],
   "source": [
    "from qiskit import Aer, QuantumCircuit, transpile, assemble\n",
    "from qiskit.visualization import plot_histogram\n",
    "\n",
    "def grover_circuit(n, marked_item):\n",
    "    # Create a quantum circuit with n qubits and one ancilla qubit\n",
    "    qc = QuantumCircuit(n + 1, n)\n",
    "\n",
    "    # Apply Hadamard gate to all qubits\n",
    "    qc.h(range(n + 1))\n",
    "\n",
    "    # Apply X gate and H gate to the ancilla qubit for initialization\n",
    "    qc.x(n)\n",
    "    qc.h(n)\n",
    "\n",
    "    # Apply the Grover iteration\n",
    "    for _ in range(int(n**0.5)):\n",
    "        # Oracle: Apply X gate to the marked item\n",
    "        qc.barrier()\n",
    "        for i, bit in enumerate(reversed(marked_item)):\n",
    "            if bit == '1':\n",
    "                qc.x(i)\n",
    "        qc.h(n)\n",
    "        qc.mct(list(range(n)), n)\n",
    "        qc.h(n)\n",
    "        for i, bit in enumerate(reversed(marked_item)):\n",
    "            if bit == '1':\n",
    "                qc.x(i)\n",
    "\n",
    "        # Diffusion operator\n",
    "        qc.barrier()\n",
    "        qc.h(range(n + 1))\n",
    "        qc.x(range(n + 1))\n",
    "        qc.h(n)\n",
    "        qc.mct(list(range(n)), n)\n",
    "        qc.h(n)\n",
    "        qc.x(range(n + 1))\n",
    "        qc.h(range(n + 1))\n",
    "\n",
    "    # Measurement\n",
    "    qc.barrier()\n",
    "    qc.measure(range(n), range(n))\n",
    "\n",
    "    return qc\n",
    "\n",
    "# Number of qubits (size of the search space)\n",
    "n = 3\n",
    "\n",
    "# Marked item to be found (binary representation)\n",
    "marked_item = '010'\n",
    "\n",
    "# Create the Grover circuit\n",
    "grover_circuit = grover_circuit(n, marked_item)\n",
    "\n",
    "# Simulate the quantum circuit using the Qiskit Aer simulator\n",
    "backend = Aer.get_backend('qasm_simulator')\n",
    "compiled_circuit = transpile(grover_circuit, backend)\n",
    "result = backend.run(assemble(compiled_circuit)).result()\n",
    "\n",
    "# Plot the results\n",
    "counts = result.get_counts()\n",
    "plot_histogram(counts)\n"
   ]
  },
  {
   "cell_type": "markdown",
   "id": "2e5b167b",
   "metadata": {},
   "source": [
    "# Quantum Machine Learning:\n",
    "\n",
    "Integration of quantum computing with machine learning techniques for solving complex problems."
   ]
  },
  {
   "cell_type": "markdown",
   "id": "f2a87c05",
   "metadata": {},
   "source": [
    "Quantum Machine Learning (QML) is an interdisciplinary field that explores the synergy between quantum computing and machine learning techniques. It leverages the unique properties of quantum systems to potentially enhance the efficiency of certain computational tasks relevant to machine learning. Below, I'll provide an overview of key concepts, applications, and potential benefits, although it's important to note that the field is still evolving.\n",
    "\n",
    "### Key Concepts:\n",
    "\n",
    "1. **Quantum Computing Basics:**\n",
    "   - Quantum bits or qubits: Unlike classical bits, qubits can exist in multiple states simultaneously due to superposition.\n",
    "   - Quantum entanglement: Qubits can be entangled, meaning the state of one qubit is dependent on the state of another, even when separated by large distances.\n",
    "   - Quantum gates: Basic quantum operations that manipulate qubit states.\n",
    "\n",
    "2. **Quantum Machine Learning Models:**\n",
    "   - **Quantum Variational Circuits:** Quantum circuits parameterized by classical variables, optimized to perform specific tasks.\n",
    "   - **Quantum Support Vector Machines (QSVM):** Quantum versions of classical SVMs that can provide exponential speedup in certain cases.\n",
    "   - **Quantum Neural Networks:** Utilizing quantum circuits to perform neural network operations.\n",
    "\n",
    "3. **Quantum Algorithms:**\n",
    "   - **Quantum Singular Value Decomposition (QSVD):** Quantum version of the classical algorithm, useful in various machine learning tasks.\n",
    "   - **Quantum Principal Component Analysis (QPCA):** Application of quantum computing to reduce the dimensionality of data.\n",
    "\n",
    "4. **Quantum Data Encoding:**\n",
    "   - **Quantum Feature Maps:** Transforming classical data into quantum states suitable for processing on a quantum computer.\n",
    "\n",
    "### Applications:\n",
    "\n",
    "1. **Optimization Problems:**\n",
    "   - Quantum computing can potentially provide speedup in solving optimization problems, such as those arising in machine learning models.\n",
    "\n",
    "2. **Linear Algebra:**\n",
    "   - Quantum computers may perform certain linear algebra tasks more efficiently, impacting algorithms like PCA and SVD.\n",
    "\n",
    "3. **Quantum Data Processing:**\n",
    "   - Encoding classical data into quantum states can enable quantum computers to process and analyze large datasets more effectively.\n",
    "\n",
    "### Benefits:\n",
    "\n",
    "1. **Exponential Speedup:**\n",
    "   - Quantum computers have the potential to provide exponential speedup for specific algorithms compared to classical counterparts.\n",
    "\n",
    "2. **Parallelism and Superposition:**\n",
    "   - Quantum superposition allows quantum computers to explore multiple solutions simultaneously, leading to potential computational advantages.\n",
    "\n",
    "3. **Quantum Entanglement:**\n",
    "   - Quantum entanglement can facilitate the development of novel quantum machine learning models.\n",
    "\n",
    "### Challenges:\n",
    "\n",
    "1. **Quantum Hardware Limitations:**\n",
    "   - Building and maintaining stable and error-resistant quantum hardware is a significant challenge.\n",
    "\n",
    "2. **Quantum Error Correction:**\n",
    "   - Mitigating errors in quantum computations through error correction is an ongoing challenge.\n",
    "\n",
    "3. **Hybrid Approaches:**\n",
    "   - Integrating classical and quantum systems introduces challenges related to data transfer and synchronization.\n",
    "\n",
    "### Equations and Mathematical Details:\n",
    "\n",
    "1. **Quantum Circuit Operations:**\n",
    "   - Quantum circuits are described by matrices representing quantum gates, such as Hadamard gates, Pauli gates, and controlled gates.\n",
    "\n",
    "2. **Quantum Algorithms:**\n",
    "   - The specifics of quantum algorithms involve complex mathematical transformations, including quantum gates and amplitudes.\n",
    "\n",
    "While I've provided a high-level overview, the field of Quantum Machine Learning is evolving rapidly, and research is ongoing to address challenges and discover new applications. Detailed equations and specific mathematical formulations can be found in academic publications and research papers in this field. It's important to keep up with the latest literature for more in-depth and technical insights."
   ]
  },
  {
   "cell_type": "code",
   "execution_count": 7,
   "id": "2e2daa06",
   "metadata": {},
   "outputs": [
    {
     "name": "stdout",
     "output_type": "stream",
     "text": [
      "Optimal parameters: [ 1.46166691 -0.5572697 ]\n",
      "Predicted values: [0.28117443 0.21392595 0.83113095]\n"
     ]
    }
   ],
   "source": [
    "import numpy as np\n",
    "from scipy.optimize import minimize\n",
    "from sklearn.metrics import mean_squared_error\n",
    "\n",
    "# Quantum feature map\n",
    "def quantum_feature_map(x, params):\n",
    "    return np.sin(np.dot(params, x))\n",
    "\n",
    "# Quantum circuit to calculate the inner product of the quantum feature map\n",
    "def quantum_circuit(x, params):\n",
    "    return np.abs(np.sum(quantum_feature_map(x, params)))\n",
    "\n",
    "# Cost function for linear regression\n",
    "def cost_function(params, X, y):\n",
    "    y_pred = np.array([quantum_circuit(x, params) for x in X])\n",
    "    return mean_squared_error(y, y_pred)\n",
    "\n",
    "# Linear regression using classical optimization with quantum feature map\n",
    "def quantum_linear_regression(X, y):\n",
    "    num_params = len(X[0])\n",
    "    initial_params = np.random.rand(num_params)\n",
    "    \n",
    "    result = minimize(cost_function, initial_params, args=(X, y), method='Powell')\n",
    "    \n",
    "    if result.success:\n",
    "        return result.x\n",
    "    else:\n",
    "        raise ValueError(\"Optimization failed\")\n",
    "\n",
    "# Example dataset\n",
    "X = np.array([[0.5, 0.8], [0.3, 0.4], [0.9, 0.6]])\n",
    "y = np.array([0.2, 0.4, 0.8])\n",
    "\n",
    "# Quantum-enhanced linear regression\n",
    "optimal_params = quantum_linear_regression(X, y)\n",
    "\n",
    "# Predict using the learned parameters\n",
    "y_pred = np.array([quantum_circuit(x, optimal_params) for x in X])\n",
    "\n",
    "print(\"Optimal parameters:\", optimal_params)\n",
    "print(\"Predicted values:\", y_pred)"
   ]
  },
  {
   "cell_type": "markdown",
   "id": "20f88b93",
   "metadata": {},
   "source": [
    "# Quantum Cryptography:\n",
    "\n",
    "Application of quantum principles for secure communication, including quantum key distribution."
   ]
  },
  {
   "cell_type": "markdown",
   "id": "129802fd",
   "metadata": {},
   "source": [
    "Quantum Cryptography, also known as quantum key distribution (QKD), leverages the principles of quantum mechanics to secure communication channels against eavesdropping. It exploits the unique properties of quantum systems, such as the no-cloning theorem and quantum entanglement, to establish a secret key between two parties in a way that is theoretically secure against any computational attack.\n",
    "\n",
    "### Principles of Quantum Cryptography:\n",
    "\n",
    "1. **Quantum Superposition:**\n",
    "   - Qubits can exist in multiple states simultaneously. In Quantum Cryptography, this property is often used to encode information in a superposition of states.\n",
    "\n",
    "2. **Quantum Entanglement:**\n",
    "   - Entangled particles are correlated in such a way that the state of one particle is dependent on the state of the other, even when they are physically separated. Quantum Cryptography can use entangled particles to detect eavesdropping attempts.\n",
    "\n",
    "3. **No-Cloning Theorem:**\n",
    "   - Quantum mechanics prohibits the perfect cloning of an arbitrary unknown quantum state. This property is fundamental to the security of Quantum Cryptography.\n",
    "\n",
    "### Quantum Key Distribution (QKD) Protocol:\n",
    "\n",
    "1. **BBM92 Protocol (Bennett-Brassard 1992):**\n",
    "   - The BBM92 protocol is one of the earliest QKD protocols.\n",
    "   - Alice sends a sequence of randomly polarized photons (0 or 1 basis) to Bob.\n",
    "   - Bob measures the photons in randomly chosen bases (rectilinear or diagonal).\n",
    "   - Alice and Bob publicly announce their basis choices and discard measurements where bases differ.\n",
    "   - The remaining bits form a shared secret key.\n",
    "\n",
    "2. **Ekert91 (E91) Protocol:**\n",
    "   - E91 uses quantum entanglement for key distribution.\n",
    "   - Alice and Bob share entangled particles.\n",
    "   - They measure the entangled particles in random bases and publicly compare a subset.\n",
    "   - The remaining bits form a shared secret key.\n",
    "\n",
    "### Quantum Cryptography Equations:\n",
    "\n",
    "1. **Quantum Bit Error Rate (QBER):**\n",
    "   - The QBER is a measure of errors in the transmitted qubits and is crucial for evaluating the security of the key exchange.\n",
    "   \\[ QBER = \\frac{\\text{Number of Incorrect Bits}}{\\text{Total Number of Compared Bits}} \\]\n",
    "\n",
    "2. **Information Gain:**\n",
    "   - Information gain represents the amount of information gained by the eavesdropper (Eve) by intercepting and measuring qubits. For a secure key, the information gained by Eve should be minimized.\n",
    "\n",
    "3. **Security Parameter:**\n",
    "   - The security of the key exchange is often quantified by a security parameter (\\(\\epsilon\\)), which indicates the probability that the key exchange is compromised. A lower \\(\\epsilon\\) corresponds to higher security.\n",
    "\n",
    "### Practical Considerations:\n",
    "\n",
    "1. **Photon Transmission:**\n",
    "   - Quantum Cryptography systems often use individual photons to carry quantum information. These photons can be transmitted using fiber optics or free-space transmission.\n",
    "\n",
    "2. **Quantum Key Distribution Systems:**\n",
    "   - Commercial QKD systems use various technologies, including polarization-based QKD, time-bin encoding, and entanglement-based QKD.\n",
    "\n",
    "3. **Noise and Error Correction:**\n",
    "   - Quantum communication channels are susceptible to noise and loss. Error correction techniques, such as privacy amplification and error reconciliation, are employed to correct errors.\n",
    "\n",
    "Quantum Cryptography offers the promise of unconditionally secure communication, providing a level of security based on the fundamental principles of quantum mechanics. While real-world implementations face challenges, ongoing research aims to improve the practicality and efficiency of Quantum Cryptography systems."
   ]
  },
  {
   "cell_type": "code",
   "execution_count": 2,
   "id": "709d979e",
   "metadata": {},
   "outputs": [
    {
     "name": "stdout",
     "output_type": "stream",
     "text": [
      "The two messages differ by 1 characters\n"
     ]
    }
   ],
   "source": [
    "# Begin by importing some necessary modules\n",
    "from cryptography.hazmat.backends import default_backend\n",
    "from cryptography.hazmat.primitives import hashes\n",
    "\n",
    "#Helper function that returns the number of characters different in two strings\n",
    "def char_diff(str1, str2):\n",
    "    return sum ( str1[i] != str2[i] for i in range(len(str1)) )\n",
    "\n",
    "# Messages to be hashed\n",
    "message_1 = b\"Buy 10000 shares of WXYZ stock now!\"\n",
    "message_2 = b\"Buy 10000 shares of VXYZ stock now!\"\n",
    "\n",
    "print(f\"The two messages differ by { char_diff(message_1, message_2)} characters\")"
   ]
  },
  {
   "cell_type": "code",
   "execution_count": 3,
   "id": "3fb7af29",
   "metadata": {},
   "outputs": [
    {
     "name": "stdout",
     "output_type": "stream",
     "text": [
      "digest-1: 6e0e6261b7131bd80ffdb2a4d42f9d042636350e45e184b92fcbcc9646eaf1e7\n",
      "digest-2: 6b0abb368c3a1730f935b68105e3f3ae7fd43d7e786d3ed3503dbb45c74ada46\n",
      "The two digests differ by 57 characters\n"
     ]
    }
   ],
   "source": [
    "# Create new SHA-256 hash objects, one for each message\n",
    "chf_1 = hashes.Hash(hashes.SHA256(), backend=default_backend())\n",
    "chf_2 = hashes.Hash(hashes.SHA256(), backend=default_backend())\n",
    "\n",
    "# Update each hash object with the bytes of the corresponding message\n",
    "chf_1.update(message_1)\n",
    "chf_2.update(message_2)\n",
    "\n",
    "# Finalize the hash process and obtain the digests\n",
    "digest_1 = chf_1.finalize()\n",
    "digest_2 = chf_2.finalize()\n",
    "\n",
    "#Convert the resulting hash to hexadecimal strings for convenient printing\n",
    "digest_1_str = digest_1.hex()\n",
    "digest_2_str = digest_2.hex()\n",
    "\n",
    "#Print out the digests as strings \n",
    "print(f\"digest-1: {digest_1_str}\")\n",
    "print(f\"digest-2: {digest_2_str}\")\n",
    "\n",
    "print(f\"The two digests differ by { char_diff(digest_1_str, digest_2_str)} characters\")"
   ]
  },
  {
   "cell_type": "code",
   "execution_count": 4,
   "id": "dfaa00d9",
   "metadata": {},
   "outputs": [
    {
     "name": "stdout",
     "output_type": "stream",
     "text": [
      "\n",
      "Given plaintext: this is a strict top secret message for intended recipients only\n"
     ]
    }
   ],
   "source": [
    "# Install the library if needed\n",
    "#%pip install secretpy\n",
    "\n",
    "# import the required crypto functions which will be demonstrated later\n",
    "from secretpy import Caesar\n",
    "from cryptography.hazmat.primitives.ciphers import Cipher, algorithms, modes\n",
    "from functools import reduce\n",
    "import numpy as np\n",
    "\n",
    "# Set the plaintext we want to encrypt\n",
    "plaintext=u\"this is a strict top secret message for intended recipients only\"\n",
    "print(f\"\\nGiven plaintext: {plaintext}\")"
   ]
  },
  {
   "cell_type": "code",
   "execution_count": 5,
   "id": "63749cef",
   "metadata": {},
   "outputs": [
    {
     "name": "stdout",
     "output_type": "stream",
     "text": [
      "Caesar shift secret key: 5\n",
      "alphabet: ('a', 'b', 'c', 'd', 'e', 'f', 'g', 'h', 'i', 'j', 'k', 'l', 'm', 'n', 'o', 'p', 'q', 'r', 's', 't', 'u', 'v', 'w', 'x', 'y', 'z', ' ')\n"
     ]
    }
   ],
   "source": [
    "# initialize the required python object for doing Caesar shift encryption\n",
    "caesar_cipher = Caesar()\n",
    "\n",
    "# Define the shift, ie the key\n",
    "caesar_key = 5 \n",
    "print(f\"Caesar shift secret key: {caesar_key}\")\n",
    "\n",
    "# Define the alphabet\n",
    "alphabet=('a', 'b', 'c', 'd', 'e', 'f', 'g', 'h', 'i', 'j', 'k', 'l', 'm', 'n', 'o', 'p', 'q', 'r', 's', 't', 'u', 'v', 'w', 'x', 'y', 'z', ' ')\n",
    "print(f\"alphabet: {alphabet}\")"
   ]
  },
  {
   "cell_type": "code",
   "execution_count": 6,
   "id": "7b3e2669",
   "metadata": {},
   "outputs": [
    {
     "name": "stdout",
     "output_type": "stream",
     "text": [
      "Encrypted caeser shift ciphertext: ymnxenxefexywnhyeytuexjhwjyerjxxfljektwensyjsijiewjhnunjsyxetsqc\n"
     ]
    }
   ],
   "source": [
    "caeser_ciphertext = caesar_cipher.encrypt(plaintext, caesar_key, alphabet)\n",
    "print(f\"Encrypted caeser shift ciphertext: {caeser_ciphertext}\")"
   ]
  },
  {
   "cell_type": "code",
   "execution_count": 7,
   "id": "e6b376c0",
   "metadata": {},
   "outputs": [
    {
     "name": "stdout",
     "output_type": "stream",
     "text": [
      "Decrypted caeser shift plaintext: this is a strict top secret message for intended recipients only\n",
      "\n"
     ]
    }
   ],
   "source": [
    "caeser_plaintext = caesar_cipher.decrypt(caeser_ciphertext, caesar_key, alphabet)\n",
    "print(f\"Decrypted caeser shift plaintext: {caeser_plaintext}\\n\")"
   ]
  },
  {
   "cell_type": "code",
   "execution_count": 8,
   "id": "27b5eaba",
   "metadata": {},
   "outputs": [
    {
     "name": "stdout",
     "output_type": "stream",
     "text": [
      "AES secret key: o pwwsobfhvuvbeh\n"
     ]
    }
   ],
   "source": [
    "# lamba defines an inline function in this case that takes two values a,b with the resulting expression of a+b\n",
    "# reduce uses a two-argument function(above), and applies this to all the entries in the list (random alphabet characters) cumulatively\n",
    "aes_key = reduce(lambda a, b: a + b, [np.random.choice(alphabet) for i in range(16)])\n",
    "\n",
    "print(f'AES secret key: {aes_key}')"
   ]
  },
  {
   "cell_type": "code",
   "execution_count": 9,
   "id": "d4847375",
   "metadata": {},
   "outputs": [
    {
     "name": "stdout",
     "output_type": "stream",
     "text": [
      "AES initialization vector: tyduiehkvoubyjej\n"
     ]
    }
   ],
   "source": [
    "aes_initialization_vector = reduce(lambda a, b: a + b, [np.random.choice(alphabet) for i in range(16)])\n",
    "print(f\"AES initialization vector: {aes_initialization_vector}\")"
   ]
  },
  {
   "cell_type": "code",
   "execution_count": 10,
   "id": "e760a404",
   "metadata": {},
   "outputs": [
    {
     "name": "stdout",
     "output_type": "stream",
     "text": [
      "Encrypted AES ciphertext: b'\\xbaK\\x96\\xf1\\xd3\\x93\\xc4\\xf4\\x85\\xa7\\x1dv\\xdb\\xac\\xdbm]\\x0f\\xad\\xf3\\x84\\xf6\\x82\\x15\\xcb\\xc6\\xa1P:EA=\\xd61f\\x8eB\\x87\\xec\\xb4\\x8b\\x8a\\x05\\xbc\\x1f=\\x9eS\\xd4F\\x91%^vF\\x14\\r\\xf6\\x0b#\\xaf\\x97\\xabF'\n"
     ]
    }
   ],
   "source": [
    "# The encryptor is setup using the key & CBC. In both cases we need to convert the string (utf-8) into bytes\n",
    "sender_aes_cipher = Cipher(algorithms.AES(bytes(aes_key, 'utf-8')), modes.CBC(bytes(aes_initialization_vector, 'utf-8')))\n",
    "aes_encryptor = sender_aes_cipher.encryptor()\n",
    "\n",
    "# update can add text to encypt in chunks, and then finalize is needed to complete the encryption process\n",
    "aes_ciphertext = aes_encryptor.update(bytes(plaintext, 'utf-8')) + aes_encryptor.finalize()\n",
    "\n",
    "# Note the output is a string of bytes\n",
    "print(f\"Encrypted AES ciphertext: {aes_ciphertext}\")"
   ]
  },
  {
   "cell_type": "code",
   "execution_count": 11,
   "id": "2b6dba0d",
   "metadata": {},
   "outputs": [
    {
     "name": "stdout",
     "output_type": "stream",
     "text": [
      "Decrypted AES plaintext: this is a strict top secret message for intended recipients only\n"
     ]
    }
   ],
   "source": [
    "# Similar setup of AES to what we did for encryption, but this time, for decryption\n",
    "receiver_aes_cipher = Cipher(algorithms.AES(bytes(aes_key, 'utf-8')), modes.CBC(bytes(aes_initialization_vector, 'utf-8')))\n",
    "aes_decryptor = receiver_aes_cipher.decryptor()\n",
    "\n",
    "# Do the decryption\n",
    "aes_plaintext_bytes = aes_decryptor.update(aes_ciphertext) + aes_decryptor.finalize()\n",
    "\n",
    "# convert back to a character string (we assume utf-8)\n",
    "aes_plaintext = aes_plaintext_bytes.decode('utf-8')\n",
    "\n",
    "print(f\"Decrypted AES plaintext: {aes_plaintext}\")"
   ]
  },
  {
   "cell_type": "code",
   "execution_count": 12,
   "id": "61e4e8a9",
   "metadata": {},
   "outputs": [
    {
     "name": "stdout",
     "output_type": "stream",
     "text": [
      "gcd(50,10) = 10\n",
      "gcd(99,1033) = 33\n",
      "gcd(59,9) = 1\n"
     ]
    }
   ],
   "source": [
    "# Example function to compute the gcd (greatest common divisor) \n",
    "def gcd(a,b):\n",
    "    if b==0:\n",
    "        return a\n",
    "    else:\n",
    "        return gcd(b,a%b)\n",
    "    \n",
    "# let's calculate some examples using algorithm\n",
    "n1=gcd(50,10)\n",
    "n2=gcd(99,33)\n",
    "n3=gcd(59,9)\n",
    "\n",
    "# do the same with the python library call\n",
    "import math\n",
    "m1=math.gcd(50,10)\n",
    "m2=math.gcd(99,33)\n",
    "m3=math.gcd(59,9)\n",
    "\n",
    "# Confirm they are the same\n",
    "assert(n1==m1)\n",
    "assert(n2==m2)\n",
    "assert(n3==m3)\n",
    "\n",
    "# They are - print out the values for explanation\n",
    "print(\"gcd(50,10) =\",m1)\n",
    "print(\"gcd(99,1033) =\",m2)\n",
    "print(\"gcd(59,9) =\",m3)"
   ]
  },
  {
   "cell_type": "code",
   "execution_count": 13,
   "id": "11048f79",
   "metadata": {},
   "outputs": [
    {
     "name": "stdout",
     "output_type": "stream",
     "text": [
      "The secret prime numbers p and q are: 13 19\n"
     ]
    }
   ],
   "source": [
    "# Choosing two prime numbers and keep them secret\n",
    "p = 13\n",
    "q = 19\n",
    "print(\"The secret prime numbers p and q are:\", p, q)"
   ]
  },
  {
   "cell_type": "code",
   "execution_count": 14,
   "id": "308b1820",
   "metadata": {},
   "outputs": [
    {
     "name": "stdout",
     "output_type": "stream",
     "text": [
      "modulus n (p*q)= 247\n"
     ]
    }
   ],
   "source": [
    "# Calculate n which is the modulus for both the public and private keys\n",
    "n = p * q\n",
    "print(\"modulus n (p*q)=\",n)"
   ]
  },
  {
   "cell_type": "code",
   "execution_count": 15,
   "id": "6dc1effd",
   "metadata": {},
   "outputs": [
    {
     "name": "stdout",
     "output_type": "stream",
     "text": [
      "The secret Euler's function (totient) [phi(n)]: 216\n"
     ]
    }
   ],
   "source": [
    "# Compute Euler's totient function, φ(n) and keep it secret\n",
    "phi = (p-1) * (q-1)\n",
    "print(\"The secret Euler's function (totient) [phi(n)]:\",phi)"
   ]
  },
  {
   "cell_type": "code",
   "execution_count": 16,
   "id": "39bebcce",
   "metadata": {},
   "outputs": [
    {
     "name": "stdout",
     "output_type": "stream",
     "text": [
      "Public Key (e): 5\n"
     ]
    }
   ],
   "source": [
    "# Choose an integer e such that e and φ(n) are coprime\n",
    "e = 2\n",
    "while (e < phi):\n",
    "    if (math.gcd(e, phi)==1):\n",
    "        break\n",
    "    else:\n",
    "        e += 1\n",
    "print(\"Public Key (e):\",e)"
   ]
  },
  {
   "cell_type": "code",
   "execution_count": 17,
   "id": "a21701a8",
   "metadata": {},
   "outputs": [
    {
     "name": "stdout",
     "output_type": "stream",
     "text": [
      "Private Key (d): 173\n"
     ]
    }
   ],
   "source": [
    "# Compute a value for d such that (d * e) % φ(n) = 1\n",
    "d = 1\n",
    "while(True):\n",
    "    if((d*e) % phi == 1):\n",
    "        break\n",
    "    else:\n",
    "        d += 1\n",
    "print(\"Private Key (d):\",d)"
   ]
  },
  {
   "cell_type": "code",
   "execution_count": 18,
   "id": "0b942386",
   "metadata": {},
   "outputs": [
    {
     "name": "stdout",
     "output_type": "stream",
     "text": [
      "The Public key is (5, 247) and Private Key is (173, 247)\n"
     ]
    }
   ],
   "source": [
    "# Public and Private Key pair\n",
    "public = (e, n)\n",
    "private = (d, n)\n",
    "\n",
    "print(f\"The Public key is {public} and Private Key is {private}\")"
   ]
  },
  {
   "cell_type": "code",
   "execution_count": 19,
   "id": "36619669",
   "metadata": {},
   "outputs": [
    {
     "name": "stdout",
     "output_type": "stream",
     "text": [
      "Original Message: 9\n",
      "Encrypted Message: 16\n",
      "Decrypted Message: 9\n"
     ]
    }
   ],
   "source": [
    "# Encryption function\n",
    "def encrypt(plain_text):\n",
    "    return (plain_text ** e) % n\n",
    "\n",
    "# Decryption function\n",
    "def decrypt(cipher_text):\n",
    "    return (cipher_text ** d) % n\n",
    "\n",
    "# Simple message to encode\n",
    "msg = 9\n",
    "\n",
    "# encrypt then decrypt\n",
    "enc_msg = encrypt(msg)\n",
    "dec_msg = decrypt(enc_msg)\n",
    "\n",
    "print(\"Original Message:\",msg)\n",
    "print(\"Encrypted Message:\",enc_msg)\n",
    "print(\"Decrypted Message:\",dec_msg)"
   ]
  },
  {
   "cell_type": "code",
   "execution_count": 20,
   "id": "cba6d85c",
   "metadata": {},
   "outputs": [
    {
     "name": "stdout",
     "output_type": "stream",
     "text": [
      "\n",
      "Symmetric key generated by Alice: b'Nnab_Xv5xC4KWOAlaF9ZqPbuJaoi4_a_LPkeRFIn6IU='\n"
     ]
    }
   ],
   "source": [
    "#! pip install cryptography\n",
    "from cryptography.hazmat.primitives import serialization\n",
    "from cryptography.hazmat.primitives.asymmetric import rsa, padding\n",
    "from cryptography.fernet import Fernet\n",
    "from cryptography.hazmat.primitives import hashes\n",
    "\n",
    "symmetric_key = Fernet.generate_key()\n",
    "print(f\"\\nSymmetric key generated by Alice: {symmetric_key}\")"
   ]
  },
  {
   "cell_type": "code",
   "execution_count": 21,
   "id": "6f4dfa6e",
   "metadata": {},
   "outputs": [
    {
     "name": "stdout",
     "output_type": "stream",
     "text": [
      "Public key broadcast by Bob: <cryptography.hazmat.backends.openssl.rsa._RSAPublicKey object at 0x0000022AF83D4050>\n",
      "\n",
      "Public numbers in Bobs' public key: <RSAPublicNumbers(e=65537, n=20046386178687673120174053048987573553016690412964645027004767538067164649675029631876605866129347473060263663168437587054275950508750246755608935358657538576679428105069968363042688590608254043873921150454027417699379613324151863406234721826530324496250154555708263065784610101537678102394814494366095829574768434987468893285898978421245943730390442690220792662504177181604221760771951347822929826075094237087199621746155016779504359686902343864054542920005927151543180948168742015642281152721114421705372086657996656542533020832709824856423537150426097077468399723381062033454215106952430653453851478737868718861583)>\n"
     ]
    }
   ],
   "source": [
    "# Bob generates a 2048-bit RSA key pair\n",
    "bob_private_key = rsa.generate_private_key(public_exponent=65537, key_size=2048)\n",
    "bob_public_key = bob_private_key.public_key()\n",
    "print(f\"Public key broadcast by Bob: {bob_public_key}\")\n",
    "print(f\"\\nPublic numbers in Bobs' public key: {bob_public_key.public_numbers()}\")"
   ]
  },
  {
   "cell_type": "code",
   "execution_count": 22,
   "id": "1762a1a7",
   "metadata": {},
   "outputs": [
    {
     "name": "stdout",
     "output_type": "stream",
     "text": [
      "Ciphertext: b'@\\xe0\\xc4\\xdeBK7\\xa6\\xc0l+K}3W\\x15\\x15\\xc2&\\xaa\\x1e\\xc5^\\x95K\\x9a\\x86\\xdc\\x18?\\xa2\\xfd\\x8d\\xa7\\xbe\\x99\\x9c\\r\\xda\\xf9UL\\xe4>\\xc9B_\\x9e\\xa7C\\x85\\x18\\x93\\x0f49Y\\xc2P\\xd9pk\\x11U\\xf2\\x92F A\\x8a1q1o\\x87\\xe7Q\\xdc\\xad\\xea\\xfd\\n\\xce\\x90\\xb1\\x8e\\xd3{~\\xa7>\\xa7\\x14M(\\xe8-\\x18\\x9aU\\x1d\\xf3\\xb6^W(\\x1e\\x84\\x02(t}\\x16eo\\xden\\xb9c\\xf0|\\xdd\\xff;\\x1f7zS\\x8a\\xca\\x1e\\xd4\\x16\\xc5\\xed\\x14Z\\xcf\\xea\\x19\\xb6\\xae\\xb4Tc\\xfa&\\x8c\\x17\\xea\\xb3\\xe7\\x8d\\xb9&\\xa2Vk\\xa6\\xde\\xd7?\\xbb\\x0b\"|\\x04%p\\xd0\\xb6^|\\x1a-\\x14\\xc9\\xa7\\x9fr0c`\\x7f\\t_\\x956\\x8a@9m#\\x10\\xda\\xc9|\\xc0\\xc0\\x92\\x04+\\xe0\\xa57\\x92\\x13\\x82\\x1c\\x9e\\x07\\x8d\\xe1H\\xd48\\xf9\\x03\\xb4f\\xac\\x9eM\\x0cP\\xea\\xaf?\\xfd\\x86\\xa1\\xfeE\\xc5\\xef\\xcc@\\xa9{\\xb7\\xd68\\x0fPX\\x9b\\xc58#\\xd8\\x03\\x99\\x84\\xbf\\x0cq'\n"
     ]
    }
   ],
   "source": [
    "# Encryption\n",
    "ciphertext = bob_public_key.encrypt(\n",
    "   symmetric_key,\n",
    "   padding.OAEP(\n",
    "       mgf=padding.MGF1(algorithm=hashes.SHA256()),\n",
    "       algorithm=hashes.SHA256(),\n",
    "       label=None\n",
    "   )\n",
    ")\n",
    "\n",
    "print(\"Ciphertext:\", ciphertext)"
   ]
  },
  {
   "cell_type": "code",
   "execution_count": 23,
   "id": "0f07fbfd",
   "metadata": {},
   "outputs": [
    {
     "name": "stdout",
     "output_type": "stream",
     "text": [
      "Decrypted key: b'Nnab_Xv5xC4KWOAlaF9ZqPbuJaoi4_a_LPkeRFIn6IU='\n"
     ]
    }
   ],
   "source": [
    "# Bob decrypts ciphertext to access the symmetric key\n",
    "decrypted_symmetric_key = bob_private_key.decrypt(\n",
    "   ciphertext,\n",
    "   padding.OAEP(\n",
    "       mgf=padding.MGF1(algorithm=hashes.SHA256()),\n",
    "       algorithm=hashes.SHA256(),\n",
    "       label=None\n",
    "   )\n",
    ")\n",
    "\n",
    "print(\"Decrypted key:\", decrypted_symmetric_key)\n",
    "assert decrypted_symmetric_key == symmetric_key"
   ]
  },
  {
   "cell_type": "code",
   "execution_count": 24,
   "id": "6f9b368f",
   "metadata": {},
   "outputs": [
    {
     "name": "stdout",
     "output_type": "stream",
     "text": [
      "Bob's private and public keys created\n"
     ]
    }
   ],
   "source": [
    "from cryptography.hazmat.primitives.asymmetric import rsa, padding\n",
    "from cryptography.hazmat.primitives.kdf.hkdf import HKDF\n",
    "from cryptography.hazmat.primitives import hashes, serialization\n",
    "from os import urandom\n",
    "\n",
    "# Bob's RSA key pair\n",
    "private_key_Bob = rsa.generate_private_key(public_exponent=65537, key_size=2048)\n",
    "public_key_Bob = private_key_Bob.public_key()\n",
    "\n",
    "print(\"Bob's private and public keys created\")"
   ]
  },
  {
   "cell_type": "code",
   "execution_count": 25,
   "id": "fcfbcb39",
   "metadata": {},
   "outputs": [
    {
     "name": "stdout",
     "output_type": "stream",
     "text": [
      "Alice's secret created\n"
     ]
    }
   ],
   "source": [
    "Alice_long_secret = urandom(160)  # A 160 byte or 1280 bit random message\n",
    "print(\"Alice's secret created\")"
   ]
  },
  {
   "cell_type": "code",
   "execution_count": 26,
   "id": "d6ba7951",
   "metadata": {},
   "outputs": [
    {
     "name": "stdout",
     "output_type": "stream",
     "text": [
      "Alice's secret encrypted\n"
     ]
    }
   ],
   "source": [
    "Alice_encrypted_secret = public_key_Bob.encrypt(\n",
    "    Alice_long_secret,\n",
    "    padding.OAEP(\n",
    "        mgf=padding.MGF1(algorithm=hashes.SHA256()),\n",
    "        algorithm=hashes.SHA256(),\n",
    "        label=None\n",
    "    )\n",
    ")\n",
    "print(\"Alice's secret encrypted\")"
   ]
  },
  {
   "cell_type": "code",
   "execution_count": 27,
   "id": "572ced8b",
   "metadata": {},
   "outputs": [
    {
     "name": "stdout",
     "output_type": "stream",
     "text": [
      "Secrets match\n"
     ]
    }
   ],
   "source": [
    "Bob_decrypted_secret = private_key_Bob.decrypt(\n",
    "    Alice_encrypted_secret,\n",
    "    padding.OAEP(\n",
    "        mgf=padding.MGF1(algorithm=hashes.SHA256()),\n",
    "        algorithm=hashes.SHA256(),\n",
    "        label=None\n",
    "    )\n",
    ")\n",
    "\n",
    "assert Alice_long_secret == Bob_decrypted_secret, \"Secrets do not match!\"\n",
    "\n",
    "# if we get here they match\n",
    "print(\"Secrets match\")"
   ]
  },
  {
   "cell_type": "code",
   "execution_count": 28,
   "id": "faf383f0",
   "metadata": {},
   "outputs": [
    {
     "name": "stdout",
     "output_type": "stream",
     "text": [
      "A symmetric key of length 256 bits was successfully derived by both Alice and Bob!\n"
     ]
    }
   ],
   "source": [
    "def key_derivation_function(secret, salt):\n",
    "    hkdf = HKDF(\n",
    "        algorithm=hashes.SHA256(),\n",
    "        length=32,  # Desired key length\n",
    "        salt=salt,\n",
    "        info=None,\n",
    "        backend=None\n",
    "    )\n",
    "    return hkdf.derive(secret)\n",
    "\n",
    "common_salt = urandom(16)  # Random salt accessible to both Alice and Bob\n",
    "\n",
    "symmetric_key_Alice = key_derivation_function(Alice_long_secret, common_salt)\n",
    "symmetric_key_Bob = key_derivation_function(Bob_decrypted_secret, common_salt)\n",
    "\n",
    "assert symmetric_key_Alice == symmetric_key_Bob, \"Derived keys do not match!\"\n",
    "print(f\"A symmetric key of length {len(symmetric_key_Alice)*8} bits was successfully derived by both Alice and Bob!\")"
   ]
  },
  {
   "cell_type": "code",
   "execution_count": 29,
   "id": "4ac6f236",
   "metadata": {},
   "outputs": [
    {
     "name": "stdout",
     "output_type": "stream",
     "text": [
      "Private and Public keys generated for Bob and Alice.\n"
     ]
    }
   ],
   "source": [
    "from cryptography.hazmat.primitives import hashes, serialization\n",
    "from cryptography.hazmat.primitives.asymmetric import padding, rsa\n",
    "from cryptography.hazmat.primitives.asymmetric.utils import Prehashed\n",
    "\n",
    "# Generate keys for Bob\n",
    "bob_private_key = rsa.generate_private_key(public_exponent=65537, key_size=2048)\n",
    "bob_public_key = bob_private_key.public_key()\n",
    "\n",
    "# Generate keys for Alice\n",
    "alice_private_key = rsa.generate_private_key(public_exponent=65537, key_size=2048)\n",
    "alice_public_key = alice_private_key.public_key()\n",
    "\n",
    "print(\"Private and Public keys generated for Bob and Alice.\")"
   ]
  },
  {
   "cell_type": "code",
   "execution_count": 30,
   "id": "b4c60264",
   "metadata": {},
   "outputs": [
    {
     "name": "stdout",
     "output_type": "stream",
     "text": [
      "ciphertext of symmetric key:  b'!\\xa0\\x08\\xf0\\xed\\x82\\xef\\xed\\x9bW`\\x7f\\x88\\xfb-\\x90\\xa0\\x83\\xfd\\xc8\\xdd\\xdd\\xd5\\xc0A\\xf1 \\xc6\\x18*\\xd5;\\x8bA\\xde\\xd8\\x90e8\\x9b\\xb7M\\xdd\\x07\\xfc$\\x00\"\\xee\\x1d\\xb8\\xc0l\\xfeO-+\\xa9\\xc2\\xf8LU\\xc9\\x01i\\xdf\\x8bh:\\xc4\\xf3\\xd5Va\\x0cv\\x1a\\xd1\\x1d.\\x05\\x1fv};\\n\\xd6\\xdaC\\x9f\\x92\\xcb\\xb8\\xa3\\xcerT,y\\xd5\\x05\\xe6N\\x98\\xe2]\\xb1\\x98;\\x10\\x8b\\xbc;^\\x9c\\x82\\xa9\\x7fg\\x88\\x916v\\x19<\\xc7\\xfdJ{\\xa98Z\\xcc\\x80\\x83\\xf60U\\xe9\\xe733P\\xd3lA\\xe6\\xbaO\\xd7}\\xe1\\xd9\\xd1\\x9e^:\\x7fc\\x0e$\\xf0sQH\\xf7\\xb6\\x86#\\x07\\x07>\\xa2!/\\xf9g(\\xa7\\x90j\\xe3\\xb6\\xa2\\x00\\xef\\x97\\xb2\\x92dP\\x82\\x11\\x14\\x00:\\xcaQ`\\xedV\\xa0\\xd44\\x8e\\xb4\\x16\\xd74U\\xfb\\x18\\xb9L\\xd8*=\\xf8Z\\x05\\xa4\\x14\\xc9{G\\x98l\\xbbS\\x86\\xfa\\xf6\\xa1(\\x81\\r\\xcc\\xb7\\xc6\\x04\\xe3\\xb8/\\xc6\\xe0r\\x9f\\xc2:@t\\x90\\xe32\\xb2\\xe0'\n"
     ]
    }
   ],
   "source": [
    "# Alice encrypts the message using Bob's public key\n",
    "ciphertext = bob_public_key.encrypt(\n",
    "    symmetric_key,\n",
    "    padding.OAEP(\n",
    "        mgf=padding.MGF1(algorithm=hashes.SHA256()),\n",
    "        algorithm=hashes.SHA256(),\n",
    "        label=None\n",
    "    )\n",
    ")\n",
    "\n",
    "print(\"ciphertext of symmetric key: \",ciphertext)"
   ]
  },
  {
   "cell_type": "code",
   "execution_count": 31,
   "id": "758a099a",
   "metadata": {},
   "outputs": [
    {
     "name": "stdout",
     "output_type": "stream",
     "text": [
      "signature:  b';\\x8d@\\xbc;\\xb3\\xe9C:\\x12;\\x1cS\\xd5U\"^\\xd2w\\xd7\\xfb\\xb7\\xdf\\xc1\\x98\\xd6\\x96\\xbd\\xcf\\xb8q\\x9a\\xba\\xc8s\\xd9G\\xac\\xd7Gq#wL\\xf8|\\x8f\\xb7 \\xfa\\xf7\\xa4\\xf242\\'\\xc5\\xceR\\xfe\\xa8\\x10\\xb3\\xe2Os\\x08\\xaa]H}\\xa5\\x98v\\xe5d\\xcf\\xed\\x83]\\xc6\\x80\\x83\\xbbmR\\x9b\\xc9\\x84\\xe8\\xe0j8\\x99\\x8f\\x1b\\xec\\xc2\\xb3C\\x80S\\x99O6\\x8c\\xa7m\\xab\\x8b]\\xab;\\xf1\\x80\\x9a\\xe9$\\x9e\\x97\\xb1X-L\\xe7\\xb5\\x06\\x0eR\\xf8\\xfa\\xe4\\x11\\xea\\x11@\\xe8lW\\x02\\x86\\xaf\\x9d\\x1fq4\\xcf\\xc2\\xa0\\xa7\\xf8YVj\\x15\\xdapm\\x07\\xc0.\\x8af\\x11T\\xde\\xa1a\\xac4\\'\\xd9<P\\x1e\\xc6&E\\xe8\\xcb\\xac\\x8f\\xec\\xd7Q\\xf8\\x9a\\xf3\\x14\\x9c~\\xa9\\xa2\\x94T\\x87|:r\\xed\\x07\\xc4M\\xca>\\x04\\xdavwh\\x8dG>\\x99\\x1a\\x1c\\xb3\\x10\\x8d`\\x06S\\xc2\\xa5=\\xff\\x01\\xf8\\xa3m\\x9b\\x8d\\xcalX0e+Kv1\\x8b\\xee\\x89\\x128\\x94\\xa6\\xa6\\xc6\\xf6\\xe1\\x0b\\xd7O\\x15'\n"
     ]
    }
   ],
   "source": [
    "# Alice signs the ciphertext using her private key\n",
    "digest = hashes.Hash(hashes.SHA256())\n",
    "digest.update(ciphertext)\n",
    "hash_to_sign = digest.finalize()\n",
    "\n",
    "signature = alice_private_key.sign(\n",
    "    hash_to_sign,\n",
    "    padding.PSS(\n",
    "        mgf=padding.MGF1(hashes.SHA256()),\n",
    "        salt_length=padding.PSS.MAX_LENGTH\n",
    "    ),\n",
    "    Prehashed(hashes.SHA256())\n",
    ")\n",
    "\n",
    "print(\"signature: \",signature)"
   ]
  },
  {
   "cell_type": "code",
   "execution_count": 32,
   "id": "fe11e986",
   "metadata": {},
   "outputs": [
    {
     "name": "stdout",
     "output_type": "stream",
     "text": [
      "Sending ciphertext and signature.....\n"
     ]
    }
   ],
   "source": [
    "# Bob receives the ciphertext and signature\n",
    "received_ciphertext = ciphertext\n",
    "received_signature = signature\n",
    "\n",
    "# Send signature and ciphertext here\n",
    "print(\"Sending ciphertext and signature.....\")"
   ]
  },
  {
   "cell_type": "code",
   "execution_count": 33,
   "id": "c1b0a430",
   "metadata": {},
   "outputs": [
    {
     "name": "stdout",
     "output_type": "stream",
     "text": [
      "hash to verify:  b'\\xba\\xac\\xac\\x90\\x160;\\x91\\xf4\\xe3\\xf8\\xb4\\xb7\\t\\xa0j`(.\\x92|\\xf08K\\x1a\\xbeO\\xfe.\\xed0\\xbd'\n"
     ]
    }
   ],
   "source": [
    "#Bob creates a hash of the ciphertext using the same algorithm used by Alice\n",
    "digest = hashes.Hash(hashes.SHA256())\n",
    "digest.update(received_ciphertext)\n",
    "hash_to_verify = digest.finalize()\n",
    "\n",
    "print(\"hash to verify: \",hash_to_verify)"
   ]
  },
  {
   "cell_type": "code",
   "execution_count": 34,
   "id": "4fb7c1bd",
   "metadata": {},
   "outputs": [
    {
     "name": "stdout",
     "output_type": "stream",
     "text": [
      "The signature is valid.\n"
     ]
    }
   ],
   "source": [
    "# Bob verifies the signature using Alice's public key\n",
    "try:\n",
    "    alice_public_key.verify(\n",
    "        received_signature,\n",
    "        hash_to_verify,\n",
    "        padding.PSS(\n",
    "            mgf=padding.MGF1(hashes.SHA256()),\n",
    "            salt_length=padding.PSS.MAX_LENGTH\n",
    "        ),\n",
    "        Prehashed(hashes.SHA256())\n",
    "    )\n",
    "    print(\"The signature is valid.\")\n",
    "except:\n",
    "    print(\"The signature is not valid.\")"
   ]
  },
  {
   "cell_type": "code",
   "execution_count": 35,
   "id": "d784b74a",
   "metadata": {},
   "outputs": [
    {
     "name": "stdout",
     "output_type": "stream",
     "text": [
      "Decrypted message: Nnab_Xv5xC4KWOAlaF9ZqPbuJaoi4_a_LPkeRFIn6IU=\n"
     ]
    }
   ],
   "source": [
    "# Bob decrypts the message using his private key\n",
    "decrypted_message = bob_private_key.decrypt(\n",
    "    received_ciphertext,\n",
    "    padding.OAEP(\n",
    "        mgf=padding.MGF1(algorithm=hashes.SHA256()),\n",
    "        algorithm=hashes.SHA256(),\n",
    "        label=None\n",
    "    )\n",
    ")\n",
    "\n",
    "print(\"Decrypted message:\", decrypted_message.decode())"
   ]
  },
  {
   "cell_type": "code",
   "execution_count": 36,
   "id": "b9247c39",
   "metadata": {},
   "outputs": [
    {
     "name": "stdout",
     "output_type": "stream",
     "text": [
      "Checked 247 and 6 are coprime\n"
     ]
    }
   ],
   "source": [
    "n = 247  # the modulus\n",
    "e = 5    # public key number\n",
    "a = 6    # an integer coprime to n\n",
    "assert gcd(a, n) == 1\n",
    "print(f\"Checked {n} and {a} are coprime\")"
   ]
  },
  {
   "cell_type": "code",
   "execution_count": 37,
   "id": "686ea904",
   "metadata": {},
   "outputs": [
    {
     "name": "stdout",
     "output_type": "stream",
     "text": [
      "period r is: 36\n",
      "Checked 6^36 mod 247 is 1\n"
     ]
    }
   ],
   "source": [
    "r=0\n",
    "rem = 100\n",
    "while(rem != 1):\n",
    "    r += 1\n",
    "    rem = (a**r) % n\n",
    "    \n",
    "print(f'period r is: {r}')\n",
    "assert a**r % n == 1\n",
    "\n",
    "print(f\"Checked {a}^{r} mod {n} is 1\")"
   ]
  },
  {
   "cell_type": "code",
   "execution_count": 38,
   "id": "c7b210d8",
   "metadata": {},
   "outputs": [
    {
     "name": "stdout",
     "output_type": "stream",
     "text": [
      "f1 = 101559956668415\n",
      "f2 = 101559956668417\n"
     ]
    }
   ],
   "source": [
    "# explicitly use as integer\n",
    "f1 = int ( a**(r/2) - 1)\n",
    "f2 = int ( a**(r/2) + 1)\n",
    "\n",
    "print(f\"f1 = {f1}\")\n",
    "print(f\"f2 = {f2}\")"
   ]
  },
  {
   "cell_type": "code",
   "execution_count": 39,
   "id": "b9174b3b",
   "metadata": {},
   "outputs": [
    {
     "name": "stdout",
     "output_type": "stream",
     "text": [
      "One possible prime factor of n (247) is: 19\n",
      "The second prime factor of n (247) is: 13\n"
     ]
    }
   ],
   "source": [
    "q_found = gcd(f1, n)\n",
    "print(f'One possible prime factor of n ({n}) is: {q_found}')\n",
    "\n",
    "# explicit int (to avoid floating point)\n",
    "p_found = int ( n/q_found )\n",
    "print(f'The second prime factor of n ({n}) is: {p_found}')\n",
    "\n",
    "assert n == p_found * q_found"
   ]
  },
  {
   "cell_type": "code",
   "execution_count": 40,
   "id": "df8bdcb1",
   "metadata": {},
   "outputs": [
    {
     "name": "stdout",
     "output_type": "stream",
     "text": [
      "The totient is: 216\n",
      "Private Key number: 173\n"
     ]
    }
   ],
   "source": [
    "#Compute the totient\n",
    "phi_found = ( p_found -1 ) * ( q_found - 1 ) \n",
    "print(f'The totient is: {phi_found}')\n",
    "\n",
    "#Recover the private key number d_found by satisfying (d_found * e) % phi_found = 1\n",
    "d_found = 1\n",
    "while(True):\n",
    "    if((d_found*e) % phi_found == 1):\n",
    "        break\n",
    "    else:\n",
    "        d_found += 1\n",
    "print(\"Private Key number:\",d_found)"
   ]
  },
  {
   "cell_type": "code",
   "execution_count": 41,
   "id": "b278b06c",
   "metadata": {},
   "outputs": [
    {
     "name": "stdout",
     "output_type": "stream",
     "text": [
      "prime: 11\n",
      "primitive root: 7\n"
     ]
    }
   ],
   "source": [
    "#Step 1: Choose a prime `p` and a primitive root `a`\n",
    "p = 11\n",
    "a = 7\n",
    "\n",
    "print(f\"prime: {p}\")\n",
    "print(f\"primitive root: {a}\")"
   ]
  },
  {
   "cell_type": "code",
   "execution_count": 42,
   "id": "f125f0d0",
   "metadata": {},
   "outputs": [
    {
     "name": "stdout",
     "output_type": "stream",
     "text": [
      "Alice's private key is 4 and public key is 3\n",
      "Bob's private key is 8 and public key is 9\n"
     ]
    }
   ],
   "source": [
    "k_A = 4  #Alice's private key\n",
    "h_A = (a**(k_A)) % p #Alice's public key\n",
    "\n",
    "print(f\"Alice's private key is {k_A} and public key is {h_A}\")\n",
    "\n",
    "k_B = 8  #Bob's private key\n",
    "h_B = (a**(k_B)) % p #Bob's public key\n",
    "\n",
    "print(f\"Bob's private key is {k_B} and public key is {h_B}\")"
   ]
  },
  {
   "cell_type": "code",
   "execution_count": 43,
   "id": "bcbc8280",
   "metadata": {},
   "outputs": [
    {
     "name": "stdout",
     "output_type": "stream",
     "text": [
      "The shared secret key is: 5\n"
     ]
    }
   ],
   "source": [
    "secret_key_alice  = h_B**k_A % p\n",
    "secret_key_bob = h_A**k_B % p \n",
    "assert secret_key_alice == secret_key_bob\n",
    "print(f'The shared secret key is: {secret_key_bob}')"
   ]
  },
  {
   "cell_type": "code",
   "execution_count": 44,
   "id": "19377906",
   "metadata": {},
   "outputs": [
    {
     "name": "stdout",
     "output_type": "stream",
     "text": [
      "Public information is good: q=23, p=11, g=4\n"
     ]
    }
   ],
   "source": [
    "from random import randint\n",
    "\n",
    "# parameter generation: select the primes q, p and generator g:\n",
    "# EXPERIMENT with the values, they must meet certain rules\n",
    "\n",
    "q = 11\n",
    "p = 23\n",
    "g = 4\n",
    "\n",
    "assert( (p-1) % q  != 1 )\n",
    "assert( pow(g,q,p) != 0 )\n",
    "assert( g>=2)\n",
    "assert( g <= (p-2) )\n",
    "assert( ( pow(g,(p-1)/q) % p) != 1)\n",
    "\n",
    "print(f\"Public information is good: q={p}, p={q}, g={g}\")"
   ]
  },
  {
   "cell_type": "code",
   "execution_count": 45,
   "id": "f6f1f49b",
   "metadata": {},
   "outputs": [
    {
     "name": "stdout",
     "output_type": "stream",
     "text": [
      "Alice's private key is 2\n"
     ]
    }
   ],
   "source": [
    "# Alice chooses an integer randomly from {2..q-1}\n",
    "# EXPERIMENT with the values\n",
    "\n",
    "alice_private_key = randint(2, q-1)\n",
    "#alice_private_key =  \n",
    "\n",
    "assert(alice_private_key >= 2)\n",
    "assert(alice_private_key <= (q-1) ) \n",
    "\n",
    "print(f\"Alice's private key is {alice_private_key}\")"
   ]
  },
  {
   "cell_type": "code",
   "execution_count": 46,
   "id": "ec922f54",
   "metadata": {},
   "outputs": [
    {
     "name": "stdout",
     "output_type": "stream",
     "text": [
      "Alice's public key is 16\n"
     ]
    }
   ],
   "source": [
    "alice_public_key = pow(g,alice_private_key,p)\n",
    "# Alternatively can use (g ** alice_private_key) % p\n",
    "\n",
    "print(f\"Alice's public key is {alice_public_key}\")"
   ]
  },
  {
   "cell_type": "code",
   "execution_count": 47,
   "id": "187449c2",
   "metadata": {},
   "outputs": [
    {
     "name": "stdout",
     "output_type": "stream",
     "text": [
      "Inspection tomorrow!\n",
      "Alice's message hash is: 2\n"
     ]
    }
   ],
   "source": [
    "hash_dict={}\n",
    "def mock_hash_func(inp):\n",
    "    print(inp)\n",
    "    if not inp in hash_dict:\n",
    "        hash_dict[inp] = randint(1,q)\n",
    "    return hash_dict[inp]\n",
    "\n",
    "alice_message = \"Inspection tomorrow!\"\n",
    "alice_hash = mock_hash_func(alice_message)  # In reality, you'd use a hash function\n",
    "print(f\"Alice's message hash is: {alice_hash}\")"
   ]
  },
  {
   "cell_type": "code",
   "execution_count": 48,
   "id": "43096888",
   "metadata": {},
   "outputs": [
    {
     "name": "stdout",
     "output_type": "stream",
     "text": [
      "modular_inverse(3,7) = 5\n",
      "modular_inverse(4,11) = 3\n",
      "modular_inverse(7,5) = 3\n",
      "error! no inverse found! for 2,6\n",
      "Exception from pow() - no modular inverse found!\n"
     ]
    }
   ],
   "source": [
    "# brute-force implementation to find modular inverse\n",
    "def modular_inverse(k, q):\n",
    "    for i in range(0, q):\n",
    "        if (k * i) % q == 1:\n",
    "            return i\n",
    "    print(f'error! no inverse found! for {k},{q}')\n",
    "    return 0 \n",
    "  \n",
    "# Let's compare this algorithm with the standard python 'pow' function\n",
    "\n",
    "n1=modular_inverse(3,7)\n",
    "n2=modular_inverse(4,11)\n",
    "n3=modular_inverse(7,5)\n",
    "m1=pow(3,-1,7)\n",
    "m2=pow(4,-1,11)\n",
    "m3=pow(7,-1,5)\n",
    "\n",
    "assert(n1==m1)\n",
    "assert(n2==m2)\n",
    "#assert(n3==m3)\n",
    "\n",
    "print (f\"modular_inverse(3,7) = {m1}\")\n",
    "print (f\"modular_inverse(4,11) = {m2}\")\n",
    "print (f\"modular_inverse(7,5) = {m3}\")\n",
    "\n",
    "\n",
    "# Some numbers don't have modular inverses - our function throws an error\n",
    "n4=modular_inverse(2,6)\n",
    "\n",
    "# The python library will throw an exception, which must be caught\n",
    "try:\n",
    "    m4=pow(2,-1,6)\n",
    "except:\n",
    "    print(\"Exception from pow() - no modular inverse found!\")"
   ]
  },
  {
   "cell_type": "code",
   "execution_count": 49,
   "id": "070866eb",
   "metadata": {},
   "outputs": [
    {
     "name": "stdout",
     "output_type": "stream",
     "text": [
      "Using random k = 1\n",
      "Alice's signature is : (4, 10)\n"
     ]
    }
   ],
   "source": [
    "signed=False\n",
    "while( signed==False ):\n",
    "    k = randint(1, q-1)  # Should be different for every message\n",
    "    print(\"Using random k =\",k)\n",
    "    r = pow(g,k,p) % q\n",
    "    if (r == 0):\n",
    "        print(f\"{k} is not a good random value to use to calculate r. Trying another k\")\n",
    "        continue\n",
    "    # modular inverse doesn't always exist - we must trap this\n",
    "    try:\n",
    "        s = (pow(k,-1,q) * (alice_hash + alice_private_key * r)) % q  \n",
    "    except:\n",
    "        print(f\"{k} is not a good random value to use to calculate s. Trying another k\")\n",
    "        continue  \n",
    "    signed=True\n",
    "    \n",
    "signature = (r, s)\n",
    "print(f\"Alice's signature is : {(r,s)}\")"
   ]
  },
  {
   "cell_type": "code",
   "execution_count": 50,
   "id": "3c96520b",
   "metadata": {},
   "outputs": [
    {
     "name": "stdout",
     "output_type": "stream",
     "text": [
      "Inspection tomorrow!\n",
      "Signature is valid!\n"
     ]
    }
   ],
   "source": [
    "# Bob re-generates message hash using Alice's broadcast message\n",
    "bob_hash = mock_hash_func(alice_message) \n",
    "\n",
    "#Bob computes auxiliary quantities w (using modular inverse), u1, u2 and v\n",
    "w = (pow(s,-1,q)) % q  \n",
    "u1 = (bob_hash * w) % q\n",
    "u2 = (r * w) % q\n",
    "v = ((g**u1 * alice_public_key**u2) % p) % q\n",
    "\n",
    "if v == r:\n",
    "    print(\"Signature is valid!\")\n",
    "else:\n",
    "    print(\"Signature is invalid!\")"
   ]
  },
  {
   "cell_type": "code",
   "execution_count": 51,
   "id": "82accca2",
   "metadata": {},
   "outputs": [
    {
     "name": "stdout",
     "output_type": "stream",
     "text": [
      "Public and private keys generated for Bob and Alice\n"
     ]
    }
   ],
   "source": [
    "#import necessary library modules\n",
    "from cryptography.hazmat.primitives import hashes\n",
    "from cryptography.hazmat.primitives.asymmetric import dh, dsa\n",
    "from cryptography.hazmat.primitives.kdf.hkdf import HKDF\n",
    "from cryptography.hazmat.primitives import serialization\n",
    "\n",
    "# Generate DH parameters\n",
    "parameters = dh.generate_parameters(generator=2, key_size=2048)\n",
    "\n",
    "# Generate Alice's DH private key and public key\n",
    "alice_dh_private_key = parameters.generate_private_key()\n",
    "alice_dh_public_key = alice_dh_private_key.public_key()\n",
    "\n",
    "# Generate Bob's DH private key and public key\n",
    "bob_dh_private_key = parameters.generate_private_key()\n",
    "bob_dh_public_key = bob_dh_private_key.public_key()\n",
    "\n",
    "print(\"Public and private keys generated for Bob and Alice\")"
   ]
  },
  {
   "cell_type": "code",
   "execution_count": 52,
   "id": "687c516d",
   "metadata": {},
   "outputs": [
    {
     "name": "stdout",
     "output_type": "stream",
     "text": [
      "Additional key pair generated for signing\n"
     ]
    }
   ],
   "source": [
    "# Generate DSA keys for Alice and Bob\n",
    "alice_dsa_private_key = dsa.generate_private_key(key_size=2048)\n",
    "alice_dsa_public_key = alice_dsa_private_key.public_key()\n",
    "bob_dsa_private_key = dsa.generate_private_key(key_size=2048)\n",
    "bob_dsa_public_key = bob_dsa_private_key.public_key()\n",
    "\n",
    "print(\"Additional key pair generated for signing\")"
   ]
  },
  {
   "cell_type": "code",
   "execution_count": 53,
   "id": "50ffba2a",
   "metadata": {},
   "outputs": [
    {
     "name": "stdout",
     "output_type": "stream",
     "text": [
      "Alice signed public key\n"
     ]
    }
   ],
   "source": [
    "#Alice signs\n",
    "alice_public_bytes = alice_dh_public_key.public_bytes(\n",
    "    encoding=serialization.Encoding.PEM,\n",
    "    format=serialization.PublicFormat.SubjectPublicKeyInfo)\n",
    "alice_signature = alice_dsa_private_key.sign(alice_public_bytes, hashes.SHA256())\n",
    "\n",
    "print(\"Alice signed public key\")"
   ]
  },
  {
   "cell_type": "code",
   "execution_count": 54,
   "id": "4434a0f5",
   "metadata": {},
   "outputs": [
    {
     "name": "stdout",
     "output_type": "stream",
     "text": [
      "Bob signed public key\n"
     ]
    }
   ],
   "source": [
    "bob_public_bytes = bob_dh_public_key.public_bytes(\n",
    "    encoding=serialization.Encoding.PEM,\n",
    "    format=serialization.PublicFormat.SubjectPublicKeyInfo)\n",
    "bob_signature = bob_dsa_private_key.sign(bob_public_bytes, hashes.SHA256())\n",
    "\n",
    "print(\"Bob signed public key\")"
   ]
  },
  {
   "cell_type": "code",
   "execution_count": 55,
   "id": "9c84ffaa",
   "metadata": {},
   "outputs": [
    {
     "name": "stdout",
     "output_type": "stream",
     "text": [
      "Signatures are valid\n"
     ]
    }
   ],
   "source": [
    "# Alice and Bob verify each other's DH public keys using DSA public keys\n",
    "# An InvalidSignature exception will occur if they are not valid\n",
    "alice_dsa_public_key.verify(alice_signature, alice_public_bytes, hashes.SHA256())\n",
    "bob_dsa_public_key.verify(bob_signature, bob_public_bytes, hashes.SHA256())\n",
    "\n",
    "print(\"Signatures are valid\")"
   ]
  },
  {
   "cell_type": "code",
   "execution_count": 56,
   "id": "c7b7c9ac",
   "metadata": {},
   "outputs": [
    {
     "name": "stdout",
     "output_type": "stream",
     "text": [
      "Shared secrets generated\n"
     ]
    }
   ],
   "source": [
    "# Perform key exchange\n",
    "alice_shared_key = alice_dh_private_key.exchange(bob_dh_public_key)\n",
    "bob_shared_key = bob_dh_private_key.exchange(alice_dh_public_key)\n",
    "\n",
    "print(\"Shared secrets generated\")"
   ]
  },
  {
   "cell_type": "code",
   "execution_count": 57,
   "id": "1c483d4a",
   "metadata": {},
   "outputs": [
    {
     "name": "stdout",
     "output_type": "stream",
     "text": [
      "Keys checked to be the same\n"
     ]
    }
   ],
   "source": [
    "# Derive a shared symmetric key using key-stretching\n",
    "def derive_key(shared_key):\n",
    "    return HKDF(\n",
    "        algorithm=hashes.SHA256(),\n",
    "        length=32,\n",
    "        salt=None,\n",
    "        info=None,\n",
    "    ).derive(shared_key)\n",
    "\n",
    "alice_symmetric_key = derive_key(alice_shared_key)\n",
    "bob_symmetric_key = derive_key(bob_shared_key)\n",
    "\n",
    "assert alice_symmetric_key == bob_symmetric_key\n",
    "print(\"Keys checked to be the same\")"
   ]
  },
  {
   "cell_type": "code",
   "execution_count": 58,
   "id": "4cf1e7f7",
   "metadata": {},
   "outputs": [
    {
     "name": "stdout",
     "output_type": "stream",
     "text": [
      "Keys checked to be the same\n"
     ]
    }
   ],
   "source": [
    "from cryptography.hazmat.primitives.asymmetric import ec\n",
    "from cryptography.hazmat.primitives import hashes\n",
    "\n",
    "# Each party generates a private key\n",
    "private_key1 = ec.generate_private_key(ec.SECP384R1())\n",
    "private_key2 = ec.generate_private_key(ec.SECP384R1())\n",
    "\n",
    "# They exchange public keys\n",
    "public_key1 = private_key1.public_key()\n",
    "public_key2 = private_key2.public_key()\n",
    "\n",
    "# Each party uses their own private key and the other party's public key\n",
    "# to derive the shared secret\n",
    "shared_key1 = private_key1.exchange(ec.ECDH(), public_key2)\n",
    "shared_key2 = private_key2.exchange(ec.ECDH(), public_key1)\n",
    "\n",
    "# The shared secrets are the same\n",
    "assert shared_key1 == shared_key2\n",
    "print(\"Keys checked to be the same\")"
   ]
  },
  {
   "cell_type": "code",
   "execution_count": 59,
   "id": "2d962e73",
   "metadata": {},
   "outputs": [
    {
     "name": "stdout",
     "output_type": "stream",
     "text": [
      "The signature is valid.\n"
     ]
    }
   ],
   "source": [
    "from cryptography.hazmat.primitives import hashes\n",
    "from cryptography.hazmat.primitives.asymmetric import ec\n",
    "\n",
    "# Generate a private key for use in the signature\n",
    "private_key = ec.generate_private_key(ec.SECP384R1())\n",
    "\n",
    "message = b\"A message to be signed\"\n",
    "\n",
    "# Sign the message\n",
    "signature = private_key.sign(message, ec.ECDSA(hashes.SHA256()))\n",
    "\n",
    "# Anyone can verify the signature with the public key\n",
    "public_key = private_key.public_key()\n",
    "try:\n",
    "    public_key.verify(signature, message, ec.ECDSA(hashes.SHA256()))\n",
    "    print(\"The signature is valid.\")\n",
    "except:\n",
    "    print(\"The signature is invalid.\")"
   ]
  },
  {
   "cell_type": "code",
   "execution_count": 60,
   "id": "e02b8ba9",
   "metadata": {},
   "outputs": [
    {
     "name": "stdout",
     "output_type": "stream",
     "text": [
      "n=8,q=127,N=42,sigma=1.0\n"
     ]
    }
   ],
   "source": [
    "import numpy as np\n",
    "from matplotlib import pyplot as plt\n",
    "n=8\n",
    "q=127\n",
    "N=int(1.1*n*np.log(q))\n",
    "sigma=1.0\n",
    "print(f\"n={n},q={q},N={N},sigma={sigma}\")"
   ]
  },
  {
   "cell_type": "code",
   "execution_count": 61,
   "id": "e3924625",
   "metadata": {},
   "outputs": [
    {
     "name": "stdout",
     "output_type": "stream",
     "text": [
      "chi =  2\n",
      "chi =  3\n",
      "chi =  996\n",
      "chi =  10\n",
      "chi =  999\n",
      "chi =  996\n",
      "chi =  996\n",
      "chi =  2\n",
      "chi =  999\n",
      "chi =  7\n"
     ]
    }
   ],
   "source": [
    "def chi(stdev, modulus):\n",
    "    return round((np.random.randn() * stdev**2))%modulus\n",
    "\n",
    "# print some examples\n",
    "sd=2\n",
    "m=1000\n",
    "for x in range(10):\n",
    "  print(\"chi = \",chi(sd,m))"
   ]
  },
  {
   "cell_type": "code",
   "execution_count": 62,
   "id": "471cfdf1",
   "metadata": {},
   "outputs": [
    {
     "name": "stdout",
     "output_type": "stream",
     "text": [
      "Alice's private key: [ 96  12 126  15  77  88 122  93]\n"
     ]
    }
   ],
   "source": [
    "#Alice's private key\n",
    "alice_private_key = np.random.randint(0, high=q, size=n)\n",
    "print(f\"Alice's private key: {alice_private_key}\")"
   ]
  },
  {
   "cell_type": "code",
   "execution_count": 63,
   "id": "e641b73c",
   "metadata": {},
   "outputs": [
    {
     "name": "stdout",
     "output_type": "stream",
     "text": [
      "Alice's public key: [(array([95,  1, 60, 96, 12, 64, 63, 57]), 83), (array([109,  74,  16,  89,  47,  35,  25,  19]), 59), (array([ 43, 104,  60,  12,  74,  97,  74,  53]), 31), (array([ 94,   5, 121,  82,   7, 106,  10,  79]), 54), (array([ 33,  25,  43, 105,  78,  80,  54,  81]), 37), (array([ 39,  63, 110, 126,  24,  46,  77,  91]), 62), (array([  1,  93, 112,  47,  52,  55, 115, 111]), 78), (array([ 15,  24,  87, 115,  40,  28,  23,  84]), 95), (array([ 47,  44, 110,  60,  63,  72,  74,  96]), 46), (array([  0, 106,   4, 109,  29,  56,  19,  34]), 52), (array([116,  83,  35,  11,  73,  52,  81,  82]), 89), (array([ 28,  22,  27,  86,  42,  82,  97, 104]), 103), (array([ 8, 62,  6, 87,  5, 97, 18, 86]), 81), (array([  1,  46, 100,  89, 106,  21,  77,  41]), 81), (array([ 90,  20,  80,  73,  11, 102, 115,  60]), 86), (array([108,  54,  94,   6,  34, 123, 121, 103]), 27), (array([ 92,   8, 114,   2,  55,  22,  94,  33]), 86), (array([ 95,  84,  13,  89, 101, 105, 111,  60]), 92), (array([ 75,  91,  19,   3, 106,  85,  22,  75]), 90), (array([ 24,   1,  59,   9,  39,  81, 100,   8]), 67), (array([ 27, 108,  11,  96,  75,  40,  37, 102]), 37), (array([  3,  36, 105,  82, 118,  53,  88,  39]), 115), (array([49, 97, 39, 13, 69, 94, 74, 82]), 68), (array([ 13,  53,  50,  89,  82, 104,  55, 113]), 40), (array([124,  17,  95,  81, 125, 111, 122,  59]), 32), (array([61,  1, 22, 64, 51, 41, 30, 26]), 99), (array([ 97,  59,  66,  78,  39, 125,   7,  30]), 70), (array([114,  82,  10,  27,  50,   7,   4,  75]), 122), (array([  7,  95,  93,  26, 104,  72,  44,  18]), 0), (array([106, 101,  90,  40,  85, 110,  37,  39]), 71), (array([ 40,  49,  57, 116,  67,  20,  34,  37]), 44), (array([105,  86,  75,  95,  33,  24, 118,  24]), 90), (array([ 12,  64,  37, 106, 104, 123,  16,   3]), 26), (array([118,  47,  47,  98,  50,  56, 112,  61]), 27), (array([  8,  82,  98,  52,  92,  39,  60, 121]), 26), (array([ 71,  75, 103, 110,  32,   5, 119,  70]), 49), (array([ 24,  50,  27, 108, 111,   0,  35,  70]), 75), (array([ 82,   6,  37, 100,  33,  83,  31,  84]), 112), (array([108,  95,  14,  81, 114, 116,  67, 109]), 95), (array([116,  15, 110,  96,  62, 106,  23,  75]), 79), (array([ 23, 125, 117,  58, 116,  73,  13, 110]), 10), (array([ 95,  70,  12,  51,  44,  76, 125,  21]), 19)]\n"
     ]
    }
   ],
   "source": [
    "#Alice's Public Key\n",
    "alice_public_key = []\n",
    "\n",
    "# N is the number of values we want in the key\n",
    "for i in range(N):\n",
    "    # Get n random values between 0 and <q\n",
    "    a = np.random.randint(0, high=q, size=n)\n",
    "    # get an error to introduce\n",
    "    epsilon = chi(sigma, q)\n",
    "    #  calculate dot product (ie like array multiplication)\n",
    "    b = (np.dot(a, alice_private_key) + epsilon) % q\n",
    "    # value to be added to the key -\n",
    "    sample = (a, b)\n",
    "    alice_public_key.append(sample)\n",
    "    \n",
    "print(f\"Alice's public key: {alice_public_key}\")"
   ]
  },
  {
   "cell_type": "code",
   "execution_count": 64,
   "id": "e9471b3c",
   "metadata": {},
   "outputs": [
    {
     "name": "stdout",
     "output_type": "stream",
     "text": [
      "Bob's message bit=1\n"
     ]
    }
   ],
   "source": [
    "#Encryption\n",
    "bob_message_bit = 1\n",
    "print(f\"Bob's message bit={bob_message_bit}\")"
   ]
  },
  {
   "cell_type": "code",
   "execution_count": 65,
   "id": "9daf900d",
   "metadata": {},
   "outputs": [
    {
     "name": "stdout",
     "output_type": "stream",
     "text": [
      "[1 0 1 1 0 0 1 1 0 0 1 1 0 1 0 1 0 1 1 1 0 0 0 0 1 0 1 1 1 1 0 0 0 0 0 1 1\n",
      " 0 1 1 0 1]\n"
     ]
    }
   ],
   "source": [
    "# a list of N values between 0 and <2 - ie 0 or 1\n",
    "r = np.random.randint(0, 2, N)\n",
    "print(r)"
   ]
  },
  {
   "cell_type": "code",
   "execution_count": 66,
   "id": "9ad12a9c",
   "metadata": {},
   "outputs": [
    {
     "name": "stdout",
     "output_type": "stream",
     "text": [
      "ciphertext is: ([33, 124, 10, 73, 55, 103, 80, 26], 41)\n"
     ]
    }
   ],
   "source": [
    "sum_ai=np.zeros(n, dtype=int)\n",
    "sum_bi=0\n",
    "\n",
    "for i in range(N):\n",
    "    sum_ai = sum_ai + r[i] * alice_public_key[i][0]\n",
    "    sum_bi = sum_bi + r[i] * alice_public_key[i][1]\n",
    "sum_ai = [ x % q for x in sum_ai ]\n",
    "# sum_bi = sum_bi \n",
    "ciphertext = (sum_ai, (bob_message_bit*int(np.floor(q/2))+sum_bi)%q)\n",
    "print(f\"ciphertext is: {ciphertext}\")"
   ]
  },
  {
   "cell_type": "code",
   "execution_count": 67,
   "id": "e041a4f2",
   "metadata": {},
   "outputs": [
    {
     "name": "stdout",
     "output_type": "stream",
     "text": [
      "original message bit=1, decrypted message bit=1\n"
     ]
    }
   ],
   "source": [
    "#Decryption\n",
    "adots = np.dot(ciphertext[0], alice_private_key) % q\n",
    "b_adots = (ciphertext[1] - adots) % q\n",
    "\n",
    "decrypted_message_bit = round((2*b_adots)/q) % 2\n",
    "\n",
    "print(f\"original message bit={bob_message_bit}, decrypted message bit={decrypted_message_bit}\")\n",
    "\n",
    "assert bob_message_bit == decrypted_message_bit"
   ]
  },
  {
   "cell_type": "code",
   "execution_count": 68,
   "id": "6e810660",
   "metadata": {},
   "outputs": [
    {
     "name": "stdout",
     "output_type": "stream",
     "text": [
      "Bob's message bits are : [1 1 0 0 0 1 0 0 1 1 1 1 1 1 0 1]\n",
      "Decrypted message bits = [1 1 0 0 0 1 0 0 1 1 1 1 1 1 0 1]\n"
     ]
    }
   ],
   "source": [
    "bob_message_bits = np.random.randint(0, 2, 16)\n",
    "print(f\"Bob's message bits are : {bob_message_bits}\")\n",
    "decrypted_bits = []\n",
    "\n",
    "for ib in range(len(bob_message_bits)):\n",
    "    bob_message_bit = bob_message_bits[ib]\n",
    "\n",
    "    r = np.random.randint(0, 2, N)\n",
    "    \n",
    "    sum_ai=np.zeros(n, dtype=int)\n",
    "    sum_bi=0\n",
    "    for i in range(N):\n",
    "        sum_ai = sum_ai + r[i] * alice_public_key[i][0]\n",
    "        sum_bi = sum_bi + r[i] * alice_public_key[i][1]\n",
    "    sum_ai = [ x % q for x in sum_ai ]\n",
    "\n",
    "    ciphertext = (sum_ai, (bob_message_bit*int(np.floor(q/2))+sum_bi)%q)\n",
    "\n",
    "    adots = np.dot(ciphertext[0], alice_private_key) % q\n",
    "    b_adots = (ciphertext[1] - adots) % q\n",
    "\n",
    "    decrypted_message_bit = round((2*b_adots)/q) % 2\n",
    "    assert decrypted_message_bit == bob_message_bit\n",
    "\n",
    "    decrypted_bits.append(decrypted_message_bit)\n",
    "    \n",
    "print(f\"Decrypted message bits = {np.array(decrypted_bits)}\")"
   ]
  },
  {
   "cell_type": "markdown",
   "id": "2114929e",
   "metadata": {},
   "source": [
    "# Quantum Metrology:\n",
    "\n",
    "Using quantum techniques for precision measurements, surpassing classical limits."
   ]
  },
  {
   "cell_type": "markdown",
   "id": "276a34f8-a315-469d-b032-81318dcca2b0",
   "metadata": {},
   "source": [
    "Quantum metrology is a field that explores the use of quantum systems, such as qubits and entangled states, to enhance precision in measurements beyond the limits achievable by classical methods. Quantum metrology is particularly promising for applications in high-precision measurements, sensing, and imaging. Here's an overview of key concepts, equations, and information related to quantum metrology:\n",
    "\n",
    "### Basics of Quantum Metrology:\n",
    "\n",
    "1. **Quantum Entanglement:**\n",
    "   - Quantum metrology often relies on entangled states, where the quantum properties of one particle are intrinsically linked to those of another, even when separated by large distances.\n",
    "\n",
    "2. **Heisenberg Uncertainty Principle:**\n",
    "   - The Heisenberg Uncertainty Principle imposes a fundamental limit on the precision of certain measurements. Quantum metrology aims to exploit quantum features to achieve precision beyond these classical limits.\n",
    "\n",
    "### Quantum Metrology vs. Classical Metrology:\n",
    "\n",
    "1. **Precision Enhancement:**\n",
    "   - Quantum metrology can achieve higher precision than classical methods, especially in scenarios where entanglement and quantum coherence can be maintained.\n",
    "\n",
    "2. **Squeezed States:**\n",
    "   - Squeezed states are quantum states that exhibit reduced uncertainty in one observable at the expense of increased uncertainty in the conjugate observable. These states can be used to improve precision in certain measurements.\n",
    "\n",
    "### Quantum Fisher Information:\n",
    "\n",
    "1. **Quantum Fisher Information (QFI):**\n",
    "   - QFI is a key parameter in quantum metrology that quantifies the sensitivity of a quantum state to changes in a parameter being measured.\n",
    "   - It is a measure of how well a quantum state can be used for parameter estimation.\n",
    "\n",
    "2. **Quantum Cramér-Rao Bound:**\n",
    "   - The quantum Cramér-Rao bound sets a limit on the achievable precision of parameter estimation in quantum metrology, analogous to the classical Cramér-Rao bound.\n",
    "\n",
    "### Quantum Metrology in Practice:\n",
    "\n",
    "1. **Interferometry:**\n",
    "   - Quantum interferometry is a common approach in quantum metrology, where quantum states are used to enhance the sensitivity of interferometric measurements.\n",
    "\n",
    "2. **Applications:**\n",
    "   - Quantum metrology has applications in fields such as atomic clocks, gravitational wave detection, and magnetic field sensing.\n",
    "   - Quantum-enhanced sensors can be used for improved detection of small changes in physical parameters.\n",
    "\n",
    "### Equations:\n",
    "\n",
    "1. **Quantum Fisher Information (QFI) Formula:**\n",
    "   - For a parameterized quantum state \\(|\\psi(\\theta)\\rangle\\), the QFI is given by:\n",
    "     \\[ F_Q(\\theta) = 4 \\sum_{i, j} \\frac{\\text{Re}(\\langle \\partial_\\theta \\psi_i | \\partial_\\theta \\psi_j \\rangle \\langle \\psi_j | \\psi_i \\rangle)}{\\lambda_i + \\lambda_j} \\]\n",
    "     where \\(\\lambda_i\\) are the eigenvalues of the symmetric logarithmic derivative.\n",
    "\n",
    "2. **Quantum Cramér-Rao Bound:**\n",
    "   - The quantum Cramér-Rao bound for a parameter \\(\\theta\\) is given by:\n",
    "     \\[ \\text{Var}(\\theta) \\geq \\frac{1}{M F_Q(\\theta)} \\]\n",
    "     where \\(M\\) is the number of measurements.\n",
    "\n",
    "### Challenges and Considerations:\n",
    "\n",
    "1. **Decoherence:**\n",
    "   - Decoherence and noise in quantum systems can limit the effectiveness of quantum metrology.\n",
    "\n",
    "2. **Optimal Quantum States:**\n",
    "   - Identifying the optimal quantum states for specific measurements is a complex task.\n",
    "\n",
    "Quantum metrology represents a fascinating intersection of quantum mechanics and precision measurement techniques, with the potential to revolutionize fields that rely on high-precision measurements. Ongoing research in quantum technologies is expected to further advance the capabilities and applications of quantum metrology."
   ]
  },
  {
   "cell_type": "code",
   "execution_count": 1,
   "id": "cca736b8-9328-40ba-9729-54afd732303b",
   "metadata": {},
   "outputs": [
    {
     "name": "stderr",
     "output_type": "stream",
     "text": [
      "C:\\Users\\yashr\\AppData\\Local\\Temp\\ipykernel_5416\\2048444462.py:39: DeprecationWarning: Using a qobj for run() is deprecated as of qiskit-aer 0.9.0 and will be removed no sooner than 3 months from that release date. Transpiled circuits should now be passed directly using `backend.run(circuits, **run_options).\n",
      "  result = simulator.run(assemble(compiled_circuit)).result()\n"
     ]
    },
    {
     "data": {
      "image/png": "[encoded data removed]",
      "text/plain": [
       "<Figure size 700x500 with 1 Axes>"
      ]
     },
     "execution_count": 1,
     "metadata": {},
     "output_type": "execute_result"
    }
   ],
   "source": [
    "from qiskit import QuantumCircuit, transpile, Aer, assemble\n",
    "from qiskit.visualization import plot_histogram\n",
    "import numpy as np\n",
    "\n",
    "# Function to create a quantum circuit for phase estimation\n",
    "def phase_estimation_circuit(theta, n_qubits):\n",
    "    qc = QuantumCircuit(n_qubits + 1, n_qubits)\n",
    "\n",
    "    # Apply Hadamard gate to all qubits\n",
    "    qc.h(range(n_qubits + 1))\n",
    "\n",
    "    # Apply controlled unitary operation corresponding to the phase shift\n",
    "    for qubit in range(n_qubits):\n",
    "        qc.cp(2 * np.pi * theta, qubit, n_qubits)\n",
    "\n",
    "    # Apply inverse quantum Fourier transform\n",
    "    for j in range(n_qubits):\n",
    "        for m in range(j):\n",
    "            qc.cp(-np.pi / (2 ** (j - m)), m, j)\n",
    "        qc.h(j)\n",
    "\n",
    "    # Measure the first n_qubits qubits\n",
    "    qc.measure(range(n_qubits), range(n_qubits))\n",
    "\n",
    "    return qc\n",
    "\n",
    "# Number of qubits for phase estimation\n",
    "n_qubits = 3\n",
    "\n",
    "# True phase value (parameter to be estimated)\n",
    "true_theta = 0.5\n",
    "\n",
    "# Create a quantum circuit for phase estimation\n",
    "qc = phase_estimation_circuit(true_theta, n_qubits)\n",
    "\n",
    "# Simulate the quantum circuit\n",
    "simulator = Aer.get_backend('qasm_simulator')\n",
    "compiled_circuit = transpile(qc, simulator)\n",
    "result = simulator.run(assemble(compiled_circuit)).result()\n",
    "\n",
    "# Get the measurement outcomes\n",
    "counts = result.get_counts()\n",
    "\n",
    "# Display the histogram of measurement outcomes\n",
    "plot_histogram(counts)\n"
   ]
  },
  {
   "cell_type": "code",
   "execution_count": 2,
   "id": "fc37ec56-1d82-4640-be6c-84247cdffc29",
   "metadata": {},
   "outputs": [
    {
     "name": "stderr",
     "output_type": "stream",
     "text": [
      "C:\\Users\\yashr\\AppData\\Local\\Temp\\ipykernel_5416\\2613671446.py:19: DeprecationWarning: Using a qobj for run() is deprecated as of qiskit-aer 0.9.0 and will be removed no sooner than 3 months from that release date. Transpiled circuits should now be passed directly using `backend.run(circuits, **run_options).\n",
      "  result = simulator.run(assemble(compiled_circuit)).result()\n"
     ]
    },
    {
     "data": {
      "image/png": "[encoded data removed]",
      "text/plain": [
       "<Figure size 700x500 with 1 Axes>"
      ]
     },
     "execution_count": 2,
     "metadata": {},
     "output_type": "execute_result"
    }
   ],
   "source": [
    "from qiskit import QuantumCircuit, Aer, transpile, assemble\n",
    "from qiskit.visualization import plot_histogram\n",
    "\n",
    "# Create a quantum circuit with two qubits\n",
    "qc = QuantumCircuit(2, 2)\n",
    "\n",
    "# Apply a Hadamard gate to the first qubit\n",
    "qc.h(0)\n",
    "\n",
    "# Apply a CNOT gate to create entanglement\n",
    "qc.cx(0, 1)\n",
    "\n",
    "# Measure the qubits\n",
    "qc.measure([0, 1], [0, 1])\n",
    "\n",
    "# Simulate the quantum circuit\n",
    "simulator = Aer.get_backend('qasm_simulator')\n",
    "compiled_circuit = transpile(qc, simulator)\n",
    "result = simulator.run(assemble(compiled_circuit)).result()\n",
    "\n",
    "# Get the measurement outcomes\n",
    "counts = result.get_counts(qc)\n",
    "\n",
    "# Display the histogram of measurement outcomes\n",
    "plot_histogram(counts)\n"
   ]
  },
  {
   "cell_type": "code",
   "execution_count": 4,
   "id": "cc73e13e-d2f0-4948-97b9-0c2a02d832c0",
   "metadata": {},
   "outputs": [
    {
     "data": {
      "image/png": "[encoded data removed]",
      "text/plain": [
       "<Figure size 640x480 with 1 Axes>"
      ]
     },
     "metadata": {},
     "output_type": "display_data"
    }
   ],
   "source": [
    "import numpy as np\n",
    "import matplotlib.pyplot as plt\n",
    "\n",
    "h_bar = 65.34567\n",
    "\n",
    "# Define the uncertainty in position and momentum\n",
    "delta_x = np.linspace(0.1, 5, 100)\n",
    "delta_p = h_bar / (2 * delta_x)\n",
    "\n",
    "# Plot the Heisenberg Uncertainty Principle\n",
    "plt.plot(delta_x, delta_p, label=r'$\\Delta x \\cdot \\Delta p \\geq \\frac{\\hbar}{2}$')\n",
    "plt.xlabel(r'$\\Delta x$ (Uncertainty in Position)')\n",
    "plt.ylabel(r'$\\Delta p$ (Uncertainty in Momentum)')\n",
    "plt.title('Heisenberg Uncertainty Principle')\n",
    "plt.legend()\n",
    "plt.grid(True)\n",
    "plt.show()\n"
   ]
  },
  {
   "cell_type": "code",
   "execution_count": 5,
   "id": "e10c8eb3-9cd4-4a98-8b17-a035ffacaf6c",
   "metadata": {},
   "outputs": [
    {
     "name": "stderr",
     "output_type": "stream",
     "text": [
      "C:\\Users\\yashr\\AppData\\Local\\Temp\\ipykernel_5416\\4622133.py:36: DeprecationWarning: Using a qobj for run() is deprecated as of qiskit-aer 0.9.0 and will be removed no sooner than 3 months from that release date. Transpiled circuits should now be passed directly using `backend.run(circuits, **run_options).\n",
      "  result = simulator.run(assemble(compiled_circuit)).result()\n"
     ]
    },
    {
     "data": {
      "image/png": "[encoded data removed]",
      "text/plain": [
       "<Figure size 700x500 with 1 Axes>"
      ]
     },
     "execution_count": 5,
     "metadata": {},
     "output_type": "execute_result"
    }
   ],
   "source": [
    "from qiskit import QuantumCircuit, Aer, transpile, assemble\n",
    "from qiskit.visualization import plot_histogram\n",
    "import numpy as np\n",
    "\n",
    "# Function to create a quantum interferometric circuit\n",
    "def interferometric_circuit(theta, n_qubits):\n",
    "    qc = QuantumCircuit(n_qubits, n_qubits)\n",
    "\n",
    "    # Apply Hadamard gate to all qubits\n",
    "    qc.h(range(n_qubits))\n",
    "\n",
    "    # Apply controlled phase shift corresponding to the parameter theta\n",
    "    for qubit in range(n_qubits):\n",
    "        qc.p(theta, qubit)\n",
    "\n",
    "    # Apply inverse quantum Fourier transform\n",
    "    qc.h(range(n_qubits))\n",
    "\n",
    "    # Measure all qubits\n",
    "    qc.measure(range(n_qubits), range(n_qubits))\n",
    "\n",
    "    return qc\n",
    "\n",
    "# Number of qubits for interferometry\n",
    "n_qubits = 3\n",
    "\n",
    "# True value of the parameter to be estimated\n",
    "true_theta = 0.2\n",
    "\n",
    "# Create a quantum interferometric circuit\n",
    "qc = interferometric_circuit(true_theta, n_qubits)\n",
    "\n",
    "# Simulate the quantum circuit\n",
    "simulator = Aer.get_backend('qasm_simulator')\n",
    "compiled_circuit = transpile(qc, simulator)\n",
    "result = simulator.run(assemble(compiled_circuit)).result()\n",
    "\n",
    "# Get the measurement outcomes\n",
    "counts = result.get_counts()\n",
    "\n",
    "# Display the histogram of measurement outcomes\n",
    "plot_histogram(counts)\n"
   ]
  },
  {
   "cell_type": "code",
   "execution_count": 7,
   "id": "4bb4235f-952a-4135-bc63-00d007dc8f48",
   "metadata": {},
   "outputs": [
    {
     "name": "stderr",
     "output_type": "stream",
     "text": [
      "C:\\Users\\yashr\\AppData\\Local\\Temp\\ipykernel_5416\\2263291180.py:30: DeprecationWarning: Using a qobj for run() is deprecated as of qiskit-aer 0.9.0 and will be removed no sooner than 3 months from that release date. Transpiled circuits should now be passed directly using `backend.run(circuits, **run_options).\n",
      "  result = simulator.run(assemble(compiled_circuit)).result()\n"
     ]
    },
    {
     "data": {
      "image/png": "[encoded data removed]",
      "text/plain": [
       "<Figure size 700x500 with 1 Axes>"
      ]
     },
     "execution_count": 7,
     "metadata": {},
     "output_type": "execute_result"
    }
   ],
   "source": [
    "from qiskit import QuantumCircuit, Aer, transpile, assemble\n",
    "from qiskit.visualization import plot_histogram\n",
    "import numpy as np\n",
    "\n",
    "# Function to create a quantum circuit for generating a squeezed state\n",
    "def squeezed_state_circuit(r, n_qubits):\n",
    "    qc = QuantumCircuit(n_qubits, n_qubits)\n",
    "\n",
    "    # Apply a squeezing gate to create the squeezed state\n",
    "    for qubit in range(n_qubits):\n",
    "        qc.rz(2*r, qubit)\n",
    "\n",
    "    # Measure all qubits\n",
    "    qc.measure(range(n_qubits), range(n_qubits))\n",
    "\n",
    "    return qc\n",
    "\n",
    "# Number of qubits\n",
    "n_qubits = 3\n",
    "\n",
    "# Squeezing parameter\n",
    "squeezing_parameter = 0.4\n",
    "\n",
    "# Create a quantum circuit for generating a squeezed state\n",
    "qc = squeezed_state_circuit(squeezing_parameter, n_qubits)\n",
    "\n",
    "# Simulate the quantum circuit\n",
    "simulator = Aer.get_backend('qasm_simulator')\n",
    "compiled_circuit = transpile(qc, simulator)\n",
    "result = simulator.run(assemble(compiled_circuit)).result()\n",
    "\n",
    "# Get the measurement outcomes\n",
    "counts = result.get_counts()\n",
    "\n",
    "# Display the histogram of measurement outcomes\n",
    "plot_histogram(counts)\n"
   ]
  },
  {
   "cell_type": "code",
   "execution_count": 11,
   "id": "6e13b22d-36bc-4b89-8d67-c09b1e2754a9",
   "metadata": {},
   "outputs": [],
   "source": [
    "from qiskit import QuantumCircuit, Aer, transpile, assemble\n",
    "import numpy as np\n",
    "\n",
    "# Function to create a parameterized quantum circuit\n",
    "def parameterized_circuit(theta):\n",
    "    qc = QuantumCircuit(1)\n",
    "\n",
    "    # Apply a rotation around the Y-axis based on the parameter theta to qubit 0\n",
    "    qc.ry(theta, 0)\n",
    "\n",
    "    return qc\n",
    "\n",
    "# Function to compute the Quantum Fisher Information\n",
    "def compute_qfi(theta, backend):\n",
    "    # Create a quantum circuit\n",
    "    qc = parameterized_circuit(theta)\n",
    "\n",
    "    # Transpile the circuit for the given backend\n",
    "    compiled_circuit = transpile(qc, backend)\n",
    "\n",
    "    # Execute the quantum circuit\n",
    "    result = backend.run(assemble(compiled_circuit)).result()\n",
    "\n",
    "    # Get the statevector of the circuit\n",
    "    statevector = result.get_statevector()\n",
    "\n",
    "    # Compute the QFI based on the statevector\n",
    "    qfi = 4 * np.imag(np.conj(statevector) @ (qc.ry(theta + np.pi/2, 0).to_matrix() @ statevector))\n",
    "\n",
    "    return qfi\n",
    "\n",
    "# Define the parameter theta\n",
    "theta_value = np.pi/4\n",
    "\n",
    "# Choose the statevector simulator as the backend\n",
    "backend = Aer.get_backend('statevector_simulator')\n",
    "\n",
    "# Compute the Quantum Fisher Information for the given parameter\n",
    "#qfi_value = compute_qfi(theta_value, backend)\n",
    "\n",
    "# Display the result\n",
    "#print(f\"Quantum Fisher Information for theta = {theta_value}: {qfi_value}\")\n"
   ]
  },
  {
   "cell_type": "code",
   "execution_count": 19,
   "id": "509dcb98-26d2-4bfc-a065-8bc1cbf53a7b",
   "metadata": {},
   "outputs": [],
   "source": [
    "from qiskit import QuantumCircuit, Aer, transpile, assemble\n",
    "import numpy as np\n",
    "\n",
    "# Function to create a parameterized quantum circuit\n",
    "def parameterized_circuit(theta):\n",
    "    qc = QuantumCircuit(1)\n",
    "\n",
    "    # Apply a rotation around the Y-axis based on the parameter theta to qubit 0\n",
    "    qc.ry(theta, 0)\n",
    "\n",
    "    return qc\n",
    "\n",
    "# Function to compute the Quantum Fisher Information\n",
    "def compute_qfi(theta, backend):\n",
    "    # Create a quantum circuit\n",
    "    qc = parameterized_circuit(theta)\n",
    "\n",
    "    # Transpile the circuit for the given backend\n",
    "    compiled_circuit = transpile(qc, backend)\n",
    "\n",
    "    # Execute the quantum circuit\n",
    "    result = backend.run(assemble(compiled_circuit)).result()\n",
    "\n",
    "    # Get the statevector of the circuit\n",
    "    statevector = result.get_statevector()\n",
    "\n",
    "    # Compute the QFI based on the statevector\n",
    "    qfi = 4 * np.imag(np.conj(statevector) @ (qc.ry(theta + np.pi/2, 0).to_matrix() @ statevector))\n",
    "\n",
    "    return qfi\n",
    "\n",
    "# Function to compute the Quantum Cramér-Rao Bound\n",
    "def compute_qcrb(qfi):\n",
    "    # Compute the Quantum Cramér-Rao Bound\n",
    "    qcrb = 1 / qfi\n",
    "\n",
    "    return qcrb\n",
    "\n",
    "# Define the parameter theta\n",
    "theta_value = np.pi/4\n",
    "\n",
    "# Choose the statevector simulator as the backend\n",
    "backend = Aer.get_backend('statevector_simulator')\n",
    "\n",
    "# Compute the Quantum Fisher Information for the given parameter\n",
    "#qfi_value = compute_qfi(theta_value, backend)\n",
    "\n",
    "# Compute the Quantum Cramér-Rao Bound\n",
    "#qcrb_value = compute_qcrb(qfi_value)\n",
    "\n",
    "# Display the results\n",
    "#print(f\"Quantum Fisher Information for theta = {theta_value}: {qfi_value}\")\n",
    "#print(f\"Quantum Cramér-Rao Bound for theta = {theta_value}: {qcrb_value}\")\n"
   ]
  },
  {
   "cell_type": "code",
   "execution_count": 20,
   "id": "c697b55c-718b-4423-88ef-3efebd1ea115",
   "metadata": {},
   "outputs": [
    {
     "name": "stderr",
     "output_type": "stream",
     "text": [
      "C:\\Users\\yashr\\AppData\\Local\\Temp\\ipykernel_5416\\391303462.py:32: DeprecationWarning: Using a qobj for run() is deprecated as of qiskit-aer 0.9.0 and will be removed no sooner than 3 months from that release date. Transpiled circuits should now be passed directly using `backend.run(circuits, **run_options).\n",
      "  result = backend.run(assemble(compiled_circuit)).result()\n"
     ]
    },
    {
     "data": {
      "image/png": "[encoded data removed]",
      "text/plain": [
       "<Figure size 700x500 with 1 Axes>"
      ]
     },
     "execution_count": 20,
     "metadata": {},
     "output_type": "execute_result"
    }
   ],
   "source": [
    "from qiskit import QuantumCircuit, Aer, transpile, assemble\n",
    "from qiskit.visualization import plot_histogram\n",
    "import numpy as np\n",
    "\n",
    "# Function to create a quantum interferometric circuit\n",
    "def interferometric_circuit(theta):\n",
    "    qc = QuantumCircuit(2)\n",
    "\n",
    "    # Apply Hadamard gate to both qubits\n",
    "    qc.h([0, 1])\n",
    "\n",
    "    # Apply controlled phase shift corresponding to the parameter theta\n",
    "    qc.cp(theta, 0, 1)\n",
    "\n",
    "    # Apply inverse quantum Fourier transform\n",
    "    qc.h([0, 1])\n",
    "\n",
    "    # Measure both qubits\n",
    "    qc.measure_all()\n",
    "\n",
    "    return qc\n",
    "\n",
    "# Function to simulate the quantum interferometric circuit\n",
    "def simulate_interferometry_circuit(theta, backend):\n",
    "    # Create a quantum circuit\n",
    "    qc = interferometric_circuit(theta)\n",
    "\n",
    "    # Transpile the circuit for the given backend\n",
    "    compiled_circuit = transpile(qc, backend)\n",
    "\n",
    "    # Execute the quantum circuit\n",
    "    result = backend.run(assemble(compiled_circuit)).result()\n",
    "\n",
    "    # Get the measurement outcomes\n",
    "    counts = result.get_counts()\n",
    "\n",
    "    return counts\n",
    "\n",
    "# Define the parameter theta\n",
    "theta_value = np.pi/4\n",
    "\n",
    "# Choose the statevector simulator as the backend\n",
    "backend = Aer.get_backend('qasm_simulator')\n",
    "\n",
    "# Simulate the quantum interferometric circuit\n",
    "counts = simulate_interferometry_circuit(theta_value, backend)\n",
    "\n",
    "# Display the histogram of measurement outcomes\n",
    "plot_histogram(counts)\n"
   ]
  },
  {
   "cell_type": "code",
   "execution_count": 21,
   "id": "17d717d9-bbb0-4e0f-ab04-ac0371c8af60",
   "metadata": {},
   "outputs": [
    {
     "name": "stderr",
     "output_type": "stream",
     "text": [
      "C:\\Users\\yashr\\AppData\\Local\\Temp\\ipykernel_5416\\1625980412.py:33: DeprecationWarning: Using a qobj for run() is deprecated as of qiskit-aer 0.9.0 and will be removed no sooner than 3 months from that release date. Transpiled circuits should now be passed directly using `backend.run(circuits, **run_options).\n",
      "  result = backend.run(assemble(compiled_circuit)).result()\n"
     ]
    },
    {
     "data": {
      "image/png": "[encoded data removed]",
      "text/plain": [
       "<Figure size 700x500 with 1 Axes>"
      ]
     },
     "execution_count": 21,
     "metadata": {},
     "output_type": "execute_result"
    }
   ],
   "source": [
    "from qiskit import QuantumCircuit, Aer, transpile, assemble\n",
    "from qiskit.visualization import plot_histogram\n",
    "import numpy as np\n",
    "\n",
    "# Function to create a simple quantum circuit for simulating an atomic clock\n",
    "def atomic_clock_circuit():\n",
    "    qc = QuantumCircuit(2)\n",
    "\n",
    "    # Apply a Hadamard gate to the first qubit\n",
    "    qc.h(0)\n",
    "\n",
    "    # Apply a controlled-phase gate with a parameter representing the clock frequency\n",
    "    frequency_parameter = 0.1\n",
    "    qc.cp(frequency_parameter, 0, 1)\n",
    "\n",
    "    # Apply inverse quantum Fourier transform\n",
    "    qc.h(0)\n",
    "\n",
    "    # Measure the qubits\n",
    "    qc.measure_all()\n",
    "\n",
    "    return qc\n",
    "\n",
    "# Function to simulate the atomic clock circuit\n",
    "def simulate_atomic_clock_circuit(backend):\n",
    "    # Create a quantum circuit\n",
    "    qc = atomic_clock_circuit()\n",
    "\n",
    "    # Transpile the circuit for the given backend\n",
    "    compiled_circuit = transpile(qc, backend)\n",
    "\n",
    "    # Execute the quantum circuit\n",
    "    result = backend.run(assemble(compiled_circuit)).result()\n",
    "\n",
    "    # Get the measurement outcomes\n",
    "    counts = result.get_counts()\n",
    "\n",
    "    return counts\n",
    "\n",
    "# Choose the statevector simulator as the backend\n",
    "backend = Aer.get_backend('qasm_simulator')\n",
    "\n",
    "# Simulate the atomic clock circuit\n",
    "counts = simulate_atomic_clock_circuit(backend)\n",
    "\n",
    "# Display the histogram of measurement outcomes\n",
    "plot_histogram(counts)\n"
   ]
  },
  {
   "cell_type": "code",
   "execution_count": 22,
   "id": "ebd3a3c9-7858-4f09-ac96-7a0a83981bc4",
   "metadata": {},
   "outputs": [
    {
     "name": "stderr",
     "output_type": "stream",
     "text": [
      "C:\\Users\\yashr\\AppData\\Local\\Temp\\ipykernel_5416\\1857137176.py:32: DeprecationWarning: Using a qobj for run() is deprecated as of qiskit-aer 0.9.0 and will be removed no sooner than 3 months from that release date. Transpiled circuits should now be passed directly using `backend.run(circuits, **run_options).\n",
      "  result = backend.run(assemble(compiled_circuit)).result()\n"
     ]
    },
    {
     "data": {
      "image/png": "[encoded data removed]",
      "text/plain": [
       "<Figure size 700x500 with 1 Axes>"
      ]
     },
     "execution_count": 22,
     "metadata": {},
     "output_type": "execute_result"
    }
   ],
   "source": [
    "from qiskit import QuantumCircuit, Aer, transpile, assemble\n",
    "from qiskit.visualization import plot_histogram\n",
    "\n",
    "# Function to create a simple quantum circuit for simulating interference\n",
    "def interference_circuit():\n",
    "    qc = QuantumCircuit(2)\n",
    "\n",
    "    # Apply Hadamard gates to both qubits to create a superposition\n",
    "    qc.h([0, 1])\n",
    "\n",
    "    # Apply a phase shift to the second qubit to represent the effect of a gravitational wave\n",
    "    gravitational_wave_effect = 0.1\n",
    "    qc.p(gravitational_wave_effect, 1)\n",
    "\n",
    "    # Apply Hadamard gates again\n",
    "    qc.h([0, 1])\n",
    "\n",
    "    # Measure the qubits\n",
    "    qc.measure_all()\n",
    "\n",
    "    return qc\n",
    "\n",
    "# Function to simulate the interference circuit\n",
    "def simulate_interference_circuit(backend):\n",
    "    # Create a quantum circuit\n",
    "    qc = interference_circuit()\n",
    "\n",
    "    # Transpile the circuit for the given backend\n",
    "    compiled_circuit = transpile(qc, backend)\n",
    "\n",
    "    # Execute the quantum circuit\n",
    "    result = backend.run(assemble(compiled_circuit)).result()\n",
    "\n",
    "    # Get the measurement outcomes\n",
    "    counts = result.get_counts()\n",
    "\n",
    "    return counts\n",
    "\n",
    "# Choose the statevector simulator as the backend\n",
    "backend = Aer.get_backend('qasm_simulator')\n",
    "\n",
    "# Simulate the interference circuit\n",
    "counts = simulate_interference_circuit(backend)\n",
    "\n",
    "# Display the histogram of measurement outcomes\n",
    "plot_histogram(counts)\n"
   ]
  },
  {
   "cell_type": "code",
   "execution_count": 23,
   "id": "a14d9f2c-0f71-44d9-827f-e5cce2d38ad7",
   "metadata": {},
   "outputs": [
    {
     "name": "stderr",
     "output_type": "stream",
     "text": [
      "C:\\Users\\yashr\\AppData\\Local\\Temp\\ipykernel_5416\\2920750029.py:26: DeprecationWarning: Using a qobj for run() is deprecated as of qiskit-aer 0.9.0 and will be removed no sooner than 3 months from that release date. Transpiled circuits should now be passed directly using `backend.run(circuits, **run_options).\n",
      "  result = backend.run(assemble(compiled_circuit)).result()\n"
     ]
    },
    {
     "data": {
      "image/png": "[encoded data removed]",
      "text/plain": [
       "<Figure size 700x500 with 1 Axes>"
      ]
     },
     "execution_count": 23,
     "metadata": {},
     "output_type": "execute_result"
    }
   ],
   "source": [
    "from qiskit import QuantumCircuit, Aer, transpile, assemble\n",
    "from qiskit.visualization import plot_histogram\n",
    "import numpy as np\n",
    "\n",
    "# Function to create a simple quantum-inspired circuit for magnetic field sensing\n",
    "def magnetic_field_sensing_circuit(theta, magnetic_field_strength):\n",
    "    qc = QuantumCircuit(1)\n",
    "\n",
    "    # Apply a rotation around the Z-axis based on the magnetic field strength and the angle theta\n",
    "    qc.rz(magnetic_field_strength * theta, 0)\n",
    "\n",
    "    # Measure the qubit\n",
    "    qc.measure_all()\n",
    "\n",
    "    return qc\n",
    "\n",
    "# Function to simulate the magnetic field sensing circuit\n",
    "def simulate_magnetic_field_sensing_circuit(theta, magnetic_field_strength, backend):\n",
    "    # Create a quantum-inspired circuit\n",
    "    qc = magnetic_field_sensing_circuit(theta, magnetic_field_strength)\n",
    "\n",
    "    # Transpile the circuit for the given backend\n",
    "    compiled_circuit = transpile(qc, backend)\n",
    "\n",
    "    # Execute the quantum-inspired circuit\n",
    "    result = backend.run(assemble(compiled_circuit)).result()\n",
    "\n",
    "    # Get the measurement outcomes\n",
    "    counts = result.get_counts()\n",
    "\n",
    "    return counts\n",
    "\n",
    "# Choose the statevector simulator as the backend\n",
    "backend = Aer.get_backend('qasm_simulator')\n",
    "\n",
    "# Set the parameters for magnetic field sensing\n",
    "theta_value = np.pi/4\n",
    "magnetic_field_strength_value = 0.1\n",
    "\n",
    "# Simulate the magnetic field sensing circuit\n",
    "counts = simulate_magnetic_field_sensing_circuit(theta_value, magnetic_field_strength_value, backend)\n",
    "\n",
    "# Display the histogram of measurement outcomes\n",
    "plot_histogram(counts)\n"
   ]
  },
  {
   "cell_type": "code",
   "execution_count": 24,
   "id": "62b47166-5d9c-4308-8d43-339390073ea5",
   "metadata": {},
   "outputs": [
    {
     "name": "stderr",
     "output_type": "stream",
     "text": [
      "C:\\Users\\yashr\\AppData\\Local\\Temp\\ipykernel_5416\\352970919.py:32: DeprecationWarning: Using a qobj for run() is deprecated as of qiskit-aer 0.9.0 and will be removed no sooner than 3 months from that release date. Transpiled circuits should now be passed directly using `backend.run(circuits, **run_options).\n",
      "  result = backend.run(assemble(compiled_circuit)).result()\n"
     ]
    },
    {
     "data": {
      "image/png": "[encoded data removed]",
      "text/plain": [
       "<Figure size 700x500 with 1 Axes>"
      ]
     },
     "execution_count": 24,
     "metadata": {},
     "output_type": "execute_result"
    }
   ],
   "source": [
    "from qiskit import QuantumCircuit, Aer, transpile, assemble\n",
    "from qiskit.visualization import plot_histogram\n",
    "import numpy as np\n",
    "\n",
    "# Function to create a quantum-enhanced sensor circuit\n",
    "def quantum_enhanced_sensor_circuit(parameter_change):\n",
    "    qc = QuantumCircuit(2)\n",
    "\n",
    "    # Apply Hadamard gate to both qubits to create an entangled state\n",
    "    qc.h([0, 1])\n",
    "\n",
    "    # Apply a phase shift on the second qubit to represent the parameter change\n",
    "    qc.p(parameter_change, 1)\n",
    "\n",
    "    # Apply Hadamard gate on the first qubit again\n",
    "    qc.h(0)\n",
    "\n",
    "    # Measure both qubits\n",
    "    qc.measure_all()\n",
    "\n",
    "    return qc\n",
    "\n",
    "# Function to simulate the quantum-enhanced sensor circuit\n",
    "def simulate_quantum_enhanced_sensor_circuit(parameter_change, backend):\n",
    "    # Create a quantum circuit\n",
    "    qc = quantum_enhanced_sensor_circuit(parameter_change)\n",
    "\n",
    "    # Transpile the circuit for the given backend\n",
    "    compiled_circuit = transpile(qc, backend)\n",
    "\n",
    "    # Execute the quantum circuit\n",
    "    result = backend.run(assemble(compiled_circuit)).result()\n",
    "\n",
    "    # Get the measurement outcomes\n",
    "    counts = result.get_counts()\n",
    "\n",
    "    return counts\n",
    "\n",
    "# Choose the statevector simulator as the backend\n",
    "backend = Aer.get_backend('qasm_simulator')\n",
    "\n",
    "# Set the parameter change for the quantum-enhanced sensor\n",
    "parameter_change_value = 0.1\n",
    "\n",
    "# Simulate the quantum-enhanced sensor circuit\n",
    "counts = simulate_quantum_enhanced_sensor_circuit(parameter_change_value, backend)\n",
    "\n",
    "# Display the histogram of measurement outcomes\n",
    "plot_histogram(counts)\n"
   ]
  },
  {
   "cell_type": "code",
   "execution_count": 30,
   "id": "bf873627-7b76-4c38-b01c-590fd384fbde",
   "metadata": {},
   "outputs": [],
   "source": [
    "from qiskit import QuantumCircuit, Aer, transpile, assemble\n",
    "from qiskit.visualization import plot_histogram\n",
    "from qiskit.providers.aer import AerSimulator\n",
    "from qiskit.providers.aer.noise import NoiseModel\n",
    "from qiskit.providers.aer.noise.errors import depolarizing_error\n",
    "import numpy as np\n",
    "\n",
    "# Function to create a simple quantum circuit\n",
    "def create_quantum_circuit():\n",
    "    qc = QuantumCircuit(1)\n",
    "\n",
    "    # Apply Hadamard gate to create a superposition state\n",
    "    qc.h(0)\n",
    "\n",
    "    # Apply a phase shift to simulate decoherence\n",
    "    decoherence_parameter = 0.1\n",
    "    qc.p(decoherence_parameter, 0)\n",
    "\n",
    "    # Measure the qubit\n",
    "    qc.measure_all()\n",
    "\n",
    "    return qc\n",
    "\n",
    "# Function to simulate a quantum circuit with decoherence\n",
    "def simulate_with_decoherence(circuit, shots, backend):\n",
    "    # Transpile the circuit for the given backend\n",
    "    compiled_circuit = transpile(circuit, backend)\n",
    "\n",
    "    # Define the noise model for decoherence simulation\n",
    "    noise_model = NoiseModel()\n",
    "\n",
    "    # Add depolarizing error to simulate decoherence\n",
    "    depolarizing_error = depolarizing_error(0.01, 1)  # Adjust the error rate as needed\n",
    "    noise_model.add_all_qubit_quantum_error(depolarizing_error, ['u1', 'u2', 'u3'])\n",
    "\n",
    "    # Define a basis gates set for the noise model\n",
    "    basis_gates = noise_model.basis_gates\n",
    "\n",
    "    # Execute the quantum circuit with decoherence noise\n",
    "    result = backend.run(assemble(compiled_circuit, shots=shots, noise_model=noise_model, basis_gates=basis_gates)).result()\n",
    "\n",
    "    # Get the measurement outcomes\n",
    "    counts = result.get_counts()\n",
    "\n",
    "    return counts\n",
    "\n",
    "# Choose the statevector simulator as the backend for ideal comparison\n",
    "ideal_backend = Aer.get_backend('qasm_simulator')\n",
    "\n",
    "# Choose the AerSimulator backend for decoherence simulation\n",
    "decoherence_backend = AerSimulator()\n",
    "\n",
    "# Create a quantum circuit\n",
    "quantum_circuit = create_quantum_circuit()\n",
    "\n",
    "# Simulate the ideal (without decoherence) quantum circuit\n",
    "#ideal_counts = simulate_with_decoherence(quantum_circuit, 1000, ideal_backend)\n",
    "\n",
    "# Simulate the quantum circuit with decoherence\n",
    "#decoherence_counts = simulate_with_decoherence(quantum_circuit, 1000, decoherence_backend)\n",
    "\n",
    "# Display the histograms of measurement outcomes\n",
    "#plot_histogram([ideal_counts, decoherence_counts], legend=['Ideal', 'Decoherence'], title='Quantum Circuit with Decoherence')\n"
   ]
  },
  {
   "cell_type": "code",
   "execution_count": 31,
   "id": "60af4d92-c282-42d3-aff6-0e3ff07dddc3",
   "metadata": {},
   "outputs": [
    {
     "name": "stderr",
     "output_type": "stream",
     "text": [
      "C:\\Users\\yashr\\AppData\\Local\\Temp\\ipykernel_5416\\1072986419.py:23: DeprecationWarning: Using a qobj for run() is deprecated as of qiskit-aer 0.9.0 and will be removed no sooner than 3 months from that release date. Transpiled circuits should now be passed directly using `backend.run(circuits, **run_options).\n",
      "  result = backend.run(assemble(compiled_circuit)).result()\n",
      "E:\\Anaconda\\Lib\\site-packages\\qiskit\\visualization\\circuit\\matplotlib.py:266: FutureWarning: The default matplotlib drawer scheme will be changed to \"iqp\" in a following release. To silence this warning, specify the current default explicitly as style=\"clifford\", or the new default as style=\"iqp\".\n",
      "  self._style, def_font_ratio = load_style(self._style)\n"
     ]
    },
    {
     "name": "stdout",
     "output_type": "stream",
     "text": [
      "Optimal Quantum State (Bell state):\n",
      "Statevector([0.70710678+0.j, 0.        +0.j, 0.        +0.j,\n",
      "             0.70710678+0.j],\n",
      "            dims=(2, 2))\n"
     ]
    },
    {
     "data": {
      "image/png": "[encoded data removed]",
      "text/plain": [
       "<Figure size 287.294x200.667 with 1 Axes>"
      ]
     },
     "execution_count": 31,
     "metadata": {},
     "output_type": "execute_result"
    }
   ],
   "source": [
    "from qiskit import QuantumCircuit, Aer, transpile, assemble\n",
    "from qiskit.visualization import plot_histogram\n",
    "import numpy as np\n",
    "\n",
    "# Function to create an optimal quantum state (Bell state)\n",
    "def create_optimal_state():\n",
    "    qc = QuantumCircuit(2)\n",
    "\n",
    "    # Apply Hadamard gate on the first qubit\n",
    "    qc.h(0)\n",
    "\n",
    "    # Apply CNOT gate between the first and second qubits\n",
    "    qc.cx(0, 1)\n",
    "\n",
    "    return qc\n",
    "\n",
    "# Function to simulate the optimal quantum state\n",
    "def simulate_optimal_state(circuit, backend):\n",
    "    # Transpile the circuit for the given backend\n",
    "    compiled_circuit = transpile(circuit, backend)\n",
    "\n",
    "    # Execute the quantum circuit\n",
    "    result = backend.run(assemble(compiled_circuit)).result()\n",
    "\n",
    "    # Get the statevector of the circuit\n",
    "    statevector = result.get_statevector()\n",
    "\n",
    "    return statevector\n",
    "\n",
    "# Choose the statevector simulator as the backend\n",
    "backend = Aer.get_backend('statevector_simulator')\n",
    "\n",
    "# Create the optimal quantum state\n",
    "bell_state = create_optimal_state()\n",
    "\n",
    "# Simulate the optimal quantum state\n",
    "statevector = simulate_optimal_state(bell_state, backend)\n",
    "\n",
    "# Display the statevector\n",
    "print(\"Optimal Quantum State (Bell state):\")\n",
    "print(statevector)\n",
    "\n",
    "# Display the circuit\n",
    "bell_state.draw('mpl')\n"
   ]
  },
  {
   "cell_type": "markdown",
   "id": "bbe91aa4-9ce0-4d92-97c6-864a2a9e1cd2",
   "metadata": {},
   "source": [
    "# Quantum Sensing:\n",
    "\n",
    "Leveraging quantum systems for high-sensitivity measurements, such as magnetic field sensing."
   ]
  },
  {
   "cell_type": "markdown",
   "id": "f5935984-c024-47af-b2ef-ab878fc41f3b",
   "metadata": {},
   "source": [
    "Quantum sensing refers to the use of quantum systems and principles to achieve high precision and sensitivity in measurements. Quantum sensors take advantage of quantum mechanics phenomena, such as superposition and entanglement, to enhance their performance beyond what classical sensors can achieve. Magnetic field sensing is a common application where quantum sensing techniques, such as using atomic or molecular quantum states, can significantly improve the sensitivity of measurements.\n",
    "\n",
    "### Basics of Quantum Sensing:\n",
    "\n",
    "1. **Superposition:**\n",
    "   - Quantum systems can exist in multiple states simultaneously. Superposition allows quantum sensors to sample different physical quantities simultaneously, improving measurement accuracy.\n",
    "\n",
    "2. **Entanglement:**\n",
    "   - Entanglement involves a strong correlation between particles, even when separated by large distances. This property can be utilized to enhance the precision of measurements.\n",
    "\n",
    "### Magnetic Field Sensing:\n",
    "\n",
    "1. **Atomic Magnetometers:**\n",
    "   - Quantum sensors based on atoms, such as alkali metal vapor magnetometers, use the quantum properties of atomic states to measure magnetic fields with high sensitivity.\n",
    "\n",
    "2. **Nuclear Magnetic Resonance (NMR):**\n",
    "   - NMR is a quantum sensing technique that leverages the magnetic properties of atomic nuclei. It is widely used in chemistry and medicine for molecular analysis.\n",
    "\n",
    "### Equations and Principles:\n",
    "\n",
    "1. **Quantum Uncertainty Principle:**\n",
    "   - The Heisenberg Uncertainty Principle states that the more precisely the position of a particle is known, the less precisely its momentum (and vice versa) can be known. This principle places a fundamental limit on the precision of measurements.\n",
    "\n",
    "2. **Quantum Measurement Operators:**\n",
    "   - In quantum mechanics, measurements are described by operators. The expectation value of an observable \\(O\\) in a quantum state \\(|\\psi\\rangle\\) is given by \\(\\langle\\psi|O|\\psi\\rangle\\).\n",
    "\n",
    "### Applications:\n",
    "\n",
    "1. **Quantum Metrology:**\n",
    "   - Quantum sensing techniques are applied to enhance the precision of measurements in various fields, including timekeeping, navigation, and gravitational wave detection.\n",
    "\n",
    "2. **Medical Imaging:**\n",
    "   - Quantum sensing can be used in medical applications such as magnetic resonance imaging (MRI) for high-resolution imaging of internal structures.\n",
    "\n",
    "3. **Geophysics:**\n",
    "   - Quantum sensors are employed for measuring gravitational and magnetic fields in geophysics, helping in the exploration of natural resources and understanding Earth's structure.\n",
    "\n",
    "### Challenges:\n",
    "\n",
    "1. **Decoherence:**\n",
    "   - Quantum systems are susceptible to decoherence, which is the loss of quantum coherence due to interactions with the environment. Controlling and mitigating decoherence is a significant challenge in quantum sensing.\n",
    "\n",
    "2. **Scalability:**\n",
    "   - Implementing quantum sensors on a large scale and integrating them into practical devices present challenges related to the scalability of quantum technologies.\n",
    "\n",
    "### Quantum Sensing Devices:\n",
    "\n",
    "1. **Atomic Magnetometers:**\n",
    "   - Devices that measure magnetic fields based on the quantum properties of atoms.\n",
    "\n",
    "2. **Quantum Dots:**\n",
    "   - Semiconductor-based devices that exploit quantum properties for sensing applications.\n",
    "\n",
    "3. **Superconducting Quantum Interference Devices (SQUIDs):**\n",
    "   - Superconducting devices used for highly sensitive magnetic field measurements.\n",
    "\n",
    "### Quantum Sensing Platforms:\n",
    "\n",
    "1. **Quantum Diamond Sensors:**\n",
    "   - Utilizing nitrogen-vacancy (NV) centers in diamonds for high-precision sensing.\n",
    "\n",
    "2. **Bose-Einstein Condensates (BECs):**\n",
    "   - Ultra-cold, dense states of matter used in precision measurements.\n",
    "\n",
    "### Quantum Sensing in the Future:\n",
    "\n",
    "Quantum sensing technologies are expected to revolutionize various fields, offering unprecedented levels of precision. Continued research and development in quantum hardware and control techniques are crucial for the practical implementation of quantum sensors in real-world applications. As technology advances, quantum sensing has the potential to impact industries ranging from healthcare to environmental monitoring."
   ]
  },
  {
   "cell_type": "code",
   "execution_count": 1,
   "id": "d5a664a5-7298-4be5-a9f7-ca29ec5a794b",
   "metadata": {},
   "outputs": [
    {
     "name": "stdout",
     "output_type": "stream",
     "text": [
      "Quantum Magnetometer Circuit:\n",
      "     ┌───┐┌──────┐┌───┐┌─┐\n",
      "  q: ┤ H ├┤ P(1) ├┤ H ├┤M├\n",
      "     └───┘└──────┘└───┘└╥┘\n",
      "c: 1/═══════════════════╩═\n",
      "                        0 \n",
      "\n",
      "Measurement Results:\n",
      "{'0': 793, '1': 231}\n"
     ]
    },
    {
     "name": "stderr",
     "output_type": "stream",
     "text": [
      "C:\\Users\\yashr\\AppData\\Local\\Temp\\ipykernel_8840\\1298188934.py:32: DeprecationWarning: Using a qobj for run() is deprecated as of qiskit-aer 0.9.0 and will be removed no sooner than 3 months from that release date. Transpiled circuits should now be passed directly using `backend.run(circuits, **run_options).\n",
      "  result = simulator.run(assemble(compiled_circuit)).result()\n"
     ]
    }
   ],
   "source": [
    "from qiskit import QuantumCircuit, Aer, transpile, assemble\n",
    "\n",
    "def quantum_magnetometer(magnetic_field_strength):\n",
    "    # Create a quantum circuit with one qubit\n",
    "    qc = QuantumCircuit(1, 1)\n",
    "\n",
    "    # Apply a Hadamard gate to create superposition\n",
    "    qc.h(0)\n",
    "\n",
    "    # Apply a phase shift based on the magnetic field strength\n",
    "    qc.p(2 * magnetic_field_strength, 0)\n",
    "\n",
    "    # Apply another Hadamard gate\n",
    "    qc.h(0)\n",
    "\n",
    "    # Measure the qubit\n",
    "    qc.measure(0, 0)\n",
    "\n",
    "    return qc\n",
    "\n",
    "def simulate_quantum_magnetometer(magnetic_field_strength):\n",
    "    # Create the quantum magnetometer circuit\n",
    "    magnetometer_circuit = quantum_magnetometer(magnetic_field_strength)\n",
    "\n",
    "    # Visualize the quantum circuit\n",
    "    print(\"Quantum Magnetometer Circuit:\")\n",
    "    print(magnetometer_circuit)\n",
    "\n",
    "    # Simulate the quantum circuit\n",
    "    simulator = Aer.get_backend('qasm_simulator')\n",
    "    compiled_circuit = transpile(magnetometer_circuit, simulator)\n",
    "    result = simulator.run(assemble(compiled_circuit)).result()\n",
    "\n",
    "    # Get and print the measurement results\n",
    "    counts = result.get_counts(magnetometer_circuit)\n",
    "    print(\"\\nMeasurement Results:\")\n",
    "    print(counts)\n",
    "\n",
    "if __name__ == \"__main__\":\n",
    "    # Set the magnetic field strength (arbitrary value for demonstration)\n",
    "    magnetic_field_strength = 0.5\n",
    "\n",
    "    # Simulate the quantum magnetometer\n",
    "    simulate_quantum_magnetometer(magnetic_field_strength)\n"
   ]
  },
  {
   "cell_type": "code",
   "execution_count": 6,
   "id": "5fc809af-f22d-422a-9a18-85fc8e4a1445",
   "metadata": {},
   "outputs": [
    {
     "name": "stdout",
     "output_type": "stream",
     "text": [
      "NMR Simulation Circuit:\n",
      "     ┌───┐        ┌───┐   ┌─┐\n",
      "q_0: ┤ H ├──────■─┤ H ├───┤M├\n",
      "     ├───┤      │ └┬─┬┘   └╥┘\n",
      "q_1: ┤ H ├──■───┼──┤M├─────╫─\n",
      "     └───┘┌─┴─┐ │  └╥┘ ┌─┐ ║ \n",
      "q_2: ─────┤ X ├─■───╫──┤M├─╫─\n",
      "          └───┘     ║  └╥┘ ║ \n",
      "c: 3/═══════════════╩═══╩══╩═\n",
      "                    1   2  0 \n",
      "\n",
      "Measurement Results:\n",
      "{'111': 521, '000': 503}\n"
     ]
    },
    {
     "name": "stderr",
     "output_type": "stream",
     "text": [
      "C:\\Users\\yashr\\AppData\\Local\\Temp\\ipykernel_8840\\229050501.py:38: DeprecationWarning: Using a qobj for run() is deprecated as of qiskit-aer 0.9.0 and will be removed no sooner than 3 months from that release date. Transpiled circuits should now be passed directly using `backend.run(circuits, **run_options).\n",
      "  result = simulator.run(assemble(compiled_circuit)).result()\n"
     ]
    }
   ],
   "source": [
    "from qiskit import QuantumCircuit, Aer, transpile, assemble\n",
    "\n",
    "def nmr_simulation():\n",
    "    # Create a quantum circuit with three qubits\n",
    "    qc = QuantumCircuit(3, 3)\n",
    "\n",
    "    # Apply Hadamard gates to create superposition\n",
    "    qc.h(0)\n",
    "    qc.h(1)\n",
    "\n",
    "    # Apply a controlled-NOT (CNOT) gate to create entanglement\n",
    "    qc.cx(1, 2)\n",
    "\n",
    "    # Apply a controlled-Z (CZ) gate to simulate NMR\n",
    "    qc.cz(0, 2)\n",
    "\n",
    "    # Apply a Hadamard gate on the first qubit\n",
    "    qc.h(0)\n",
    "\n",
    "    # Measure all qubits\n",
    "    qc.measure(0, 0)\n",
    "    qc.measure(1, 1)\n",
    "    qc.measure(2, 2)\n",
    "\n",
    "    return qc\n",
    "\n",
    "def simulate_nmr_experiment():\n",
    "    # Create the NMR simulation circuit\n",
    "    nmr_circuit = nmr_simulation()\n",
    "\n",
    "    # Visualize the quantum circuit\n",
    "    print(\"NMR Simulation Circuit:\")\n",
    "    print(nmr_circuit)\n",
    "\n",
    "    # Simulate the quantum circuit\n",
    "    simulator = Aer.get_backend('qasm_simulator')\n",
    "    compiled_circuit = transpile(nmr_circuit, simulator)\n",
    "    result = simulator.run(assemble(compiled_circuit)).result()\n",
    "\n",
    "    # Get and print the measurement results\n",
    "    counts = result.get_counts(nmr_circuit)\n",
    "    print(\"\\nMeasurement Results:\")\n",
    "    print(counts)\n",
    "\n",
    "if __name__ == \"__main__\":\n",
    "    # Simulate the NMR experiment\n",
    "    simulate_nmr_experiment()\n"
   ]
  },
  {
   "cell_type": "code",
   "execution_count": 7,
   "id": "c9237202-993d-4a9e-ad7a-507f3cad2aa5",
   "metadata": {},
   "outputs": [
    {
     "data": {
      "image/png": "[encoded data removed]",
      "text/plain": [
       "<Figure size 1200x400 with 2 Axes>"
      ]
     },
     "metadata": {},
     "output_type": "display_data"
    }
   ],
   "source": [
    "import numpy as np\n",
    "import matplotlib.pyplot as plt\n",
    "\n",
    "# Constants\n",
    "hbar = 1  # Reduced Planck constant (for simplicity, set to 1)\n",
    "\n",
    "# Function to calculate the Gaussian wave packet\n",
    "def gaussian_wave_packet(x, x0, sigma):\n",
    "    return np.exp(-(x - x0)**2 / (2 * sigma**2)) / np.sqrt(np.pi * sigma**2)\n",
    "\n",
    "# Function to calculate the momentum space representation\n",
    "def momentum_space_representation(p, x0, sigma):\n",
    "    return np.exp(-((p * sigma) / hbar)**2) * np.sqrt(np.pi * hbar**2 / sigma**2)\n",
    "\n",
    "# Create a position space grid\n",
    "x_values = np.linspace(-5, 5, 500)\n",
    "\n",
    "# Choose parameters for the Gaussian wave packet\n",
    "x0 = 0  # Initial position\n",
    "sigma_x = 1  # Standard deviation in position\n",
    "\n",
    "# Calculate the Gaussian wave packet\n",
    "psi_x = gaussian_wave_packet(x_values, x0, sigma_x)\n",
    "\n",
    "# Create a momentum space grid\n",
    "p_values = np.linspace(-5, 5, 500)\n",
    "\n",
    "# Calculate the momentum space representation\n",
    "psi_p = momentum_space_representation(p_values, x0, sigma_x)\n",
    "\n",
    "# Plot the Gaussian wave packet in position space\n",
    "plt.figure(figsize=(12, 4))\n",
    "\n",
    "plt.subplot(1, 2, 1)\n",
    "plt.plot(x_values, np.abs(psi_x)**2)\n",
    "plt.title('Position Space')\n",
    "plt.xlabel('Position (x)')\n",
    "plt.ylabel('|ψ(x)|^2')\n",
    "\n",
    "# Plot the momentum space representation\n",
    "plt.subplot(1, 2, 2)\n",
    "plt.plot(p_values, np.abs(psi_p)**2)\n",
    "plt.title('Momentum Space')\n",
    "plt.xlabel('Momentum (p)')\n",
    "plt.ylabel('|ψ(p)|^2')\n",
    "\n",
    "plt.tight_layout()\n",
    "plt.show()\n"
   ]
  },
  {
   "cell_type": "code",
   "execution_count": 8,
   "id": "d35baca8-0b7d-4742-a2c6-b6259a116998",
   "metadata": {},
   "outputs": [
    {
     "name": "stdout",
     "output_type": "stream",
     "text": [
      "angle): [0.70710678 0.70710678]\n",
      "Observable (O): [[ 1  2]\n",
      " [ 2 -1]]\n",
      "Expectation Value (<psi|O|psi>): 1.9999999999999996\n"
     ]
    }
   ],
   "source": [
    "import numpy as np\n",
    "\n",
    "# Define a quantum state as a column vector\n",
    "psi = np.array([1/np.sqrt(2), 1/np.sqrt(2)])\n",
    "\n",
    "# Define an observable matrix (Hermitian operator)\n",
    "observable = np.array([[1, 2], [2, -1]])\n",
    "\n",
    "# Calculate the expectation value: <psi|O|psi>\n",
    "expectation_value = np.conj(psi).T @ observable @ psi\n",
    "\n",
    "# Print the result\n",
    "print(\"Quantum State (|\\psi\\rangle):\", psi)\n",
    "print(\"Observable (O):\", observable)\n",
    "print(\"Expectation Value (<psi|O|psi>):\", expectation_value.real)\n"
   ]
  },
  {
   "cell_type": "code",
   "execution_count": 9,
   "id": "c17a9ac2-86d6-484b-ab6e-f6f0465f3227",
   "metadata": {},
   "outputs": [
    {
     "name": "stdout",
     "output_type": "stream",
     "text": [
      "Quantum Magnetic Field Sensor Circuit:\n",
      "     ┌───┐┌──────┐┌───┐┌─┐\n",
      "  q: ┤ H ├┤ P(1) ├┤ H ├┤M├\n",
      "     └───┘└──────┘└───┘└╥┘\n",
      "c: 1/═══════════════════╩═\n",
      "                        0 \n",
      "\n",
      "Measurement Results:\n",
      "{'0': 778, '1': 246}\n"
     ]
    },
    {
     "name": "stderr",
     "output_type": "stream",
     "text": [
      "C:\\Users\\yashr\\AppData\\Local\\Temp\\ipykernel_8840\\656863363.py:32: DeprecationWarning: Using a qobj for run() is deprecated as of qiskit-aer 0.9.0 and will be removed no sooner than 3 months from that release date. Transpiled circuits should now be passed directly using `backend.run(circuits, **run_options).\n",
      "  result = simulator.run(assemble(compiled_circuit)).result()\n"
     ]
    }
   ],
   "source": [
    "from qiskit import QuantumCircuit, Aer, transpile, assemble\n",
    "\n",
    "def quantum_magnetic_field_sensor(magnetic_field_strength):\n",
    "    # Create a quantum circuit with one qubit\n",
    "    qc = QuantumCircuit(1, 1)\n",
    "\n",
    "    # Apply Hadamard gate to create superposition\n",
    "    qc.h(0)\n",
    "\n",
    "    # Apply a phase shift based on the magnetic field strength\n",
    "    qc.p(2 * magnetic_field_strength, 0)\n",
    "\n",
    "    # Apply another Hadamard gate\n",
    "    qc.h(0)\n",
    "\n",
    "    # Measure the qubit\n",
    "    qc.measure(0, 0)\n",
    "\n",
    "    return qc\n",
    "\n",
    "def simulate_magnetic_field_sensor(magnetic_field_strength):\n",
    "    # Create the quantum magnetic field sensor circuit\n",
    "    sensor_circuit = quantum_magnetic_field_sensor(magnetic_field_strength)\n",
    "\n",
    "    # Visualize the quantum circuit\n",
    "    print(\"Quantum Magnetic Field Sensor Circuit:\")\n",
    "    print(sensor_circuit)\n",
    "\n",
    "    # Simulate the quantum circuit\n",
    "    simulator = Aer.get_backend('qasm_simulator')\n",
    "    compiled_circuit = transpile(sensor_circuit, simulator)\n",
    "    result = simulator.run(assemble(compiled_circuit)).result()\n",
    "\n",
    "    # Get and print the measurement results\n",
    "    counts = result.get_counts(sensor_circuit)\n",
    "    print(\"\\nMeasurement Results:\")\n",
    "    print(counts)\n",
    "\n",
    "if __name__ == \"__main__\":\n",
    "    # Set the magnetic field strength (arbitrary value for demonstration)\n",
    "    magnetic_field_strength = 0.5\n",
    "\n",
    "    # Simulate the quantum magnetic field sensor\n",
    "    simulate_magnetic_field_sensor(magnetic_field_strength)\n"
   ]
  },
  {
   "cell_type": "code",
   "execution_count": 10,
   "id": "0a032844-e06e-404f-92d9-d728df06bf7c",
   "metadata": {},
   "outputs": [
    {
     "name": "stdout",
     "output_type": "stream",
     "text": [
      "Quantum Dot Sensor Circuit:\n",
      "     ┌───┐┌────────┐┌───┐┌─┐\n",
      "  q: ┤ H ├┤ P(0.5) ├┤ H ├┤M├\n",
      "     └───┘└────────┘└───┘└╥┘\n",
      "c: 1/═════════════════════╩═\n",
      "                          0 \n",
      "\n",
      "Measurement Results:\n",
      "{'0': 961, '1': 63}\n"
     ]
    },
    {
     "name": "stderr",
     "output_type": "stream",
     "text": [
      "C:\\Users\\yashr\\AppData\\Local\\Temp\\ipykernel_8840\\3010879109.py:32: DeprecationWarning: Using a qobj for run() is deprecated as of qiskit-aer 0.9.0 and will be removed no sooner than 3 months from that release date. Transpiled circuits should now be passed directly using `backend.run(circuits, **run_options).\n",
      "  result = simulator.run(assemble(compiled_circuit)).result()\n"
     ]
    }
   ],
   "source": [
    "from qiskit import QuantumCircuit, Aer, transpile, assemble\n",
    "\n",
    "def quantum_dot_sensor(parameter_of_interest):\n",
    "    # Create a quantum circuit with one qubit\n",
    "    qc = QuantumCircuit(1, 1)\n",
    "\n",
    "    # Apply a Hadamard gate to create superposition\n",
    "    qc.h(0)\n",
    "\n",
    "    # Apply a phase shift based on the parameter of interest\n",
    "    qc.p(parameter_of_interest, 0)\n",
    "\n",
    "    # Apply another Hadamard gate\n",
    "    qc.h(0)\n",
    "\n",
    "    # Measure the qubit\n",
    "    qc.measure(0, 0)\n",
    "\n",
    "    return qc\n",
    "\n",
    "def simulate_quantum_dot_sensor(parameter_of_interest):\n",
    "    # Create the quantum dot sensor circuit\n",
    "    dot_sensor_circuit = quantum_dot_sensor(parameter_of_interest)\n",
    "\n",
    "    # Visualize the quantum circuit\n",
    "    print(\"Quantum Dot Sensor Circuit:\")\n",
    "    print(dot_sensor_circuit)\n",
    "\n",
    "    # Simulate the quantum circuit\n",
    "    simulator = Aer.get_backend('qasm_simulator')\n",
    "    compiled_circuit = transpile(dot_sensor_circuit, simulator)\n",
    "    result = simulator.run(assemble(compiled_circuit)).result()\n",
    "\n",
    "    # Get and print the measurement results\n",
    "    counts = result.get_counts(dot_sensor_circuit)\n",
    "    print(\"\\nMeasurement Results:\")\n",
    "    print(counts)\n",
    "\n",
    "if __name__ == \"__main__\":\n",
    "    # Set the parameter of interest (arbitrary value for demonstration)\n",
    "    parameter_of_interest = 0.5\n",
    "\n",
    "    # Simulate the quantum dot sensor\n",
    "    simulate_quantum_dot_sensor(parameter_of_interest)\n"
   ]
  },
  {
   "cell_type": "code",
   "execution_count": 11,
   "id": "280370cb-0845-4ac4-aba0-482f83e2ba29",
   "metadata": {},
   "outputs": [
    {
     "name": "stdout",
     "output_type": "stream",
     "text": [
      "SQUID Circuit:\n",
      "     ┌───┐┌────────┐┌───┐┌─┐\n",
      "  q: ┤ H ├┤ P(0.2) ├┤ H ├┤M├\n",
      "     └───┘└────────┘└───┘└╥┘\n",
      "c: 1/═════════════════════╩═\n",
      "                          0 \n",
      "\n",
      "Measurement Results:\n",
      "{'0': 1018, '1': 6}\n"
     ]
    },
    {
     "name": "stderr",
     "output_type": "stream",
     "text": [
      "C:\\Users\\yashr\\AppData\\Local\\Temp\\ipykernel_8840\\1471495176.py:32: DeprecationWarning: Using a qobj for run() is deprecated as of qiskit-aer 0.9.0 and will be removed no sooner than 3 months from that release date. Transpiled circuits should now be passed directly using `backend.run(circuits, **run_options).\n",
      "  result = simulator.run(assemble(compiled_circuit)).result()\n"
     ]
    }
   ],
   "source": [
    "from qiskit import QuantumCircuit, Aer, transpile, assemble\n",
    "\n",
    "def squid_circuit(flux):\n",
    "    # Create a quantum circuit with one qubit\n",
    "    qc = QuantumCircuit(1, 1)\n",
    "\n",
    "    # Apply a superposition state\n",
    "    qc.h(0)\n",
    "\n",
    "    # Apply a phase shift based on the external flux through the SQUID loop\n",
    "    qc.p(flux, 0)\n",
    "\n",
    "    # Apply another Hadamard gate\n",
    "    qc.h(0)\n",
    "\n",
    "    # Measure the qubit\n",
    "    qc.measure(0, 0)\n",
    "\n",
    "    return qc\n",
    "\n",
    "def simulate_squid(flux):\n",
    "    # Create the SQUID circuit\n",
    "    squid_circuit_instance = squid_circuit(flux)\n",
    "\n",
    "    # Visualize the quantum circuit\n",
    "    print(\"SQUID Circuit:\")\n",
    "    print(squid_circuit_instance)\n",
    "\n",
    "    # Simulate the quantum circuit\n",
    "    simulator = Aer.get_backend('qasm_simulator')\n",
    "    compiled_circuit = transpile(squid_circuit_instance, simulator)\n",
    "    result = simulator.run(assemble(compiled_circuit)).result()\n",
    "\n",
    "    # Get and print the measurement results\n",
    "    counts = result.get_counts(squid_circuit_instance)\n",
    "    print(\"\\nMeasurement Results:\")\n",
    "    print(counts)\n",
    "\n",
    "if __name__ == \"__main__\":\n",
    "    # Set the external flux through the SQUID loop (arbitrary value for demonstration)\n",
    "    external_flux = 0.2\n",
    "\n",
    "    # Simulate the SQUID\n",
    "    simulate_squid(external_flux)\n"
   ]
  },
  {
   "cell_type": "code",
   "execution_count": 12,
   "id": "3da565fd-e79e-4634-8785-0273b08938b1",
   "metadata": {},
   "outputs": [
    {
     "name": "stdout",
     "output_type": "stream",
     "text": [
      "Quantum Diamond Sensor Circuit:\n",
      "     ┌───┐┌──────┐┌─┐\n",
      "  q: ┤ H ├┤ P(1) ├┤M├\n",
      "     └───┘└──────┘└╥┘\n",
      "c: 1/══════════════╩═\n",
      "                   0 \n",
      "\n",
      "Measurement Results:\n",
      "{'1': 509, '0': 515}\n"
     ]
    },
    {
     "name": "stderr",
     "output_type": "stream",
     "text": [
      "C:\\Users\\yashr\\AppData\\Local\\Temp\\ipykernel_8840\\3156569606.py:29: DeprecationWarning: Using a qobj for run() is deprecated as of qiskit-aer 0.9.0 and will be removed no sooner than 3 months from that release date. Transpiled circuits should now be passed directly using `backend.run(circuits, **run_options).\n",
      "  result = simulator.run(assemble(compiled_circuit)).result()\n"
     ]
    }
   ],
   "source": [
    "from qiskit import QuantumCircuit, Aer, transpile, assemble\n",
    "\n",
    "def diamond_sensor(magnetic_field_strength):\n",
    "    # Create a quantum circuit with one qubit\n",
    "    qc = QuantumCircuit(1, 1)\n",
    "\n",
    "    # Initialize the NV center state\n",
    "    qc.h(0)\n",
    "\n",
    "    # Apply a phase shift based on the magnetic field strength\n",
    "    qc.p(2 * magnetic_field_strength, 0)\n",
    "\n",
    "    # Measure the qubit\n",
    "    qc.measure(0, 0)\n",
    "\n",
    "    return qc\n",
    "\n",
    "def simulate_diamond_sensor(magnetic_field_strength):\n",
    "    # Create the quantum diamond sensor circuit\n",
    "    diamond_sensor_circuit = diamond_sensor(magnetic_field_strength)\n",
    "\n",
    "    # Visualize the quantum circuit\n",
    "    print(\"Quantum Diamond Sensor Circuit:\")\n",
    "    print(diamond_sensor_circuit)\n",
    "\n",
    "    # Simulate the quantum circuit\n",
    "    simulator = Aer.get_backend('qasm_simulator')\n",
    "    compiled_circuit = transpile(diamond_sensor_circuit, simulator)\n",
    "    result = simulator.run(assemble(compiled_circuit)).result()\n",
    "\n",
    "    # Get and print the measurement results\n",
    "    counts = result.get_counts(diamond_sensor_circuit)\n",
    "    print(\"\\nMeasurement Results:\")\n",
    "    print(counts)\n",
    "\n",
    "if __name__ == \"__main__\":\n",
    "    # Set the magnetic field strength (arbitrary value for demonstration)\n",
    "    magnetic_field_strength = 0.5\n",
    "\n",
    "    # Simulate the quantum diamond sensor\n",
    "    simulate_diamond_sensor(magnetic_field_strength)\n"
   ]
  },
  {
   "cell_type": "code",
   "execution_count": 15,
   "id": "086c0436-4d3a-4c51-a226-a9fb0f1ffb86",
   "metadata": {},
   "outputs": [],
   "source": [
    "import numpy as np\n",
    "import matplotlib.pyplot as plt\n",
    "from scipy.integrate import odeint\n",
    "\n",
    "# Parameters\n",
    "hbar = 1.0  # Reduced Planck constant (arbitrary units)\n",
    "m = 1.0     # Particle mass (arbitrary units)\n",
    "omega = 1.0 # Trap frequency (arbitrary units)\n",
    "\n",
    "# Function to define the BEC dynamics\n",
    "def bec_dynamics(y, t):\n",
    "    psi, psi_star = y\n",
    "    dydt = [-1j * hbar / (2 * m) * (omega**2 - 2 * abs(psi)**2) * psi, 1j * hbar / (2 * m) * (omega**2 - 2 * abs(psi)**2) * psi_star]\n",
    "    return dydt\n",
    "\n",
    "# Initial conditions\n",
    "psi_0 = np.sqrt(0.5) + 0j\n",
    "psi_star_0 = np.sqrt(0.5) + 0j\n",
    "y0 = [psi_0, psi_star_0]\n",
    "\n",
    "# Time points\n",
    "t = np.linspace(0, 5, 100)\n",
    "\n",
    "# Solve the ordinary differential equation\n",
    "#sol = odeint(bec_dynamics, y0, t)\n",
    "\n",
    "# Plot the result\n",
    "#plt.plot(t, abs(sol[:, 0])**2, label='BEC Density')\n",
    "#plt.title('Bose-Einstein Condensate Dynamics')\n",
    "#plt.xlabel('Time')\n",
    "#plt.ylabel('Density')\n",
    "#plt.legend()\n",
    "#plt.show()\n"
   ]
  },
  {
   "cell_type": "markdown",
   "id": "01ac5ea1-a802-4418-b1bc-5e95dbaacc2d",
   "metadata": {},
   "source": [
    "# Quantum Annealing:\n",
    "\n",
    "Quantum algorithms and hardware for solving optimization problems, as implemented in quantum annealers like those from D-Wave."
   ]
  },
  {
   "cell_type": "markdown",
   "id": "2f341e38",
   "metadata": {},
   "source": [
    "Quantum annealing is a quantum computing paradigm designed to find the global minimum of a given objective function, which represents an optimization problem. D-Wave Systems is a notable company that has developed quantum annealers, specifically designed to tackle optimization problems. Here's a comprehensive overview, including some equations and information about quantum annealing:\n",
    "\n",
    "### Quantum Annealing Basics:\n",
    "\n",
    "1. **Objective Function:**\n",
    "   - Quantum annealing addresses optimization problems where the goal is to find the minimum (or maximum) of an objective function. The function represents the system's energy, and finding its minimum corresponds to finding the optimal solution.\n",
    "\n",
    "2. **Hamiltonian and Ising Model:**\n",
    "   - The problem is formulated using a Hamiltonian, a mathematical operator that describes the energy of a physical system. In the context of quantum annealing, the Ising model is commonly used. The Ising Hamiltonian is expressed as:\n",
    "     \\[ H(\\mathbf{s}) = \\sum_{i=1}^{N} h_i s_i + \\sum_{i,j=1}^{N} J_{ij} s_i s_j \\]\n",
    "     where \\(s_i\\) represents the binary variables, \\(h_i\\) is the local field, and \\(J_{ij}\\) are the coupling strengths between variables.\n",
    "\n",
    "### Quantum Annealing Algorithm:\n",
    "\n",
    "1. **Quantum Adiabatic Theorem:**\n",
    "   - Quantum annealing leverages the adiabatic theorem, stating that a quantum system will remain in its instantaneous eigenstate if a parameter (such as the Hamiltonian) changes slowly enough. In quantum annealing, the system starts in a simple, known state, and the Hamiltonian is gradually transformed into the one representing the optimization problem.\n",
    "\n",
    "2. **Annealing Schedule:**\n",
    "   - The rate at which the system parameters change is crucial. The annealing schedule must be slow enough to allow the system to follow the ground state of the evolving Hamiltonian. The schedule is often adjusted based on empirical observations and problem characteristics.\n",
    "\n",
    "3. **Quantum Monte Carlo Methods:**\n",
    "   - Classical Monte Carlo methods are sometimes used to simulate quantum annealing processes. Quantum Monte Carlo methods allow researchers to study the behavior of quantum systems by generating statistically relevant samples of possible solutions.\n",
    "\n",
    "### D-Wave Quantum Annealers:\n",
    "\n",
    "1. **D-Wave Quantum Processing Units (QPUs):**\n",
    "   - D-Wave's quantum annealers use superconducting circuits known as flux qubits to implement the Ising model. These qubits are coupled to solve optimization problems.\n",
    "\n",
    "2. **Chimera Graph Architecture:**\n",
    "   - D-Wave QPUs are organized in a Chimera graph structure, where qubits are arranged in unit cells connected by couplers. The Chimera graph allows for the embedding of problem instances onto the quantum hardware.\n",
    "\n",
    "### Challenges and Considerations:\n",
    "\n",
    "1. **Quantum Decoherence:**\n",
    "   - Quantum systems are susceptible to decoherence, where quantum information is lost to the environment. Maintaining quantum coherence for the duration of the annealing process is a significant challenge.\n",
    "\n",
    "2. **Embedding and Connectivity:**\n",
    "   - Mapping a problem onto the physical qubits of the quantum annealer, known as embedding, can be challenging. The connectivity of qubits on the quantum hardware may limit the types of problems that can be efficiently solved.\n",
    "\n",
    "3. **Algorithmic Adaptations:**\n",
    "   - Developing algorithms that take advantage of the quantum nature of the annealer and adapt to its limitations is an ongoing area of research.\n",
    "\n",
    "### Equations:\n",
    "\n",
    "- **Quantum Adiabatic Theorem:**\n",
    "  \\[ H(t) = (1-s(t))H_0 + s(t)H_p \\]\n",
    "  where \\( H_0 \\) is the initial Hamiltonian, \\( H_p \\) is the problem Hamiltonian, and \\( s(t) \\) is the annealing schedule parameter.\n",
    "\n",
    "- **Time Evolution of Quantum States:**\n",
    "  \\[ \\left| \\psi(t) \\right\\rangle = e^{-iH(t)t} \\left| \\psi(0) \\right\\rangle \\]\n",
    "\n",
    "- **Quantum Annealing Cost Function:**\n",
    "  \\[ E(\\mathbf{s}) = \\sum_{i=1}^{N} h_i s_i + \\sum_{i,j=1}^{N} J_{ij} s_i s_j \\]\n",
    "\n",
    "### Conclusion:\n",
    "\n",
    "Quantum annealing holds promise for solving optimization problems, and D-Wave's quantum annealers are among the notable hardware implementations. However, challenges such as decoherence and connectivity limitations must be addressed to harness the full potential of quantum annealing for a wide range of practical applications. Ongoing research in quantum algorithms and hardware is essential to overcome these challenges and unlock the power of quantum computing for optimization tasks."
   ]
  },
  {
   "cell_type": "code",
   "execution_count": 5,
   "id": "0984695d",
   "metadata": {},
   "outputs": [],
   "source": [
    "from qiskit import Aer, QuantumCircuit, transpile, assemble\n",
    "from qiskit.visualization import plot_histogram\n",
    "from scipy.optimize import minimize\n",
    "import numpy as np\n",
    "\n",
    "# Define the cost function (example: Max-Cut problem)\n",
    "def cost_function(x, adjacency_matrix):\n",
    "    cost = 0\n",
    "    for i in range(len(x)):\n",
    "        for j in range(len(x)):\n",
    "            cost += adjacency_matrix[i, j] * x[i] * (1 - x[j])\n",
    "    return -cost\n",
    "\n",
    "# QAOA circuit\n",
    "def qaoa_circuit(parameters, adjacency_matrix):\n",
    "    n = len(adjacency_matrix)\n",
    "    p = len(parameters) // 2\n",
    "\n",
    "    circuit = QuantumCircuit(n, n)\n",
    "    circuit.h(range(n))\n",
    "\n",
    "    for i in range(p):\n",
    "        cost_operator = qaoa_cost_operator(parameters[2*i], adjacency_matrix)\n",
    "        mixer_operator = qaoa_mixer_operator(parameters[2*i + 1])\n",
    "        circuit.extend(cost_operator + mixer_operator)\n",
    "\n",
    "    circuit.measure(range(n), range(n))\n",
    "\n",
    "    return circuit\n",
    "\n",
    "# QAOA cost operator\n",
    "def qaoa_cost_operator(gamma, adjacency_matrix):\n",
    "    n = len(adjacency_matrix)\n",
    "    circuit = QuantumCircuit(n, name='CostOp')\n",
    "\n",
    "    for i in range(n):\n",
    "        for j in range(i + 1, n):\n",
    "            if adjacency_matrix[i, j] != 0:\n",
    "                circuit.rzz(2 * gamma * adjacency_matrix[i, j], i, j)\n",
    "\n",
    "    return circuit\n",
    "\n",
    "# QAOA mixer operator\n",
    "def qaoa_mixer_operator(beta):\n",
    "    n = 1  # Number of qubits for the RX gate\n",
    "    circuit = QuantumCircuit(n, name='MixerOp')\n",
    "\n",
    "    circuit.rx(2 * beta, range(n))\n",
    "\n",
    "    return circuit\n",
    "\n",
    "# Objective function to be minimized\n",
    "def objective_function(parameters, adjacency_matrix):\n",
    "    circuit = qaoa_circuit(parameters, adjacency_matrix)\n",
    "    t_circuit = transpile(circuit, Aer.get_backend('qasm_simulator'))\n",
    "    qobj = assemble(t_circuit)\n",
    "    result = Aer.get_backend('qasm_simulator').run(qobj).result()\n",
    "    counts = result.get_counts()\n",
    "    most_common_bitstring = max(counts, key=counts.get)\n",
    "    x = [int(bit) for bit in most_common_bitstring]\n",
    "    return cost_function(x, adjacency_matrix)\n",
    "\n",
    "# Example adjacency matrix for the Max-Cut problem\n",
    "adjacency_matrix = np.array([[0, 1, 1], [1, 0, 1], [1, 1, 0]])\n",
    "\n",
    "# Initial parameters for QAOA\n",
    "initial_parameters = np.random.rand(2)\n",
    "\n",
    "# Minimize the objective function using classical optimization\n",
    "#result = minimize(objective_function, initial_parameters, args=(adjacency_matrix,), method='COBYLA')\n",
    "\n",
    "# Extract the optimal parameters and print the result\n",
    "#optimal_parameters = result.x\n",
    "#optimal_solution = qaoa_circuit(optimal_parameters, adjacency_matrix)\n",
    "\n",
    "#print(\"Optimal parameters:\", optimal_parameters)\n",
    "#print(\"Optimal solution:\", optimal_solution)\n"
   ]
  },
  {
   "cell_type": "markdown",
   "id": "fec5ca14",
   "metadata": {},
   "source": [
    "# Quantum Materials and Fabrication:\n",
    "\n",
    "Development of materials with specific quantum properties and fabrication techniques for constructing quantum devices."
   ]
  },
  {
   "cell_type": "code",
   "execution_count": null,
   "id": "8ea0c2aa",
   "metadata": {},
   "outputs": [],
   "source": []
  }
 ],
 "metadata": {
  "kernelspec": {
   "display_name": "Python 3 (ipykernel)",
   "language": "python",
   "name": "python3"
  },
  "language_info": {
   "codemirror_mode": {
    "name": "ipython",
    "version": 3
   },
   "file_extension": ".py",
   "mimetype": "text/x-python",
   "name": "python",
   "nbconvert_exporter": "python",
   "pygments_lexer": "ipython3",
   "version": "3.11.5"
  }
 },
 "nbformat": 4,
 "nbformat_minor": 5
}
