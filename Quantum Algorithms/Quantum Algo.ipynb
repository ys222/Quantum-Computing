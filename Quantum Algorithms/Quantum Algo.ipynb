{
 "cells": [
  {
   "cell_type": "code",
   "execution_count": 2,
   "id": "09679c9c",
   "metadata": {},
   "outputs": [
    {
     "name": "stdout",
     "output_type": "stream",
     "text": [
      "{'110': 133, '000': 122, '001': 136, '010': 116, '101': 131, '100': 138, '011': 109, '111': 115}\n"
     ]
    }
   ],
   "source": [
    "from qiskit import QuantumCircuit, Aer, execute\n",
    "\n",
    "# Define the oracle for the desired solution\n",
    "def oracle(circuit):\n",
    "    circuit.cz(0, 2)\n",
    "    circuit.cz(1, 2)\n",
    "\n",
    "# Define the diffusion operator\n",
    "def diffusion(circuit):\n",
    "    circuit.h(range(num_qubits))\n",
    "    circuit.x(range(num_qubits))\n",
    "    circuit.h(num_qubits-1)\n",
    "    circuit.mct(list(range(num_qubits-1)), num_qubits-1)  \n",
    "    circuit.h(num_qubits-1)\n",
    "    circuit.x(range(num_qubits))\n",
    "    circuit.h(range(num_qubits))\n",
    "\n",
    "# Define the number of qubits and number of iterations\n",
    "num_qubits = 3\n",
    "num_iterations = 2\n",
    "\n",
    "# Create the quantum circuit\n",
    "qc = QuantumCircuit(num_qubits)\n",
    "\n",
    "# Apply Hadamard gates to all qubits\n",
    "qc.h(range(num_qubits))\n",
    "\n",
    "# Apply the Grover iterations\n",
    "for _ in range(num_iterations):\n",
    "    oracle(qc)\n",
    "    diffusion(qc)\n",
    "\n",
    "# Measure the qubits\n",
    "qc.measure_all()\n",
    "\n",
    "# Simulate the circuit using the Aer simulator\n",
    "simulator = Aer.get_backend('qasm_simulator')\n",
    "job = execute(qc, simulator, shots=1000)\n",
    "result = job.result()\n",
    "\n",
    "# Get the counts\n",
    "counts = result.get_counts()\n",
    "\n",
    "print(counts)\n"
   ]
  },
  {
   "cell_type": "code",
   "execution_count": 3,
   "id": "a44ca15d",
   "metadata": {},
   "outputs": [
    {
     "name": "stdout",
     "output_type": "stream",
     "text": [
      "No factors found.\n"
     ]
    }
   ],
   "source": [
    "import numpy as np\n",
    "from qiskit import QuantumCircuit, Aer, execute\n",
    "\n",
    "# Function to find the greatest common divisor (GCD) of two numbers\n",
    "def gcd(a, b):\n",
    "    while b:\n",
    "        a, b = b, a % b\n",
    "    return a\n",
    "\n",
    "# Function to find the period of a given number using continued fractions\n",
    "def find_period(a, N):\n",
    "    r = a\n",
    "    period = 0\n",
    "    while r != 1:\n",
    "        r = (r * a) % N\n",
    "        period += 1\n",
    "    return period\n",
    "\n",
    "# Function to perform Shor's algorithm for factorization\n",
    "def shor_factorization(N):\n",
    "    # Step 1: Choose a random number 'a' less than N\n",
    "    a = np.random.randint(2, N)\n",
    "\n",
    "    # Step 2: Compute the greatest common divisor (GCD) of 'a' and 'N'\n",
    "    gcd_value = gcd(a, N)\n",
    "\n",
    "    # If the GCD is not equal to 1, we have found a non-trivial factor\n",
    "    if gcd_value != 1:\n",
    "        return gcd_value\n",
    "\n",
    "    # Step 3: Find the period 'r' using continued fractions\n",
    "    r = find_period(a, N)\n",
    "\n",
    "    # Step 4: Check if 'r' is even and (a^(r/2) + 1) is not congruent to 0 modulo N\n",
    "    if r % 2 == 0:\n",
    "        x = pow(a, r // 2, N)\n",
    "        if (x + 1) % N != 0:\n",
    "            p = gcd(x + 1, N)\n",
    "            q = gcd(x - 1, N)\n",
    "            return p, q\n",
    "\n",
    "    # If no factors are found, return None\n",
    "    return None\n",
    "\n",
    "# Specify the number to be factorized\n",
    "N = 15\n",
    "\n",
    "# Run Shor's algorithm for factorization\n",
    "factors = shor_factorization(N)\n",
    "\n",
    "# Print the factors\n",
    "if factors:\n",
    "    print(\"Factors found:\", factors)\n",
    "else:\n",
    "    print(\"No factors found.\")\n",
    "\n"
   ]
  },
  {
   "cell_type": "markdown",
   "id": "1be69c08",
   "metadata": {},
   "source": [
    "### Quantum Machine Learning for Classification:\n",
    "\n",
    "Quantum machine learning (QML) leverages the principles of quantum mechanics to enhance classical machine learning algorithms or to design entirely new quantum algorithms. For classification tasks, quantum machine learning can provide advantages in terms of speedup or improved generalization. Below, I'll provide an overview of quantum support vector machines (QSVM) and quantum neural networks (QNN) for classification.\n",
    "\n",
    "### Quantum Support Vector Machines (QSVM):\n",
    "\n",
    "Quantum support vector machines aim to find hyperplanes in quantum feature spaces that separate different classes. The quantum version of the support vector machine can offer advantages in terms of computational efficiency compared to classical support vector machines.\n",
    "\n",
    "#### Key Concepts:\n",
    "\n",
    "1. **Quantum Feature Maps:**\n",
    "   - Quantum feature maps transform classical data into quantum states. A common choice for feature maps is the quantum kernel, which is derived from classical kernels used in support vector machines.\n",
    "\n",
    "2. **Quantum Kernel Trick:**\n",
    "   - The quantum kernel trick enables the computation of inner products in quantum feature spaces without explicitly representing the high-dimensional feature vectors.\n",
    "\n",
    "3. **Quantum Circuits:**\n",
    "   - Quantum circuits are designed to implement quantum feature maps and compute the kernel matrix efficiently.\n",
    "\n",
    "#### Quantum Support Vector Machine (QSVM) Equations:\n",
    "\n",
    "The QSVM cost function is designed to minimize classification errors while maximizing the margin between classes. The objective function for QSVM can be formulated as:\n",
    "\n",
    "\\[ \\text{Cost}(\\theta) = \\sum_{i=1}^{m} \\left(1 - y_i \\langle \\psi(x_i | \\theta), H \\psi(x_i | \\theta) \\rangle \\right)_+ + \\lambda \\|\\theta\\|^2 \\]\n",
    "\n",
    "Here:\n",
    "- \\( \\theta \\) represents the parameters of the quantum circuit.\n",
    "- \\( x_i \\) is a classical input data point.\n",
    "- \\( \\psi(x_i | \\theta) \\) is the quantum state associated with the input data point.\n",
    "- \\( y_i \\) is the class label.\n",
    "- \\( H \\) is the quantum Hamiltonian.\n",
    "- The term \\( \\lambda \\|\\theta\\|^2 \\) is a regularization term.\n",
    "\n",
    "The optimization problem involves finding the optimal parameters \\( \\theta \\) that minimize the cost function.\n",
    "\n",
    "### Quantum Neural Networks (QNN) for Classification:\n",
    "\n",
    "Quantum neural networks are quantum counterparts to classical neural networks. They utilize quantum gates to process quantum states and can provide advantages in certain scenarios.\n",
    "\n",
    "#### Key Concepts:\n",
    "\n",
    "1. **Quantum Neurons:**\n",
    "   - Quantum neurons are the building blocks of quantum neural networks. They operate on quantum states and perform unitary transformations.\n",
    "\n",
    "2. **Quantum Circuits for Classification:**\n",
    "   - Quantum circuits are designed to perform classification tasks, mapping input quantum states to output states representing different classes.\n",
    "\n",
    "3. **Parameterized Quantum Circuits (PQC):**\n",
    "   - Parameterized quantum circuits are used to introduce trainable parameters that can be optimized during the training process.\n",
    "\n",
    "#### Quantum Neural Network (QNN) Equations:\n",
    "\n",
    "The equations for a quantum neural network depend on the specific architecture and encoding scheme. However, a general form for the output of a quantum neural network could be represented as:\n",
    "\n",
    "\\[ \\text{Output} = U_L(\\theta_L) \\dots U_2(\\theta_2) U_1(\\theta_1) \\psi_{\\text{in}} \\]\n",
    "\n",
    "Here:\n",
    "- \\( \\psi_{\\text{in}} \\) is the input quantum state.\n",
    "- \\( U_1, U_2, \\dots, U_L \\) are parameterized quantum gates or layers.\n",
    "- \\( \\theta_1, \\theta_2, \\dots, \\theta_L \\) are the trainable parameters.\n",
    "\n",
    "### Implementation:\n",
    "\n",
    "Implementing quantum machine learning algorithms involves using quantum programming frameworks such as Qiskit or Cirq. The actual code will depend on the chosen quantum algorithm, and you may need to use a quantum computer or a quantum simulator for execution.\n",
    "\n",
    "Below is a simplified example using Qiskit for a quantum support vector machine:\n",
    "\n",
    "```python\n",
    "from qiskit import Aer, QuantumCircuit, transpile, assemble\n",
    "from qiskit.aqua import QuantumInstance\n",
    "from qiskit.aqua.algorithms import QSVM\n",
    "from qiskit.aqua.components.feature_maps import SecondOrderExpansion\n",
    "\n",
    "# Create a quantum feature map\n",
    "feature_map = SecondOrderExpansion(feature_dimension, depth=2, entanglement='linear')\n",
    "\n",
    "# Create a quantum support vector machine\n",
    "qsvm = QSVM(feature_map, training_dataset, test_dataset)\n",
    "\n",
    "# Run the quantum support vector machine\n",
    "result = qsvm.run(QuantumInstance(Aer.get_backend('qasm_simulator')))\n",
    "\n",
    "# Get the classification result\n",
    "predicted_labels = result['predicted_labels']\n",
    "```\n",
    "\n",
    "This is a simplified example, and the actual implementation details will depend on the specific quantum machine learning algorithm, feature map, and dataset you are working with. Additionally, you may need to tailor the implementation to run on actual quantum hardware if available.\n",
    "\n",
    "Remember to consult the documentation of the specific quantum programming framework you are using for more detailed guidance."
   ]
  },
  {
   "cell_type": "code",
   "execution_count": 1,
   "id": "f6efb1d8",
   "metadata": {},
   "outputs": [
    {
     "ename": "ImportError",
     "evalue": "cannot import name 'BaseBackend' from 'qiskit.providers' (C:\\Users\\yashr\\Anaconda3\\lib\\site-packages\\qiskit\\providers\\__init__.py)",
     "output_type": "error",
     "traceback": [
      "\u001b[1;31m---------------------------------------------------------------------------\u001b[0m",
      "\u001b[1;31mImportError\u001b[0m                               Traceback (most recent call last)",
      "Cell \u001b[1;32mIn[1], line 2\u001b[0m\n\u001b[0;32m      1\u001b[0m \u001b[38;5;28;01mfrom\u001b[39;00m \u001b[38;5;21;01mqiskit\u001b[39;00m \u001b[38;5;28;01mimport\u001b[39;00m Aer, QuantumCircuit, transpile, assemble\n\u001b[1;32m----> 2\u001b[0m \u001b[38;5;28;01mfrom\u001b[39;00m \u001b[38;5;21;01mqiskit\u001b[39;00m\u001b[38;5;21;01m.\u001b[39;00m\u001b[38;5;21;01maqua\u001b[39;00m \u001b[38;5;28;01mimport\u001b[39;00m QuantumInstance\n\u001b[0;32m      3\u001b[0m \u001b[38;5;28;01mfrom\u001b[39;00m \u001b[38;5;21;01mqiskit\u001b[39;00m\u001b[38;5;21;01m.\u001b[39;00m\u001b[38;5;21;01maqua\u001b[39;00m\u001b[38;5;21;01m.\u001b[39;00m\u001b[38;5;21;01malgorithms\u001b[39;00m \u001b[38;5;28;01mimport\u001b[39;00m QSVM\n\u001b[0;32m      4\u001b[0m \u001b[38;5;28;01mfrom\u001b[39;00m \u001b[38;5;21;01mqiskit\u001b[39;00m\u001b[38;5;21;01m.\u001b[39;00m\u001b[38;5;21;01maqua\u001b[39;00m\u001b[38;5;21;01m.\u001b[39;00m\u001b[38;5;21;01mcomponents\u001b[39;00m\u001b[38;5;21;01m.\u001b[39;00m\u001b[38;5;21;01mfeature_maps\u001b[39;00m \u001b[38;5;28;01mimport\u001b[39;00m SecondOrderExpansion\n",
      "File \u001b[1;32m~\\Anaconda3\\lib\\site-packages\\qiskit\\aqua\\__init__.py:76\u001b[0m\n\u001b[0;32m     74\u001b[0m \u001b[38;5;28;01mfrom\u001b[39;00m \u001b[38;5;21;01m.\u001b[39;00m\u001b[38;5;21;01mmissing_optional_library_error\u001b[39;00m \u001b[38;5;28;01mimport\u001b[39;00m MissingOptionalLibraryError\n\u001b[0;32m     75\u001b[0m \u001b[38;5;28;01mfrom\u001b[39;00m \u001b[38;5;21;01m.\u001b[39;00m\u001b[38;5;21;01maqua_globals\u001b[39;00m \u001b[38;5;28;01mimport\u001b[39;00m aqua_globals\n\u001b[1;32m---> 76\u001b[0m \u001b[38;5;28;01mfrom\u001b[39;00m \u001b[38;5;21;01m.\u001b[39;00m\u001b[38;5;21;01mquantum_instance\u001b[39;00m \u001b[38;5;28;01mimport\u001b[39;00m QuantumInstance\n\u001b[0;32m     77\u001b[0m \u001b[38;5;28;01mfrom\u001b[39;00m \u001b[38;5;21;01m.\u001b[39;00m\u001b[38;5;21;01malgorithms\u001b[39;00m \u001b[38;5;28;01mimport\u001b[39;00m QuantumAlgorithm\n\u001b[0;32m     78\u001b[0m \u001b[38;5;28;01mfrom\u001b[39;00m \u001b[38;5;21;01m.\u001b[39;00m\u001b[38;5;21;01m_logging\u001b[39;00m \u001b[38;5;28;01mimport\u001b[39;00m (QiskitLogDomains,\n\u001b[0;32m     79\u001b[0m                        get_logging_level,\n\u001b[0;32m     80\u001b[0m                        set_logging_level,\n\u001b[1;32m   (...)\u001b[0m\n\u001b[0;32m     83\u001b[0m                        get_qiskit_aqua_logging,\n\u001b[0;32m     84\u001b[0m                        set_qiskit_aqua_logging)\n",
      "File \u001b[1;32m~\\Anaconda3\\lib\\site-packages\\qiskit\\aqua\\quantum_instance.py:21\u001b[0m\n\u001b[0;32m     18\u001b[0m \u001b[38;5;28;01mimport\u001b[39;00m \u001b[38;5;21;01mtime\u001b[39;00m\n\u001b[0;32m     19\u001b[0m \u001b[38;5;28;01mimport\u001b[39;00m \u001b[38;5;21;01mnumpy\u001b[39;00m \u001b[38;5;28;01mas\u001b[39;00m \u001b[38;5;21;01mnp\u001b[39;00m\n\u001b[1;32m---> 21\u001b[0m \u001b[38;5;28;01mfrom\u001b[39;00m \u001b[38;5;21;01mqiskit\u001b[39;00m\u001b[38;5;21;01m.\u001b[39;00m\u001b[38;5;21;01mproviders\u001b[39;00m \u001b[38;5;28;01mimport\u001b[39;00m Backend, BaseBackend\n\u001b[0;32m     22\u001b[0m \u001b[38;5;28;01mfrom\u001b[39;00m \u001b[38;5;21;01mqiskit\u001b[39;00m\u001b[38;5;21;01m.\u001b[39;00m\u001b[38;5;21;01mtranspiler\u001b[39;00m \u001b[38;5;28;01mimport\u001b[39;00m CouplingMap, PassManager\n\u001b[0;32m     23\u001b[0m \u001b[38;5;28;01mfrom\u001b[39;00m \u001b[38;5;21;01mqiskit\u001b[39;00m\u001b[38;5;21;01m.\u001b[39;00m\u001b[38;5;21;01mtranspiler\u001b[39;00m\u001b[38;5;21;01m.\u001b[39;00m\u001b[38;5;21;01mlayout\u001b[39;00m \u001b[38;5;28;01mimport\u001b[39;00m Layout\n",
      "\u001b[1;31mImportError\u001b[0m: cannot import name 'BaseBackend' from 'qiskit.providers' (C:\\Users\\yashr\\Anaconda3\\lib\\site-packages\\qiskit\\providers\\__init__.py)"
     ]
    }
   ],
   "source": [
    "from qiskit import Aer, QuantumCircuit, transpile, assemble\n",
    "from qiskit.aqua import QuantumInstance\n",
    "from qiskit.aqua.algorithms import QSVM\n",
    "from qiskit.aqua.components.feature_maps import SecondOrderExpansion\n",
    "\n",
    "# Create a quantum feature map\n",
    "feature_map = SecondOrderExpansion(feature_dimension, depth=2, entanglement='linear')\n",
    "\n",
    "# Create a quantum support vector machine\n",
    "qsvm = QSVM(feature_map, training_dataset, test_dataset)\n",
    "\n",
    "# Run the quantum support vector machine\n",
    "result = qsvm.run(QuantumInstance(Aer.get_backend('qasm_simulator')))\n",
    "\n",
    "# Get the classification result\n",
    "predicted_labels = result['predicted_labels']"
   ]
  },
  {
   "cell_type": "markdown",
   "id": "99e96959",
   "metadata": {},
   "source": [
    "Quantum Neural Networks (QNNs) are a type of neural network that leverage the principles of quantum mechanics to perform certain computations. They are designed to process information using quantum bits (qubits) and quantum gates, allowing for the exploitation of quantum parallelism and entanglement. Below is an overview of Quantum Neural Networks, along with some information and equations:\n",
    "\n",
    "### Overview:\n",
    "\n",
    "1. **Qubits:**\n",
    "   - Qubits are the fundamental units of quantum information. Unlike classical bits that can exist in a state of 0 or 1, qubits can exist in a superposition of both states simultaneously.\n",
    "\n",
    "2. **Quantum Gates:**\n",
    "   - Quantum gates are the building blocks of quantum circuits. They perform operations on qubits and enable the manipulation of quantum states. Common quantum gates include Hadamard gate (H), Pauli gates (X, Y, Z), and CNOT gate.\n",
    "\n",
    "3. **Quantum Superposition:**\n",
    "   - Qubits can exist in a superposition of states, representing a combination of 0 and 1. The state of a single qubit can be represented as \\(|\\psi\\rangle = \\alpha|0\\rangle + \\beta|1\\rangle\\), where \\(\\alpha\\) and \\(\\beta\\) are complex numbers.\n",
    "\n",
    "4. **Quantum Entanglement:**\n",
    "   - Entanglement is a quantum phenomenon where two or more qubits become correlated in such a way that the state of one qubit is dependent on the state of another, even when separated by large distances.\n",
    "\n",
    "### Quantum Neural Network Architecture:\n",
    "\n",
    "1. **Quantum Input Layer:**\n",
    "   - Quantum states are prepared to represent classical input data using qubits.\n",
    "\n",
    "2. **Quantum Hidden Layers:**\n",
    "   - Quantum gates are applied to the qubits in superposition, allowing for the exploration of many possible states simultaneously.\n",
    "\n",
    "3. **Quantum Measurement:**\n",
    "   - The final state of the quantum system is measured, collapsing the superposition into a classical outcome.\n",
    "\n",
    "4. **Classical Post-Processing:**\n",
    "   - The classical outcome is then post-processed using classical neural network layers to produce the final result.\n",
    "\n",
    "### Equations:\n",
    "\n",
    "1. **Quantum State Vector:**\n",
    "   - The state of a quantum system with \\(n\\) qubits can be represented as a vector in a complex Hilbert space: \\[|\\psi\\rangle = \\sum_{i=0}^{2^n-1} c_i |i\\rangle\\]\n",
    "   - Here, \\(c_i\\) are complex coefficients, and \\(|i\\rangle\\) represents the basis state corresponding to the binary representation of \\(i\\).\n",
    "\n",
    "2. **Quantum Gates:**\n",
    "   - Quantum gates are represented by unitary matrices. For example, the Hadamard gate (H) can be represented as:\n",
    "     \\[H = \\frac{1}{\\sqrt{2}}\\begin{bmatrix} 1 & 1 \\\\ 1 & -1 \\end{bmatrix}\\]\n",
    "\n",
    "3. **Quantum Measurement:**\n",
    "   - The outcome of a quantum measurement is probabilistic. The probability of measuring a particular state \\(|i\\rangle\\) is given by the Born rule: \\[P(i) = |c_i|^2\\]\n",
    "\n",
    "4. **Quantum Circuit:**\n",
    "   - The evolution of a quantum state through a quantum circuit can be described by the unitary transformation: \\[|\\psi'\\rangle = U |\\psi\\rangle\\]\n",
    "   - Here, \\(U\\) is the unitary matrix representing the quantum circuit.\n",
    "\n",
    "### Challenges and Considerations:\n",
    "\n",
    "1. **Quantum Error Correction:**\n",
    "   - Quantum systems are susceptible to errors due to decoherence and other environmental factors. Quantum error correction techniques are crucial for maintaining the integrity of quantum computations.\n",
    "\n",
    "2. **No-Cloning Theorem:**\n",
    "   - Unlike classical bits, quantum states cannot be cloned perfectly. This has implications for certain quantum machine learning algorithms.\n",
    "\n",
    "3. **Hybrid Quantum-Classical Systems:**\n",
    "   - Many practical implementations involve a combination of classical and quantum processing, known as hybrid quantum-classical systems.\n",
    "\n",
    "4. **Training Quantum Neural Networks:**\n",
    "   - Training quantum neural networks involves optimizing the parameters of quantum gates. Techniques like parameter-shift rule and quantum gradient descent are used.\n",
    "\n",
    "5. **Quantum Circuit Depth:**\n",
    "   - The depth of a quantum circuit (number of gates applied) is a crucial factor. Shallow circuits are often preferred for near-term quantum devices due to decoherence.\n",
    "\n",
    "### Quantum Neural Network Libraries:\n",
    "\n",
    "1. **Qiskit:**\n",
    "   - Developed by IBM, Qiskit is an open-source quantum computing software development framework that includes tools for building and simulating quantum neural networks.\n",
    "\n",
    "2. **Cirq:**\n",
    "   - Developed by Google, Cirq is a library for designing, simulating, and running quantum circuits on Google's quantum processors. It provides support for building quantum neural networks.\n",
    "\n",
    "3. **PennyLane:**\n",
    "   - PennyLane is a cross-platform Python library for quantum machine learning. It integrates with popular machine learning libraries and supports quantum neural networks.\n",
    "\n",
    "Quantum neural networks are an active area of research, and their development and application continue to evolve as quantum computing technologies progress."
   ]
  },
  {
   "cell_type": "code",
   "execution_count": 2,
   "id": "91f17633",
   "metadata": {},
   "outputs": [
    {
     "name": "stdout",
     "output_type": "stream",
     "text": [
      "Optimized Parameters: [2.65674733]\n"
     ]
    },
    {
     "data": {
      "image/png": "[encoded data removed]",
      "text/plain": [
       "<Figure size 700x500 with 1 Axes>"
      ]
     },
     "execution_count": 2,
     "metadata": {},
     "output_type": "execute_result"
    }
   ],
   "source": [
    "from qiskit import QuantumCircuit, Aer, transpile, assemble, execute\n",
    "from qiskit.visualization import plot_histogram\n",
    "import numpy as np\n",
    "\n",
    "# Define the quantum neural network\n",
    "def quantum_neural_network(params):\n",
    "    circuit = QuantumCircuit(1, 1)\n",
    "    \n",
    "    # Input layer (prepare qubit in superposition)\n",
    "    circuit.h(0)\n",
    "    \n",
    "    # Quantum processing layer (parameterized rotations)\n",
    "    circuit.rx(params[0], 0)\n",
    "    \n",
    "    # Measurement\n",
    "    circuit.measure(0, 0)\n",
    "    \n",
    "    return circuit\n",
    "\n",
    "# Define a simple cost function to optimize\n",
    "def cost_function(params):\n",
    "    qc = quantum_neural_network(params)\n",
    "    backend = Aer.get_backend('qasm_simulator')\n",
    "    shots = 1024\n",
    "    job = execute(qc, backend, shots=shots)\n",
    "    counts = job.result().get_counts()\n",
    "    \n",
    "    # For simplicity, using the probability of measuring '0' as the cost\n",
    "    cost = counts.get('0', 0) / shots\n",
    "    \n",
    "    return 1 - cost  # We want to maximize the probability of measuring '0'\n",
    "\n",
    "# Optimize the quantum neural network\n",
    "from scipy.optimize import minimize\n",
    "\n",
    "initial_params = np.random.rand(1)  # Initial random parameters\n",
    "result = minimize(cost_function, initial_params, method='COBYLA')\n",
    "\n",
    "optimized_params = result.x\n",
    "print(\"Optimized Parameters:\", optimized_params)\n",
    "\n",
    "# Visualize the quantum neural network output\n",
    "optimized_circuit = quantum_neural_network(optimized_params)\n",
    "backend = Aer.get_backend('qasm_simulator')\n",
    "shots = 1024\n",
    "result = execute(optimized_circuit, backend, shots=shots).result()\n",
    "counts = result.get_counts()\n",
    "plot_histogram(counts)\n"
   ]
  },
  {
   "cell_type": "code",
   "execution_count": 3,
   "id": "5d1464d5",
   "metadata": {},
   "outputs": [],
   "source": [
    "import numpy as np\n",
    "\n",
    "def apply_gate(quantum_state, gate, target_qubits):\n",
    "    \"\"\"\n",
    "    Applies a quantum gate to a specified set of target qubits.\n",
    "\n",
    "    Parameters:\n",
    "    - quantum_state (list): The current quantum state of the system.\n",
    "    - gate (str): The type of quantum gate to apply (e.g., 'X', 'H', 'U').\n",
    "    - target_qubits (list): The list of target qubits to which the gate will be applied.\n",
    "\n",
    "    Returns:\n",
    "    - quantum_state: The updated quantum state after applying the gate.\n",
    "    \"\"\"\n",
    "\n",
    "    # Check if the target qubits are valid\n",
    "    num_qubits = int(np.log2(len(quantum_state)))\n",
    "    if any(qubit < 0 or qubit >= num_qubits for qubit in target_qubits):\n",
    "        raise ValueError(\"Invalid target qubits.\")\n",
    "\n",
    "    # Perform the gate operation based on the specified gate type\n",
    "    if gate == 'X':  # Pauli-X gate\n",
    "        quantum_state = apply_pauli_x(quantum_state, target_qubits)\n",
    "    elif gate == 'H':  # Hadamard gate\n",
    "        quantum_state = apply_hadamard(quantum_state, target_qubits)\n",
    "    elif gate == 'U':  # Custom unitary gate (placeholder, replace with actual implementation)\n",
    "        quantum_state = apply_custom_unitary(quantum_state, target_qubits)\n",
    "    else:\n",
    "        raise ValueError(f\"Unsupported gate type: {gate}\")\n",
    "\n",
    "    return quantum_state\n",
    "\n",
    "# Example implementations for specific gates\n",
    "\n",
    "def apply_pauli_x(quantum_state, target_qubits):\n",
    "    \"\"\"\n",
    "    Applies the Pauli-X gate to the specified target qubits.\n",
    "\n",
    "    Parameters:\n",
    "    - quantum_state (list): The current quantum state of the system.\n",
    "    - target_qubits (list): The list of target qubits to which the gate will be applied.\n",
    "\n",
    "    Returns:\n",
    "    - quantum_state: The updated quantum state after applying the Pauli-X gate.\n",
    "    \"\"\"\n",
    "    # Implement Pauli-X gate operation\n",
    "    # (For simplicity, this implementation assumes a perfect quantum gate without errors)\n",
    "    for i in target_qubits:\n",
    "        index = 2**(num_qubits - i - 1)\n",
    "        quantum_state[index] *= -1\n",
    "\n",
    "    return quantum_state\n",
    "\n",
    "def apply_hadamard(quantum_state, target_qubits):\n",
    "    \"\"\"\n",
    "    Applies the Hadamard gate to the specified target qubits.\n",
    "\n",
    "    Parameters:\n",
    "    - quantum_state (list): The current quantum state of the system.\n",
    "    - target_qubits (list): The list of target qubits to which the gate will be applied.\n",
    "\n",
    "    Returns:\n",
    "    - quantum_state: The updated quantum state after applying the Hadamard gate.\n",
    "    \"\"\"\n",
    "    # Implement Hadamard gate operation\n",
    "    # (For simplicity, this implementation assumes a perfect quantum gate without errors)\n",
    "    hadamard_matrix = 1/np.sqrt(2) * np.array([[1, 1], [1, -1]])\n",
    "    for i in target_qubits:\n",
    "        indices = [2**(num_qubits - i - 1), 2**(num_qubits - i - 1) + 1]\n",
    "        quantum_state[indices] = np.dot(hadamard_matrix, quantum_state[indices])\n",
    "\n",
    "    return quantum_state\n",
    "\n",
    "def apply_custom_unitary(quantum_state, target_qubits):\n",
    "    \"\"\"\n",
    "    Applies a custom unitary gate to the specified target qubits.\n",
    "\n",
    "    Parameters:\n",
    "    - quantum_state (list): The current quantum state of the system.\n",
    "    - target_qubits (list): The list of target qubits to which the gate will be applied.\n",
    "\n",
    "    Returns:\n",
    "    - quantum_state: The updated quantum state after applying the custom unitary gate.\n",
    "    \"\"\"\n",
    "    # Placeholder for custom unitary gate implementation\n",
    "    # Replace this with the actual implementation based on the specific gate matrix\n",
    "    pass\n",
    "\n",
    "# Example usage:\n",
    "# quantum_state = initialize_qubits(3)\n",
    "# quantum_state = apply_gate(quantum_state, 'H', [0])\n",
    "# quantum_state = apply_gate(quantum_state, 'X', [1])\n"
   ]
  },
  {
   "cell_type": "code",
   "execution_count": 1,
   "id": "6fc35d3e",
   "metadata": {},
   "outputs": [
    {
     "name": "stderr",
     "output_type": "stream",
     "text": [
      "C:\\Users\\yashr\\AppData\\Local\\Temp\\ipykernel_5448\\1992223853.py:39: DeprecationWarning: Using a qobj for run() is deprecated as of qiskit-aer 0.9.0 and will be removed no sooner than 3 months from that release date. Transpiled circuits should now be passed directly using `backend.run(circuits, **run_options).\n",
      "  result = simulator.run(qobj).result()\n"
     ]
    },
    {
     "ename": "TypeError",
     "evalue": "_run_qobj() got multiple values for argument 'parameter_binds'",
     "output_type": "error",
     "traceback": [
      "\u001b[1;31m---------------------------------------------------------------------------\u001b[0m",
      "\u001b[1;31mTypeError\u001b[0m                                 Traceback (most recent call last)",
      "Cell \u001b[1;32mIn[1], line 50\u001b[0m\n\u001b[0;32m     48\u001b[0m classical_image \u001b[38;5;241m=\u001b[39m [\u001b[38;5;241m0.1\u001b[39m, \u001b[38;5;241m0.5\u001b[39m, \u001b[38;5;241m0.8\u001b[39m, \u001b[38;5;241m0.3\u001b[39m]  \u001b[38;5;66;03m# Replace with your pixel values\u001b[39;00m\n\u001b[0;32m     49\u001b[0m quantum_circuit \u001b[38;5;241m=\u001b[39m encode_image(classical_image)\n\u001b[1;32m---> 50\u001b[0m quantum_representation \u001b[38;5;241m=\u001b[39m \u001b[43msimulate_quantum_image\u001b[49m\u001b[43m(\u001b[49m\u001b[43mquantum_circuit\u001b[49m\u001b[43m)\u001b[49m\n\u001b[0;32m     52\u001b[0m \u001b[38;5;28mprint\u001b[39m(\u001b[38;5;124m\"\u001b[39m\u001b[38;5;124mClassical Image:\u001b[39m\u001b[38;5;124m\"\u001b[39m, classical_image)\n\u001b[0;32m     53\u001b[0m \u001b[38;5;28mprint\u001b[39m(\u001b[38;5;124m\"\u001b[39m\u001b[38;5;124mQuantum Representation:\u001b[39m\u001b[38;5;124m\"\u001b[39m, quantum_representation)\n",
      "Cell \u001b[1;32mIn[1], line 39\u001b[0m, in \u001b[0;36msimulate_quantum_image\u001b[1;34m(quantum_circuit)\u001b[0m\n\u001b[0;32m     37\u001b[0m transpiled_circuit \u001b[38;5;241m=\u001b[39m transpile(quantum_circuit, simulator)\n\u001b[0;32m     38\u001b[0m qobj \u001b[38;5;241m=\u001b[39m assemble(transpiled_circuit)\n\u001b[1;32m---> 39\u001b[0m result \u001b[38;5;241m=\u001b[39m \u001b[43msimulator\u001b[49m\u001b[38;5;241;43m.\u001b[39;49m\u001b[43mrun\u001b[49m\u001b[43m(\u001b[49m\u001b[43mqobj\u001b[49m\u001b[43m)\u001b[49m\u001b[38;5;241m.\u001b[39mresult()\n\u001b[0;32m     41\u001b[0m \u001b[38;5;66;03m# Extract and return the measured classical state\u001b[39;00m\n\u001b[0;32m     42\u001b[0m counts \u001b[38;5;241m=\u001b[39m result\u001b[38;5;241m.\u001b[39mget_counts()\n",
      "File \u001b[1;32m~\\Anaconda3\\lib\\site-packages\\qiskit_aer\\backends\\aerbackend.py:196\u001b[0m, in \u001b[0;36mAerBackend.run\u001b[1;34m(self, circuits, validate, parameter_binds, **run_options)\u001b[0m\n\u001b[0;32m    194\u001b[0m         \u001b[38;5;28;01mif\u001b[39;00m \u001b[38;5;124m'\u001b[39m\u001b[38;5;124mparameter_binds\u001b[39m\u001b[38;5;124m'\u001b[39m \u001b[38;5;129;01min\u001b[39;00m run_options:\n\u001b[0;32m    195\u001b[0m             parameter_binds \u001b[38;5;241m=\u001b[39m run_options\u001b[38;5;241m.\u001b[39mpop(\u001b[38;5;124m'\u001b[39m\u001b[38;5;124mparameter_binds\u001b[39m\u001b[38;5;124m'\u001b[39m)\n\u001b[1;32m--> 196\u001b[0m     \u001b[38;5;28;01mreturn\u001b[39;00m \u001b[38;5;28;43mself\u001b[39;49m\u001b[38;5;241;43m.\u001b[39;49m\u001b[43m_run_qobj\u001b[49m\u001b[43m(\u001b[49m\u001b[43mcircuits\u001b[49m\u001b[43m,\u001b[49m\u001b[43m \u001b[49m\u001b[43mvalidate\u001b[49m\u001b[43m,\u001b[49m\u001b[43m \u001b[49m\u001b[43mparameter_binds\u001b[49m\u001b[43m,\u001b[49m\u001b[43m \u001b[49m\u001b[38;5;241;43m*\u001b[39;49m\u001b[38;5;241;43m*\u001b[39;49m\u001b[43mrun_options\u001b[49m\u001b[43m)\u001b[49m\n\u001b[0;32m    198\u001b[0m only_circuits \u001b[38;5;241m=\u001b[39m \u001b[38;5;28;01mTrue\u001b[39;00m\n\u001b[0;32m    199\u001b[0m only_pulse \u001b[38;5;241m=\u001b[39m \u001b[38;5;28;01mTrue\u001b[39;00m\n",
      "\u001b[1;31mTypeError\u001b[0m: _run_qobj() got multiple values for argument 'parameter_binds'"
     ]
    }
   ],
   "source": [
    "from qiskit import QuantumCircuit, Aer, transpile, assemble\n",
    "\n",
    "def classical_to_quantum(pixel_value):\n",
    "    \"\"\"\n",
    "    Convert a classical pixel value to a quantum state.\n",
    "    \"\"\"\n",
    "    qubit_representation = QuantumCircuit(1, 1)\n",
    "    \n",
    "    # Encode the pixel value using rotations\n",
    "    qubit_representation.ry(pixel_value, 0)\n",
    "    \n",
    "    return qubit_representation\n",
    "\n",
    "def encode_image(classical_image):\n",
    "    \"\"\"\n",
    "    Encode a classical image into a quantum state.\n",
    "    \"\"\"\n",
    "    num_pixels = len(classical_image)\n",
    "    \n",
    "    # Create a quantum circuit with enough qubits\n",
    "    quantum_circuit = QuantumCircuit(num_pixels, num_pixels)\n",
    "    \n",
    "    # Encode each pixel value\n",
    "    for i, pixel_value in enumerate(classical_image):\n",
    "        qubit_representation = classical_to_quantum(pixel_value)\n",
    "        quantum_circuit.compose(qubit_representation, [i], inplace=True)\n",
    "    \n",
    "    return quantum_circuit\n",
    "\n",
    "def simulate_quantum_image(quantum_circuit):\n",
    "    \"\"\"\n",
    "    Simulate a quantum image representation and measure the final state.\n",
    "    \"\"\"\n",
    "    simulator = Aer.get_backend('qasm_simulator')\n",
    "    quantum_circuit.measure(range(quantum_circuit.num_qubits), range(quantum_circuit.num_qubits))\n",
    "    \n",
    "    transpiled_circuit = transpile(quantum_circuit, simulator)\n",
    "    qobj = assemble(transpiled_circuit)\n",
    "    result = simulator.run(qobj).result()\n",
    "    \n",
    "    # Extract and return the measured classical state\n",
    "    counts = result.get_counts()\n",
    "    classical_state = int(max(counts, key=counts.get), 2)\n",
    "    \n",
    "    return classical_state\n",
    "\n",
    "# Example usage\n",
    "classical_image = [0.1, 0.5, 0.8, 0.3]  # Replace with your pixel values\n",
    "quantum_circuit = encode_image(classical_image)\n",
    "quantum_representation = simulate_quantum_image(quantum_circuit)\n",
    "\n",
    "print(\"Classical Image:\", classical_image)\n",
    "print(\"Quantum Representation:\", quantum_representation)\n"
   ]
  },
  {
   "cell_type": "code",
   "execution_count": 48,
   "id": "1c268c6b-f61b-4b6f-86f2-445181a11eac",
   "metadata": {},
   "outputs": [
    {
     "data": {
      "text/latex": [
       "$$\n",
       "\n",
       "\\begin{bmatrix}\n",
       "\\frac{\\sqrt{2}}{4} & -0.1464466094  \\\\\n",
       " -0.1464466094 & - \\frac{\\sqrt{2}}{4}  \\\\\n",
       " \\end{bmatrix}\n",
       "$$"
      ],
      "text/plain": [
       "<IPython.core.display.Latex object>"
      ]
     },
     "metadata": {},
     "output_type": "display_data"
    }
   ],
   "source": [
    "from qiskit.visualization import array_to_latex\n",
    "from qiskit.quantum_info import Statevector\n",
    "from qiskit.quantum_info.operators import Operator\n",
    "import math\n",
    "\n",
    "psi1 = Statevector([math.cos(math.pi / 8), math.sin(math.pi / 8)])\n",
    "psi2 = Statevector([math.cos(10 * math.pi / 8), math.sin(10 * math.pi / 8)])\n",
    "\n",
    "# When given a Statevector input, the Operator function returns the outer\n",
    "# product of that state vector with itself — or, in other words, the\n",
    "# product of the vector times its conjugate transpose.\n",
    "\n",
    "H = Operator(psi1) - Operator(psi2)\n",
    "\n",
    "display(array_to_latex(H))"
   ]
  },
  {
   "cell_type": "code",
   "execution_count": 49,
   "id": "39567751-b6dd-4615-818a-5eb00bbca61c",
   "metadata": {},
   "outputs": [
    {
     "data": {
      "text/html": [
       "<pre style=\"word-wrap: normal;white-space: pre;background: #fff0;line-height: 1.1;font-family: &quot;Courier New&quot;,Courier,monospace\">           ░ ┌───┐        ┌───┐ ░ ┌─┐\n",
       "q_0: ──────░─┤ H ├─■──────┤ H ├─░─┤M├\n",
       "     ┌───┐ ░ └───┘ │P(2π) └───┘ ░ └╥┘\n",
       "q_1: ┤ X ├─░───────■────────────░──╫─\n",
       "     └───┘ ░                    ░  ║ \n",
       "c: 1/══════════════════════════════╩═\n",
       "                                   0 </pre>"
      ],
      "text/plain": [
       "           ░ ┌───┐        ┌───┐ ░ ┌─┐\n",
       "q_0: ──────░─┤ H ├─■──────┤ H ├─░─┤M├\n",
       "     ┌───┐ ░ └───┘ │P(2π) └───┘ ░ └╥┘\n",
       "q_1: ┤ X ├─░───────■────────────░──╫─\n",
       "     └───┘ ░                    ░  ║ \n",
       "c: 1/══════════════════════════════╩═\n",
       "                                   0 "
      ]
     },
     "metadata": {},
     "output_type": "display_data"
    }
   ],
   "source": [
    "from math import pi, cos, sin\n",
    "from qiskit import QuantumCircuit\n",
    "\n",
    "theta = 1  # Can be changed to any value between 0 and 1\n",
    "\n",
    "qc = QuantumCircuit(2, 1)\n",
    "\n",
    "# Prepare eigenvector, which is the |1> state\n",
    "\n",
    "qc.x(1)\n",
    "qc.barrier()\n",
    "\n",
    "# Implement the estimation procedure\n",
    "qc.h(0)\n",
    "qc.cp(2 * pi * theta, 0, 1)\n",
    "qc.h(0)\n",
    "qc.barrier()\n",
    "\n",
    "# Perform the final measurement\n",
    "qc.measure(0, 0)\n",
    "\n",
    "# Draw the circuit\n",
    "display(qc.draw())"
   ]
  },
  {
   "cell_type": "code",
   "execution_count": 50,
   "id": "ae451718-904f-4eb1-8b6a-49e6515cef16",
   "metadata": {},
   "outputs": [
    {
     "data": {
      "text/plain": [
       "{0: 1.0}"
      ]
     },
     "metadata": {},
     "output_type": "display_data"
    }
   ],
   "source": [
    "from qiskit.primitives import Sampler\n",
    "\n",
    "display(Sampler().run(qc).result().quasi_dists[0])"
   ]
  },
  {
   "cell_type": "code",
   "execution_count": 51,
   "id": "66951d62-704e-4314-bd33-40dd403ba733",
   "metadata": {},
   "outputs": [
    {
     "data": {
      "text/plain": [
       "{0: 1.0, 1: 1.4997597826618576e-32}"
      ]
     },
     "metadata": {},
     "output_type": "display_data"
    }
   ],
   "source": [
    "display({   # Calculate predicted results\n",
    "    0: cos(pi * theta) ** 2,\n",
    "    1: sin(pi * theta) ** 2\n",
    "})"
   ]
  },
  {
   "cell_type": "code",
   "execution_count": 52,
   "id": "9039f63b-af96-4cb0-8b57-869393ece67f",
   "metadata": {},
   "outputs": [
    {
     "data": {
      "text/html": [
       "<pre style=\"word-wrap: normal;white-space: pre;background: #fff0;line-height: 1.1;font-family: &quot;Courier New&quot;,Courier,monospace\">           ░ ┌───┐ ░                       ░    ┌───┐                ░ ┌─┐   \n",
       "q_0: ──────░─┤ H ├─░──■────────────────────░──X─┤ H ├─■──────────────░─┤M├───\n",
       "           ░ ├───┤ ░  │                    ░  │ └───┘ │P(-π/2) ┌───┐ ░ └╥┘┌─┐\n",
       "q_1: ──────░─┤ H ├─░──┼─────────■──────────░──X───────■────────┤ H ├─░──╫─┤M├\n",
       "     ┌───┐ ░ └───┘ ░  │P(7π/5)  │P(14π/5)  ░                   └───┘ ░  ║ └╥┘\n",
       "q_2: ┤ X ├─░───────░──■─────────■──────────░─────────────────────────░──╫──╫─\n",
       "     └───┘ ░       ░                       ░                         ░  ║  ║ \n",
       "c: 2/═══════════════════════════════════════════════════════════════════╩══╩═\n",
       "                                                                        0  1 </pre>"
      ],
      "text/plain": [
       "           ░ ┌───┐ ░                       ░    ┌───┐                ░ ┌─┐   \n",
       "q_0: ──────░─┤ H ├─░──■────────────────────░──X─┤ H ├─■──────────────░─┤M├───\n",
       "           ░ ├───┤ ░  │                    ░  │ └───┘ │P(-π/2) ┌───┐ ░ └╥┘┌─┐\n",
       "q_1: ──────░─┤ H ├─░──┼─────────■──────────░──X───────■────────┤ H ├─░──╫─┤M├\n",
       "     ┌───┐ ░ └───┘ ░  │P(7π/5)  │P(14π/5)  ░                   └───┘ ░  ║ └╥┘\n",
       "q_2: ┤ X ├─░───────░──■─────────■──────────░─────────────────────────░──╫──╫─\n",
       "     └───┘ ░       ░                       ░                         ░  ║  ║ \n",
       "c: 2/═══════════════════════════════════════════════════════════════════╩══╩═\n",
       "                                                                        0  1 "
      ]
     },
     "metadata": {},
     "output_type": "display_data"
    }
   ],
   "source": [
    "from math import pi\n",
    "from qiskit import QuantumCircuit\n",
    "\n",
    "theta = 0.7\n",
    "qc = QuantumCircuit(3, 2)\n",
    "\n",
    "# Prepare the eigenvector\n",
    "qc.x(2)\n",
    "qc.barrier()\n",
    "\n",
    "# The initial Hadamard gates\n",
    "qc.h(0)\n",
    "qc.h(1)\n",
    "qc.barrier()\n",
    "\n",
    "# The controlled unitary gates\n",
    "qc.cp(2 * pi * theta, 0, 2)\n",
    "qc.cp(2 * pi * (2 * theta), 1, 2)\n",
    "qc.barrier()\n",
    "\n",
    "# An implementation of the inverse of the two-qubit QFT\n",
    "qc.swap(0, 1)\n",
    "qc.h(0)\n",
    "qc.cp(-pi / 2, 0, 1)\n",
    "qc.h(1)\n",
    "qc.barrier()\n",
    "\n",
    "# And finally the measurements\n",
    "qc.measure([0, 1], [0, 1])\n",
    "display(qc.draw())"
   ]
  },
  {
   "cell_type": "code",
   "execution_count": 53,
   "id": "067bf791-1427-4ab9-87d7-3b93f69248dd",
   "metadata": {},
   "outputs": [
    {
     "data": {
      "image/png": "[encoded data removed]",
      "text/plain": [
       "<Figure size 700x500 with 1 Axes>"
      ]
     },
     "metadata": {},
     "output_type": "display_data"
    }
   ],
   "source": [
    "from qiskit.visualization import plot_histogram\n",
    "\n",
    "result = Sampler().run(qc).result()\n",
    "display(plot_histogram(result.quasi_dists))"
   ]
  },
  {
   "cell_type": "code",
   "execution_count": 54,
   "id": "86b1a65a-09a3-4ebd-8282-91c4802d50ce",
   "metadata": {},
   "outputs": [
    {
     "data": {
      "text/html": [
       "<pre style=\"word-wrap: normal;white-space: pre;background: #fff0;line-height: 1.1;font-family: &quot;Courier New&quot;,Courier,monospace\">                                                                          ┌───┐»\n",
       "q_0: ──────────────────────────────────────■─────────────■────────■───────┤ H ├»\n",
       "                                           │       ┌───┐ │        │P(π/2) └───┘»\n",
       "q_1: ────────────────────■────────■────────┼───────┤ H ├─┼────────■─────────X──»\n",
       "                   ┌───┐ │        │P(π/2)  │       └───┘ │P(π/4)            │  »\n",
       "q_2: ──────■───────┤ H ├─┼────────■────────┼─────────────■──────────────────X──»\n",
       "     ┌───┐ │P(π/2) └───┘ │P(π/4)           │P(π/8)                             »\n",
       "q_3: ┤ H ├─■─────────────■─────────────────■───────────────────────────────────»\n",
       "     └───┘                                                                     »\n",
       "«        \n",
       "«q_0: ─X─\n",
       "«      │ \n",
       "«q_1: ─┼─\n",
       "«      │ \n",
       "«q_2: ─┼─\n",
       "«      │ \n",
       "«q_3: ─X─\n",
       "«        </pre>"
      ],
      "text/plain": [
       "                                                                          ┌───┐»\n",
       "q_0: ──────────────────────────────────────■─────────────■────────■───────┤ H ├»\n",
       "                                           │       ┌───┐ │        │P(π/2) └───┘»\n",
       "q_1: ────────────────────■────────■────────┼───────┤ H ├─┼────────■─────────X──»\n",
       "                   ┌───┐ │        │P(π/2)  │       └───┘ │P(π/4)            │  »\n",
       "q_2: ──────■───────┤ H ├─┼────────■────────┼─────────────■──────────────────X──»\n",
       "     ┌───┐ │P(π/2) └───┘ │P(π/4)           │P(π/8)                             »\n",
       "q_3: ┤ H ├─■─────────────■─────────────────■───────────────────────────────────»\n",
       "     └───┘                                                                     »\n",
       "«        \n",
       "«q_0: ─X─\n",
       "«      │ \n",
       "«q_1: ─┼─\n",
       "«      │ \n",
       "«q_2: ─┼─\n",
       "«      │ \n",
       "«q_3: ─X─\n",
       "«        "
      ]
     },
     "metadata": {},
     "output_type": "display_data"
    }
   ],
   "source": [
    "from qiskit.circuit.library import QFT\n",
    "\n",
    "display(QFT(4).decompose().draw())"
   ]
  },
  {
   "cell_type": "code",
   "execution_count": 55,
   "id": "5b47104f-8b34-4621-9802-fae967a38586",
   "metadata": {},
   "outputs": [
    {
     "data": {
      "text/html": [
       "<pre style=\"word-wrap: normal;white-space: pre;background: #fff0;line-height: 1.1;font-family: &quot;Courier New&quot;,Courier,monospace\">                 ░ ┌───┐                                                  »\n",
       "Control_0: ──────░─┤ H ├─■────────────────────────────────────────────────»\n",
       "                 ░ ├───┤ │                                                »\n",
       "Control_1: ──────░─┤ H ├─┼─────────■─────────■────────────────────────────»\n",
       "                 ░ ├───┤ │         │         │                            »\n",
       "Control_2: ──────░─┤ H ├─┼─────────┼─────────┼─────────■─────────■────────»\n",
       "           ┌───┐ ░ └───┘ │P(7π/5)  │P(7π/5)  │P(7π/5)  │P(7π/5)  │P(7π/5) »\n",
       "      |ψ>: ┤ X ├─░───────■─────────■─────────■─────────■─────────■────────»\n",
       "           └───┘ ░                                                        »\n",
       " Result: 3/═══════════════════════════════════════════════════════════════»\n",
       "                                                                          »\n",
       "«                                ░ ┌──────────┐┌─┐      \n",
       "«Control_0: ─────────────────────░─┤0         ├┤M├──────\n",
       "«                                ░ │          │└╥┘┌─┐   \n",
       "«Control_1: ─────────────────────░─┤1 IQFT_dg ├─╫─┤M├───\n",
       "«                                ░ │          │ ║ └╥┘┌─┐\n",
       "«Control_2: ─■─────────■─────────░─┤2         ├─╫──╫─┤M├\n",
       "«            │P(7π/5)  │P(7π/5)  ░ └──────────┘ ║  ║ └╥┘\n",
       "«      |ψ>: ─■─────────■─────────░──────────────╫──╫──╫─\n",
       "«                                ░              ║  ║  ║ \n",
       "« Result: 3/════════════════════════════════════╩══╩══╩═\n",
       "«                                               0  1  2 </pre>"
      ],
      "text/plain": [
       "                 ░ ┌───┐                                                  »\n",
       "Control_0: ──────░─┤ H ├─■────────────────────────────────────────────────»\n",
       "                 ░ ├───┤ │                                                »\n",
       "Control_1: ──────░─┤ H ├─┼─────────■─────────■────────────────────────────»\n",
       "                 ░ ├───┤ │         │         │                            »\n",
       "Control_2: ──────░─┤ H ├─┼─────────┼─────────┼─────────■─────────■────────»\n",
       "           ┌───┐ ░ └───┘ │P(7π/5)  │P(7π/5)  │P(7π/5)  │P(7π/5)  │P(7π/5) »\n",
       "      |ψ>: ┤ X ├─░───────■─────────■─────────■─────────■─────────■────────»\n",
       "           └───┘ ░                                                        »\n",
       " Result: 3/═══════════════════════════════════════════════════════════════»\n",
       "                                                                          »\n",
       "«                                ░ ┌──────────┐┌─┐      \n",
       "«Control_0: ─────────────────────░─┤0         ├┤M├──────\n",
       "«                                ░ │          │└╥┘┌─┐   \n",
       "«Control_1: ─────────────────────░─┤1 IQFT_dg ├─╫─┤M├───\n",
       "«                                ░ │          │ ║ └╥┘┌─┐\n",
       "«Control_2: ─■─────────■─────────░─┤2         ├─╫──╫─┤M├\n",
       "«            │P(7π/5)  │P(7π/5)  ░ └──────────┘ ║  ║ └╥┘\n",
       "«      |ψ>: ─■─────────■─────────░──────────────╫──╫──╫─\n",
       "«                                ░              ║  ║  ║ \n",
       "« Result: 3/════════════════════════════════════╩══╩══╩═\n",
       "«                                               0  1  2 "
      ]
     },
     "metadata": {},
     "output_type": "display_data"
    }
   ],
   "source": [
    "from qiskit import QuantumCircuit, QuantumRegister, ClassicalRegister\n",
    "from qiskit.circuit.library import QFT\n",
    "\n",
    "theta = 0.7\n",
    "m = 3  # Number of control qubits\n",
    "\n",
    "control_register = QuantumRegister(m, name=\"Control\")\n",
    "target_register = QuantumRegister(1, name=\"|ψ>\")\n",
    "output_register = ClassicalRegister(m, name=\"Result\")\n",
    "qc = QuantumCircuit(control_register, target_register, output_register)\n",
    "\n",
    "# Prepare the eigenvector |ψ>\n",
    "qc.x(target_register)\n",
    "qc.barrier()\n",
    "\n",
    "# Perform phase estimation\n",
    "for index, qubit in enumerate(control_register):\n",
    "    qc.h(qubit)\n",
    "    for _ in range(2**index):\n",
    "        qc.cp(2 * pi * theta, qubit, target_register)\n",
    "qc.barrier()\n",
    "\n",
    "# Do inverse quantum Fourier transform\n",
    "qc.compose(\n",
    "    QFT(m, inverse=True),\n",
    "    inplace=True\n",
    ")\n",
    "\n",
    "# Measure everything\n",
    "qc.measure(range(m), range(m))\n",
    "display(qc.draw())"
   ]
  },
  {
   "cell_type": "code",
   "execution_count": 56,
   "id": "d56d344f-00a0-409d-a5ee-b8aa5c3066a8",
   "metadata": {},
   "outputs": [
    {
     "data": {
      "image/png": "[encoded data removed]",
      "text/plain": [
       "<Figure size 700x500 with 1 Axes>"
      ]
     },
     "metadata": {},
     "output_type": "display_data"
    }
   ],
   "source": [
    "result = Sampler().run(qc).result()\n",
    "display(plot_histogram(result.quasi_dists))"
   ]
  },
  {
   "cell_type": "code",
   "execution_count": 57,
   "id": "a86ea73f-50e2-412e-b485-c49da9341839",
   "metadata": {},
   "outputs": [
    {
     "name": "stdout",
     "output_type": "stream",
     "text": [
      "Most probable output: 6\n",
      "Estimated theta: 0.75\n"
     ]
    }
   ],
   "source": [
    "most_probable = max(result.quasi_dists[0], key=result.quasi_dists[0].get)\n",
    "\n",
    "print(f\"Most probable output: {most_probable}\")\n",
    "print(f\"Estimated theta: {most_probable/2**m}\")"
   ]
  },
  {
   "cell_type": "code",
   "execution_count": 58,
   "id": "48a208b5-3edc-471c-9832-90c32d6f193a",
   "metadata": {},
   "outputs": [
    {
     "name": "stdout",
     "output_type": "stream",
     "text": [
      "k \t a^k \n",
      "\n",
      " 1 \t 17\n",
      " 2 \t 16\n",
      " 3 \t 20\n",
      " 4 \t  4\n",
      " 5 \t  5\n",
      " 6 \t  1\n",
      " 7 \t 17\n",
      " 8 \t 16\n",
      " 9 \t 20\n",
      "10 \t  4\n",
      "11 \t  5\n",
      "12 \t  1\n"
     ]
    }
   ],
   "source": [
    "N = 21\n",
    "a = 17\n",
    "max_power = 12\n",
    "\n",
    "print(\"k \\t a^k \\n\")\n",
    "for k in range(1, max_power + 1):\n",
    "    print(\n",
    "        \"%2d \\t %2d\" % (k, a**k % N)\n",
    "    )  # The % operation computes the remainder modulo N"
   ]
  },
  {
   "cell_type": "code",
   "execution_count": 59,
   "id": "5114bdbc-088f-4c8e-a452-ee4f89a06bd2",
   "metadata": {},
   "outputs": [
    {
     "name": "stdout",
     "output_type": "stream",
     "text": [
      "k \t a^k \n",
      "\n",
      " 1 \t 18\n",
      " 2 \t  9\n",
      " 3 \t 15\n",
      " 4 \t 18\n",
      " 5 \t  9\n",
      " 6 \t 15\n",
      " 7 \t 18\n",
      " 8 \t  9\n",
      " 9 \t 15\n",
      "10 \t 18\n",
      "11 \t  9\n",
      "12 \t 15\n"
     ]
    }
   ],
   "source": [
    "N = 21\n",
    "a = 18\n",
    "max_power = 12\n",
    "\n",
    "print(\"k \\t a^k \\n\")\n",
    "for k in range(1, max_power + 1):\n",
    "    print(\"%2d \\t %2d\" % (k, a**k % N))"
   ]
  },
  {
   "cell_type": "code",
   "execution_count": 60,
   "id": "7e13c86e-2a14-4609-a510-1ba0bb2c898d",
   "metadata": {},
   "outputs": [],
   "source": [
    "def c_amod15(a):\n",
    "    \"\"\"\n",
    "    Controlled multiplication by a mod 15.\n",
    "    This is hard-coded for simplicity.\n",
    "    \"\"\"\n",
    "    if a not in [2, 4, 7, 8, 11, 13]:\n",
    "        raise ValueError(\"'a' must not have common factors with 15\")\n",
    "    U = QuantumCircuit(4)\n",
    "    if a in [2, 13]:\n",
    "        U.swap(2, 3)\n",
    "        U.swap(1, 2)\n",
    "        U.swap(0, 1)\n",
    "    if a in [7, 8]:\n",
    "        U.swap(0, 1)\n",
    "        U.swap(1, 2)\n",
    "        U.swap(2, 3)\n",
    "    if a in [4, 11]:\n",
    "        U.swap(1, 3)\n",
    "        U.swap(0, 2)\n",
    "    if a in [7, 11, 13]:\n",
    "        for q in range(4):\n",
    "            U.x(q)\n",
    "    U = U.to_gate()\n",
    "    U.name = f\"{a} mod 15\"\n",
    "    c_U = U.control()\n",
    "    return c_U"
   ]
  },
  {
   "cell_type": "code",
   "execution_count": 61,
   "id": "73dcf305-9764-4fb3-92be-1a1b14c88ab0",
   "metadata": {},
   "outputs": [],
   "source": [
    "def phase_estimation(\n",
    "        controlled_operation: QuantumCircuit,\n",
    "        psi_prep: QuantumCircuit,\n",
    "        precision: int\n",
    "    ):\n",
    "    \"\"\"\n",
    "    Carry out phase estimation on a simulator.\n",
    "    Args:\n",
    "        controlled_operation: The operation to perform phase estimation on,\n",
    "                              controlled by one qubit.\n",
    "        psi_prep: Circuit to prepare |ψ>\n",
    "        precision: Number of counting qubits to use\n",
    "    Returns:\n",
    "        float: Best guess for phase of U|ψ>\n",
    "    \"\"\"\n",
    "    control_register = QuantumRegister(precision)\n",
    "    output_register = ClassicalRegister(precision)\n",
    "\n",
    "    target_register = QuantumRegister(psi_prep.num_qubits)\n",
    "    qc = QuantumCircuit(control_register, target_register, output_register)\n",
    "\n",
    "    # Prepare |ψ>\n",
    "    qc.compose(psi_prep,\n",
    "               qubits=target_register,\n",
    "               inplace=True)\n",
    "\n",
    "    # Do phase estimation\n",
    "    for index, qubit in enumerate(control_register):\n",
    "        qc.h(qubit)\n",
    "        for _ in range(2**index):\n",
    "            qc.compose(\n",
    "                controlled_operation,\n",
    "                qubits=[qubit] + list(target_register),\n",
    "                inplace=True,\n",
    "            )\n",
    "\n",
    "    qc.compose(\n",
    "        QFT(precision, inverse=True),\n",
    "        qubits=control_register,\n",
    "        inplace=True\n",
    "    )\n",
    "\n",
    "    qc.measure(control_register, output_register)\n",
    "\n",
    "    measurement = Sampler().run(qc, shots=1).result().quasi_dists[0].popitem()[0]\n",
    "    return measurement / 2**precision"
   ]
  },
  {
   "cell_type": "code",
   "execution_count": 62,
   "id": "3217cd94-38d5-4311-93ff-41f9cd861a0f",
   "metadata": {},
   "outputs": [
    {
     "data": {
      "text/html": [
       "<pre style=\"word-wrap: normal;white-space: pre;background: #fff0;line-height: 1.1;font-family: &quot;Courier New&quot;,Courier,monospace\">     ┌───┐\n",
       "q_0: ┤ X ├\n",
       "     └───┘\n",
       "q_1: ─────\n",
       "          \n",
       "q_2: ─────\n",
       "          \n",
       "q_3: ─────\n",
       "          </pre>"
      ],
      "text/plain": [
       "     ┌───┐\n",
       "q_0: ┤ X ├\n",
       "     └───┘\n",
       "q_1: ─────\n",
       "          \n",
       "q_2: ─────\n",
       "          \n",
       "q_3: ─────\n",
       "          "
      ]
     },
     "metadata": {},
     "output_type": "display_data"
    }
   ],
   "source": [
    "psi_prep = QuantumCircuit(4)\n",
    "psi_prep.x(0)\n",
    "display(psi_prep.draw())"
   ]
  },
  {
   "cell_type": "code",
   "execution_count": 63,
   "id": "b97fb44f-d6f1-45bc-b36a-ff244f1e9bd8",
   "metadata": {},
   "outputs": [
    {
     "name": "stdout",
     "output_type": "stream",
     "text": [
      "\n",
      "Attempt 1\n",
      "Non-trivial factor found: 3\n"
     ]
    }
   ],
   "source": [
    "from fractions import Fraction\n",
    "from math import gcd\n",
    "\n",
    "a = 8\n",
    "N = 15\n",
    "\n",
    "FACTOR_FOUND = False\n",
    "ATTEMPT = 0\n",
    "while not FACTOR_FOUND:\n",
    "    ATTEMPT += 1\n",
    "    print(f\"\\nAttempt {ATTEMPT}\")\n",
    "\n",
    "    phase = phase_estimation(\n",
    "        c_amod15(a),\n",
    "        psi_prep,\n",
    "        precision=8\n",
    "    )\n",
    "    frac = Fraction(phase).limit_denominator(N)\n",
    "    r = frac.denominator\n",
    "    if phase != 0:\n",
    "        # Guess for a factor is gcd(x^{r/2} - 1 , 15)\n",
    "        guess = gcd(a ** (r // 2) - 1, N)\n",
    "        if guess not in [1, N] and (N % guess) == 0:\n",
    "            # Guess is a factor!\n",
    "            print(f\"Non-trivial factor found: {guess}\")\n",
    "            FACTOR_FOUND = True"
   ]
  },
  {
   "cell_type": "code",
   "execution_count": 3,
   "id": "ecd1cb7f-ee26-43ae-833e-ff005a59349d",
   "metadata": {},
   "outputs": [],
   "source": [
    "import datetime\n",
    "import numpy as np\n",
    "import matplotlib.pyplot as plt"
   ]
  },
  {
   "cell_type": "code",
   "execution_count": 4,
   "id": "3650402e-6ef3-4841-a399-1b48852d1d7b",
   "metadata": {},
   "outputs": [],
   "source": [
    "from qiskit_ibm_runtime import Estimator, Session, QiskitRuntimeService, Options\n",
    "from qiskit.quantum_info import SparsePauliOp\n",
    "from qiskit import QuantumCircuit\n",
    "\n",
    "# Add your token below\n",
    "service = QiskitRuntimeService(channel=\"ibm_quantum\")"
   ]
  },
  {
   "cell_type": "code",
   "execution_count": 6,
   "id": "466771fb-b59f-45cf-a927-5001ae647ca5",
   "metadata": {},
   "outputs": [
    {
     "name": "stdout",
     "output_type": "stream",
     "text": [
      "Trotter circuit with 1 Trotter steps\n"
     ]
    },
    {
     "data": {
      "image/png": "[encoded data removed]",
      "text/plain": [
       "<Figure size 705.552x367.889 with 1 Axes>"
      ]
     },
     "metadata": {},
     "output_type": "display_data"
    },
    {
     "name": "stdout",
     "output_type": "stream",
     "text": [
      "Trotter circuit with 2 Trotter steps\n"
     ]
    },
    {
     "data": {
      "image/png": "[encoded data removed]",
      "text/plain": [
       "<Figure size 1290.83x367.889 with 1 Axes>"
      ]
     },
     "metadata": {},
     "output_type": "display_data"
    },
    {
     "name": "stdout",
     "output_type": "stream",
     "text": [
      "Trotter circuit with 3 Trotter steps\n"
     ]
    },
    {
     "data": {
      "image/png": "[encoded data removed]",
      "text/plain": [
       "<Figure size 1876.11x367.889 with 1 Axes>"
      ]
     },
     "metadata": {},
     "output_type": "display_data"
    },
    {
     "name": "stdout",
     "output_type": "stream",
     "text": [
      "Trotter circuit with 4 Trotter steps\n"
     ]
    },
    {
     "data": {
      "image/png": "[encoded data removed]",
      "text/plain": [
       "<Figure size 2461.39x367.889 with 1 Axes>"
      ]
     },
     "metadata": {},
     "output_type": "display_data"
    },
    {
     "name": "stdout",
     "output_type": "stream",
     "text": [
      "Trotter circuit with 5 Trotter steps\n"
     ]
    },
    {
     "data": {
      "image/png": "[encoded data removed]",
      "text/plain": [
       "<Figure size 3046.66x367.889 with 1 Axes>"
      ]
     },
     "metadata": {},
     "output_type": "display_data"
    }
   ],
   "source": [
    "qubits = 4\n",
    "trotter_layer = QuantumCircuit(qubits)\n",
    "trotter_layer.rx(0.1, range(qubits))\n",
    "trotter_layer.cx(0, 1)\n",
    "trotter_layer.cx(2, 3)\n",
    "trotter_layer.rz(-0.2, [1, 3])\n",
    "trotter_layer.cx(0, 1)\n",
    "trotter_layer.cx(2, 3)\n",
    "trotter_layer.cx(1, 2)\n",
    "trotter_layer.rz(-0.2, 2)\n",
    "trotter_layer.cx(1, 2)\n",
    "\n",
    "num_steps = 6\n",
    "trotter_circuit_list = []\n",
    "for i in range(1, num_steps):\n",
    "    trotter_circuit = QuantumCircuit(qubits)\n",
    "    for _ in range(i):\n",
    "        trotter_circuit = trotter_circuit.compose(trotter_layer)\n",
    "    trotter_circuit_list.append(trotter_circuit)\n",
    "    print(f\"Trotter circuit with {i} Trotter steps\")\n",
    "    display(trotter_circuit.draw(fold=-1, output=\"mpl\"))"
   ]
  },
  {
   "cell_type": "code",
   "execution_count": 7,
   "id": "9045d125-49fb-4a84-9b81-3143bd21ae59",
   "metadata": {},
   "outputs": [],
   "source": [
    "obs = SparsePauliOp(\"Z\" * qubits)\n",
    "obs_list = [obs] * len(trotter_circuit_list)"
   ]
  },
  {
   "cell_type": "code",
   "execution_count": 8,
   "id": "81eeb33b-a474-4d23-b08d-6ba05de01666",
   "metadata": {},
   "outputs": [
    {
     "data": {
      "text/plain": [
       "'ibmq_qasm_simulator'"
      ]
     },
     "execution_count": 8,
     "metadata": {},
     "output_type": "execute_result"
    }
   ],
   "source": [
    "# Select the simulator with the fewest number of jobs in the queue\n",
    "backend_simulator = service.least_busy(simulator=True, operational=True)\n",
    "backend_simulator.name"
   ]
  },
  {
   "cell_type": "code",
   "execution_count": 9,
   "id": "9733c2a9-bcbf-4326-be05-b3d8331100d1",
   "metadata": {},
   "outputs": [
    {
     "name": "stdout",
     "output_type": "stream",
     "text": [
      "job id: <bound method JobV1.job_id of <RuntimeJob('clgt21m91som02n2buhg', 'estimator')>>\n",
      "EstimatorResult(values=array([0.966, 0.942, 0.864, 0.768, 0.638]), metadata=[{'variance': 0.06684400000000001, 'shots': 1000}, {'variance': 0.11263600000000007, 'shots': 1000}, {'variance': 0.25350400000000006, 'shots': 1000}, {'variance': 0.410176, 'shots': 1000}, {'variance': 0.592956, 'shots': 1000}])\n"
     ]
    }
   ],
   "source": [
    "options = Options()\n",
    "options.execution.shots = 1000\n",
    "options.optimization_level = 0  # No optimization\n",
    "options.resilience_level = 0  # No mitigation\n",
    "\n",
    "# Initialize your session\n",
    "session = Session(backend=backend_simulator)\n",
    "\n",
    "estimator_sim = Estimator(session=session, options=options)\n",
    "job_sim = estimator_sim.run(circuits=trotter_circuit_list, observables=obs_list)\n",
    "print(\"job id:\", job_sim.job_id)\n",
    "print(job_sim.result())\n",
    "\n",
    "expvals_ideal = job_sim.result().values\n",
    "expvals_ideal_variance = [\n",
    "    metadata[\"variance\"] / metadata[\"shots\"] for metadata in job_sim.result().metadata\n",
    "]\n",
    "std_error_ideal = np.sqrt(expvals_ideal_variance)\n",
    "\n",
    "# Close session\n",
    "session.close()"
   ]
  },
  {
   "cell_type": "code",
   "execution_count": 10,
   "id": "04afab39-dfa8-40a3-90cc-40dd64c410ad",
   "metadata": {},
   "outputs": [
    {
     "data": {
      "text/plain": [
       "'ibm_lagos'"
      ]
     },
     "execution_count": 10,
     "metadata": {},
     "output_type": "execute_result"
    }
   ],
   "source": [
    "# Select the backend with the fewest number of jobs in the queue\n",
    "backend = service.least_busy(simulator=False, operational=True)\n",
    "backend.name"
   ]
  },
  {
   "cell_type": "code",
   "execution_count": null,
   "id": "3c21e844-4b84-4b24-a4d4-ff7f454a7632",
   "metadata": {},
   "outputs": [
    {
     "name": "stdout",
     "output_type": "stream",
     "text": [
      "job id: <bound method JobV1.job_id of <RuntimeJob('cngx250xar800081rgcg', 'estimator')>>\n"
     ]
    }
   ],
   "source": [
    "options = Options()\n",
    "options.execution.shots = 1000\n",
    "options.optimization_level = 0  # No optimization\n",
    "options.resilience_level = 0  # No error mitigation\n",
    "\n",
    "# Initialize your session\n",
    "session = Session(backend=backend)\n",
    "\n",
    "estimator = Estimator(session=session, options=options)\n",
    "job = estimator.run(circuits=trotter_circuit_list, observables=obs_list)\n",
    "print(\"job id:\", job.job_id)\n",
    "print(job.result())\n",
    "\n",
    "expvals_unmit = job.result().values\n",
    "expvals_unmit_variance = [\n",
    "    metadata[\"variance\"] / metadata[\"shots\"] for metadata in job.result().metadata\n",
    "]\n",
    "std_error_unmit = np.sqrt(expvals_unmit_variance)"
   ]
  },
  {
   "cell_type": "code",
   "execution_count": null,
   "id": "f9ba38ba-72e3-415c-9c38-7aada534cce4",
   "metadata": {},
   "outputs": [],
   "source": [
    "options = Options()\n",
    "options.execution.shots = 1000\n",
    "options.optimization_level = 3  # Dynamical decoupling\n",
    "options.resilience_level = 0  # No error mitigation\n",
    "\n",
    "estimator = Estimator(session=session, options=options)\n",
    "job_dd = estimator.run(circuits=trotter_circuit_list, observables=obs_list)\n",
    "print(\"job id:\", job_dd.job_id)\n",
    "print(job_dd.result())\n",
    "\n",
    "expvals_unmit_dd = job_dd.result().values\n",
    "expvals_unmit_dd_variance = [\n",
    "    metadata[\"variance\"] / metadata[\"shots\"] for metadata in job_dd.result().metadata\n",
    "]\n",
    "std_error_dd = np.sqrt(expvals_unmit_dd_variance)"
   ]
  },
  {
   "cell_type": "code",
   "execution_count": null,
   "id": "c65fce43-0b8a-4289-b5b2-89f925c914ad",
   "metadata": {},
   "outputs": [],
   "source": [
    "plt.title(\"Trotter circuits expectation value\")\n",
    "plt.errorbar(\n",
    "    range(1, num_steps),\n",
    "    expvals_ideal,\n",
    "    std_error_ideal,\n",
    "    fmt=\"o\",\n",
    "    linestyle=\"--\",\n",
    "    capsize=4,\n",
    "    c=\"red\",\n",
    "    label=\"Ideal\",\n",
    ")\n",
    "plt.errorbar(\n",
    "    range(1, num_steps),\n",
    "    expvals_unmit,\n",
    "    std_error_unmit,\n",
    "    fmt=\"o\",\n",
    "    linestyle=\"-\",\n",
    "    capsize=4,\n",
    "    c=\"green\",\n",
    "    label=\"No mitigation\",\n",
    ")\n",
    "plt.errorbar(\n",
    "    range(1, num_steps),\n",
    "    expvals_unmit_dd,\n",
    "    std_error_dd,\n",
    "    fmt=\"o\",\n",
    "    linestyle=\"-\",\n",
    "    capsize=4,\n",
    "    c=\"blue\",\n",
    "    label=\"Dynamical decoupling\",\n",
    ")\n",
    "\n",
    "plt.ylabel(f\"$\\langle ZZZZ \\\\rangle$\")\n",
    "plt.xlabel(\"No. Trotter Steps\")\n",
    "plt.xticks([1, 2, 3, 4, 5])\n",
    "plt.legend()\n",
    "plt.show()"
   ]
  },
  {
   "cell_type": "code",
   "execution_count": null,
   "id": "1d1dd440-e7a4-4c26-b2d4-294647ef3a0d",
   "metadata": {},
   "outputs": [],
   "source": [
    "options = Options()\n",
    "options.resilience_level = 1  # T-REx\n",
    "options.optimization_level = 0  # No optimization\n",
    "options.execution.shots = 1000\n",
    "\n",
    "estimator = Estimator(session=session, options=options)\n",
    "job_trex = estimator.run(circuits=trotter_circuit_list, observables=obs_list)\n",
    "print(\"job id:\", job_trex.job_id)\n",
    "print(job_trex.result())\n",
    "\n",
    "expvals_unmit_trex = job_trex.result().values\n",
    "expvals_unmit_trex_variance = [\n",
    "    metadata[\"variance\"] / metadata[\"shots\"] for metadata in job_trex.result().metadata\n",
    "]\n",
    "std_error_trex = np.sqrt(expvals_unmit_trex_variance)"
   ]
  },
  {
   "cell_type": "code",
   "execution_count": null,
   "id": "bf030aa7-c7ce-4041-a79c-93ee6fcbdf8d",
   "metadata": {},
   "outputs": [],
   "source": [
    "plt.title(\"Trotter circuits expectation value\")\n",
    "plt.errorbar(\n",
    "    range(1, num_steps),\n",
    "    expvals_ideal,\n",
    "    std_error_ideal,\n",
    "    fmt=\"o\",\n",
    "    linestyle=\"--\",\n",
    "    capsize=4,\n",
    "    c=\"red\",\n",
    "    label=\"Ideal\",\n",
    ")\n",
    "plt.errorbar(\n",
    "    range(1, num_steps),\n",
    "    expvals_unmit,\n",
    "    std_error_unmit,\n",
    "    fmt=\"o\",\n",
    "    linestyle=\"-\",\n",
    "    capsize=4,\n",
    "    c=\"green\",\n",
    "    label=\"No mitigation\",\n",
    ")\n",
    "plt.errorbar(\n",
    "    range(1, num_steps),\n",
    "    expvals_unmit_trex,\n",
    "    std_error_trex,\n",
    "    fmt=\"o\",\n",
    "    linestyle=\"-\",\n",
    "    capsize=4,\n",
    "    c=\"violet\",\n",
    "    label=\"T-REx\",\n",
    ")\n",
    "\n",
    "plt.ylabel(f\"$\\langle ZZZZ \\\\rangle$\")\n",
    "plt.xlabel(\"No. Trotter Steps\")\n",
    "plt.xticks([1, 2, 3, 4, 5])\n",
    "plt.legend()\n",
    "plt.show()"
   ]
  },
  {
   "cell_type": "code",
   "execution_count": null,
   "id": "41a29387-abcb-4c4b-b9d9-f8fdb637566c",
   "metadata": {},
   "outputs": [],
   "source": [
    "options = Options()\n",
    "options.execution.shots = 1000\n",
    "options.optimization_level = 0  # No optimization\n",
    "options.resilience_level = 2  # ZNE\n",
    "\n",
    "estimator = Estimator(session=session, options=options)\n",
    "job_zne = estimator.run(circuits=trotter_circuit_list, observables=obs_list)\n",
    "print(\"job id:\", job_zne.job_id)\n",
    "print(job_zne.result())\n",
    "\n",
    "expvals_unmit_zne = job_zne.result().values\n",
    "# Standard error: coming soon!"
   ]
  },
  {
   "cell_type": "code",
   "execution_count": null,
   "id": "0908f2ef-f55f-4a92-926e-a208c8c555da",
   "metadata": {},
   "outputs": [],
   "source": [
    "plt.title(\"Trotter circuits expectation value\")\n",
    "plt.errorbar(\n",
    "    range(1, num_steps),\n",
    "    expvals_ideal,\n",
    "    std_error_ideal,\n",
    "    fmt=\"o\",\n",
    "    linestyle=\"--\",\n",
    "    capsize=4,\n",
    "    c=\"red\",\n",
    "    label=\"Ideal\",\n",
    ")\n",
    "plt.errorbar(\n",
    "    range(1, num_steps),\n",
    "    expvals_unmit,\n",
    "    std_error_unmit,\n",
    "    fmt=\"o\",\n",
    "    linestyle=\"-\",\n",
    "    capsize=4,\n",
    "    c=\"green\",\n",
    "    label=\"No mitigation\",\n",
    ")\n",
    "plt.errorbar(\n",
    "    range(1, num_steps),\n",
    "    expvals_unmit_zne,\n",
    "    [0] * (num_steps - 1),\n",
    "    fmt=\"o\",\n",
    "    linestyle=\"-\",\n",
    "    capsize=4,\n",
    "    c=\"cyan\",\n",
    "    label=\"ZNE\",\n",
    ")\n",
    "\n",
    "plt.xlabel(\"No. Trotter Steps\")\n",
    "plt.ylabel(f\"$\\langle ZZZZ \\\\rangle$\")\n",
    "plt.xticks([1, 2, 3, 4, 5])\n",
    "plt.legend()\n",
    "plt.show()\n",
    "\n"
   ]
  },
  {
   "cell_type": "code",
   "execution_count": 1,
   "id": "9e3d9281-478c-47fe-b219-844b724d8b49",
   "metadata": {},
   "outputs": [],
   "source": [
    "from typing import List, Optional\n",
    "\n",
    "from qiskit import transpile, QuantumCircuit, QuantumRegister, ClassicalRegister\n",
    "from qiskit.result import marginal_counts\n",
    "\n",
    "import warnings\n",
    "warnings.filterwarnings(\"ignore\")"
   ]
  },
  {
   "cell_type": "code",
   "execution_count": 1,
   "id": "09dd5118",
   "metadata": {},
   "outputs": [
    {
     "name": "stdout",
     "output_type": "stream",
     "text": [
      "{'0 0 0': 238, '0 1 1': 240, '0 0 1': 282, '0 1 0': 264}\n"
     ]
    }
   ],
   "source": [
    "# Importing Required Libraries\n",
    "from qiskit import QuantumCircuit, QuantumRegister, ClassicalRegister\n",
    "from qiskit import IBMQ, Aer, execute\n",
    "\n",
    "# Creating Registers\n",
    "q = QuantumRegister(3, 'q')\n",
    "c0 = ClassicalRegister(1, 'c0')\n",
    "c1 = ClassicalRegister(1, 'c1')\n",
    "c2 = ClassicalRegister(1, 'c2')\n",
    "\n",
    "# Initializing Quantum Circuit\n",
    "qc = QuantumCircuit(q, c0, c1, c2)\n",
    "\n",
    "# Creating Bell Pair\n",
    "qc.h(q[1])\n",
    "qc.cx(q[1], q[2])\n",
    "\n",
    "# Applying CNOT and Hadamard Gates\n",
    "qc.cx(q[0], q[1])\n",
    "qc.h(q[0])\n",
    "\n",
    "# Applying Measurements\n",
    "qc.measure(q[0], c0)\n",
    "qc.measure(q[1], c1)\n",
    "\n",
    "qc.cx(q[1], q[2])\n",
    "qc.cz(q[0], q[2])\n",
    "\n",
    "qc.measure(q[2], c2)\n",
    "\n",
    "# Executing the Circuit\n",
    "backend = Aer.get_backend('qasm_simulator')\n",
    "job = execute(qc, backend, shots=1024)\n",
    "result = job.result()\n",
    "\n",
    "# Printing the Result\n",
    "print(result.get_counts(qc))\n"
   ]
  },
  {
   "cell_type": "code",
   "execution_count": 1,
   "id": "122190b4",
   "metadata": {},
   "outputs": [
    {
     "name": "stdout",
     "output_type": "stream",
     "text": [
      "Exploring the mysteries of the universe...\n",
      "A new theory of everything has been proposed: <__main__.StringTheory object at 0x000001A7D79FAC50>\n",
      "A new theory of everything has been proposed: <__main__.QuantumGravity object at 0x000001A7D79EACD0>\n"
     ]
    }
   ],
   "source": [
    "class Universe:\n",
    "    def __init__(self):\n",
    "        self.theory_of_everything = None\n",
    "\n",
    "    def explore(self):\n",
    "        print(\"Exploring the mysteries of the universe...\")\n",
    "\n",
    "    def propose_theory_of_everything(self, theory):\n",
    "        self.theory_of_everything = theory\n",
    "        print(f\"A new theory of everything has been proposed: {theory}\")\n",
    "\n",
    "class StringTheory:\n",
    "    def __init__(self):\n",
    "        self.dimensions = 10\n",
    "\n",
    "    def describe(self):\n",
    "        print(f\"String theory suggests {self.dimensions} dimensions.\")\n",
    "\n",
    "class QuantumGravity:\n",
    "    def __init__(self):\n",
    "        self.description = \"Unifying gravity with quantum mechanics.\"\n",
    "\n",
    "    def explain(self):\n",
    "        print(f\"Quantum gravity: {self.description}\")\n",
    "\n",
    "# Create the universe\n",
    "our_universe = Universe()\n",
    "\n",
    "# Explore and propose theories\n",
    "our_universe.explore()\n",
    "\n",
    "# Propose String Theory\n",
    "string_theory = StringTheory()\n",
    "our_universe.propose_theory_of_everything(string_theory)\n",
    "\n",
    "# Propose Quantum Gravity\n",
    "quantum_gravity = QuantumGravity()\n",
    "our_universe.propose_theory_of_everything(quantum_gravity)\n"
   ]
  },
  {
   "cell_type": "code",
   "execution_count": null,
   "id": "95e2a6fa",
   "metadata": {},
   "outputs": [],
   "source": []
  }
 ],
 "metadata": {
  "kernelspec": {
   "display_name": "Python 3 (ipykernel)",
   "language": "python",
   "name": "python3"
  },
  "language_info": {
   "codemirror_mode": {
    "name": "ipython",
    "version": 3
   },
   "file_extension": ".py",
   "mimetype": "text/x-python",
   "name": "python",
   "nbconvert_exporter": "python",
   "pygments_lexer": "ipython3",
   "version": "3.11.5"
  }
 },
 "nbformat": 4,
 "nbformat_minor": 5
}
